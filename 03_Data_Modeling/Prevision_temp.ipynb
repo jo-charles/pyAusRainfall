{
 "cells": [
  {
   "cell_type": "code",
   "execution_count": 1,
   "metadata": {
    "colab": {
     "base_uri": "https://localhost:8080/"
    },
    "id": "5LQ9N4EHqJV5",
    "outputId": "472f377c-d3b8-4418-f13a-9ebd02a7cf2d"
   },
   "outputs": [
    {
     "name": "stdout",
     "output_type": "stream",
     "text": [
      "Looking in indexes: https://pypi.org/simple, https://us-python.pkg.dev/colab-wheels/public/simple/\n",
      "Collecting scikit-plot\n",
      "  Downloading scikit_plot-0.3.7-py3-none-any.whl (33 kB)\n",
      "Requirement already satisfied: matplotlib>=1.4.0 in /usr/local/lib/python3.7/dist-packages (from scikit-plot) (3.2.2)\n",
      "Requirement already satisfied: joblib>=0.10 in /usr/local/lib/python3.7/dist-packages (from scikit-plot) (1.1.0)\n",
      "Requirement already satisfied: scipy>=0.9 in /usr/local/lib/python3.7/dist-packages (from scikit-plot) (1.7.3)\n",
      "Requirement already satisfied: scikit-learn>=0.18 in /usr/local/lib/python3.7/dist-packages (from scikit-plot) (1.0.2)\n",
      "Requirement already satisfied: kiwisolver>=1.0.1 in /usr/local/lib/python3.7/dist-packages (from matplotlib>=1.4.0->scikit-plot) (1.4.4)\n",
      "Requirement already satisfied: pyparsing!=2.0.4,!=2.1.2,!=2.1.6,>=2.0.1 in /usr/local/lib/python3.7/dist-packages (from matplotlib>=1.4.0->scikit-plot) (3.0.9)\n",
      "Requirement already satisfied: python-dateutil>=2.1 in /usr/local/lib/python3.7/dist-packages (from matplotlib>=1.4.0->scikit-plot) (2.8.2)\n",
      "Requirement already satisfied: numpy>=1.11 in /usr/local/lib/python3.7/dist-packages (from matplotlib>=1.4.0->scikit-plot) (1.21.6)\n",
      "Requirement already satisfied: cycler>=0.10 in /usr/local/lib/python3.7/dist-packages (from matplotlib>=1.4.0->scikit-plot) (0.11.0)\n",
      "Requirement already satisfied: typing-extensions in /usr/local/lib/python3.7/dist-packages (from kiwisolver>=1.0.1->matplotlib>=1.4.0->scikit-plot) (4.1.1)\n",
      "Requirement already satisfied: six>=1.5 in /usr/local/lib/python3.7/dist-packages (from python-dateutil>=2.1->matplotlib>=1.4.0->scikit-plot) (1.15.0)\n",
      "Requirement already satisfied: threadpoolctl>=2.0.0 in /usr/local/lib/python3.7/dist-packages (from scikit-learn>=0.18->scikit-plot) (3.1.0)\n",
      "Installing collected packages: scikit-plot\n",
      "Successfully installed scikit-plot-0.3.7\n"
     ]
    }
   ],
   "source": [
    "# récupération du package scikit-plot\n",
    "!pip install scikit-plot"
   ]
  },
  {
   "cell_type": "code",
   "execution_count": 35,
   "metadata": {
    "id": "sEulHA08qOuj"
   },
   "outputs": [],
   "source": [
    "# récupération des librairies\n",
    "%matplotlib inline\n",
    "\n",
    "import numpy as np\n",
    "import pandas as pd\n",
    "import matplotlib.pyplot as plt\n",
    "import seaborn as sns\n",
    "import time, datetime\n",
    "import scikitplot as skplt\n",
    "\n",
    "from scipy.spatial.distance import cdist\n",
    "from scipy.stats import chi2_contingency\n",
    "\n",
    "from sklearn import ensemble, linear_model, model_selection, neighbors, preprocessing, svm\n",
    "\n",
    "from sklearn.cluster import KMeans\n",
    "from sklearn.ensemble import RandomForestClassifier, GradientBoostingRegressor\n",
    "from sklearn.feature_selection import SelectFromModel, SelectKBest, chi2\n",
    "from sklearn.impute import KNNImputer\n",
    "from sklearn.linear_model import LogisticRegression, SGDClassifier, Lasso, LassoCV, lasso_path, RidgeCV\n",
    "from sklearn.metrics import classification_report, accuracy_score, roc_curve, auc, mean_squared_error, recall_score, f1_score, precision_score\n",
    "from sklearn.model_selection import GridSearchCV, train_test_split, cross_val_score, learning_curve, KFold\n",
    "from sklearn.pipeline import make_pipeline\n",
    "from sklearn.preprocessing import StandardScaler, MinMaxScaler\n",
    "from sklearn.svm import SVC\n",
    "from sklearn.tree import DecisionTreeClassifier\n",
    "\n",
    "from imblearn.metrics import classification_report_imbalanced\n",
    "from imblearn.under_sampling import RandomUnderSampler"
   ]
  },
  {
   "cell_type": "code",
   "execution_count": 3,
   "metadata": {
    "colab": {
     "base_uri": "https://localhost:8080/",
     "height": 357
    },
    "id": "lD16-9ECM9nT",
    "outputId": "7cc9c3f9-fbbf-4ff9-bfc2-41d5b3f39af8"
   },
   "outputs": [
    {
     "data": {
      "text/html": [
       "\n",
       "  <div id=\"df-2d4bd0a2-1c03-4428-bb62-a5aa8b7c8139\">\n",
       "    <div class=\"colab-df-container\">\n",
       "      <div>\n",
       "<style scoped>\n",
       "    .dataframe tbody tr th:only-of-type {\n",
       "        vertical-align: middle;\n",
       "    }\n",
       "\n",
       "    .dataframe tbody tr th {\n",
       "        vertical-align: top;\n",
       "    }\n",
       "\n",
       "    .dataframe thead th {\n",
       "        text-align: right;\n",
       "    }\n",
       "</style>\n",
       "<table border=\"1\" class=\"dataframe\">\n",
       "  <thead>\n",
       "    <tr style=\"text-align: right;\">\n",
       "      <th></th>\n",
       "      <th>Date</th>\n",
       "      <th>Date.1</th>\n",
       "      <th>Location</th>\n",
       "      <th>MaxTemp</th>\n",
       "      <th>Rainfall</th>\n",
       "      <th>Sunshine</th>\n",
       "      <th>WindGustDir</th>\n",
       "      <th>WindGustSpeed</th>\n",
       "      <th>WindDir9am</th>\n",
       "      <th>WindDir3pm</th>\n",
       "      <th>Humidity3pm</th>\n",
       "      <th>Pressure9am</th>\n",
       "      <th>Cloud3pm</th>\n",
       "      <th>Temp3pm</th>\n",
       "      <th>RainToday</th>\n",
       "      <th>RainTomorrow</th>\n",
       "      <th>Temp_Delta_MinMax</th>\n",
       "      <th>Humidity_Delta</th>\n",
       "    </tr>\n",
       "  </thead>\n",
       "  <tbody>\n",
       "    <tr>\n",
       "      <th>0</th>\n",
       "      <td>2008-12-01</td>\n",
       "      <td>2008-12-01</td>\n",
       "      <td>Albury</td>\n",
       "      <td>22.9</td>\n",
       "      <td>0.6</td>\n",
       "      <td>0.15000</td>\n",
       "      <td>W</td>\n",
       "      <td>44.0</td>\n",
       "      <td>W</td>\n",
       "      <td>WNW</td>\n",
       "      <td>22.0</td>\n",
       "      <td>1007.7</td>\n",
       "      <td>8.00000</td>\n",
       "      <td>21.8</td>\n",
       "      <td>0</td>\n",
       "      <td>0</td>\n",
       "      <td>9.5</td>\n",
       "      <td>-49.0</td>\n",
       "    </tr>\n",
       "    <tr>\n",
       "      <th>1</th>\n",
       "      <td>2008-12-02</td>\n",
       "      <td>2008-12-02</td>\n",
       "      <td>Albury</td>\n",
       "      <td>25.1</td>\n",
       "      <td>0.0</td>\n",
       "      <td>7.63054</td>\n",
       "      <td>WNW</td>\n",
       "      <td>44.0</td>\n",
       "      <td>NNW</td>\n",
       "      <td>WSW</td>\n",
       "      <td>25.0</td>\n",
       "      <td>1010.6</td>\n",
       "      <td>4.49925</td>\n",
       "      <td>24.3</td>\n",
       "      <td>0</td>\n",
       "      <td>0</td>\n",
       "      <td>17.7</td>\n",
       "      <td>-19.0</td>\n",
       "    </tr>\n",
       "    <tr>\n",
       "      <th>2</th>\n",
       "      <td>2008-12-03</td>\n",
       "      <td>2008-12-03</td>\n",
       "      <td>Albury</td>\n",
       "      <td>25.7</td>\n",
       "      <td>0.0</td>\n",
       "      <td>11.70000</td>\n",
       "      <td>WSW</td>\n",
       "      <td>46.0</td>\n",
       "      <td>W</td>\n",
       "      <td>WSW</td>\n",
       "      <td>30.0</td>\n",
       "      <td>1007.6</td>\n",
       "      <td>2.00000</td>\n",
       "      <td>23.2</td>\n",
       "      <td>0</td>\n",
       "      <td>0</td>\n",
       "      <td>12.8</td>\n",
       "      <td>-8.0</td>\n",
       "    </tr>\n",
       "    <tr>\n",
       "      <th>3</th>\n",
       "      <td>2008-12-04</td>\n",
       "      <td>2008-12-04</td>\n",
       "      <td>Albury</td>\n",
       "      <td>28.0</td>\n",
       "      <td>0.0</td>\n",
       "      <td>7.63054</td>\n",
       "      <td>NE</td>\n",
       "      <td>24.0</td>\n",
       "      <td>SE</td>\n",
       "      <td>E</td>\n",
       "      <td>16.0</td>\n",
       "      <td>1017.6</td>\n",
       "      <td>4.49925</td>\n",
       "      <td>26.5</td>\n",
       "      <td>0</td>\n",
       "      <td>0</td>\n",
       "      <td>18.8</td>\n",
       "      <td>-29.0</td>\n",
       "    </tr>\n",
       "    <tr>\n",
       "      <th>4</th>\n",
       "      <td>2008-12-05</td>\n",
       "      <td>2008-12-05</td>\n",
       "      <td>Albury</td>\n",
       "      <td>32.3</td>\n",
       "      <td>1.0</td>\n",
       "      <td>2.55000</td>\n",
       "      <td>W</td>\n",
       "      <td>41.0</td>\n",
       "      <td>ENE</td>\n",
       "      <td>NW</td>\n",
       "      <td>33.0</td>\n",
       "      <td>1010.8</td>\n",
       "      <td>8.00000</td>\n",
       "      <td>29.7</td>\n",
       "      <td>0</td>\n",
       "      <td>0</td>\n",
       "      <td>14.8</td>\n",
       "      <td>-49.0</td>\n",
       "    </tr>\n",
       "  </tbody>\n",
       "</table>\n",
       "</div>\n",
       "      <button class=\"colab-df-convert\" onclick=\"convertToInteractive('df-2d4bd0a2-1c03-4428-bb62-a5aa8b7c8139')\"\n",
       "              title=\"Convert this dataframe to an interactive table.\"\n",
       "              style=\"display:none;\">\n",
       "        \n",
       "  <svg xmlns=\"http://www.w3.org/2000/svg\" height=\"24px\"viewBox=\"0 0 24 24\"\n",
       "       width=\"24px\">\n",
       "    <path d=\"M0 0h24v24H0V0z\" fill=\"none\"/>\n",
       "    <path d=\"M18.56 5.44l.94 2.06.94-2.06 2.06-.94-2.06-.94-.94-2.06-.94 2.06-2.06.94zm-11 1L8.5 8.5l.94-2.06 2.06-.94-2.06-.94L8.5 2.5l-.94 2.06-2.06.94zm10 10l.94 2.06.94-2.06 2.06-.94-2.06-.94-.94-2.06-.94 2.06-2.06.94z\"/><path d=\"M17.41 7.96l-1.37-1.37c-.4-.4-.92-.59-1.43-.59-.52 0-1.04.2-1.43.59L10.3 9.45l-7.72 7.72c-.78.78-.78 2.05 0 2.83L4 21.41c.39.39.9.59 1.41.59.51 0 1.02-.2 1.41-.59l7.78-7.78 2.81-2.81c.8-.78.8-2.07 0-2.86zM5.41 20L4 18.59l7.72-7.72 1.47 1.35L5.41 20z\"/>\n",
       "  </svg>\n",
       "      </button>\n",
       "      \n",
       "  <style>\n",
       "    .colab-df-container {\n",
       "      display:flex;\n",
       "      flex-wrap:wrap;\n",
       "      gap: 12px;\n",
       "    }\n",
       "\n",
       "    .colab-df-convert {\n",
       "      background-color: #E8F0FE;\n",
       "      border: none;\n",
       "      border-radius: 50%;\n",
       "      cursor: pointer;\n",
       "      display: none;\n",
       "      fill: #1967D2;\n",
       "      height: 32px;\n",
       "      padding: 0 0 0 0;\n",
       "      width: 32px;\n",
       "    }\n",
       "\n",
       "    .colab-df-convert:hover {\n",
       "      background-color: #E2EBFA;\n",
       "      box-shadow: 0px 1px 2px rgba(60, 64, 67, 0.3), 0px 1px 3px 1px rgba(60, 64, 67, 0.15);\n",
       "      fill: #174EA6;\n",
       "    }\n",
       "\n",
       "    [theme=dark] .colab-df-convert {\n",
       "      background-color: #3B4455;\n",
       "      fill: #D2E3FC;\n",
       "    }\n",
       "\n",
       "    [theme=dark] .colab-df-convert:hover {\n",
       "      background-color: #434B5C;\n",
       "      box-shadow: 0px 1px 3px 1px rgba(0, 0, 0, 0.15);\n",
       "      filter: drop-shadow(0px 1px 2px rgba(0, 0, 0, 0.3));\n",
       "      fill: #FFFFFF;\n",
       "    }\n",
       "  </style>\n",
       "\n",
       "      <script>\n",
       "        const buttonEl =\n",
       "          document.querySelector('#df-2d4bd0a2-1c03-4428-bb62-a5aa8b7c8139 button.colab-df-convert');\n",
       "        buttonEl.style.display =\n",
       "          google.colab.kernel.accessAllowed ? 'block' : 'none';\n",
       "\n",
       "        async function convertToInteractive(key) {\n",
       "          const element = document.querySelector('#df-2d4bd0a2-1c03-4428-bb62-a5aa8b7c8139');\n",
       "          const dataTable =\n",
       "            await google.colab.kernel.invokeFunction('convertToInteractive',\n",
       "                                                     [key], {});\n",
       "          if (!dataTable) return;\n",
       "\n",
       "          const docLinkHtml = 'Like what you see? Visit the ' +\n",
       "            '<a target=\"_blank\" href=https://colab.research.google.com/notebooks/data_table.ipynb>data table notebook</a>'\n",
       "            + ' to learn more about interactive tables.';\n",
       "          element.innerHTML = '';\n",
       "          dataTable['output_type'] = 'display_data';\n",
       "          await google.colab.output.renderOutput(dataTable, element);\n",
       "          const docLink = document.createElement('div');\n",
       "          docLink.innerHTML = docLinkHtml;\n",
       "          element.appendChild(docLink);\n",
       "        }\n",
       "      </script>\n",
       "    </div>\n",
       "  </div>\n",
       "  "
      ],
      "text/plain": [
       "         Date      Date.1 Location  MaxTemp  Rainfall  Sunshine WindGustDir  \\\n",
       "0  2008-12-01  2008-12-01   Albury     22.9       0.6   0.15000           W   \n",
       "1  2008-12-02  2008-12-02   Albury     25.1       0.0   7.63054         WNW   \n",
       "2  2008-12-03  2008-12-03   Albury     25.7       0.0  11.70000         WSW   \n",
       "3  2008-12-04  2008-12-04   Albury     28.0       0.0   7.63054          NE   \n",
       "4  2008-12-05  2008-12-05   Albury     32.3       1.0   2.55000           W   \n",
       "\n",
       "   WindGustSpeed WindDir9am WindDir3pm  Humidity3pm  Pressure9am  Cloud3pm  \\\n",
       "0           44.0          W        WNW         22.0       1007.7   8.00000   \n",
       "1           44.0        NNW        WSW         25.0       1010.6   4.49925   \n",
       "2           46.0          W        WSW         30.0       1007.6   2.00000   \n",
       "3           24.0         SE          E         16.0       1017.6   4.49925   \n",
       "4           41.0        ENE         NW         33.0       1010.8   8.00000   \n",
       "\n",
       "   Temp3pm  RainToday  RainTomorrow  Temp_Delta_MinMax  Humidity_Delta  \n",
       "0     21.8          0             0                9.5           -49.0  \n",
       "1     24.3          0             0               17.7           -19.0  \n",
       "2     23.2          0             0               12.8            -8.0  \n",
       "3     26.5          0             0               18.8           -29.0  \n",
       "4     29.7          0             0               14.8           -49.0  "
      ]
     },
     "execution_count": 3,
     "metadata": {},
     "output_type": "execute_result"
    }
   ],
   "source": [
    "# récupération du jeu de données sauvegardé\n",
    "df = pd.read_csv('../data/weatherAUS_preprocessed_before_city_clust.csv')\n",
    "df.head()"
   ]
  },
  {
   "cell_type": "code",
   "execution_count": 4,
   "metadata": {
    "colab": {
     "base_uri": "https://localhost:8080/"
    },
    "id": "MkndSQ3gqbOx",
    "outputId": "9abc6885-ece8-4e3f-de0a-6adee0fea3a6"
   },
   "outputs": [
    {
     "data": {
      "text/plain": [
       "Index(['Date', 'Date.1', 'Location', 'MaxTemp', 'Rainfall', 'Sunshine',\n",
       "       'WindGustDir', 'WindGustSpeed', 'WindDir9am', 'WindDir3pm',\n",
       "       'Humidity3pm', 'Pressure9am', 'Cloud3pm', 'Temp3pm', 'RainToday',\n",
       "       'RainTomorrow', 'Temp_Delta_MinMax', 'Humidity_Delta'],\n",
       "      dtype='object')"
      ]
     },
     "execution_count": 4,
     "metadata": {},
     "output_type": "execute_result"
    }
   ],
   "source": [
    "df.columns"
   ]
  },
  {
   "cell_type": "code",
   "execution_count": 5,
   "metadata": {
    "id": "hNTFsafg1Ire"
   },
   "outputs": [],
   "source": [
    "# Deal with date\n",
    "index_date = pd.to_datetime(df['Date'])\n",
    "df = df.set_index(index_date)\n",
    "df.drop('Date.1', axis = 1, inplace = True)"
   ]
  },
  {
   "cell_type": "code",
   "execution_count": 6,
   "metadata": {
    "id": "qrmNp9Ew9TZu"
   },
   "outputs": [],
   "source": [
    "# Create dictionary grouping by Location prior to creation of new column for temp next day\n",
    "d = dict(tuple(df.groupby('Location')))"
   ]
  },
  {
   "cell_type": "code",
   "execution_count": 7,
   "metadata": {
    "id": "Ot7eO7Px6hrQ"
   },
   "outputs": [],
   "source": [
    "#Create new column of temp for next day -  by taking following days temp\n",
    "# Can change reach to future by changing freq='-1d'\n",
    "place_dfs = []\n",
    "for place in d:\n",
    "  d[place]['MaxTempTomorrow'] = d[place].MaxTemp.shift(freq='-1d')\n",
    "  place_dfs.append(d[place])"
   ]
  },
  {
   "cell_type": "code",
   "execution_count": 8,
   "metadata": {
    "id": "4-4YXxgzCmcP"
   },
   "outputs": [],
   "source": [
    "# Recombine all sepeate locations into one DF\n",
    "df_pre_temp = pd.concat(place_dfs)"
   ]
  },
  {
   "cell_type": "code",
   "execution_count": 9,
   "metadata": {
    "colab": {
     "base_uri": "https://localhost:8080/"
    },
    "id": "3Bp4rLaVDe6Y",
    "outputId": "94a72a6d-a87b-41c3-acb1-9ba0efa97d18"
   },
   "outputs": [
    {
     "data": {
      "text/plain": [
       "Date                    0\n",
       "Location                0\n",
       "MaxTemp                 0\n",
       "Rainfall                0\n",
       "Sunshine                0\n",
       "WindGustDir             0\n",
       "WindGustSpeed           0\n",
       "WindDir9am              0\n",
       "WindDir3pm              0\n",
       "Humidity3pm             0\n",
       "Pressure9am             0\n",
       "Cloud3pm                0\n",
       "Temp3pm                 0\n",
       "RainToday               0\n",
       "RainTomorrow            0\n",
       "Temp_Delta_MinMax       0\n",
       "Humidity_Delta          0\n",
       "MaxTempTomorrow      1505\n",
       "dtype: int64"
      ]
     },
     "execution_count": 9,
     "metadata": {},
     "output_type": "execute_result"
    }
   ],
   "source": [
    "# expect some nans due to next day data not being available\n",
    "df_pre_temp.isna().sum()"
   ]
  },
  {
   "cell_type": "code",
   "execution_count": 10,
   "metadata": {
    "id": "iMUA-pKWAsnh"
   },
   "outputs": [],
   "source": [
    "# Delete lines with Nans\n",
    "df_pre_temp.dropna(inplace = True)"
   ]
  },
  {
   "cell_type": "code",
   "execution_count": 11,
   "metadata": {
    "colab": {
     "base_uri": "https://localhost:8080/"
    },
    "id": "pg2ZZMMtr3Yq",
    "outputId": "ba0cb056-1f65-4383-f754-247a2635a69c"
   },
   "outputs": [
    {
     "data": {
      "text/plain": [
       "Date                 0\n",
       "Location             0\n",
       "MaxTemp              0\n",
       "Rainfall             0\n",
       "Sunshine             0\n",
       "WindGustDir          0\n",
       "WindGustSpeed        0\n",
       "WindDir9am           0\n",
       "WindDir3pm           0\n",
       "Humidity3pm          0\n",
       "Pressure9am          0\n",
       "Cloud3pm             0\n",
       "Temp3pm              0\n",
       "RainToday            0\n",
       "RainTomorrow         0\n",
       "Temp_Delta_MinMax    0\n",
       "Humidity_Delta       0\n",
       "MaxTempTomorrow      0\n",
       "dtype: int64"
      ]
     },
     "execution_count": 11,
     "metadata": {},
     "output_type": "execute_result"
    }
   ],
   "source": [
    "df_pre_temp.isna().sum()"
   ]
  },
  {
   "cell_type": "code",
   "execution_count": 13,
   "metadata": {
    "id": "viDzZQpMKBRn"
   },
   "outputs": [],
   "source": [
    "aus_town_gps = pd.read_csv(\"../data/aus_town_gps.csv\",sep=\",\")\n",
    "climatsaus = pd.read_csv(\"../data/climatsAUS_v2.csv\",sep=\";\")\n",
    "climats_type = {'Am':'chaud_humide',\n",
    "                'Aw':'chaud_humide',\n",
    "                'Cfa':'chaud_humide',\n",
    "                'Cfb':'tempéré_froid', \n",
    "                'Cfc':'tempéré_froid', \n",
    "                'BSh':'sec',\n",
    "                'BSk':'sec',\n",
    "                'Bsk':'sec', \n",
    "                'Bwh':'sec',\n",
    "                'Csa':'méditerranéen',\n",
    "                'Csb':'méditerranéen'              \n",
    "               }\n",
    "\n",
    "climatsaus['Clim_type']=climatsaus['Climat_Koppen'].map(climats_type)\n",
    "\n",
    "df_pre_temp = pd.merge(df_pre_temp, aus_town_gps, how='left', left_on=\"Location\",right_on=\"Location\")\n",
    "df_pre_temp = pd.merge(df_pre_temp, climatsaus, how='left', left_on=\"Location\",right_on=\"Location\")"
   ]
  },
  {
   "cell_type": "code",
   "execution_count": 14,
   "metadata": {
    "id": "gmLAIXkvKCI4"
   },
   "outputs": [],
   "source": [
    "clim_indic = pd.get_dummies(df_pre_temp.Clim_type, prefix='clim')\n",
    "df_pre_temp = df_pre_temp.join(clim_indic).drop('Clim_type', axis=1)"
   ]
  },
  {
   "cell_type": "code",
   "execution_count": 15,
   "metadata": {
    "id": "iGDDrcPYJMoQ"
   },
   "outputs": [],
   "source": [
    "#Deal with date \n",
    "df_pre_temp['year'] = pd.to_datetime(df_pre_temp['Date']).dt.year\n",
    "df_pre_temp['month'] = pd.to_datetime(df_pre_temp['Date']).dt.month\n",
    "df_pre_temp['day'] = pd.to_datetime(df_pre_temp['Date']).dt.day"
   ]
  },
  {
   "cell_type": "code",
   "execution_count": 16,
   "metadata": {
    "id": "RWV6vFpCJMxc"
   },
   "outputs": [],
   "source": [
    "df_pre_temp.drop(columns=['year','day','Date'], inplace = True)"
   ]
  },
  {
   "cell_type": "code",
   "execution_count": 17,
   "metadata": {
    "id": "DGr5qDKmJZ37"
   },
   "outputs": [],
   "source": [
    "#Split months into 4 seasons\n",
    "seasons_type = {1:'ete',\n",
    "                2:'ete',\n",
    "                3:'automne',\n",
    "                4:'automne', \n",
    "                5:'automne', \n",
    "                6:'hiver',\n",
    "                7:'hiver',\n",
    "                8:'hiver', \n",
    "                9:'primtemps',\n",
    "                10:'primtemps',\n",
    "                11:'primtemps',\n",
    "                12:'ete'              \n",
    "               }\n",
    "\n",
    "df_pre_temp['Season']=df_pre_temp['month'].map(seasons_type)"
   ]
  },
  {
   "cell_type": "code",
   "execution_count": 18,
   "metadata": {
    "id": "JOL3tfRFJaA2"
   },
   "outputs": [],
   "source": [
    "# get dummies for seasons\n",
    "season_indic = pd.get_dummies(df_pre_temp.Season, prefix='Season')\n",
    "df_pre_temp = df_pre_temp.join(season_indic).drop('Season', axis=1)"
   ]
  },
  {
   "cell_type": "code",
   "execution_count": 19,
   "metadata": {
    "id": "ie0diOCPJkUW"
   },
   "outputs": [],
   "source": [
    "# split wind dir into 4 compass points rather than 16\n",
    "compass_points = {'N':'NW',\n",
    "                'NNW':'NW',\n",
    "                'WNW':'NW',\n",
    "                'W':'SW', \n",
    "                'WSW':'SW', \n",
    "                'SSW':'SW',\n",
    "                'S':'SE',\n",
    "                'SSE':'SE', \n",
    "                'ESE':'SE',\n",
    "                'ENE':'NE',\n",
    "                'E':'NE',\n",
    "                'NNE':'NE'              \n",
    "               }\n",
    "\n",
    "df_pre_temp['WindDir3pm']=df_pre_temp['WindDir3pm'].map(compass_points)"
   ]
  },
  {
   "cell_type": "code",
   "execution_count": 20,
   "metadata": {
    "id": "SEXwousyJkcz"
   },
   "outputs": [],
   "source": [
    "# Get dummies for wind dir 4 compass points\n",
    "winddir_indic = pd.get_dummies(df_pre_temp.WindDir3pm, prefix='WindDir')\n",
    "df_pre_temp = df_pre_temp.join(winddir_indic).drop('WindDir3pm', axis=1)"
   ]
  },
  {
   "cell_type": "code",
   "execution_count": 21,
   "metadata": {
    "id": "v3tNYUWzJk4-"
   },
   "outputs": [],
   "source": [
    "#clean features\n",
    "df_pre_temp.drop(columns=['WindGustDir', 'WindDir9am', 'Latitude', \n",
    "                 'Longitude', 'Climat_Koppen', 'month', 'Location'], inplace = True)"
   ]
  },
  {
   "cell_type": "code",
   "execution_count": 29,
   "metadata": {
    "id": "rUYVWDQ55P0i"
   },
   "outputs": [],
   "source": [
    "#Create target and features\n",
    "target = df_pre_temp.MaxTempTomorrow\n",
    "data = df_pre_temp.drop('MaxTempTomorrow', axis = 1)"
   ]
  },
  {
   "cell_type": "code",
   "execution_count": 23,
   "metadata": {
    "id": "MeyTOAvrKxqy"
   },
   "outputs": [],
   "source": [
    "scaler = StandardScaler()"
   ]
  },
  {
   "cell_type": "code",
   "execution_count": 30,
   "metadata": {
    "id": "TgKO0FbsIq_N"
   },
   "outputs": [],
   "source": [
    "X_train, X_test, y_train, y_test = train_test_split(data, target, test_size = 0.2)"
   ]
  },
  {
   "cell_type": "code",
   "execution_count": 32,
   "metadata": {
    "id": "ibv7l1EvMlwk"
   },
   "outputs": [],
   "source": [
    "X_train_scaled = scaler.fit_transform(X_train)\n",
    "X_test_scaled = scaler.transform(X_test)"
   ]
  },
  {
   "cell_type": "code",
   "execution_count": 40,
   "metadata": {
    "colab": {
     "base_uri": "https://localhost:8080/"
    },
    "id": "4zYRUV0nI0C0",
    "outputId": "6dc9bec0-bbf1-483b-f736-ba865c1eafba"
   },
   "outputs": [
    {
     "name": "stdout",
     "output_type": "stream",
     "text": [
      "Train Data Score: 0.8294852902158244\n",
      "Test Data Score: 0.8267213832473699\n"
     ]
    }
   ],
   "source": [
    "# Pick grad_boost for initial try - fastish with decent results\n",
    "grad_boost = GradientBoostingRegressor()\n",
    "\n",
    "grad_boost.fit(X_train_scaled, y_train)\n",
    "\n",
    "y_pred = grad_boost.predict(X_test_scaled)\n",
    "\n",
    "print('Train Data Score: {}'.format(grad_boost.score(X_train_scaled,y_train)))\n",
    "print('Test Data Score: {}'.format(grad_boost.score(X_test_scaled,y_test)))\n",
    "\n"
   ]
  },
  {
   "cell_type": "markdown",
   "metadata": {
    "id": "hI4SuVC3U9-H"
   },
   "source": [
    "Ce notebook est cense d'etre un 'proof of concept': \n",
    "- est-ce que c'est possible: oui, \n",
    "- est-ce que c'est interessant a faire: le score present bien\n",
    "- est-ce que c'est possible da'ller plus loin: oui avec un etude des autre modeles et aussi pour les forcasts de plus d'un jour."
   ]
  }
 ],
 "metadata": {
  "colab": {
   "collapsed_sections": [],
   "provenance": []
  },
  "kernelspec": {
   "display_name": "Python 3",
   "language": "python",
   "name": "python3"
  },
  "language_info": {
   "codemirror_mode": {
    "name": "ipython",
    "version": 3
   },
   "file_extension": ".py",
   "mimetype": "text/x-python",
   "name": "python",
   "nbconvert_exporter": "python",
   "pygments_lexer": "ipython3",
   "version": "3.8.5"
  }
 },
 "nbformat": 4,
 "nbformat_minor": 1
}
