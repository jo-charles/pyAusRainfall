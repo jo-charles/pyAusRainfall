{
 "cells": [
  {
   "cell_type": "markdown",
   "metadata": {},
   "source": [
    "# Prévisions météorologiques en Australie"
   ]
  },
  {
   "cell_type": "markdown",
   "metadata": {},
   "source": [
    "# Prévision des températures"
   ]
  },
  {
   "cell_type": "markdown",
   "metadata": {},
   "source": [
    "## Récupération des librairies"
   ]
  },
  {
   "cell_type": "code",
   "execution_count": 30,
   "metadata": {
    "id": "sEulHA08qOuj"
   },
   "outputs": [],
   "source": [
    "# récupération des librairies\n",
    "import numpy as np\n",
    "import pandas as pd\n",
    "import time, datetime\n",
    "import warnings\n",
    "warnings.filterwarnings(\"ignore\")\n",
    "\n",
    "from sklearn.ensemble import GradientBoostingRegressor\n",
    "from sklearn.model_selection import train_test_split\n",
    "from sklearn.preprocessing import StandardScaler"
   ]
  },
  {
   "cell_type": "markdown",
   "metadata": {},
   "source": [
    "## Modèle de régression"
   ]
  },
  {
   "cell_type": "code",
   "execution_count": 31,
   "metadata": {
    "colab": {
     "base_uri": "https://localhost:8080/",
     "height": 357
    },
    "id": "lD16-9ECM9nT",
    "outputId": "7cc9c3f9-fbbf-4ff9-bfc2-41d5b3f39af8"
   },
   "outputs": [
    {
     "data": {
      "text/html": [
       "<div>\n",
       "<style scoped>\n",
       "    .dataframe tbody tr th:only-of-type {\n",
       "        vertical-align: middle;\n",
       "    }\n",
       "\n",
       "    .dataframe tbody tr th {\n",
       "        vertical-align: top;\n",
       "    }\n",
       "\n",
       "    .dataframe thead th {\n",
       "        text-align: right;\n",
       "    }\n",
       "</style>\n",
       "<table border=\"1\" class=\"dataframe\">\n",
       "  <thead>\n",
       "    <tr style=\"text-align: right;\">\n",
       "      <th></th>\n",
       "      <th>Date</th>\n",
       "      <th>Date.1</th>\n",
       "      <th>Location</th>\n",
       "      <th>MinTemp</th>\n",
       "      <th>MaxTemp</th>\n",
       "      <th>Rainfall</th>\n",
       "      <th>Evaporation</th>\n",
       "      <th>Sunshine</th>\n",
       "      <th>WindGustDir</th>\n",
       "      <th>WindGustSpeed</th>\n",
       "      <th>...</th>\n",
       "      <th>Pressure9am</th>\n",
       "      <th>Pressure3pm</th>\n",
       "      <th>Cloud9am</th>\n",
       "      <th>Cloud3pm</th>\n",
       "      <th>Temp9am</th>\n",
       "      <th>Temp3pm</th>\n",
       "      <th>RainToday</th>\n",
       "      <th>RainTomorrow</th>\n",
       "      <th>Temp_Delta_MinMax</th>\n",
       "      <th>Humidity_Delta</th>\n",
       "    </tr>\n",
       "  </thead>\n",
       "  <tbody>\n",
       "    <tr>\n",
       "      <th>0</th>\n",
       "      <td>2008-12-01</td>\n",
       "      <td>2008-12-01</td>\n",
       "      <td>Albury</td>\n",
       "      <td>13.4</td>\n",
       "      <td>22.9</td>\n",
       "      <td>0.6</td>\n",
       "      <td>2.240000</td>\n",
       "      <td>4.94000</td>\n",
       "      <td>W</td>\n",
       "      <td>44.0</td>\n",
       "      <td>...</td>\n",
       "      <td>1007.7</td>\n",
       "      <td>1007.1</td>\n",
       "      <td>8.000000</td>\n",
       "      <td>7.40000</td>\n",
       "      <td>16.9</td>\n",
       "      <td>21.8</td>\n",
       "      <td>0</td>\n",
       "      <td>0</td>\n",
       "      <td>9.5</td>\n",
       "      <td>-49.0</td>\n",
       "    </tr>\n",
       "    <tr>\n",
       "      <th>1</th>\n",
       "      <td>2008-12-02</td>\n",
       "      <td>2008-12-02</td>\n",
       "      <td>Albury</td>\n",
       "      <td>7.4</td>\n",
       "      <td>25.1</td>\n",
       "      <td>0.0</td>\n",
       "      <td>5.472516</td>\n",
       "      <td>7.63054</td>\n",
       "      <td>WNW</td>\n",
       "      <td>44.0</td>\n",
       "      <td>...</td>\n",
       "      <td>1010.6</td>\n",
       "      <td>1007.8</td>\n",
       "      <td>4.431161</td>\n",
       "      <td>4.49925</td>\n",
       "      <td>17.2</td>\n",
       "      <td>24.3</td>\n",
       "      <td>0</td>\n",
       "      <td>0</td>\n",
       "      <td>17.7</td>\n",
       "      <td>-19.0</td>\n",
       "    </tr>\n",
       "    <tr>\n",
       "      <th>2</th>\n",
       "      <td>2008-12-03</td>\n",
       "      <td>2008-12-03</td>\n",
       "      <td>Albury</td>\n",
       "      <td>12.9</td>\n",
       "      <td>25.7</td>\n",
       "      <td>0.0</td>\n",
       "      <td>7.440000</td>\n",
       "      <td>7.96000</td>\n",
       "      <td>WSW</td>\n",
       "      <td>46.0</td>\n",
       "      <td>...</td>\n",
       "      <td>1007.6</td>\n",
       "      <td>1008.7</td>\n",
       "      <td>2.200000</td>\n",
       "      <td>2.00000</td>\n",
       "      <td>21.0</td>\n",
       "      <td>23.2</td>\n",
       "      <td>0</td>\n",
       "      <td>0</td>\n",
       "      <td>12.8</td>\n",
       "      <td>-8.0</td>\n",
       "    </tr>\n",
       "    <tr>\n",
       "      <th>3</th>\n",
       "      <td>2008-12-04</td>\n",
       "      <td>2008-12-04</td>\n",
       "      <td>Albury</td>\n",
       "      <td>9.2</td>\n",
       "      <td>28.0</td>\n",
       "      <td>0.0</td>\n",
       "      <td>5.472516</td>\n",
       "      <td>7.63054</td>\n",
       "      <td>NE</td>\n",
       "      <td>24.0</td>\n",
       "      <td>...</td>\n",
       "      <td>1017.6</td>\n",
       "      <td>1012.8</td>\n",
       "      <td>4.431161</td>\n",
       "      <td>4.49925</td>\n",
       "      <td>18.1</td>\n",
       "      <td>26.5</td>\n",
       "      <td>0</td>\n",
       "      <td>0</td>\n",
       "      <td>18.8</td>\n",
       "      <td>-29.0</td>\n",
       "    </tr>\n",
       "    <tr>\n",
       "      <th>4</th>\n",
       "      <td>2008-12-05</td>\n",
       "      <td>2008-12-05</td>\n",
       "      <td>Albury</td>\n",
       "      <td>17.5</td>\n",
       "      <td>32.3</td>\n",
       "      <td>1.0</td>\n",
       "      <td>7.480000</td>\n",
       "      <td>0.90000</td>\n",
       "      <td>W</td>\n",
       "      <td>41.0</td>\n",
       "      <td>...</td>\n",
       "      <td>1010.8</td>\n",
       "      <td>1006.0</td>\n",
       "      <td>7.000000</td>\n",
       "      <td>8.00000</td>\n",
       "      <td>17.8</td>\n",
       "      <td>29.7</td>\n",
       "      <td>0</td>\n",
       "      <td>0</td>\n",
       "      <td>14.8</td>\n",
       "      <td>-49.0</td>\n",
       "    </tr>\n",
       "  </tbody>\n",
       "</table>\n",
       "<p>5 rows × 26 columns</p>\n",
       "</div>"
      ],
      "text/plain": [
       "         Date      Date.1 Location  MinTemp  MaxTemp  Rainfall  Evaporation  \\\n",
       "0  2008-12-01  2008-12-01   Albury     13.4     22.9       0.6     2.240000   \n",
       "1  2008-12-02  2008-12-02   Albury      7.4     25.1       0.0     5.472516   \n",
       "2  2008-12-03  2008-12-03   Albury     12.9     25.7       0.0     7.440000   \n",
       "3  2008-12-04  2008-12-04   Albury      9.2     28.0       0.0     5.472516   \n",
       "4  2008-12-05  2008-12-05   Albury     17.5     32.3       1.0     7.480000   \n",
       "\n",
       "   Sunshine WindGustDir  WindGustSpeed  ... Pressure9am Pressure3pm  Cloud9am  \\\n",
       "0   4.94000           W           44.0  ...      1007.7      1007.1  8.000000   \n",
       "1   7.63054         WNW           44.0  ...      1010.6      1007.8  4.431161   \n",
       "2   7.96000         WSW           46.0  ...      1007.6      1008.7  2.200000   \n",
       "3   7.63054          NE           24.0  ...      1017.6      1012.8  4.431161   \n",
       "4   0.90000           W           41.0  ...      1010.8      1006.0  7.000000   \n",
       "\n",
       "   Cloud3pm  Temp9am  Temp3pm  RainToday  RainTomorrow  Temp_Delta_MinMax  \\\n",
       "0   7.40000     16.9     21.8          0             0                9.5   \n",
       "1   4.49925     17.2     24.3          0             0               17.7   \n",
       "2   2.00000     21.0     23.2          0             0               12.8   \n",
       "3   4.49925     18.1     26.5          0             0               18.8   \n",
       "4   8.00000     17.8     29.7          0             0               14.8   \n",
       "\n",
       "   Humidity_Delta  \n",
       "0           -49.0  \n",
       "1           -19.0  \n",
       "2            -8.0  \n",
       "3           -29.0  \n",
       "4           -49.0  \n",
       "\n",
       "[5 rows x 26 columns]"
      ]
     },
     "execution_count": 31,
     "metadata": {},
     "output_type": "execute_result"
    }
   ],
   "source": [
    "# récupération du jeu de données intermédiaire de prétraitement des données après gestion des valeurs manquantes \n",
    "# et création de nouvelles variables et avant sélection raffinée des variables afin d'améliorer la matrice de corrélation\n",
    "df = pd.read_csv('../data/weatherAUS_not_fully_preprocessed.csv')\n",
    "df.head()"
   ]
  },
  {
   "cell_type": "code",
   "execution_count": 32,
   "metadata": {
    "colab": {
     "base_uri": "https://localhost:8080/"
    },
    "id": "MkndSQ3gqbOx",
    "outputId": "9abc6885-ece8-4e3f-de0a-6adee0fea3a6"
   },
   "outputs": [
    {
     "data": {
      "text/plain": [
       "Index(['Date', 'Date.1', 'Location', 'MinTemp', 'MaxTemp', 'Rainfall',\n",
       "       'Evaporation', 'Sunshine', 'WindGustDir', 'WindGustSpeed', 'WindDir9am',\n",
       "       'WindDir3pm', 'WindSpeed9am', 'WindSpeed3pm', 'Humidity9am',\n",
       "       'Humidity3pm', 'Pressure9am', 'Pressure3pm', 'Cloud9am', 'Cloud3pm',\n",
       "       'Temp9am', 'Temp3pm', 'RainToday', 'RainTomorrow', 'Temp_Delta_MinMax',\n",
       "       'Humidity_Delta'],\n",
       "      dtype='object')"
      ]
     },
     "execution_count": 32,
     "metadata": {},
     "output_type": "execute_result"
    }
   ],
   "source": [
    "# affichage des colonnes du DataFrame\n",
    "df.columns"
   ]
  },
  {
   "cell_type": "code",
   "execution_count": 33,
   "metadata": {
    "id": "hNTFsafg1Ire"
   },
   "outputs": [],
   "source": [
    "# indexation du DataFrame par la date\n",
    "index_date = pd.to_datetime(df['Date'])\n",
    "df = df.set_index(index_date)\n",
    "df.drop('Date.1', axis=1, inplace=True)"
   ]
  },
  {
   "cell_type": "code",
   "execution_count": 34,
   "metadata": {
    "id": "qrmNp9Ew9TZu"
   },
   "outputs": [],
   "source": [
    "# création d'un dictionnaire regroupant les observations du DataFrame par ville \n",
    "d = dict(tuple(df.groupby('Location')))"
   ]
  },
  {
   "cell_type": "code",
   "execution_count": 35,
   "metadata": {
    "id": "Ot7eO7Px6hrQ"
   },
   "outputs": [],
   "source": [
    "# ajout d'une nouvelle clé dans le dictionnaire indiquant la température maximale à J+1 récupérée à partir des valeurs \n",
    "# de \"MaxTemp\" et création d'une liste regroupant l'ensemble des données\n",
    "place_dfs = []\n",
    "\n",
    "for place in d:\n",
    "  d[place]['MaxTempTomorrow'] = d[place].MaxTemp.shift(freq='-1d')\n",
    "  place_dfs.append(d[place])"
   ]
  },
  {
   "cell_type": "code",
   "execution_count": 36,
   "metadata": {
    "id": "4-4YXxgzCmcP"
   },
   "outputs": [],
   "source": [
    "# conversion de la liste en DataFrame par concaténation \n",
    "df_pre_temp = pd.concat(place_dfs)"
   ]
  },
  {
   "cell_type": "code",
   "execution_count": 37,
   "metadata": {
    "colab": {
     "base_uri": "https://localhost:8080/"
    },
    "id": "3Bp4rLaVDe6Y",
    "outputId": "94a72a6d-a87b-41c3-acb1-9ba0efa97d18"
   },
   "outputs": [
    {
     "data": {
      "text/plain": [
       "Date                    0\n",
       "Location                0\n",
       "MinTemp                 0\n",
       "MaxTemp                 0\n",
       "Rainfall                0\n",
       "Evaporation             0\n",
       "Sunshine                0\n",
       "WindGustDir             0\n",
       "WindGustSpeed           0\n",
       "WindDir9am              0\n",
       "WindDir3pm              0\n",
       "WindSpeed9am            0\n",
       "WindSpeed3pm            0\n",
       "Humidity9am             0\n",
       "Humidity3pm             0\n",
       "Pressure9am             0\n",
       "Pressure3pm             0\n",
       "Cloud9am                0\n",
       "Cloud3pm                0\n",
       "Temp9am                 0\n",
       "Temp3pm                 0\n",
       "RainToday               0\n",
       "RainTomorrow            0\n",
       "Temp_Delta_MinMax       0\n",
       "Humidity_Delta          0\n",
       "MaxTempTomorrow      1505\n",
       "dtype: int64"
      ]
     },
     "execution_count": 37,
     "metadata": {},
     "output_type": "execute_result"
    }
   ],
   "source": [
    "# vérification du nombre de valeurs manquantes résultant de l'indisponibilité des observations de \"MaxTemp\" à J+1 \n",
    "df_pre_temp.isna().sum()"
   ]
  },
  {
   "cell_type": "code",
   "execution_count": 38,
   "metadata": {
    "id": "iMUA-pKWAsnh"
   },
   "outputs": [],
   "source": [
    "# suppression des valeurs manquantes\n",
    "df_pre_temp.dropna(inplace = True)"
   ]
  },
  {
   "cell_type": "code",
   "execution_count": 39,
   "metadata": {
    "colab": {
     "base_uri": "https://localhost:8080/"
    },
    "id": "pg2ZZMMtr3Yq",
    "outputId": "ba0cb056-1f65-4383-f754-247a2635a69c"
   },
   "outputs": [
    {
     "data": {
      "text/plain": [
       "0"
      ]
     },
     "execution_count": 39,
     "metadata": {},
     "output_type": "execute_result"
    }
   ],
   "source": [
    "# vérification du nombre total de valeurs manquantes\n",
    "df_pre_temp.isna().sum().sum()"
   ]
  },
  {
   "cell_type": "code",
   "execution_count": 40,
   "metadata": {},
   "outputs": [],
   "source": [
    "# récupération du jeu de données relatif aux coordonnées géographiques des villes australiennes\n",
    "aus_town_gps = pd.read_csv(\"../data/aus_town_gps.csv\",sep=\",\")"
   ]
  },
  {
   "cell_type": "code",
   "execution_count": 41,
   "metadata": {},
   "outputs": [],
   "source": [
    "# récupération du jeu de données relatif au climat australien\n",
    "aus_climats = pd.read_csv(\"../data/climatsAUS_v2.csv\", sep=\";\")"
   ]
  },
  {
   "cell_type": "code",
   "execution_count": 42,
   "metadata": {},
   "outputs": [],
   "source": [
    "# regroupement des climats en 4 catégories: \"chaud_humide\", \"tempéré_froid\", \"sec\" et \"méditerranéen\" \n",
    "climats_type = {'Am':'chaud_humide',\n",
    "                'Aw':'chaud_humide',\n",
    "                'Cfa':'chaud_humide',\n",
    "                'Cfb':'tempéré_froid', \n",
    "                'Cfc':'tempéré_froid', \n",
    "                'BSh':'sec',\n",
    "                'BSk':'sec',\n",
    "                'Bsk':'sec', \n",
    "                'Bwh':'sec',\n",
    "                'Csa':'méditerranéen',\n",
    "                'Csb':'méditerranéen'              \n",
    "               }\n",
    "\n",
    "aus_climats['Clim_type'] = aus_climats['Climat_Koppen'].map(climats_type)"
   ]
  },
  {
   "cell_type": "code",
   "execution_count": 43,
   "metadata": {},
   "outputs": [],
   "source": [
    "# intégration des coordonnées géographiques et du climat australien dans le DataFrame étudié\n",
    "df_pre_temp = pd.merge(df_pre_temp, aus_town_gps, how='left', left_on=\"Location\", right_on=\"Location\")\n",
    "df_pre_temp = pd.merge(df_pre_temp, aus_climats, how='left', left_on=\"Location\", right_on=\"Location\")"
   ]
  },
  {
   "cell_type": "code",
   "execution_count": 44,
   "metadata": {
    "id": "gmLAIXkvKCI4"
   },
   "outputs": [],
   "source": [
    "# encodage des variables liées au climat\n",
    "clim_indic = pd.get_dummies(df_pre_temp.Clim_type, prefix='clim')\n",
    "df_pre_temp = df_pre_temp.join(clim_indic).drop('Clim_type', axis=1)"
   ]
  },
  {
   "cell_type": "code",
   "execution_count": 45,
   "metadata": {
    "id": "iGDDrcPYJMoQ"
   },
   "outputs": [],
   "source": [
    "# ajout de la variable \"month\" au DataFrame par conversion de la variable \"Date\" au format datetime\n",
    "df_pre_temp['month'] = pd.to_datetime(df_pre_temp['Date']).dt.month"
   ]
  },
  {
   "cell_type": "code",
   "execution_count": 46,
   "metadata": {
    "id": "RWV6vFpCJMxc"
   },
   "outputs": [],
   "source": [
    "# suppression de la variable \"Date\" désormais inutile\n",
    "df_pre_temp.drop(columns=['Date'], inplace = True)"
   ]
  },
  {
   "cell_type": "code",
   "execution_count": 47,
   "metadata": {
    "id": "DGr5qDKmJZ37"
   },
   "outputs": [],
   "source": [
    "# création d'un dictionnaire \"seasons_type\" regroupant les mois selon les saisons de l'année\n",
    "seasons_type = {1:'ete',\n",
    "                2:'ete',\n",
    "                3:'automne',\n",
    "                4:'automne', \n",
    "                5:'automne', \n",
    "                6:'hiver',\n",
    "                7:'hiver',\n",
    "                8:'hiver', \n",
    "                9:'printemps',\n",
    "                10:'printemps',\n",
    "                11:'printemps',\n",
    "                12:'ete'              \n",
    "               }"
   ]
  },
  {
   "cell_type": "code",
   "execution_count": 48,
   "metadata": {},
   "outputs": [],
   "source": [
    "# ajout de la variable catégorielle \"Season\" au DataFrame à partir du dictionnaire \"seasons_type\"\n",
    "df_pre_temp['Season'] = df_pre_temp['month'].map(seasons_type)"
   ]
  },
  {
   "cell_type": "code",
   "execution_count": 49,
   "metadata": {
    "id": "JOL3tfRFJaA2"
   },
   "outputs": [],
   "source": [
    "# encodage des variables liées à la saison de l'année\n",
    "season_indic = pd.get_dummies(df_pre_temp.Season, prefix='Season')\n",
    "df_pre_temp = df_pre_temp.join(season_indic).drop('Season', axis=1)"
   ]
  },
  {
   "cell_type": "code",
   "execution_count": 50,
   "metadata": {
    "id": "ie0diOCPJkUW"
   },
   "outputs": [],
   "source": [
    "# création d'un dictionnaire \"compass_points\" regroupant les directions du vent selon 4 points intercardinaux\n",
    "compass_points = {'N':'NW',\n",
    "                'NNW':'NW',\n",
    "                'WNW':'NW',\n",
    "                'W':'SW', \n",
    "                'WSW':'SW', \n",
    "                'SSW':'SW',\n",
    "                'S':'SE',\n",
    "                'SSE':'SE', \n",
    "                'ESE':'SE',\n",
    "                'ENE':'NE',\n",
    "                'E':'NE',\n",
    "                'NNE':'NE'              \n",
    "               }"
   ]
  },
  {
   "cell_type": "code",
   "execution_count": 51,
   "metadata": {},
   "outputs": [],
   "source": [
    "# modification de la variable catégorielle \"WindDir3pm\" du DataFrame à partir du dictionnaire \"compass_points\"\n",
    "df_pre_temp['WindDir3pm'] = df_pre_temp['WindDir3pm'].map(compass_points)"
   ]
  },
  {
   "cell_type": "code",
   "execution_count": 52,
   "metadata": {
    "id": "SEXwousyJkcz"
   },
   "outputs": [],
   "source": [
    "# encodage des variables liées à la direction du vent pendant l'après-midi\n",
    "winddir_indic = pd.get_dummies(df_pre_temp.WindDir3pm, prefix='WindDir')\n",
    "df_pre_temp = df_pre_temp.join(winddir_indic).drop('WindDir3pm', axis=1)"
   ]
  },
  {
   "cell_type": "code",
   "execution_count": 53,
   "metadata": {
    "id": "v3tNYUWzJk4-"
   },
   "outputs": [],
   "source": [
    "# suppression des variables inutiles\n",
    "df_pre_temp.drop(columns=['WindGustDir', 'WindDir9am', 'Latitude', \n",
    "                 'Longitude', 'Climat_Koppen', 'month', 'Location'], inplace = True)"
   ]
  },
  {
   "cell_type": "code",
   "execution_count": 54,
   "metadata": {
    "id": "rUYVWDQ55P0i"
   },
   "outputs": [],
   "source": [
    "# séparation des données en une matrice de données et en un vecteur cible\n",
    "target = df_pre_temp.MaxTempTomorrow\n",
    "data = df_pre_temp.drop('MaxTempTomorrow', axis = 1)"
   ]
  },
  {
   "cell_type": "code",
   "execution_count": 55,
   "metadata": {
    "id": "TgKO0FbsIq_N"
   },
   "outputs": [],
   "source": [
    "# division des données en un ensemble d'entraînement et un ensemble de test\n",
    "# de la quantité totale des données disponibles\n",
    "X_train, X_test, y_train, y_test = train_test_split(data, target, test_size=0.3)"
   ]
  },
  {
   "cell_type": "code",
   "execution_count": 56,
   "metadata": {
    "id": "ibv7l1EvMlwk"
   },
   "outputs": [],
   "source": [
    "# standardisation des données\n",
    "scaler = StandardScaler()\n",
    "\n",
    "X_train_scaled = scaler.fit_transform(X_train)\n",
    "X_test_scaled = scaler.transform(X_test)"
   ]
  },
  {
   "cell_type": "code",
   "execution_count": 57,
   "metadata": {
    "colab": {
     "base_uri": "https://localhost:8080/"
    },
    "id": "4zYRUV0nI0C0",
    "outputId": "6dc9bec0-bbf1-483b-f736-ba865c1eafba"
   },
   "outputs": [],
   "source": [
    "# définition du modèle\n",
    "grad_boost = GradientBoostingRegressor()"
   ]
  },
  {
   "cell_type": "code",
   "execution_count": 58,
   "metadata": {},
   "outputs": [
    {
     "name": "stdout",
     "output_type": "stream",
     "text": [
      "Train Data Score: 0.8325196380384681\n",
      "Test Data Score: 0.8301899179029455\n",
      "\n",
      " Running Time: 0:00:19.989112\n"
     ]
    }
   ],
   "source": [
    "start_time = time.time()\n",
    "\n",
    "# entraînement du modèle\n",
    "grad_boost.fit(X_train_scaled, y_train)\n",
    "\n",
    "# prédiction du modèle\n",
    "y_pred = grad_boost.predict(X_test_scaled)\n",
    "\n",
    "# underfitting / overfitting\n",
    "print('Train Data Score: {}'.format(grad_boost.score(X_train_scaled, y_train)))\n",
    "print('Test Data Score: {}'.format(grad_boost.score(X_test_scaled, y_test)))\n",
    "\n",
    "# durée d'exécution\n",
    "gaussian_time = (time.time() - start_time)\n",
    "print(\"\\n Running Time: %s\" % datetime.timedelta(seconds=gaussian_time))"
   ]
  },
  {
   "cell_type": "markdown",
   "metadata": {},
   "source": [
    "## Conclusion"
   ]
  },
  {
   "cell_type": "markdown",
   "metadata": {},
   "source": [
    "Ce notebook constitue une preuve de concept visant à considérer un modèle de régression pour la prévision d'une variable quantitative à J+1 (ici \"MaxTempTomorrow\" par l'algorithme du \"Gradient Boosting\" inspiré de l’algorithme de la descente de gradient).\n",
    "\n",
    "Les conclusions de cette étude préliminaire sont les suivantes:\n",
    "- la méthode est concluante et prometteuse\n",
    "- l'algorithme du \"Gradient Boosting\" appelé sans argument donne de bons résultats et s'exécute rapidement\n",
    "- l'algorithme du \"Gradient Boosting\" fait l'objet d'un très léger sur-apprentissage (score par défaut de la méthode)\n",
    "\n",
    "Il est possible de poursuivre cette étude par une analyse complémentaire d'autres modèles de régression et par une modélisation des prévisions de température à plus long terme (par exemple à J+3 et J+7)."
   ]
  },
  {
   "cell_type": "code",
   "execution_count": null,
   "metadata": {},
   "outputs": [],
   "source": []
  }
 ],
 "metadata": {
  "colab": {
   "collapsed_sections": [],
   "provenance": []
  },
  "kernelspec": {
   "display_name": "Python 3 (ipykernel)",
   "language": "python",
   "name": "python3"
  },
  "language_info": {
   "codemirror_mode": {
    "name": "ipython",
    "version": 3
   },
   "file_extension": ".py",
   "mimetype": "text/x-python",
   "name": "python",
   "nbconvert_exporter": "python",
   "pygments_lexer": "ipython3",
   "version": "3.9.13"
  }
 },
 "nbformat": 4,
 "nbformat_minor": 4
}
