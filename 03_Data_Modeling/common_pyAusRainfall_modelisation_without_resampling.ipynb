{
 "cells": [
  {
   "cell_type": "markdown",
   "id": "uWfmqoPvIcAJ",
   "metadata": {
    "id": "uWfmqoPvIcAJ"
   },
   "source": [
    "# Prévisions météo en Australie"
   ]
  },
  {
   "cell_type": "markdown",
   "id": "30f5b421",
   "metadata": {},
   "source": [
    "# Modélisation sans étape de ré-échantillonage"
   ]
  },
  {
   "cell_type": "markdown",
   "id": "NJN5xGP7CUc_",
   "metadata": {
    "id": "NJN5xGP7CUc_"
   },
   "source": [
    "# Récupération des librairies"
   ]
  },
  {
   "cell_type": "code",
   "execution_count": 1,
   "id": "MP_EJ9XNFo2d",
   "metadata": {
    "colab": {
     "base_uri": "https://localhost:8080/"
    },
    "id": "MP_EJ9XNFo2d",
    "outputId": "e1c0a9a3-7797-4a69-9301-d72fb8c03d31"
   },
   "outputs": [
    {
     "name": "stdout",
     "output_type": "stream",
     "text": [
      "Requirement already satisfied: scikit-plot in c:\\users\\charlesj\\anaconda3\\lib\\site-packages (0.3.7)\n",
      "Requirement already satisfied: scikit-learn>=0.18 in c:\\users\\charlesj\\anaconda3\\lib\\site-packages (from scikit-plot) (1.1.2)\n",
      "Requirement already satisfied: scipy>=0.9 in c:\\users\\charlesj\\anaconda3\\lib\\site-packages (from scikit-plot) (1.7.1)\n",
      "Requirement already satisfied: joblib>=0.10 in c:\\users\\charlesj\\anaconda3\\lib\\site-packages (from scikit-plot) (1.1.0)\n",
      "Requirement already satisfied: matplotlib>=1.4.0 in c:\\users\\charlesj\\anaconda3\\lib\\site-packages (from scikit-plot) (3.4.3)\n",
      "Requirement already satisfied: python-dateutil>=2.7 in c:\\users\\charlesj\\anaconda3\\lib\\site-packages (from matplotlib>=1.4.0->scikit-plot) (2.8.2)\n",
      "Requirement already satisfied: kiwisolver>=1.0.1 in c:\\users\\charlesj\\anaconda3\\lib\\site-packages (from matplotlib>=1.4.0->scikit-plot) (1.3.1)\n",
      "Requirement already satisfied: pyparsing>=2.2.1 in c:\\users\\charlesj\\anaconda3\\lib\\site-packages (from matplotlib>=1.4.0->scikit-plot) (3.0.4)\n",
      "Requirement already satisfied: cycler>=0.10 in c:\\users\\charlesj\\anaconda3\\lib\\site-packages (from matplotlib>=1.4.0->scikit-plot) (0.10.0)\n",
      "Requirement already satisfied: pillow>=6.2.0 in c:\\users\\charlesj\\anaconda3\\lib\\site-packages (from matplotlib>=1.4.0->scikit-plot) (8.4.0)\n",
      "Requirement already satisfied: numpy>=1.16 in c:\\users\\charlesj\\anaconda3\\lib\\site-packages (from matplotlib>=1.4.0->scikit-plot) (1.20.3)\n",
      "Requirement already satisfied: six in c:\\users\\charlesj\\anaconda3\\lib\\site-packages (from cycler>=0.10->matplotlib>=1.4.0->scikit-plot) (1.16.0)\n",
      "Requirement already satisfied: threadpoolctl>=2.0.0 in c:\\users\\charlesj\\anaconda3\\lib\\site-packages (from scikit-learn>=0.18->scikit-plot) (2.2.0)\n"
     ]
    }
   ],
   "source": [
    "# récupération du package scikit-plot\n",
    "!pip install scikit-plot"
   ]
  },
  {
   "cell_type": "code",
   "execution_count": 2,
   "id": "db07acc9",
   "metadata": {
    "id": "db07acc9"
   },
   "outputs": [],
   "source": [
    "# récupération des librairies\n",
    "%matplotlib inline\n",
    "\n",
    "import numpy as np\n",
    "import pandas as pd\n",
    "import matplotlib.pyplot as plt\n",
    "import seaborn as sns\n",
    "import time, datetime\n",
    "import scikitplot as skplt\n",
    "import warnings\n",
    "warnings.filterwarnings(\"ignore\")\n",
    "\n",
    "from scipy.spatial.distance import cdist\n",
    "from scipy.stats import chi2_contingency\n",
    "\n",
    "from sklearn import ensemble, linear_model, model_selection, neighbors, preprocessing, svm\n",
    "\n",
    "from sklearn.cluster import KMeans\n",
    "from sklearn.ensemble import RandomForestClassifier\n",
    "from sklearn.feature_selection import SelectFromModel, SelectKBest, chi2\n",
    "from sklearn.impute import KNNImputer\n",
    "from sklearn.linear_model import LogisticRegression, SGDClassifier, Lasso, LassoCV, lasso_path, RidgeCV\n",
    "from sklearn.metrics import classification_report, accuracy_score, roc_curve, auc, mean_squared_error, recall_score, f1_score, precision_score\n",
    "from sklearn.model_selection import GridSearchCV, train_test_split, cross_val_score, learning_curve, KFold\n",
    "from sklearn.pipeline import make_pipeline\n",
    "from sklearn.preprocessing import StandardScaler, MinMaxScaler\n",
    "from sklearn.svm import SVC\n",
    "from sklearn.tree import DecisionTreeClassifier\n",
    "\n",
    "from imblearn.metrics import classification_report_imbalanced\n",
    "from imblearn.under_sampling import RandomUnderSampler"
   ]
  },
  {
   "cell_type": "markdown",
   "id": "9de277aa",
   "metadata": {
    "id": "9de277aa"
   },
   "source": [
    "# Modèles de classification par apprentissage supervisé"
   ]
  },
  {
   "cell_type": "code",
   "execution_count": 3,
   "id": "lD16-9ECM9nT",
   "metadata": {
    "colab": {
     "base_uri": "https://localhost:8080/",
     "height": 206
    },
    "id": "lD16-9ECM9nT",
    "outputId": "66f7f93c-00bd-4ca8-a9d2-0cb128201dae"
   },
   "outputs": [
    {
     "data": {
      "text/html": [
       "<div>\n",
       "<style scoped>\n",
       "    .dataframe tbody tr th:only-of-type {\n",
       "        vertical-align: middle;\n",
       "    }\n",
       "\n",
       "    .dataframe tbody tr th {\n",
       "        vertical-align: top;\n",
       "    }\n",
       "\n",
       "    .dataframe thead th {\n",
       "        text-align: right;\n",
       "    }\n",
       "</style>\n",
       "<table border=\"1\" class=\"dataframe\">\n",
       "  <thead>\n",
       "    <tr style=\"text-align: right;\">\n",
       "      <th></th>\n",
       "      <th>Rainfall</th>\n",
       "      <th>Sunshine</th>\n",
       "      <th>WindGustSpeed</th>\n",
       "      <th>Humidity3pm</th>\n",
       "      <th>Pressure9am</th>\n",
       "      <th>Cloud3pm</th>\n",
       "      <th>Temp3pm</th>\n",
       "      <th>Temp_Delta_MinMax</th>\n",
       "      <th>Humidity_Delta</th>\n",
       "      <th>clim_chaud_humide</th>\n",
       "      <th>clim_méditerranéen</th>\n",
       "      <th>clim_sec</th>\n",
       "      <th>clim_tempéré_froid</th>\n",
       "      <th>RainTomorrow</th>\n",
       "    </tr>\n",
       "  </thead>\n",
       "  <tbody>\n",
       "    <tr>\n",
       "      <th>0</th>\n",
       "      <td>0.6</td>\n",
       "      <td>4.94000</td>\n",
       "      <td>44.0</td>\n",
       "      <td>22.0</td>\n",
       "      <td>1007.7</td>\n",
       "      <td>7.40000</td>\n",
       "      <td>21.8</td>\n",
       "      <td>9.5</td>\n",
       "      <td>-49.0</td>\n",
       "      <td>1</td>\n",
       "      <td>0</td>\n",
       "      <td>0</td>\n",
       "      <td>0</td>\n",
       "      <td>0</td>\n",
       "    </tr>\n",
       "    <tr>\n",
       "      <th>1</th>\n",
       "      <td>0.0</td>\n",
       "      <td>7.63054</td>\n",
       "      <td>44.0</td>\n",
       "      <td>25.0</td>\n",
       "      <td>1010.6</td>\n",
       "      <td>4.49925</td>\n",
       "      <td>24.3</td>\n",
       "      <td>17.7</td>\n",
       "      <td>-19.0</td>\n",
       "      <td>1</td>\n",
       "      <td>0</td>\n",
       "      <td>0</td>\n",
       "      <td>0</td>\n",
       "      <td>0</td>\n",
       "    </tr>\n",
       "    <tr>\n",
       "      <th>2</th>\n",
       "      <td>0.0</td>\n",
       "      <td>7.96000</td>\n",
       "      <td>46.0</td>\n",
       "      <td>30.0</td>\n",
       "      <td>1007.6</td>\n",
       "      <td>2.00000</td>\n",
       "      <td>23.2</td>\n",
       "      <td>12.8</td>\n",
       "      <td>-8.0</td>\n",
       "      <td>1</td>\n",
       "      <td>0</td>\n",
       "      <td>0</td>\n",
       "      <td>0</td>\n",
       "      <td>0</td>\n",
       "    </tr>\n",
       "    <tr>\n",
       "      <th>3</th>\n",
       "      <td>0.0</td>\n",
       "      <td>7.63054</td>\n",
       "      <td>24.0</td>\n",
       "      <td>16.0</td>\n",
       "      <td>1017.6</td>\n",
       "      <td>4.49925</td>\n",
       "      <td>26.5</td>\n",
       "      <td>18.8</td>\n",
       "      <td>-29.0</td>\n",
       "      <td>1</td>\n",
       "      <td>0</td>\n",
       "      <td>0</td>\n",
       "      <td>0</td>\n",
       "      <td>0</td>\n",
       "    </tr>\n",
       "    <tr>\n",
       "      <th>4</th>\n",
       "      <td>1.0</td>\n",
       "      <td>0.90000</td>\n",
       "      <td>41.0</td>\n",
       "      <td>33.0</td>\n",
       "      <td>1010.8</td>\n",
       "      <td>8.00000</td>\n",
       "      <td>29.7</td>\n",
       "      <td>14.8</td>\n",
       "      <td>-49.0</td>\n",
       "      <td>1</td>\n",
       "      <td>0</td>\n",
       "      <td>0</td>\n",
       "      <td>0</td>\n",
       "      <td>0</td>\n",
       "    </tr>\n",
       "  </tbody>\n",
       "</table>\n",
       "</div>"
      ],
      "text/plain": [
       "   Rainfall  Sunshine  WindGustSpeed  Humidity3pm  Pressure9am  Cloud3pm  \\\n",
       "0       0.6   4.94000           44.0         22.0       1007.7   7.40000   \n",
       "1       0.0   7.63054           44.0         25.0       1010.6   4.49925   \n",
       "2       0.0   7.96000           46.0         30.0       1007.6   2.00000   \n",
       "3       0.0   7.63054           24.0         16.0       1017.6   4.49925   \n",
       "4       1.0   0.90000           41.0         33.0       1010.8   8.00000   \n",
       "\n",
       "   Temp3pm  Temp_Delta_MinMax  Humidity_Delta  clim_chaud_humide  \\\n",
       "0     21.8                9.5           -49.0                  1   \n",
       "1     24.3               17.7           -19.0                  1   \n",
       "2     23.2               12.8            -8.0                  1   \n",
       "3     26.5               18.8           -29.0                  1   \n",
       "4     29.7               14.8           -49.0                  1   \n",
       "\n",
       "   clim_méditerranéen  clim_sec  clim_tempéré_froid  RainTomorrow  \n",
       "0                   0         0                   0             0  \n",
       "1                   0         0                   0             0  \n",
       "2                   0         0                   0             0  \n",
       "3                   0         0                   0             0  \n",
       "4                   0         0                   0             0  "
      ]
     },
     "execution_count": 3,
     "metadata": {},
     "output_type": "execute_result"
    }
   ],
   "source": [
    "# récuperation et aperçu du jeu de données après prétraitement, après l'étape de classification des villes en fonction \n",
    "# du climat et après sélection des variables les plus pertinentes selon la méthode SelectKBest()\n",
    "df = pd.read_csv('data/weatherAUS_preprocessed.csv', index_col=0)\n",
    "df.head()"
   ]
  },
  {
   "cell_type": "code",
   "execution_count": 4,
   "id": "1a697ea1",
   "metadata": {
    "id": "1a697ea1"
   },
   "outputs": [],
   "source": [
    "# séparation des données en une matrice de données et en un vecteur cible\n",
    "data = df.drop('RainTomorrow', axis=1)\n",
    "target = df['RainTomorrow']"
   ]
  },
  {
   "cell_type": "code",
   "execution_count": 5,
   "id": "5b04edc6",
   "metadata": {
    "id": "5b04edc6"
   },
   "outputs": [],
   "source": [
    "# division des données en un ensemble d'entraînement et un ensemble de test correspondant respectivement à 80% et 20% de la quantité totale des données disponibles\n",
    "X_train, X_test, y_train, y_test = train_test_split(data, target, test_size=0.2, random_state=123)"
   ]
  },
  {
   "cell_type": "code",
   "execution_count": 6,
   "id": "8784ca00",
   "metadata": {},
   "outputs": [
    {
     "name": "stdout",
     "output_type": "stream",
     "text": [
      "Cardinalité des classes de la variable cible dans l'ensemble d'entraînement: {0: 87624, 1: 25005}\n"
     ]
    }
   ],
   "source": [
    "# distribution de la variable cible dans l'ensemble d'entraînement\n",
    "print(\"Cardinalité des classes de la variable cible dans l'ensemble d'entraînement:\", \n",
    "      dict(pd.Series(y_train).value_counts()))"
   ]
  },
  {
   "cell_type": "code",
   "execution_count": 7,
   "id": "A24NlSDFJ9vQ",
   "metadata": {
    "colab": {
     "base_uri": "https://localhost:8080/"
    },
    "id": "A24NlSDFJ9vQ",
    "outputId": "8c3e1717-a794-4788-f6fe-07a4cc64e2bd"
   },
   "outputs": [
    {
     "data": {
      "text/plain": [
       "0    0.777988\n",
       "1    0.222012\n",
       "Name: RainTomorrow, dtype: float64"
      ]
     },
     "execution_count": 7,
     "metadata": {},
     "output_type": "execute_result"
    }
   ],
   "source": [
    "# distribution de la variable cible dans l'ensemble d'entraînement\n",
    "y_train.value_counts(normalize=True)"
   ]
  },
  {
   "cell_type": "code",
   "execution_count": 8,
   "id": "c6e087bc",
   "metadata": {},
   "outputs": [
    {
     "name": "stdout",
     "output_type": "stream",
     "text": [
      "Cardinalité des classes de la variable cible dans l'ensemble de test: {0: 21962, 1: 6196}\n"
     ]
    }
   ],
   "source": [
    "# distribution de la variable cible dans l'ensemble de test\n",
    "print(\"Cardinalité des classes de la variable cible dans l'ensemble de test:\", \n",
    "      dict(pd.Series(y_test).value_counts()))"
   ]
  },
  {
   "cell_type": "code",
   "execution_count": 9,
   "id": "f5616a86",
   "metadata": {
    "colab": {
     "base_uri": "https://localhost:8080/"
    },
    "id": "f5616a86",
    "outputId": "8003684d-5725-4d10-9507-40d0ebb11e40"
   },
   "outputs": [
    {
     "data": {
      "text/plain": [
       "0    0.779956\n",
       "1    0.220044\n",
       "Name: RainTomorrow, dtype: float64"
      ]
     },
     "execution_count": 9,
     "metadata": {},
     "output_type": "execute_result"
    }
   ],
   "source": [
    "# distribution de la variable cible dans l'ensemble de test\n",
    "y_test.value_counts(normalize=True)"
   ]
  },
  {
   "cell_type": "code",
   "execution_count": 10,
   "id": "00fa64ad",
   "metadata": {},
   "outputs": [],
   "source": [
    "# paramètre à initialiser pour calculer les performances des algorithmes avec ré-échantillonage\n",
    "# param_ru = 'over_sample_rOs'\n",
    "# param_ru = 'over_sample_smo'\n",
    "# param_ru = 'under_sample_rUs'\n",
    "# param_ru = 'under_sample_cc'\n",
    "param_ru = ''"
   ]
  },
  {
   "cell_type": "code",
   "execution_count": 11,
   "id": "06b700ea",
   "metadata": {
    "id": "06b700ea"
   },
   "outputs": [],
   "source": [
    "# standardisation des données\n",
    "scaler = StandardScaler()\n",
    "# scaler = MinMaxScaler()\n",
    "\n",
    "X_train_scaled = scaler.fit_transform(X_train)\n",
    "X_test_scaled = scaler.transform(X_test)"
   ]
  },
  {
   "cell_type": "markdown",
   "id": "9mJr-YJRueyJ",
   "metadata": {
    "id": "9mJr-YJRueyJ"
   },
   "source": [
    "## Régression Logistique"
   ]
  },
  {
   "cell_type": "code",
   "execution_count": 10,
   "id": "cdab3d79",
   "metadata": {
    "id": "cdab3d79"
   },
   "outputs": [],
   "source": [
    "# définition du modèle\n",
    "clf_lr = LogisticRegression()\n",
    "\n",
    "# param_grid_lr = {'solver':['liblinear', 'lbfgs', 'newton-cg', 'sag', 'saga'], \n",
    "#                  'C':np.linspace(0.1,1,10)}\n",
    "\n",
    "param_grid_lr = {'solver':['liblinear'], \n",
    "                 'C':np.linspace(0.1,1,10)}\n",
    "\n",
    "gcv_lr = GridSearchCV(clf_lr, param_grid_lr, cv=3)"
   ]
  },
  {
   "cell_type": "code",
   "execution_count": 11,
   "id": "bXjdgVSzu3a0",
   "metadata": {
    "colab": {
     "base_uri": "https://localhost:8080/"
    },
    "id": "bXjdgVSzu3a0",
    "outputId": "01cd2943-4675-4d64-cb66-a8c4800b1fa4"
   },
   "outputs": [
    {
     "name": "stdout",
     "output_type": "stream",
     "text": [
      "Meilleurs paramètres : {'C': 0.5, 'solver': 'liblinear'} \n",
      "\n",
      "Accuracy Score: 0.8439519852262235 \n",
      "\n",
      "Train Data Score: 0.8398725017535448\n",
      "Test Data Score: 0.8439519852262235\n",
      "\n",
      " Matrice de confusion:\n",
      "\n",
      " Prédictions      0     1\n",
      "Réalités                \n",
      "0            20742  1220\n",
      "1             3174  3022\n",
      "\n",
      "               precision    recall  f1-score   support\n",
      "\n",
      "           0       0.87      0.94      0.90     21962\n",
      "           1       0.71      0.49      0.58      6196\n",
      "\n",
      "    accuracy                           0.84     28158\n",
      "   macro avg       0.79      0.72      0.74     28158\n",
      "weighted avg       0.83      0.84      0.83     28158\n",
      "\n",
      "Running Time: 0:00:08.094185\n"
     ]
    }
   ],
   "source": [
    "start_time = time.time()\n",
    "\n",
    "# entraînement\n",
    "gcv_lr.fit(X_train_scaled, y_train)\n",
    "\n",
    "# prédiction\n",
    "y_pred = gcv_lr.predict(X_test_scaled)\n",
    "\n",
    "# détermination des meilleurs paramètres\n",
    "print('Meilleurs paramètres :', gcv_lr.best_params_, \"\\n\")\n",
    "\n",
    "# évaluation de la performance\n",
    "print('Accuracy Score: {}'.format(accuracy_score(y_test,y_pred)),'\\n')\n",
    "\n",
    "# underfitting / overfitting\n",
    "print('Train Data Score: {}'.format(gcv_lr.score(X_train_scaled,y_train)))\n",
    "print('Test Data Score: {}'.format(gcv_lr.score(X_test_scaled,y_test)))\n",
    "\n",
    "# matrice de confusion\n",
    "print('\\n Matrice de confusion:')\n",
    "print('\\n', pd.crosstab(y_test, y_pred, rownames=['Réalités'], colnames=['Prédictions']))\n",
    "\n",
    "# rapport de classification\n",
    "print('\\n', classification_report(y_test, y_pred))\n",
    "\n",
    "# durée d'exécution\n",
    "gaussian_time = (time.time() - start_time)\n",
    "print(\"Running Time: %s\" % datetime.timedelta(seconds=gaussian_time))"
   ]
  },
  {
   "cell_type": "markdown",
   "id": "9Y4v2WC_0-4Y",
   "metadata": {
    "id": "9Y4v2WC_0-4Y"
   },
   "source": [
    "- la méthode de régression logistique ne fait pas l'objet de sur-apprentissage.\n",
    "- la sensibilité (taux de vrais positifs) vaut 0.49.\n",
    "- la spécificité (taux de vrais négatifs) vaut 0.94.\n",
    "- le F1-score concernant la classe '0' de la variable RainTomorrow est bon (0.90).\n",
    "- le F1-score concernant la classe '1' de la variable RainTomorrow est faible (0.58)."
   ]
  },
  {
   "cell_type": "code",
   "execution_count": 12,
   "id": "nIVKNWch9HSs",
   "metadata": {
    "colab": {
     "base_uri": "https://localhost:8080/"
    },
    "id": "nIVKNWch9HSs",
    "outputId": "80e79adf-8289-40a4-c900-f67ce7f28f8a"
   },
   "outputs": [
    {
     "name": "stdout",
     "output_type": "stream",
     "text": [
      "Cross-validation scores:[0.83970381 0.83863836 0.84180806]\n",
      "Average cross-validation score: 0.8400500759129531\n"
     ]
    }
   ],
   "source": [
    "cv_scores = cross_val_score(gcv_lr, X_train_scaled, y_train, cv=3, scoring='accuracy')\n",
    "\n",
    "print('Cross-validation scores:{}'.format(cv_scores))\n",
    "print('Average cross-validation score: {}'.format(cv_scores.mean()))"
   ]
  },
  {
   "cell_type": "markdown",
   "id": "BjGqJ2wg-bxt",
   "metadata": {
    "id": "BjGqJ2wg-bxt"
   },
   "source": [
    "- Le score de la méthode de régression logistique est en moyenne de : 0.84."
   ]
  },
  {
   "cell_type": "code",
   "execution_count": 13,
   "id": "e97080f7",
   "metadata": {},
   "outputs": [],
   "source": [
    "# sauvegarde des scores dans un fichier de sortie\n",
    "pd.DataFrame([f1_score(y_test, y_pred), recall_score(y_test, y_pred), precision_score(y_test, y_pred)],\n",
    "             index=['f1','recall','precision'], \n",
    "             columns=['scores_clf_lr_' + param_ru]).to_csv('scores/scores_clf_lr_' + param_ru + '.csv')"
   ]
  },
  {
   "cell_type": "code",
   "execution_count": 14,
   "id": "m27zgl33K6Mp",
   "metadata": {
    "id": "m27zgl33K6Mp"
   },
   "outputs": [],
   "source": [
    "# courbe ROC (Receiver Operating Characteristic) pour le modèle de régression logistique\n",
    "y_pred_logreg_proba = gcv_lr.predict_proba(X_test_scaled)\n",
    "fpr, tpr, thresholds = roc_curve(y_test, y_pred_logreg_proba[:,1])"
   ]
  },
  {
   "cell_type": "code",
   "execution_count": 15,
   "id": "nbrBqk8zK6-B",
   "metadata": {
    "colab": {
     "base_uri": "https://localhost:8080/"
    },
    "id": "nbrBqk8zK6-B",
    "outputId": "130cb82d-c91e-4b34-9fcf-675de1428da5"
   },
   "outputs": [
    {
     "name": "stdout",
     "output_type": "stream",
     "text": [
      "Aire sous la courbe = 0.8574127304460215\n"
     ]
    }
   ],
   "source": [
    "# aire sous la courbe ROC\n",
    "roc_auc = auc(fpr, tpr)\n",
    "print(\"Aire sous la courbe =\", roc_auc)"
   ]
  },
  {
   "cell_type": "code",
   "execution_count": 16,
   "id": "XgLFmi_28WOE",
   "metadata": {
    "colab": {
     "base_uri": "https://localhost:8080/",
     "height": 513
    },
    "id": "XgLFmi_28WOE",
    "outputId": "3ab85084-60ce-47cb-ea1a-3a8baf5a884b"
   },
   "outputs": [
    {
     "data": {
      "image/png": "[encoded data removed]",
      "text/plain": [
       "<Figure size 576x576 with 1 Axes>"
      ]
     },
     "metadata": {
      "needs_background": "light"
     },
     "output_type": "display_data"
    }
   ],
   "source": [
    "plt.figure(figsize=(8,8))\n",
    "plt.plot(fpr, tpr, '-g', linewidth=1, label='Modèle gcv_lr (auc=%0.2f)' %roc_auc)\n",
    "plt.plot([0,1], [0,1], 'k--', label='Aléatoire (auc=0.5)')\n",
    "plt.title('Courbe ROC pour le modèle de Régression Logistique')\n",
    "plt.xlabel('Taux de Faux Positifs')\n",
    "plt.ylabel('Taux de Vrai Positifs')\n",
    "plt.legend(loc=\"lower right\");"
   ]
  },
  {
   "cell_type": "markdown",
   "id": "SXu8GCTt8oGR",
   "metadata": {
    "id": "SXu8GCTt8oGR"
   },
   "source": [
    "\n",
    "- La courbe ROC est l'outil idéal pour résumer la performance d'un classifieur binaire en fonction de tous les seuils possibles. Elle évite un long travail de prédictions de classes pour différents seuils, et d'évaluation de la matrice de confusion pour chacun de ces seuils.\n",
    "- Graphiquement, la mesure ROC est représentée sous la forme d'une courbe qui donne le taux de vrais positifs (la sensibilité), en fonction du taux de faux positifs (l'antispécificité).\n",
    "- Plus la courbe se rapproche du point (0,1), meilleures sont les prédictions. Un modèle avec une sensibilité et une spécificité égales à 1 est considéré comme parfait.\n",
    "\n"
   ]
  },
  {
   "cell_type": "markdown",
   "id": "ci-XSrHBu6RL",
   "metadata": {
    "id": "ci-XSrHBu6RL"
   },
   "source": [
    "## Forêts Aléatoires"
   ]
  },
  {
   "cell_type": "code",
   "execution_count": 17,
   "id": "lXc7F6NqmqeW",
   "metadata": {
    "id": "lXc7F6NqmqeW"
   },
   "outputs": [],
   "source": [
    "# définition du modèle\n",
    "clf_rf  = RandomForestClassifier() # les forêts aléatoires ne gèrent pas les variables qualitatives\n",
    "\n",
    "param_grid_rf  = [{'n_estimators' : [50, 100, 150],\n",
    "                   'min_samples_leaf' : np.arange(1,6,1),\n",
    "                   'max_features' : ['sqrt', 'log2']}]\n",
    "\n",
    "gcv_rf = GridSearchCV(clf_rf, param_grid_rf)"
   ]
  },
  {
   "cell_type": "code",
   "execution_count": 18,
   "id": "LQndT6uEu9wC",
   "metadata": {
    "colab": {
     "base_uri": "https://localhost:8080/"
    },
    "id": "LQndT6uEu9wC",
    "outputId": "72623106-39e2-45dd-995d-060cf5f3b331",
    "scrolled": false
   },
   "outputs": [
    {
     "name": "stdout",
     "output_type": "stream",
     "text": [
      "Meilleurs paramètres : {'max_features': 'log2', 'min_samples_leaf': 3, 'n_estimators': 150} \n",
      "\n",
      "Accuracy Score: 0.8557070814688543 \n",
      "\n",
      "Train Data Score: 0.9401930231112768\n",
      "Test Data Score: 0.8557070814688543\n",
      "\n",
      " Matrice de confusion:\n",
      "\n",
      " Prédictions      0     1\n",
      "Réalités                \n",
      "0            20997   965\n",
      "1             3098  3098\n",
      "              precision    recall  f1-score   support\n",
      "\n",
      "           0       0.87      0.96      0.91     21962\n",
      "           1       0.76      0.50      0.60      6196\n",
      "\n",
      "    accuracy                           0.86     28158\n",
      "   macro avg       0.82      0.73      0.76     28158\n",
      "weighted avg       0.85      0.86      0.84     28158\n",
      "\n",
      "Running Time: 0:28:16.399215\n"
     ]
    }
   ],
   "source": [
    "start_time = time.time()\n",
    "\n",
    "# entraînement\n",
    "gcv_rf.fit(X_train_scaled, y_train)\n",
    "\n",
    "# prédiction\n",
    "y_pred = gcv_rf.predict(X_test_scaled)\n",
    "\n",
    "# détermination des meilleurs paramètres\n",
    "print('Meilleurs paramètres :', gcv_rf.best_params_,\"\\n\")\n",
    "\n",
    "# évaluation de la performance\n",
    "print('Accuracy Score: {}'.format(accuracy_score(y_test,y_pred)),'\\n')\n",
    "\n",
    "# underfitting / overfitting\n",
    "print('Train Data Score: {}'.format(gcv_rf.score(X_train_scaled,y_train)))\n",
    "print('Test Data Score: {}'.format(gcv_rf.score(X_test_scaled,y_test)))\n",
    "\n",
    "# matrice de confusion\n",
    "print('\\n Matrice de confusion:')\n",
    "print('\\n', pd.crosstab(y_test, y_pred, rownames=['Réalités'], colnames=['Prédictions']))\n",
    "\n",
    "# rapport de classification\n",
    "print(classification_report(y_test, y_pred))\n",
    "\n",
    "# durée d'exécution\n",
    "gaussian_time = (time.time() - start_time)\n",
    "print(\"Running Time: %s\" % datetime.timedelta(seconds=gaussian_time))"
   ]
  },
  {
   "cell_type": "markdown",
   "id": "_4rzIWFF4_Dj",
   "metadata": {
    "id": "_4rzIWFF4_Dj"
   },
   "source": [
    "- la méthode de forêt aléatoire fait l'objet de sur-apprentissage.\n",
    "- la sensibilité (taux de vrais positifs) vaut 0.50.\n",
    "- la spécificité (taux de vrais négatifs) vaut 0.96.\n",
    "- le F1-score concernant la classe '0' de la variable 'RainTomorrow' est bon (0.91).\n",
    "- le F1-score concernant la classe '1' de la variable 'RainTomorrow' est faible (0.60)."
   ]
  },
  {
   "cell_type": "code",
   "execution_count": 19,
   "id": "gfCx0Y9S9Tpt",
   "metadata": {
    "colab": {
     "base_uri": "https://localhost:8080/"
    },
    "id": "gfCx0Y9S9Tpt",
    "outputId": "267a93a7-9b6d-4203-bba7-d4a816faf0a4"
   },
   "outputs": [
    {
     "name": "stdout",
     "output_type": "stream",
     "text": [
      "Cross-validation scores:[0.84963908 0.84995871 0.85259569]\n",
      "Average cross-validation score: 0.8507311616013639\n"
     ]
    }
   ],
   "source": [
    "cv_scores = cross_val_score(gcv_rf, X_train_scaled, y_train, cv=3, scoring='accuracy')\n",
    "\n",
    "print('Cross-validation scores:{}'.format(cv_scores))\n",
    "print('Average cross-validation score: {}'.format(cv_scores.mean()))"
   ]
  },
  {
   "cell_type": "markdown",
   "id": "SZHwAOHh-0-r",
   "metadata": {
    "id": "SZHwAOHh-0-r"
   },
   "source": [
    "- Le score de la méthode des forêts aléatoires est en moyenne de : 0.85."
   ]
  },
  {
   "cell_type": "code",
   "execution_count": 20,
   "id": "d7bda57e",
   "metadata": {},
   "outputs": [],
   "source": [
    "# sauvegarde des scores dans un fichier de sortie\n",
    "pd.DataFrame([f1_score(y_test, y_pred), recall_score(y_test, y_pred), precision_score(y_test, y_pred)],\n",
    "             index=['f1','recall','precision'], \n",
    "             columns=['scores_clf_rf_' + param_ru]).to_csv('scores/scores_clf_rf_' + param_ru + '.csv')"
   ]
  },
  {
   "cell_type": "code",
   "execution_count": 21,
   "id": "p5Bxs1ITMPxs",
   "metadata": {
    "id": "p5Bxs1ITMPxs"
   },
   "outputs": [],
   "source": [
    "# probabilités pour X_test_scaled d'appartenir à chacune des deux classes\n",
    "y_probas = gcv_rf.predict_proba(X_test_scaled)"
   ]
  },
  {
   "cell_type": "code",
   "execution_count": 22,
   "id": "E-ixhajkMSHY",
   "metadata": {
    "colab": {
     "base_uri": "https://localhost:8080/",
     "height": 312
    },
    "id": "E-ixhajkMSHY",
    "outputId": "dba659fe-3afc-4ea4-f832-b176f8ff0565"
   },
   "outputs": [
    {
     "data": {
      "image/png": "[encoded data removed]",
      "text/plain": [
       "<Figure size 432x288 with 1 Axes>"
      ]
     },
     "metadata": {
      "needs_background": "light"
     },
     "output_type": "display_data"
    }
   ],
   "source": [
    "# courbe de gain cumulée\n",
    "skplt.metrics.plot_cumulative_gain(y_test, y_probas);"
   ]
  },
  {
   "cell_type": "markdown",
   "id": "9hNX83LIMjT0",
   "metadata": {
    "id": "9hNX83LIMjT0"
   },
   "source": [
    "- L'axe horizontal représente les individus de l'échantillon test.\n",
    "- L'axe vertical représente la variable cible \"RainTomorrow\"."
   ]
  },
  {
   "cell_type": "markdown",
   "id": "5gGeDEOOvAkp",
   "metadata": {
    "id": "5gGeDEOOvAkp"
   },
   "source": [
    "## Séparateurs à Vaste Marge (SVM)"
   ]
  },
  {
   "cell_type": "markdown",
   "id": "e09cc752",
   "metadata": {},
   "source": [
    "Les séparateurs à vaste marge (SVM) visent à résoudre les problèmes de classification en trouvant de bonnes frontières de décision entre deux ensembles de points appartenant à deux catégories différentes. Une frontière de décision peut être considérée comme une ligne ou une surface séparant les données d’apprentissage en deux demi-espaces correspondant à deux catégories de prédiction, soit dans le cadre de notre étude **\"RainTomorrow=0\"** et **\"RainTomorrow=1\"**. Pour classer de nouveaux points de données, il suffit de vérifier de quel côté de la frontière de décision ils se trouvent.\n",
    "\n",
    "Les séparateurs à vaste marge procèdent à la recherche de ces frontières en deux étapes :\n",
    "- Les données sont mises en correspondance avec une nouvelle représentation à haute dimension où la frontière de décision peut être exprimée sous la forme d’un hyperplan.\n",
    "- Le séparateur à vaste marge identifie l'hyperplan qui maximise la distance au point le plus proche dans chaque classe. Cela permet à la frontière de bien s’adapter à de nouveaux échantillons en dehors de l’ensemble de données d’apprentissage.\n",
    "\n",
    "La méthode de classification par SVM ne fournit pas directement de probabilités d'appartenir à chaque classe mais les classes prédites elle-mêmes en fonction du score qu'elle attribuent à chaque individu. "
   ]
  },
  {
   "cell_type": "code",
   "execution_count": 12,
   "id": "a7ee9b24",
   "metadata": {},
   "outputs": [],
   "source": [
    "# définition du modèle: création d'un objet SVC (Support Vector Classificator)\n",
    "clf_svm = svm.SVC(class_weight={0:2, 1:1})\n",
    "\n",
    "param_grid_svm = {'kernel':['rbf'], 'gamma':[0.5]}\n",
    "\n",
    "gcv_svm = GridSearchCV(estimator=clf_svm, param_grid=param_grid_svm, scoring='accuracy')"
   ]
  },
  {
   "cell_type": "code",
   "execution_count": 13,
   "id": "acb6f92a",
   "metadata": {
    "colab": {
     "base_uri": "https://localhost:8080/"
    },
    "id": "acb6f92a",
    "outputId": "e957a332-cd87-4cd4-c6a3-26334af40154"
   },
   "outputs": [
    {
     "name": "stdout",
     "output_type": "stream",
     "text": [
      "Meilleurs paramètres : {'gamma': 0.5, 'kernel': 'rbf'} \n",
      "\n",
      "Accuracy Score: 0.8473258043895163 \n",
      "\n",
      "Train Data Score: 0.8648039137344734\n",
      "Test Data Score: 0.8473258043895163\n",
      "\n",
      " Matrice de confusion:\n",
      "\n",
      " Prédictions      0     1\n",
      "Réalités                \n",
      "0            21536   426\n",
      "1             3873  2323\n",
      "              precision    recall  f1-score   support\n",
      "\n",
      "           0       0.85      0.98      0.91     21962\n",
      "           1       0.85      0.37      0.52      6196\n",
      "\n",
      "    accuracy                           0.85     28158\n",
      "   macro avg       0.85      0.68      0.71     28158\n",
      "weighted avg       0.85      0.85      0.82     28158\n",
      "\n",
      "Running Time: 2:53:31.058194\n"
     ]
    }
   ],
   "source": [
    "start_time = time.time()\n",
    "\n",
    "# entraînement\n",
    "grille = gcv_svm.fit(X_train_scaled, y_train)\n",
    "\n",
    "# prédiction\n",
    "y_pred = gcv_svm.predict(X_test_scaled)\n",
    "\n",
    "# affichage des meilleurs paramètres de la grille pour le modèle \"gcv_svm\"\n",
    "print('Meilleurs paramètres :', gcv_svm.best_params_,\"\\n\")\n",
    "\n",
    "# évaluation de la performance\n",
    "print('Accuracy Score: {}'.format(accuracy_score(y_test,y_pred)),'\\n')\n",
    "\n",
    "# underfitting / overfitting\n",
    "print('Train Data Score: {}'.format(gcv_svm.score(X_train_scaled,y_train)))\n",
    "print('Test Data Score: {}'.format(gcv_svm.score(X_test_scaled,y_test)))\n",
    "\n",
    "# matrice de confusion\n",
    "print('\\n Matrice de confusion:')\n",
    "print('\\n', pd.crosstab(y_test, y_pred, rownames=['Réalités'], colnames=['Prédictions']))\n",
    "\n",
    "# rapport de classification\n",
    "print(classification_report(y_test, y_pred))\n",
    "\n",
    "# durée d'exécution\n",
    "gaussian_time = (time.time() - start_time)\n",
    "print(\"Running Time: %s\" % datetime.timedelta(seconds=gaussian_time))"
   ]
  },
  {
   "cell_type": "markdown",
   "id": "aRTKvyHl5ANp",
   "metadata": {
    "id": "aRTKvyHl5ANp"
   },
   "source": [
    "- la méthode SVM fait l'objet de sur-apprentissage.\n",
    "- la sensibilité (taux de vrais positifs) vaut 0.37.\n",
    "- la spécificité (taux de vrais négatifs) vaut 0.98.\n",
    "- le F1-score concernant la classe '0' de la variable 'RainTomorrow' est bon (0.91).\n",
    "- le F1-score concernant la classe '1' de la variable 'RainTomorrow' est faible (0.52)."
   ]
  },
  {
   "cell_type": "code",
   "execution_count": 14,
   "id": "yvyenICr9XQj",
   "metadata": {
    "colab": {
     "base_uri": "https://localhost:8080/"
    },
    "id": "yvyenICr9XQj",
    "outputId": "86168ce4-dc0a-43a5-bf60-ec4f1d8e0b66"
   },
   "outputs": [
    {
     "name": "stdout",
     "output_type": "stream",
     "text": [
      "Cross-validation scores:[0.83941081 0.84079589 0.84210106]\n",
      "Average cross-validation score: 0.8407692512585568\n"
     ]
    }
   ],
   "source": [
    "cv_scores = cross_val_score(gcv_svm, X_train_scaled, y_train, cv=3, scoring='accuracy')\n",
    "\n",
    "print('Cross-validation scores:{}'.format(cv_scores))\n",
    "print('Average cross-validation score: {}'.format(cv_scores.mean()))"
   ]
  },
  {
   "cell_type": "markdown",
   "id": "i06iwEWG-1qH",
   "metadata": {
    "id": "i06iwEWG-1qH"
   },
   "source": [
    "- Le score de la méthode SVM est en moyenne de : 0.84."
   ]
  },
  {
   "cell_type": "code",
   "execution_count": 15,
   "id": "6YWNWhDcRUbJ",
   "metadata": {
    "colab": {
     "base_uri": "https://localhost:8080/"
    },
    "id": "6YWNWhDcRUbJ",
    "outputId": "710b6351-8d66-4c31-adec-2384c9ab9e76"
   },
   "outputs": [
    {
     "name": "stdout",
     "output_type": "stream",
     "text": [
      "                            params  mean_test_score\n",
      "0  {'gamma': 0.5, 'kernel': 'rbf'}         0.841631\n"
     ]
    }
   ],
   "source": [
    "# affichage des combinaisons possibles d'hyperparamètres \n",
    "# et de la performance moyenne du modèle associé par validation croisée\n",
    "print(pd.DataFrame.from_dict(grille.cv_results_).loc[:,['params','mean_test_score']])"
   ]
  },
  {
   "cell_type": "code",
   "execution_count": 16,
   "id": "80392f21",
   "metadata": {},
   "outputs": [],
   "source": [
    "# construction de la courbe ROC (Receiver Operating Characteristic)\n",
    "fpr, tpr, thresholds = roc_curve(y_test, y_pred)"
   ]
  },
  {
   "cell_type": "code",
   "execution_count": 17,
   "id": "be115bdd",
   "metadata": {},
   "outputs": [
    {
     "name": "stdout",
     "output_type": "stream",
     "text": [
      "Aire sous la courbe:  0.6777610811302744\n"
     ]
    }
   ],
   "source": [
    "# calcul de l'aire sous la courbe ROC\n",
    "roc_auc = auc(fpr, tpr)\n",
    "print(\"Aire sous la courbe: \", roc_auc)"
   ]
  },
  {
   "cell_type": "code",
   "execution_count": 18,
   "id": "ee5e930c",
   "metadata": {},
   "outputs": [
    {
     "data": {
      "image/png": "[encoded data removed]",
      "text/plain": [
       "<Figure size 432x432 with 1 Axes>"
      ]
     },
     "metadata": {
      "needs_background": "light"
     },
     "output_type": "display_data"
    }
   ],
   "source": [
    "# affichage de la courbe ROC\n",
    "fig = plt.figure(figsize=(6,6))\n",
    "plt.plot(fpr, tpr, '-g', linewidth=1, label='Modèle gcv_svm (auc=%.2f)' %roc_auc)\n",
    "plt.plot([0,1], [0,1], 'k--', label='Aléatoire (auc=0.5)')\n",
    "plt.title('Courbe ROC pour le modèle SVM', fontsize=14)\n",
    "plt.xlabel('Taux de Faux Positifs', fontsize=12)\n",
    "plt.ylabel('Taux de Vrai Positifs', fontsize=12)\n",
    "plt.legend(loc=\"lower right\", fontsize=10);"
   ]
  },
  {
   "cell_type": "code",
   "execution_count": 19,
   "id": "9fb1f1ac",
   "metadata": {},
   "outputs": [],
   "source": [
    "# sauvegarde des scores dans un fichier de sortie\n",
    "pd.DataFrame([f1_score(y_test, y_pred), recall_score(y_test, y_pred), precision_score(y_test, y_pred)],\n",
    "             index=['f1','recall','precision'], \n",
    "             columns=['scores_clf_svm_' + param_ru]).to_csv('scores/scores_clf_svm_' + param_ru + '.csv')"
   ]
  },
  {
   "cell_type": "markdown",
   "id": "P-arQbY85ND-",
   "metadata": {
    "id": "P-arQbY85ND-"
   },
   "source": [
    "## K-plus proches voisins"
   ]
  },
  {
   "cell_type": "code",
   "execution_count": 29,
   "id": "DBnDWLC85Wv7",
   "metadata": {
    "id": "DBnDWLC85Wv7"
   },
   "outputs": [],
   "source": [
    "# définition du modèle\n",
    "clf_knn = neighbors.KNeighborsClassifier()\n",
    "\n",
    "param_grid_knn = {'n_neighbors' : np.arange(20,41,1),\n",
    "                  'metric' : ['minkowski','manhattan','chebyshev']}\n",
    "\n",
    "gcv_knn = GridSearchCV(clf_knn, param_grid_knn)"
   ]
  },
  {
   "cell_type": "code",
   "execution_count": 30,
   "id": "Rzfrg5uy5OWB",
   "metadata": {
    "colab": {
     "base_uri": "https://localhost:8080/"
    },
    "id": "Rzfrg5uy5OWB",
    "outputId": "9b362a73-9159-41ed-b2c2-0e45d75c0902"
   },
   "outputs": [
    {
     "name": "stdout",
     "output_type": "stream",
     "text": [
      "Meilleurs paramètres : {'metric': 'manhattan', 'n_neighbors': 31} \n",
      "\n",
      "Accuracy Score: 0.8528659705945024 \n",
      "\n",
      "Train Data Score: 0.8553036962061281\n",
      "Test Data Score: 0.8528659705945024\n",
      "\n",
      " Matrice de confusion:\n",
      "\n",
      " Prédictions      0     1\n",
      "Réalités                \n",
      "0            20968   994\n",
      "1             3149  3047\n",
      "              precision    recall  f1-score   support\n",
      "\n",
      "           0       0.87      0.95      0.91     21962\n",
      "           1       0.75      0.49      0.60      6196\n",
      "\n",
      "    accuracy                           0.85     28158\n",
      "   macro avg       0.81      0.72      0.75     28158\n",
      "weighted avg       0.84      0.85      0.84     28158\n",
      "\n",
      "Running Time: 2:06:51.817811\n"
     ]
    }
   ],
   "source": [
    "start_time = time.time()\n",
    "\n",
    "# entraînement\n",
    "gcv_knn.fit(X_train_scaled, y_train)\n",
    "\n",
    "# prédiction\n",
    "y_pred = gcv_knn.predict(X_test_scaled)\n",
    "\n",
    "# détermination des meilleurs paramètres\n",
    "print('Meilleurs paramètres :', gcv_knn.best_params_,\"\\n\")\n",
    "\n",
    "# évaluation de la performance\n",
    "print('Accuracy Score: {}'.format(accuracy_score(y_test,y_pred)),'\\n')\n",
    "\n",
    "# underfitting / overfitting\n",
    "print('Train Data Score: {}'.format(gcv_knn.score(X_train_scaled,y_train)))\n",
    "print('Test Data Score: {}'.format(gcv_knn.score(X_test_scaled,y_test)))\n",
    "\n",
    "# matrice de confusion\n",
    "print('\\n Matrice de confusion:')\n",
    "print('\\n', pd.crosstab(y_test, y_pred, rownames=['Réalités'], colnames=['Prédictions']))\n",
    "\n",
    "# rapport de classification\n",
    "print(classification_report(y_test, y_pred))\n",
    "\n",
    "# durée d'exécution\n",
    "gaussian_time = (time.time() - start_time)\n",
    "print(\"Running Time: %s\" % datetime.timedelta(seconds=gaussian_time))"
   ]
  },
  {
   "cell_type": "markdown",
   "id": "0WAfCK7T6MwP",
   "metadata": {
    "id": "0WAfCK7T6MwP"
   },
   "source": [
    "- la méthode des K-plus proches voisins ne fait pas l'objet de sur-apprentissage.\n",
    "- la sensibilité (taux de vrais positifs) vaut 0.49.\n",
    "- la spécificité (taux de vrais négatifs) vaut 0.95.\n",
    "- le F1-score concernant la classe '0' de la variable 'RainTomorrow' est bon (0.91).\n",
    "- le F1-score concernant la classe '1' de la variable 'RainTomorrow' est faible (0.60)."
   ]
  },
  {
   "cell_type": "code",
   "execution_count": 33,
   "id": "zqhhq9p19Zi0",
   "metadata": {
    "colab": {
     "base_uri": "https://localhost:8080/"
    },
    "id": "zqhhq9p19Zi0",
    "outputId": "c163f5d3-4040-4178-c28f-8f4c6b2e1f26"
   },
   "outputs": [],
   "source": [
    "# cv_scores = cross_val_score(gcv_knn, X_train_scaled, y_train, cv=3, scoring='accuracy')\n",
    "\n",
    "# print('Cross-validation scores:{}'.format(cv_scores))\n",
    "# print('Average cross-validation score: {}'.format(cv_scores.mean()))"
   ]
  },
  {
   "cell_type": "markdown",
   "id": "JTxpXMPi-2XQ",
   "metadata": {
    "id": "JTxpXMPi-2XQ"
   },
   "source": [
    "- Le score de la méthode KNN est en moyenne de : XXX."
   ]
  },
  {
   "cell_type": "code",
   "execution_count": 34,
   "id": "b28df8cc",
   "metadata": {},
   "outputs": [],
   "source": [
    "# sauvegarde des scores dans un fichier de sortie\n",
    "pd.DataFrame([f1_score(y_test, y_pred), recall_score(y_test, y_pred), precision_score(y_test, y_pred)],\n",
    "             index=['f1','recall','precision'], \n",
    "             columns=['scores_clf_knn_' + param_ru]).to_csv('scores/scores_clf_knn_' + param_ru + '.csv')"
   ]
  },
  {
   "cell_type": "code",
   "execution_count": 35,
   "id": "dSMrlZzER_sQ",
   "metadata": {
    "id": "dSMrlZzER_sQ"
   },
   "outputs": [],
   "source": [
    "# scores de 3 modèles utilisant respectivement les matrices de Minkowski, Manhattan et Chebyshev \n",
    "# pour des valeurs de k allant de 1 à 40\n",
    "score_minko = []\n",
    "score_man = []\n",
    "score_cheb = []\n",
    "\n",
    "for k in range(1,41):\n",
    "  knn = neighbors.KNeighborsClassifier(n_neighbors=k)\n",
    "  knn.fit(X_train_scaled, y_train)\n",
    "  score_minko.append(knn.score(X_test_scaled, y_test))\n",
    "\n",
    "for k in range(1,41):\n",
    "  knn = neighbors.KNeighborsClassifier(n_neighbors=k, metric='manhattan')\n",
    "  knn.fit(X_train_scaled, y_train)\n",
    "  score_man.append(knn.score(X_test_scaled, y_test))\n",
    "\n",
    "for k in range(1,41):\n",
    "  knn = neighbors.KNeighborsClassifier(n_neighbors=k, metric='chebyshev')\n",
    "  knn.fit(X_train_scaled, y_train)\n",
    "  score_cheb.append(knn.score(X_test_scaled, y_test))"
   ]
  },
  {
   "cell_type": "code",
   "execution_count": 36,
   "id": "CHFcUJ5ySCUT",
   "metadata": {
    "colab": {
     "base_uri": "https://localhost:8080/",
     "height": 295
    },
    "id": "CHFcUJ5ySCUT",
    "outputId": "e2a699f5-a24f-48f8-828e-a76164203875"
   },
   "outputs": [
    {
     "data": {
      "image/png": "[encoded data removed]",
      "text/plain": [
       "<Figure size 432x288 with 1 Axes>"
      ]
     },
     "metadata": {
      "needs_background": "light"
     },
     "output_type": "display_data"
    }
   ],
   "source": [
    "# affichage des listes crées en fonction de k\n",
    "plt.title(\"Score de 3 modèles knn\")\n",
    "plt.plot(range(1,41), score_minko, color='blue', linestyle='dashed', lw=2, label='Minkowski')\n",
    "plt.plot(range(1,41), score_man, color='orange', linestyle='dashed', lw=2, label='Manhattan')\n",
    "plt.plot(range(1,41), score_cheb, color='red', linestyle='dashed', lw=2, label='Chebyshev')\n",
    "plt.xlabel(\"Valeur de k\")\n",
    "plt.ylabel(\"Accuracy\")\n",
    "plt.legend;"
   ]
  },
  {
   "cell_type": "markdown",
   "id": "8jpipwx96O3Q",
   "metadata": {
    "id": "8jpipwx96O3Q"
   },
   "source": [
    "## Arbres de décision"
   ]
  },
  {
   "cell_type": "code",
   "execution_count": 37,
   "id": "MjOc31sx6TDx",
   "metadata": {
    "id": "MjOc31sx6TDx"
   },
   "outputs": [],
   "source": [
    "# définition du modèle\n",
    "clf_dt = DecisionTreeClassifier()\n",
    "\n",
    "param_grid_dt = {'criterion' : ['entropy','gini'], \n",
    "                 'max_depth' : np.arange(2,6,1)}\n",
    "\n",
    "gcv_dt = GridSearchCV(clf_dt, param_grid_dt)"
   ]
  },
  {
   "cell_type": "code",
   "execution_count": 38,
   "id": "bCbiJ2kk6WsH",
   "metadata": {
    "colab": {
     "base_uri": "https://localhost:8080/"
    },
    "id": "bCbiJ2kk6WsH",
    "outputId": "45ba2563-9a27-4290-e6ad-60310bf58088"
   },
   "outputs": [
    {
     "name": "stdout",
     "output_type": "stream",
     "text": [
      "Meilleurs paramètres : {'criterion': 'gini', 'max_depth': 5} \n",
      "\n",
      "Accuracy Score: 0.839193124511684 \n",
      "\n",
      "Train Data Score: 0.8386028465137754\n",
      "Test Data Score: 0.839193124511684\n",
      "\n",
      " Matrice de confusion:\n",
      "\n",
      " Prédictions      0     1\n",
      "Réalités                \n",
      "0            20825  1137\n",
      "1             3391  2805\n",
      "              precision    recall  f1-score   support\n",
      "\n",
      "           0       0.86      0.95      0.90     21962\n",
      "           1       0.71      0.45      0.55      6196\n",
      "\n",
      "    accuracy                           0.84     28158\n",
      "   macro avg       0.79      0.70      0.73     28158\n",
      "weighted avg       0.83      0.84      0.83     28158\n",
      "\n",
      "Running Time: 0:00:05.701137\n"
     ]
    }
   ],
   "source": [
    "start_time = time.time()\n",
    "\n",
    "# entraînement\n",
    "gcv_dt.fit(X_train_scaled, y_train)\n",
    "\n",
    "# prédiction\n",
    "y_pred = gcv_dt.predict(X_test_scaled)\n",
    "\n",
    "# détermination des meilleurs paramètres\n",
    "print('Meilleurs paramètres :', gcv_dt.best_params_,\"\\n\")\n",
    "\n",
    "# évaluation de la performance\n",
    "print('Accuracy Score: {}'.format(accuracy_score(y_test,y_pred)),'\\n')\n",
    "\n",
    "# underfitting / overfitting\n",
    "print('Train Data Score: {}'.format(gcv_dt.score(X_train_scaled,y_train)))\n",
    "print('Test Data Score: {}'.format(gcv_dt.score(X_test_scaled,y_test)))\n",
    "\n",
    "# matrice de confusion\n",
    "print('\\n Matrice de confusion:')\n",
    "print('\\n', pd.crosstab(y_test, y_pred, rownames=['Réalités'], colnames=['Prédictions']))\n",
    "\n",
    "# rapport de classification\n",
    "print(classification_report(y_test, y_pred))\n",
    "\n",
    "# durée d'exécution\n",
    "gaussian_time = (time.time() - start_time)\n",
    "print(\"Running Time: %s\" % datetime.timedelta(seconds=gaussian_time))"
   ]
  },
  {
   "cell_type": "markdown",
   "id": "VanYBqYU6bRi",
   "metadata": {
    "id": "VanYBqYU6bRi"
   },
   "source": [
    "- la méthode des arbres de décision ne fait pas l'objet de sur-apprentissage.\n",
    "- la sensibilité (taux de vrais positifs) vaut 0.45.\n",
    "- la spécificité (taux de vrais négatifs) vaut 0.95.\n",
    "- le F1-score concernant la classe '0' de la variable 'RainTomorrow' est bon (0.90).\n",
    "- le F1-score concernant la classe '1' de la variable 'RainTomorrow' est faible (0.55)."
   ]
  },
  {
   "cell_type": "code",
   "execution_count": 39,
   "id": "ZUQ8697r8LVn",
   "metadata": {
    "colab": {
     "base_uri": "https://localhost:8080/",
     "height": 300
    },
    "id": "ZUQ8697r8LVn",
    "outputId": "7ae50112-d590-4c1f-b52e-a7c3e8bd8f74"
   },
   "outputs": [
    {
     "data": {
      "text/html": [
       "<div>\n",
       "<style scoped>\n",
       "    .dataframe tbody tr th:only-of-type {\n",
       "        vertical-align: middle;\n",
       "    }\n",
       "\n",
       "    .dataframe tbody tr th {\n",
       "        vertical-align: top;\n",
       "    }\n",
       "\n",
       "    .dataframe thead th {\n",
       "        text-align: right;\n",
       "    }\n",
       "</style>\n",
       "<table border=\"1\" class=\"dataframe\">\n",
       "  <thead>\n",
       "    <tr style=\"text-align: right;\">\n",
       "      <th></th>\n",
       "      <th>Importance</th>\n",
       "    </tr>\n",
       "  </thead>\n",
       "  <tbody>\n",
       "    <tr>\n",
       "      <th>Humidity3pm</th>\n",
       "      <td>0.750954</td>\n",
       "    </tr>\n",
       "    <tr>\n",
       "      <th>WindGustSpeed</th>\n",
       "      <td>0.086579</td>\n",
       "    </tr>\n",
       "    <tr>\n",
       "      <th>Rainfall</th>\n",
       "      <td>0.058749</td>\n",
       "    </tr>\n",
       "    <tr>\n",
       "      <th>Sunshine</th>\n",
       "      <td>0.047818</td>\n",
       "    </tr>\n",
       "    <tr>\n",
       "      <th>Pressure9am</th>\n",
       "      <td>0.046689</td>\n",
       "    </tr>\n",
       "    <tr>\n",
       "      <th>clim_méditerranéen</th>\n",
       "      <td>0.003083</td>\n",
       "    </tr>\n",
       "    <tr>\n",
       "      <th>Humidity_Delta</th>\n",
       "      <td>0.002374</td>\n",
       "    </tr>\n",
       "    <tr>\n",
       "      <th>clim_chaud_humide</th>\n",
       "      <td>0.001898</td>\n",
       "    </tr>\n",
       "  </tbody>\n",
       "</table>\n",
       "</div>"
      ],
      "text/plain": [
       "                    Importance\n",
       "Humidity3pm           0.750954\n",
       "WindGustSpeed         0.086579\n",
       "Rainfall              0.058749\n",
       "Sunshine              0.047818\n",
       "Pressure9am           0.046689\n",
       "clim_méditerranéen    0.003083\n",
       "Humidity_Delta        0.002374\n",
       "clim_chaud_humide     0.001898"
      ]
     },
     "execution_count": 39,
     "metadata": {},
     "output_type": "execute_result"
    }
   ],
   "source": [
    "# importance des variables\n",
    "clf_dt = gcv_dt.best_estimator_\n",
    "clf_dt.fit(X_train_scaled,y_train)\n",
    "\n",
    "feats = {}\n",
    "for feature, importance in zip(df.columns, clf_dt.feature_importances_):\n",
    "    feats[feature] = importance\n",
    "    \n",
    "importances = pd.DataFrame.from_dict(feats, orient='index').rename(columns={0:'Importance'})\n",
    "importances.sort_values(by='Importance', ascending=False).head(8)"
   ]
  },
  {
   "cell_type": "code",
   "execution_count": 40,
   "id": "V4EMokWZ8NST",
   "metadata": {
    "colab": {
     "base_uri": "https://localhost:8080/",
     "height": 265
    },
    "id": "V4EMokWZ8NST",
    "outputId": "08ea8e0a-8ade-4283-fdf1-0d536d134119"
   },
   "outputs": [
    {
     "data": {
      "image/png": "[encoded data removed]",
      "text/plain": [
       "<Figure size 432x288 with 1 Axes>"
      ]
     },
     "metadata": {
      "needs_background": "light"
     },
     "output_type": "display_data"
    }
   ],
   "source": [
    "# importance des variables\n",
    "feature_imp = pd.Series(clf_dt.feature_importances_,index=data.columns)\n",
    "feature_imp.nlargest(10).plot(kind='barh');"
   ]
  },
  {
   "cell_type": "code",
   "execution_count": 41,
   "id": "epwSZJbF9btR",
   "metadata": {
    "colab": {
     "base_uri": "https://localhost:8080/"
    },
    "id": "epwSZJbF9btR",
    "outputId": "9ecd2a77-483e-474c-bec1-93473a93cbcd"
   },
   "outputs": [
    {
     "name": "stdout",
     "output_type": "stream",
     "text": [
      "Cross-validation scores:[0.83514903 0.83714674 0.83829209]\n",
      "Average cross-validation score: 0.8368626197515737\n"
     ]
    }
   ],
   "source": [
    "cv_scores = cross_val_score(gcv_dt, X_train_scaled, y_train, cv=3, scoring='accuracy')\n",
    "\n",
    "print('Cross-validation scores:{}'.format(cv_scores))\n",
    "print('Average cross-validation score: {}'.format(cv_scores.mean()))"
   ]
  },
  {
   "cell_type": "markdown",
   "id": "RCRvkS5I-3Dy",
   "metadata": {
    "id": "RCRvkS5I-3Dy"
   },
   "source": [
    "- Le score de la méthode DT est en moyenne de : 0.84."
   ]
  },
  {
   "cell_type": "code",
   "execution_count": 42,
   "id": "9126b83b",
   "metadata": {},
   "outputs": [],
   "source": [
    "pd.DataFrame([f1_score(y_test, y_pred), recall_score(y_test, y_pred), precision_score(y_test, y_pred)],\n",
    "             index=['f1','recall','precision'], \n",
    "             columns=['scores_clf_dt_' + param_ru]).to_csv('scores/scores_clf_dt_' + param_ru + '.csv')"
   ]
  },
  {
   "cell_type": "markdown",
   "id": "Ru7wQG31lYmQ",
   "metadata": {
    "id": "Ru7wQG31lYmQ"
   },
   "source": [
    "# Résumé des performances"
   ]
  },
  {
   "cell_type": "code",
   "execution_count": 23,
   "id": "9eb16fff",
   "metadata": {},
   "outputs": [],
   "source": [
    "scores_clf_dt_ = pd.read_csv('scores/scores_clf_dt_.csv', index_col=0)\n",
    "scores_clf_knn_ = pd.read_csv('scores/scores_clf_knn_.csv', index_col=0)\n",
    "scores_clf_svm_ = pd.read_csv('scores/scores_clf_svm_.csv', index_col=0)\n",
    "scores_clf_rf_ = pd.read_csv('scores/scores_clf_rf_.csv', index_col=0)\n",
    "scores_clf_lr_ = pd.read_csv('scores/scores_clf_lr_.csv', index_col=0)"
   ]
  },
  {
   "cell_type": "code",
   "execution_count": 24,
   "id": "d43e5175",
   "metadata": {},
   "outputs": [],
   "source": [
    "result_ = pd.concat([scores_clf_dt_, scores_clf_knn_, scores_clf_svm_, scores_clf_rf_, scores_clf_lr_], axis=1)"
   ]
  },
  {
   "cell_type": "code",
   "execution_count": 25,
   "id": "ed74b0b0",
   "metadata": {},
   "outputs": [
    {
     "data": {
      "text/html": [
       "<div>\n",
       "<style scoped>\n",
       "    .dataframe tbody tr th:only-of-type {\n",
       "        vertical-align: middle;\n",
       "    }\n",
       "\n",
       "    .dataframe tbody tr th {\n",
       "        vertical-align: top;\n",
       "    }\n",
       "\n",
       "    .dataframe thead th {\n",
       "        text-align: right;\n",
       "    }\n",
       "</style>\n",
       "<table border=\"1\" class=\"dataframe\">\n",
       "  <thead>\n",
       "    <tr style=\"text-align: right;\">\n",
       "      <th></th>\n",
       "      <th>scores_clf_dt_</th>\n",
       "      <th>scores_clf_knn_</th>\n",
       "      <th>scores_clf_svm_</th>\n",
       "      <th>scores_clf_rf_</th>\n",
       "      <th>scores_clf_lr_</th>\n",
       "    </tr>\n",
       "  </thead>\n",
       "  <tbody>\n",
       "    <tr>\n",
       "      <th>f1</th>\n",
       "      <td>0.553364</td>\n",
       "      <td>0.595292</td>\n",
       "      <td>0.519396</td>\n",
       "      <td>0.603958</td>\n",
       "      <td>0.579038</td>\n",
       "    </tr>\n",
       "    <tr>\n",
       "      <th>recall</th>\n",
       "      <td>0.452711</td>\n",
       "      <td>0.491769</td>\n",
       "      <td>0.374919</td>\n",
       "      <td>0.500000</td>\n",
       "      <td>0.487734</td>\n",
       "    </tr>\n",
       "    <tr>\n",
       "      <th>precision</th>\n",
       "      <td>0.711568</td>\n",
       "      <td>0.754021</td>\n",
       "      <td>0.845035</td>\n",
       "      <td>0.762491</td>\n",
       "      <td>0.712400</td>\n",
       "    </tr>\n",
       "  </tbody>\n",
       "</table>\n",
       "</div>"
      ],
      "text/plain": [
       "           scores_clf_dt_  scores_clf_knn_  scores_clf_svm_  scores_clf_rf_  \\\n",
       "f1               0.553364         0.595292         0.519396        0.603958   \n",
       "recall           0.452711         0.491769         0.374919        0.500000   \n",
       "precision        0.711568         0.754021         0.845035        0.762491   \n",
       "\n",
       "           scores_clf_lr_  \n",
       "f1               0.579038  \n",
       "recall           0.487734  \n",
       "precision        0.712400  "
      ]
     },
     "execution_count": 25,
     "metadata": {},
     "output_type": "execute_result"
    }
   ],
   "source": [
    "result_"
   ]
  },
  {
   "cell_type": "code",
   "execution_count": null,
   "id": "3b0ae4c6",
   "metadata": {},
   "outputs": [],
   "source": []
  }
 ],
 "metadata": {
  "colab": {
   "collapsed_sections": [
    "uWfmqoPvIcAJ",
    "7cgssDKFKwJt",
    "KBG3Oj9wLm3n",
    "T0UkvrmRa8FF",
    "ThpQoKaXo-uE",
    "V2xWPtqopDmU",
    "YvGvgSWFqS-b",
    "9de277aa",
    "9mJr-YJRueyJ",
    "ci-XSrHBu6RL",
    "5gGeDEOOvAkp",
    "P-arQbY85ND-",
    "8jpipwx96O3Q",
    "Ru7wQG31lYmQ"
   ],
   "name": "common_pyAusRainfall_modelisation2.ipynb",
   "provenance": []
  },
  "kernelspec": {
   "display_name": "Python 3 (ipykernel)",
   "language": "python",
   "name": "python3"
  },
  "language_info": {
   "codemirror_mode": {
    "name": "ipython",
    "version": 3
   },
   "file_extension": ".py",
   "mimetype": "text/x-python",
   "name": "python",
   "nbconvert_exporter": "python",
   "pygments_lexer": "ipython3",
   "version": "3.9.7"
  }
 },
 "nbformat": 4,
 "nbformat_minor": 5
}
