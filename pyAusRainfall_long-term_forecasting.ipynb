{
 "cells": [
  {
   "cell_type": "markdown",
   "id": "116faed3",
   "metadata": {},
   "source": [
    "# Séries temporelles : prévisions de la pluie à J+3 et J+7"
   ]
  },
  {
   "cell_type": "markdown",
   "id": "73c1a698",
   "metadata": {},
   "source": [
    "## Récupération des librairies"
   ]
  },
  {
   "cell_type": "code",
   "execution_count": 1,
   "id": "81119705",
   "metadata": {},
   "outputs": [],
   "source": [
    "# récupération des librairies\n",
    "%matplotlib inline\n",
    "\n",
    "import numpy\n",
    "import pandas as pd\n",
    "import numpy as np\n",
    "import matplotlib.pyplot as plt\n",
    "\n",
    "from statsmodels.tsa.arima.model import ARIMA\n",
    "from statsmodels.tsa.seasonal import seasonal_decompose"
   ]
  },
  {
   "cell_type": "markdown",
   "id": "4039562f",
   "metadata": {},
   "source": [
    "## Récupération du jeu de données et affichage d'une série temporelle"
   ]
  },
  {
   "cell_type": "code",
   "execution_count": 2,
   "id": "71313efc",
   "metadata": {},
   "outputs": [
    {
     "data": {
      "text/html": [
       "<div>\n",
       "<style scoped>\n",
       "    .dataframe tbody tr th:only-of-type {\n",
       "        vertical-align: middle;\n",
       "    }\n",
       "\n",
       "    .dataframe tbody tr th {\n",
       "        vertical-align: top;\n",
       "    }\n",
       "\n",
       "    .dataframe thead th {\n",
       "        text-align: right;\n",
       "    }\n",
       "</style>\n",
       "<table border=\"1\" class=\"dataframe\">\n",
       "  <thead>\n",
       "    <tr style=\"text-align: right;\">\n",
       "      <th></th>\n",
       "      <th>Date</th>\n",
       "      <th>Location</th>\n",
       "      <th>MinTemp</th>\n",
       "      <th>MaxTemp</th>\n",
       "      <th>Rainfall</th>\n",
       "      <th>Evaporation</th>\n",
       "      <th>Sunshine</th>\n",
       "      <th>WindGustDir</th>\n",
       "      <th>WindGustSpeed</th>\n",
       "      <th>WindDir9am</th>\n",
       "      <th>...</th>\n",
       "      <th>Humidity9am</th>\n",
       "      <th>Humidity3pm</th>\n",
       "      <th>Pressure9am</th>\n",
       "      <th>Pressure3pm</th>\n",
       "      <th>Cloud9am</th>\n",
       "      <th>Cloud3pm</th>\n",
       "      <th>Temp9am</th>\n",
       "      <th>Temp3pm</th>\n",
       "      <th>RainToday</th>\n",
       "      <th>RainTomorrow</th>\n",
       "    </tr>\n",
       "  </thead>\n",
       "  <tbody>\n",
       "    <tr>\n",
       "      <th>0</th>\n",
       "      <td>2008-12-01</td>\n",
       "      <td>Albury</td>\n",
       "      <td>13.4</td>\n",
       "      <td>22.9</td>\n",
       "      <td>0.6</td>\n",
       "      <td>NaN</td>\n",
       "      <td>NaN</td>\n",
       "      <td>W</td>\n",
       "      <td>44.0</td>\n",
       "      <td>W</td>\n",
       "      <td>...</td>\n",
       "      <td>71.0</td>\n",
       "      <td>22.0</td>\n",
       "      <td>1007.7</td>\n",
       "      <td>1007.1</td>\n",
       "      <td>8.0</td>\n",
       "      <td>NaN</td>\n",
       "      <td>16.9</td>\n",
       "      <td>21.8</td>\n",
       "      <td>No</td>\n",
       "      <td>No</td>\n",
       "    </tr>\n",
       "    <tr>\n",
       "      <th>1</th>\n",
       "      <td>2008-12-02</td>\n",
       "      <td>Albury</td>\n",
       "      <td>7.4</td>\n",
       "      <td>25.1</td>\n",
       "      <td>0.0</td>\n",
       "      <td>NaN</td>\n",
       "      <td>NaN</td>\n",
       "      <td>WNW</td>\n",
       "      <td>44.0</td>\n",
       "      <td>NNW</td>\n",
       "      <td>...</td>\n",
       "      <td>44.0</td>\n",
       "      <td>25.0</td>\n",
       "      <td>1010.6</td>\n",
       "      <td>1007.8</td>\n",
       "      <td>NaN</td>\n",
       "      <td>NaN</td>\n",
       "      <td>17.2</td>\n",
       "      <td>24.3</td>\n",
       "      <td>No</td>\n",
       "      <td>No</td>\n",
       "    </tr>\n",
       "    <tr>\n",
       "      <th>2</th>\n",
       "      <td>2008-12-03</td>\n",
       "      <td>Albury</td>\n",
       "      <td>12.9</td>\n",
       "      <td>25.7</td>\n",
       "      <td>0.0</td>\n",
       "      <td>NaN</td>\n",
       "      <td>NaN</td>\n",
       "      <td>WSW</td>\n",
       "      <td>46.0</td>\n",
       "      <td>W</td>\n",
       "      <td>...</td>\n",
       "      <td>38.0</td>\n",
       "      <td>30.0</td>\n",
       "      <td>1007.6</td>\n",
       "      <td>1008.7</td>\n",
       "      <td>NaN</td>\n",
       "      <td>2.0</td>\n",
       "      <td>21.0</td>\n",
       "      <td>23.2</td>\n",
       "      <td>No</td>\n",
       "      <td>No</td>\n",
       "    </tr>\n",
       "    <tr>\n",
       "      <th>3</th>\n",
       "      <td>2008-12-04</td>\n",
       "      <td>Albury</td>\n",
       "      <td>9.2</td>\n",
       "      <td>28.0</td>\n",
       "      <td>0.0</td>\n",
       "      <td>NaN</td>\n",
       "      <td>NaN</td>\n",
       "      <td>NE</td>\n",
       "      <td>24.0</td>\n",
       "      <td>SE</td>\n",
       "      <td>...</td>\n",
       "      <td>45.0</td>\n",
       "      <td>16.0</td>\n",
       "      <td>1017.6</td>\n",
       "      <td>1012.8</td>\n",
       "      <td>NaN</td>\n",
       "      <td>NaN</td>\n",
       "      <td>18.1</td>\n",
       "      <td>26.5</td>\n",
       "      <td>No</td>\n",
       "      <td>No</td>\n",
       "    </tr>\n",
       "    <tr>\n",
       "      <th>4</th>\n",
       "      <td>2008-12-05</td>\n",
       "      <td>Albury</td>\n",
       "      <td>17.5</td>\n",
       "      <td>32.3</td>\n",
       "      <td>1.0</td>\n",
       "      <td>NaN</td>\n",
       "      <td>NaN</td>\n",
       "      <td>W</td>\n",
       "      <td>41.0</td>\n",
       "      <td>ENE</td>\n",
       "      <td>...</td>\n",
       "      <td>82.0</td>\n",
       "      <td>33.0</td>\n",
       "      <td>1010.8</td>\n",
       "      <td>1006.0</td>\n",
       "      <td>7.0</td>\n",
       "      <td>8.0</td>\n",
       "      <td>17.8</td>\n",
       "      <td>29.7</td>\n",
       "      <td>No</td>\n",
       "      <td>No</td>\n",
       "    </tr>\n",
       "  </tbody>\n",
       "</table>\n",
       "<p>5 rows × 23 columns</p>\n",
       "</div>"
      ],
      "text/plain": [
       "         Date Location  MinTemp  MaxTemp  Rainfall  Evaporation  Sunshine  \\\n",
       "0  2008-12-01   Albury     13.4     22.9       0.6          NaN       NaN   \n",
       "1  2008-12-02   Albury      7.4     25.1       0.0          NaN       NaN   \n",
       "2  2008-12-03   Albury     12.9     25.7       0.0          NaN       NaN   \n",
       "3  2008-12-04   Albury      9.2     28.0       0.0          NaN       NaN   \n",
       "4  2008-12-05   Albury     17.5     32.3       1.0          NaN       NaN   \n",
       "\n",
       "  WindGustDir  WindGustSpeed WindDir9am  ... Humidity9am  Humidity3pm  \\\n",
       "0           W           44.0          W  ...        71.0         22.0   \n",
       "1         WNW           44.0        NNW  ...        44.0         25.0   \n",
       "2         WSW           46.0          W  ...        38.0         30.0   \n",
       "3          NE           24.0         SE  ...        45.0         16.0   \n",
       "4           W           41.0        ENE  ...        82.0         33.0   \n",
       "\n",
       "   Pressure9am  Pressure3pm  Cloud9am  Cloud3pm  Temp9am  Temp3pm  RainToday  \\\n",
       "0       1007.7       1007.1       8.0       NaN     16.9     21.8         No   \n",
       "1       1010.6       1007.8       NaN       NaN     17.2     24.3         No   \n",
       "2       1007.6       1008.7       NaN       2.0     21.0     23.2         No   \n",
       "3       1017.6       1012.8       NaN       NaN     18.1     26.5         No   \n",
       "4       1010.8       1006.0       7.0       8.0     17.8     29.7         No   \n",
       "\n",
       "   RainTomorrow  \n",
       "0            No  \n",
       "1            No  \n",
       "2            No  \n",
       "3            No  \n",
       "4            No  \n",
       "\n",
       "[5 rows x 23 columns]"
      ]
     },
     "execution_count": 2,
     "metadata": {},
     "output_type": "execute_result"
    }
   ],
   "source": [
    "# récupération du jeu de données\n",
    "df = pd.read_csv('weatherAUS.csv')\n",
    "df.head()"
   ]
  },
  {
   "cell_type": "code",
   "execution_count": 3,
   "id": "ef05cdcd",
   "metadata": {},
   "outputs": [],
   "source": [
    "# conversion de la variable 'Date' au format datetime\n",
    "df['Date'] = pd.to_datetime(df['Date'])"
   ]
  },
  {
   "cell_type": "code",
   "execution_count": 4,
   "id": "33bab9b8",
   "metadata": {},
   "outputs": [],
   "source": [
    "# définition de l'index par la date\n",
    "df.set_index(['Date'] , inplace=True)"
   ]
  },
  {
   "cell_type": "code",
   "execution_count": 5,
   "id": "698ca645",
   "metadata": {},
   "outputs": [
    {
     "name": "stdout",
     "output_type": "stream",
     "text": [
      "DatetimeIndex(['2008-12-01', '2008-12-02', '2008-12-03', '2008-12-04',\n",
      "               '2008-12-05', '2008-12-06', '2008-12-07', '2008-12-08',\n",
      "               '2008-12-09', '2008-12-10',\n",
      "               ...\n",
      "               '2017-06-16', '2017-06-17', '2017-06-18', '2017-06-19',\n",
      "               '2017-06-20', '2017-06-21', '2017-06-22', '2017-06-23',\n",
      "               '2017-06-24', '2017-06-25'],\n",
      "              dtype='datetime64[ns]', name='Date', length=145460, freq=None)\n"
     ]
    }
   ],
   "source": [
    "# affichage de l'index\n",
    "print(df.index)"
   ]
  },
  {
   "cell_type": "markdown",
   "id": "ad2fd97c",
   "metadata": {},
   "source": [
    "- Le jeu de données contient des observations pour la période du 1er Décembre 2008 au 25 Juin 2017."
   ]
  },
  {
   "cell_type": "code",
   "execution_count": 6,
   "id": "13cb9f1f",
   "metadata": {},
   "outputs": [],
   "source": [
    "# sélection des données pour une ville particulière\n",
    "df_city = df[df[\"Location\"] == \"Cairns\"]"
   ]
  },
  {
   "cell_type": "code",
   "execution_count": 7,
   "id": "06cc086a",
   "metadata": {},
   "outputs": [],
   "source": [
    "# isolement des données de précipitation (rappel: RainTomorrow=1 si la pluie pour ce jour était de 1mm ou plus)\n",
    "df_rain = df_city['Rainfall']"
   ]
  },
  {
   "cell_type": "code",
   "execution_count": 8,
   "id": "d61be2c1",
   "metadata": {},
   "outputs": [
    {
     "data": {
      "image/png": "[encoded data removed]",
      "text/plain": [
       "<Figure size 432x288 with 1 Axes>"
      ]
     },
     "metadata": {
      "needs_background": "light"
     },
     "output_type": "display_data"
    }
   ],
   "source": [
    "# affichage de la série temporelle\n",
    "plt.plot(df_rain)\n",
    "plt.xlabel(\"Année\")\n",
    "plt.ylabel(\"Quantité d'eau (mm)\")\n",
    "plt.title(\"Précipitations sur la période étudiée\");"
   ]
  },
  {
   "cell_type": "markdown",
   "id": "0838efa1",
   "metadata": {},
   "source": [
    "Les 7 derniers jours de l'ensemble de données à partir de Juin 2017 sont retenus comme ensemble de données de test et ces pas de temps seront traités comme hors échantillon."
   ]
  },
  {
   "cell_type": "code",
   "execution_count": 9,
   "id": "7df3de5d",
   "metadata": {},
   "outputs": [
    {
     "name": "stdout",
     "output_type": "stream",
     "text": [
      "Taille des données d'entraînement: 3033 \n",
      " Taille des données de test: 7\n"
     ]
    }
   ],
   "source": [
    "# séparation de la série en deux parties: données d'entraînement et de test\n",
    "split_point = len(df_rain) - 7\n",
    "train, test = df_rain[0:split_point], df_rain[split_point:]\n",
    "\n",
    "print(\"Taille des données d'entraînement: %d \\n Taille des données de test: %d\" % (len(train), len(test)))"
   ]
  },
  {
   "cell_type": "code",
   "execution_count": 10,
   "id": "b20974ed",
   "metadata": {},
   "outputs": [],
   "source": [
    "# création des fichiers de données\n",
    "train.to_csv('rainfall_train.csv', index=False)\n",
    "test.to_csv('rainfall_test.csv', index=False)"
   ]
  },
  {
   "cell_type": "markdown",
   "id": "ceac6690",
   "metadata": {},
   "source": [
    "- La dernière observation dans le fichier \"rainfall_train.csv\" est le 18 Juin 2017. \n",
    "- Cela signifie que le 19 Juin 2017 et au-delà sont des pas de temps hors échantillon pour un modèle formé sur \"rainfall_train.csv\"."
   ]
  },
  {
   "cell_type": "markdown",
   "id": "9979bf7b",
   "metadata": {},
   "source": [
    "## Définition d'un modèle ARIMA simple"
   ]
  },
  {
   "cell_type": "markdown",
   "id": "19fdbacc",
   "metadata": {},
   "source": [
    "Les données ont une forte composante saisonnière annuelle (cf. \"pyAusRainfall_Time_series\"). Nous pouvons rendre les données stationnaires en prenant la différence saisonnière. Autrement dit, nous pouvons prendre l'observation d'un jour et soustraire l'observation du même jour il y a un an. Cela se traduira par un ensemble de données stationnaire à partir duquel nous pourrons ajuster un modèle ARIMA simple."
   ]
  },
  {
   "cell_type": "code",
   "execution_count": 11,
   "id": "3a7ba634",
   "metadata": {},
   "outputs": [],
   "source": [
    "# fonction de différentiation saisonnière\n",
    "def difference(dataset, interval=1):\n",
    "    diff = list()\n",
    "    for i in range(interval, len(dataset)):\n",
    "        value = dataset[i] - dataset[i - interval]\n",
    "        diff.append(value)\n",
    "    return numpy.array(diff)"
   ]
  },
  {
   "cell_type": "markdown",
   "id": "97181395",
   "metadata": {},
   "source": [
    "Cette opération peut s'inverser en ajoutant la valeur de l'observation il y a un an. Nous devrons le faire pour toutes les prévisions faites par un modèle formé sur les données désaisonnalisées."
   ]
  },
  {
   "cell_type": "code",
   "execution_count": 12,
   "id": "f558c316",
   "metadata": {},
   "outputs": [],
   "source": [
    "# fonction d'inversion de la différentiation saisonnière\n",
    "def inverse_difference(history, yhat, interval=1):\n",
    "    return yhat + history[-interval]"
   ]
  },
  {
   "cell_type": "code",
   "execution_count": 13,
   "id": "09a5c311",
   "metadata": {},
   "outputs": [],
   "source": [
    "# chargement des données d'entraînement\n",
    "series_train = pd.read_csv('rainfall_train.csv', header=0)"
   ]
  },
  {
   "cell_type": "code",
   "execution_count": 14,
   "id": "b36ef4c5",
   "metadata": {},
   "outputs": [],
   "source": [
    "# chargement des données de test\n",
    "series_test = pd.read_csv('rainfall_test.csv', header=0)"
   ]
  },
  {
   "cell_type": "code",
   "execution_count": 15,
   "id": "5c83f5c4",
   "metadata": {},
   "outputs": [
    {
     "data": {
      "text/html": [
       "<div>\n",
       "<style scoped>\n",
       "    .dataframe tbody tr th:only-of-type {\n",
       "        vertical-align: middle;\n",
       "    }\n",
       "\n",
       "    .dataframe tbody tr th {\n",
       "        vertical-align: top;\n",
       "    }\n",
       "\n",
       "    .dataframe thead th {\n",
       "        text-align: right;\n",
       "    }\n",
       "</style>\n",
       "<table border=\"1\" class=\"dataframe\">\n",
       "  <thead>\n",
       "    <tr style=\"text-align: right;\">\n",
       "      <th></th>\n",
       "      <th>Rainfall</th>\n",
       "    </tr>\n",
       "  </thead>\n",
       "  <tbody>\n",
       "    <tr>\n",
       "      <th>0</th>\n",
       "      <td>0.0</td>\n",
       "    </tr>\n",
       "    <tr>\n",
       "      <th>1</th>\n",
       "      <td>0.0</td>\n",
       "    </tr>\n",
       "    <tr>\n",
       "      <th>2</th>\n",
       "      <td>0.4</td>\n",
       "    </tr>\n",
       "    <tr>\n",
       "      <th>3</th>\n",
       "      <td>0.2</td>\n",
       "    </tr>\n",
       "    <tr>\n",
       "      <th>4</th>\n",
       "      <td>1.0</td>\n",
       "    </tr>\n",
       "    <tr>\n",
       "      <th>5</th>\n",
       "      <td>1.2</td>\n",
       "    </tr>\n",
       "    <tr>\n",
       "      <th>6</th>\n",
       "      <td>5.2</td>\n",
       "    </tr>\n",
       "  </tbody>\n",
       "</table>\n",
       "</div>"
      ],
      "text/plain": [
       "   Rainfall\n",
       "0       0.0\n",
       "1       0.0\n",
       "2       0.4\n",
       "3       0.2\n",
       "4       1.0\n",
       "5       1.2\n",
       "6       5.2"
      ]
     },
     "execution_count": 15,
     "metadata": {},
     "output_type": "execute_result"
    }
   ],
   "source": [
    "series_test"
   ]
  },
  {
   "cell_type": "code",
   "execution_count": 16,
   "id": "f4082280",
   "metadata": {},
   "outputs": [],
   "source": [
    "# application de la différence saisonnière\n",
    "X = series_train.values\n",
    "days_in_year = 365\n",
    "differenced = difference(X, days_in_year)"
   ]
  },
  {
   "cell_type": "code",
   "execution_count": 17,
   "id": "c55d08bb",
   "metadata": {},
   "outputs": [
    {
     "name": "stdout",
     "output_type": "stream",
     "text": [
      "                               SARIMAX Results                                \n",
      "==============================================================================\n",
      "Dep. Variable:                      y   No. Observations:                 2668\n",
      "Model:                 ARIMA(7, 0, 1)   Log Likelihood              -11929.344\n",
      "Date:                Wed, 28 Sep 2022   AIC                          23878.688\n",
      "Time:                        16:59:02   BIC                          23937.579\n",
      "Sample:                             0   HQIC                         23899.998\n",
      "                               - 2668                                         \n",
      "Covariance Type:                  opg                                         \n",
      "==============================================================================\n",
      "                 coef    std err          z      P>|z|      [0.025      0.975]\n",
      "------------------------------------------------------------------------------\n",
      "const         -0.2436      0.795     -0.306      0.759      -1.802       1.315\n",
      "ar.L1         -0.0809      0.653     -0.124      0.901      -1.362       1.200\n",
      "ar.L2          0.1562      0.214      0.731      0.465      -0.262       0.575\n",
      "ar.L3          0.0665      0.022      2.996      0.003       0.023       0.110\n",
      "ar.L4          0.0041      0.042      0.099      0.921      -0.078       0.086\n",
      "ar.L5         -0.0293      0.018     -1.621      0.105      -0.065       0.006\n",
      "ar.L6          0.0347      0.018      1.921      0.055      -0.001       0.070\n",
      "ar.L7          0.0358      0.029      1.225      0.220      -0.021       0.093\n",
      "ma.L1          0.4079      0.654      0.624      0.533      -0.874       1.690\n",
      "sigma2       561.1497      4.105    136.704      0.000     553.104     569.195\n",
      "===================================================================================\n",
      "Ljung-Box (L1) (Q):                   0.90   Jarque-Bera (JB):            145643.38\n",
      "Prob(Q):                              0.34   Prob(JB):                         0.00\n",
      "Heteroskedasticity (H):               0.60   Skew:                            -0.68\n",
      "Prob(H) (two-sided):                  0.00   Kurtosis:                        39.17\n",
      "===================================================================================\n",
      "\n",
      "Warnings:\n",
      "[1] Covariance matrix calculated using the outer product of gradients (complex-step).\n"
     ]
    }
   ],
   "source": [
    "# ajustement du modèle ARIMA\n",
    "model = ARIMA(differenced, order=(7,0,1))\n",
    "model_fit = model.fit()\n",
    "\n",
    "print(model_fit.summary())"
   ]
  },
  {
   "cell_type": "markdown",
   "id": "8dd0c0c0",
   "metadata": {},
   "source": [
    "## Prévision hors échantillon en une étape: J+1"
   ]
  },
  {
   "cell_type": "markdown",
   "id": "54552def",
   "metadata": {},
   "source": [
    "Les modèles ARIMA sont parfaits pour les prévisions en une étape.\n",
    "\n",
    "Une prévision en une étape est une prévision de l'étape de temps suivante dans la séquence à partir des données disponibles utilisées pour ajuster le modèle.\n",
    "\n",
    "Dans ce cas, nous sommes intéressés par une prévision en une étape du jour du 19 Juin 2017."
   ]
  },
  {
   "cell_type": "markdown",
   "id": "ce7984e5",
   "metadata": {},
   "source": [
    "### Utilisation de la fonction forecast()"
   ]
  },
  {
   "cell_type": "markdown",
   "id": "32a7a256",
   "metadata": {},
   "source": [
    "Par défaut, la fonction forecast() d'un modèle ARIMA effectue une prévision hors échantillon en une seule étape. Le résultat de la fonction forecast() est un tableau contenant la valeur de la prévision, l'erreur standard de la prévision et les informations sur l'intervalle de confiance."
   ]
  },
  {
   "cell_type": "code",
   "execution_count": 18,
   "id": "e812ae66",
   "metadata": {},
   "outputs": [],
   "source": [
    "# prévision hors échantillon en une étape\n",
    "forecast = model_fit.forecast()[0]"
   ]
  },
  {
   "cell_type": "markdown",
   "id": "104ad35f",
   "metadata": {},
   "source": [
    "Nous pouvons désormais inverser la différence saisonnière et reconvertir la valeur dans l'échelle d'origine."
   ]
  },
  {
   "cell_type": "code",
   "execution_count": 19,
   "id": "9a0d351e",
   "metadata": {},
   "outputs": [
    {
     "name": "stdout",
     "output_type": "stream",
     "text": [
      "Rainfall [forecast]: 10.892515 mm\n"
     ]
    }
   ],
   "source": [
    "# inversion de la différentiation saisonnière\n",
    "forecast = inverse_difference(X, forecast, days_in_year)\n",
    "print('Rainfall [forecast]: %f mm' % forecast)"
   ]
  },
  {
   "cell_type": "markdown",
   "id": "a14e50fb",
   "metadata": {},
   "source": [
    "Conclusion: Rainfall > 1 mm, ce qui signifierait que: \n",
    "- \"RainToday = Yes\" pour le 19 Juin 2017,\n",
    "- \"RainTomorrow = Yes\" pour le 18 Juin 2017."
   ]
  },
  {
   "cell_type": "code",
   "execution_count": 20,
   "id": "9095c80c",
   "metadata": {},
   "outputs": [
    {
     "data": {
      "text/plain": [
       "'No'"
      ]
     },
     "execution_count": 20,
     "metadata": {},
     "output_type": "execute_result"
    }
   ],
   "source": [
    "df_city.loc[pd.to_datetime('2017-06-19'), \"RainToday\"]"
   ]
  },
  {
   "cell_type": "code",
   "execution_count": 21,
   "id": "196ba948",
   "metadata": {},
   "outputs": [
    {
     "data": {
      "text/plain": [
       "'No'"
      ]
     },
     "execution_count": 21,
     "metadata": {},
     "output_type": "execute_result"
    }
   ],
   "source": [
    "df_city.loc[pd.to_datetime('2017-06-18'), \"RainTomorrow\"]"
   ]
  },
  {
   "cell_type": "markdown",
   "id": "987e1a1f",
   "metadata": {},
   "source": [
    "### Utilisation de la fonction predict()"
   ]
  },
  {
   "cell_type": "markdown",
   "id": "284640e6",
   "metadata": {},
   "source": [
    "La fonction predict() d'un modèle ARIMA peut être utilisée pour prédire des pas de temps arbitraires dans l'échantillon et hors de l'échantillon, y compris le prochain pas de temps de prévision hors de l'échantillon.\n",
    "\n",
    "La fonction de prédiction nécessite de spécifier un début et une fin, il peut s'agir des index des pas de temps relatifs au début des données d'apprentissage utilisées pour ajuster le modèle."
   ]
  },
  {
   "cell_type": "code",
   "execution_count": 22,
   "id": "8905c2b5",
   "metadata": {},
   "outputs": [],
   "source": [
    "# prévision hors échantillon en une étape\n",
    "start_index = len(differenced)\n",
    "end_index = len(differenced)\n",
    "\n",
    "forecast = model_fit.predict(start=start_index, end=end_index)"
   ]
  },
  {
   "cell_type": "code",
   "execution_count": 23,
   "id": "c0a56015",
   "metadata": {},
   "outputs": [
    {
     "name": "stdout",
     "output_type": "stream",
     "text": [
      "Rainfall [forecast]: 10.892515 mm\n"
     ]
    }
   ],
   "source": [
    "# inversion de la différentiation saisonnière\n",
    "forecast = inverse_difference(X, forecast, days_in_year)\n",
    "print('Rainfall [forecast]: %f mm' % forecast)"
   ]
  },
  {
   "cell_type": "markdown",
   "id": "6e7ad06b",
   "metadata": {},
   "source": [
    "Nous retrouvons le même résultat qu'avec la méthode Forecast(), à savoir: Rainfall > 1 mm, ce qui signifierait que: \n",
    "- \"RainToday = Yes\" pour le 19 Juin 2017,\n",
    "- \"RainTomorrow = Yes\" pour le 18 Juin 2017."
   ]
  },
  {
   "cell_type": "code",
   "execution_count": 24,
   "id": "006e6c3f",
   "metadata": {},
   "outputs": [
    {
     "data": {
      "text/plain": [
       "'No'"
      ]
     },
     "execution_count": 24,
     "metadata": {},
     "output_type": "execute_result"
    }
   ],
   "source": [
    "df_city.loc[pd.to_datetime('2017-06-19'), \"RainToday\"]"
   ]
  },
  {
   "cell_type": "code",
   "execution_count": 25,
   "id": "abf3c6f3",
   "metadata": {},
   "outputs": [
    {
     "data": {
      "text/plain": [
       "'No'"
      ]
     },
     "execution_count": 25,
     "metadata": {},
     "output_type": "execute_result"
    }
   ],
   "source": [
    "df_city.loc[pd.to_datetime('2017-06-18'), \"RainTomorrow\"]"
   ]
  },
  {
   "cell_type": "markdown",
   "id": "b6c4b2bc",
   "metadata": {},
   "source": [
    "La fonction predict() présente l'avantage d'être plus flexible que la méthode Forecast(). Il est possible de spécifier n'importe quel point ou intervalle de prévision contigu à l'intérieur ou à l'extérieur de l'échantillon."
   ]
  },
  {
   "cell_type": "markdown",
   "id": "1d8ac651",
   "metadata": {},
   "source": [
    "## Prévision hors échantillon à plusieurs étapes: J+3, J+7"
   ]
  },
  {
   "cell_type": "markdown",
   "id": "e91de24a",
   "metadata": {},
   "source": [
    "Il est possible de faire des prévisions en plusieurs étapes en utilisant les fonctions forecast() et predict() vues précédemment. "
   ]
  },
  {
   "cell_type": "markdown",
   "id": "1c56508d",
   "metadata": {},
   "source": [
    "### Utilisation de la fonction forecast()"
   ]
  },
  {
   "cell_type": "markdown",
   "id": "4700426e",
   "metadata": {},
   "source": [
    "La fonction forecast() a un argument appelé steps qui permet de spécifier le nombre de pas de temps à prévoir.\n",
    "\n",
    "Par défaut, cet argument est défini sur 1 pour une prévision hors échantillon en une étape. Ici nous le réglons sur 7 pour obtenir une prévision pour les 7 prochains jours.\n",
    "\n",
    "Nous pouvons ensuite inverser chaque pas de temps prévu, un à la fois et imprimer les valeurs. Pour inverser la valeur de prévision pour t+2, nous avons besoin de la valeur de prévision inversée pour t+1. Ici, nous les ajoutons à la fin d'une liste appelée history à utiliser lors de l'appel inverse_difference()."
   ]
  },
  {
   "cell_type": "code",
   "execution_count": 27,
   "id": "e2e9ee0d",
   "metadata": {},
   "outputs": [
    {
     "name": "stdout",
     "output_type": "stream",
     "text": [
      "Day 1: 10.892515\n",
      "Day 2: 0.801966\n",
      "Day 3: -1.356307\n",
      "Day 4: -1.078231\n",
      "Day 5: -0.493003\n",
      "Day 6: -0.470148\n",
      "Day 7: -0.312398\n"
     ]
    }
   ],
   "source": [
    "# fonction de différentiation saisonnière\n",
    "def difference(dataset, interval=1):\n",
    "    diff = list()\n",
    "    for i in range(interval, len(dataset)):\n",
    "        value = dataset[i] - dataset[i - interval]\n",
    "        diff.append(value)\n",
    "    return numpy.array(diff)\n",
    "\n",
    "# fonction d'inversion de la différentiation saisonnière\n",
    "def inverse_difference(history, yhat, interval=1):\n",
    "    return yhat + history[-interval]\n",
    "\n",
    "# chargement des données d'entraînement\n",
    "series_train = pd.read_csv('rainfall_train.csv', header=0)\n",
    "\n",
    "# application de la différence saisonnière\n",
    "X = series_train.values\n",
    "days_in_year = 365\n",
    "differenced = difference(X, days_in_year)\n",
    "\n",
    "# ajustement du modèle ARIMA\n",
    "model = ARIMA(differenced, order=(7,0,1))\n",
    "model_fit = model.fit()\n",
    "\n",
    "# prévision hors échantillon à plusieurs étapes\n",
    "forecast = model_fit.forecast(steps=7)\n",
    "\n",
    "# inversion de la différentiation saisonnière\n",
    "history = [x for x in X]\n",
    "day = 1\n",
    "for yhat in forecast:\n",
    "    inverted = inverse_difference(history, yhat, days_in_year)\n",
    "    print('Day %d: %f' % (day, inverted))\n",
    "    history.append(inverted)\n",
    "    day += 1"
   ]
  },
  {
   "cell_type": "markdown",
   "id": "bbb7196a",
   "metadata": {},
   "source": [
    "### Utilisation de la fonction predict()"
   ]
  },
  {
   "cell_type": "markdown",
   "id": "239f6179",
   "metadata": {},
   "source": [
    "La fonction predict() peut également prévoir les 7 prochains pas de temps hors échantillon.\n",
    "\n",
    "En utilisant des index de pas de temps, nous pouvons spécifier l'index de fin comme 6 pas de temps supplémentaires dans le futur."
   ]
  },
  {
   "cell_type": "code",
   "execution_count": 28,
   "id": "6d42794e",
   "metadata": {},
   "outputs": [
    {
     "name": "stdout",
     "output_type": "stream",
     "text": [
      "Day 1: 10.892515\n",
      "Day 2: 0.801966\n",
      "Day 3: -1.356307\n",
      "Day 4: -1.078231\n",
      "Day 5: -0.493003\n",
      "Day 6: -0.470148\n",
      "Day 7: -0.312398\n"
     ]
    }
   ],
   "source": [
    "# fonction de différentiation saisonnière\n",
    "def difference(dataset, interval=1):\n",
    "    diff = list()\n",
    "    for i in range(interval, len(dataset)):\n",
    "        value = dataset[i] - dataset[i - interval]\n",
    "        diff.append(value)\n",
    "    return numpy.array(diff)\n",
    "\n",
    "# fonction d'inversion de la différentiation saisonnière\n",
    "def inverse_difference(history, yhat, interval=1):\n",
    "    return yhat + history[-interval]\n",
    "\n",
    "# chargement des données d'entraînement\n",
    "series_train = pd.read_csv('rainfall_train.csv', header=0)\n",
    "\n",
    "# application de la différence saisonnière\n",
    "X = series_train.values\n",
    "days_in_year = 365\n",
    "differenced = difference(X, days_in_year)\n",
    "\n",
    "# ajustement du modèle ARIMA\n",
    "model = ARIMA(differenced, order=(7,0,1))\n",
    "model_fit = model.fit()\n",
    "\n",
    "# prévision hors échantillon à plusieurs étapes\n",
    "start_index = len(differenced)\n",
    "end_index = start_index + 6\n",
    "\n",
    "forecast = model_fit.predict(start=start_index, end=end_index)\n",
    "\n",
    "# inversion de la différentiation saisonnière\n",
    "history = [x for x in X]\n",
    "day = 1\n",
    "for yhat in forecast:\n",
    "    inverted = inverse_difference(history, yhat, days_in_year)\n",
    "    print('Day %d: %f' % (day, inverted))\n",
    "    history.append(inverted)\n",
    "    day += 1"
   ]
  },
  {
   "cell_type": "markdown",
   "id": "9b765a70",
   "metadata": {},
   "source": [
    "L'appel à la méthode predict() produit les mêmes résultats que l'appel de la fonction forecast() dans la section précédente, comme on pouvait s'y attendre."
   ]
  },
  {
   "cell_type": "code",
   "execution_count": null,
   "id": "b333c284",
   "metadata": {},
   "outputs": [],
   "source": []
  }
 ],
 "metadata": {
  "kernelspec": {
   "display_name": "Python 3 (ipykernel)",
   "language": "python",
   "name": "python3"
  },
  "language_info": {
   "codemirror_mode": {
    "name": "ipython",
    "version": 3
   },
   "file_extension": ".py",
   "mimetype": "text/x-python",
   "name": "python",
   "nbconvert_exporter": "python",
   "pygments_lexer": "ipython3",
   "version": "3.9.7"
  }
 },
 "nbformat": 4,
 "nbformat_minor": 5
}
