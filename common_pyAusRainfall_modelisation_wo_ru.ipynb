{
 "cells": [
  {
   "cell_type": "markdown",
   "id": "uWfmqoPvIcAJ",
   "metadata": {
    "id": "uWfmqoPvIcAJ"
   },
   "source": [
    "# Prévisions météo en Australie\n",
    "### Consignes de l'itération2 : \"Modélisation\"\n",
    "\n",
    "\t1. Ajouter les coordonnées géographiques (Australia Cities Database | Simplemaps.com)\n",
    "\t2. sélection des variables avec le test du chi2\n",
    "\t3. Extraction du jeu de données final\n",
    "\t4. Tableau des performances des algo avec et sans rééquilibrage\n",
    "\t5. Choisir une seconde stratégie pour l’itération 2 parmi les suivantes\n",
    "\t• Classification des villes par clustering : création d'une nouvelle colonne catégorielle pour définir les différents types de climat selon les données climatique\n",
    "\t• Deep Learning\n",
    "\t• Séries Temporelles\n",
    "\t• Pluie J+3, J+7?\n",
    "\n",
    "### Notes\n",
    "\n",
    "\t• Pour les variables avec une forte proportion de valeurs manquantes, l’algorithme KNN-Imputer (https://www.youtube.com/watch?v=QVEJJNsz-eM) permet d’imputer des NA en fonction des voisins. Les autres variables avec moins de 10% de valeurs manquantes peuvent être traitées avec la méthode interpolate.\n",
    "\t• Stations pour lesquelles les coordonnées géographiques sont manquantes ont été ignorées pour l'instant : ~ 50k lignes. \n",
    "\t• Variables ignorées : 'Date', 'WindGustDir', 'WindDir9am' et 'WindDir3pm'.\n",
    "\t• Variables crées : 'Temp_Delta_MinMax', 'Humidity_Delta' et 'city_cluster'.\n",
    "\t• Suppression des valeurs manquantes pour 'RainToday' et 'RainTomorrow'.\n",
    "\n",
    "**Synchro** lundi 5 septembre à 17h\n",
    "\n",
    "**Deadline** dimanche 11 septembre"
   ]
  },
  {
   "cell_type": "markdown",
   "id": "NJN5xGP7CUc_",
   "metadata": {
    "id": "NJN5xGP7CUc_"
   },
   "source": [
    "# Récupération des librairies"
   ]
  },
  {
   "cell_type": "code",
   "execution_count": 3,
   "id": "MP_EJ9XNFo2d",
   "metadata": {
    "colab": {
     "base_uri": "https://localhost:8080/"
    },
    "id": "MP_EJ9XNFo2d",
    "outputId": "e1c0a9a3-7797-4a69-9301-d72fb8c03d31"
   },
   "outputs": [
    {
     "name": "stdout",
     "output_type": "stream",
     "text": [
      "Requirement already satisfied: scikit-plot in c:\\users\\olivieramable\\anaconda3\\envs\\pyenv\\lib\\site-packages (0.3.7)\n",
      "Requirement already satisfied: joblib>=0.10 in c:\\users\\olivieramable\\anaconda3\\envs\\pyenv\\lib\\site-packages (from scikit-plot) (0.17.0)\n",
      "Requirement already satisfied: matplotlib>=1.4.0 in c:\\users\\olivieramable\\anaconda3\\envs\\pyenv\\lib\\site-packages (from scikit-plot) (3.5.1)\n",
      "Requirement already satisfied: scipy>=0.9 in c:\\users\\olivieramable\\anaconda3\\envs\\pyenv\\lib\\site-packages (from scikit-plot) (1.7.1)\n",
      "Requirement already satisfied: scikit-learn>=0.18 in c:\\users\\olivieramable\\anaconda3\\envs\\pyenv\\lib\\site-packages (from scikit-plot) (1.0.1)\n",
      "Requirement already satisfied: packaging>=20.0 in c:\\users\\olivieramable\\anaconda3\\envs\\pyenv\\lib\\site-packages (from matplotlib>=1.4.0->scikit-plot) (21.3)\n",
      "Requirement already satisfied: pyparsing>=2.2.1 in c:\\users\\olivieramable\\anaconda3\\envs\\pyenv\\lib\\site-packages (from matplotlib>=1.4.0->scikit-plot) (3.0.4)\n",
      "Requirement already satisfied: kiwisolver>=1.0.1 in c:\\users\\olivieramable\\anaconda3\\envs\\pyenv\\lib\\site-packages (from matplotlib>=1.4.0->scikit-plot) (1.3.2)\n",
      "Requirement already satisfied: fonttools>=4.22.0 in c:\\users\\olivieramable\\anaconda3\\envs\\pyenv\\lib\\site-packages (from matplotlib>=1.4.0->scikit-plot) (4.28.5)\n",
      "Requirement already satisfied: numpy>=1.17 in c:\\users\\olivieramable\\anaconda3\\envs\\pyenv\\lib\\site-packages (from matplotlib>=1.4.0->scikit-plot) (1.21.2)\n",
      "Requirement already satisfied: pillow>=6.2.0 in c:\\users\\olivieramable\\anaconda3\\envs\\pyenv\\lib\\site-packages (from matplotlib>=1.4.0->scikit-plot) (8.4.0)\n",
      "Requirement already satisfied: python-dateutil>=2.7 in c:\\users\\olivieramable\\anaconda3\\envs\\pyenv\\lib\\site-packages (from matplotlib>=1.4.0->scikit-plot) (2.8.2)\n",
      "Requirement already satisfied: cycler>=0.10 in c:\\users\\olivieramable\\anaconda3\\envs\\pyenv\\lib\\site-packages (from matplotlib>=1.4.0->scikit-plot) (0.11.0)\n",
      "Requirement already satisfied: six>=1.5 in c:\\users\\olivieramable\\anaconda3\\envs\\pyenv\\lib\\site-packages (from python-dateutil>=2.7->matplotlib>=1.4.0->scikit-plot) (1.16.0)\n",
      "Requirement already satisfied: threadpoolctl>=2.0.0 in c:\\users\\olivieramable\\anaconda3\\envs\\pyenv\\lib\\site-packages (from scikit-learn>=0.18->scikit-plot) (2.1.0)\n"
     ]
    }
   ],
   "source": [
    "# récupération du package scikit-plot\n",
    "!pip install scikit-plot"
   ]
  },
  {
   "cell_type": "code",
   "execution_count": 2,
   "id": "db07acc9",
   "metadata": {
    "id": "db07acc9"
   },
   "outputs": [],
   "source": [
    "# récupération des librairies\n",
    "%matplotlib inline\n",
    "\n",
    "import numpy as np\n",
    "import pandas as pd\n",
    "import matplotlib.pyplot as plt\n",
    "import seaborn as sns\n",
    "import time, datetime\n",
    "import scikitplot as skplt\n",
    "\n",
    "from scipy.spatial.distance import cdist\n",
    "from scipy.stats import chi2_contingency\n",
    "\n",
    "from sklearn import ensemble, linear_model, model_selection, neighbors, preprocessing, svm\n",
    "\n",
    "from sklearn.cluster import KMeans\n",
    "from sklearn.ensemble import RandomForestClassifier\n",
    "from sklearn.feature_selection import SelectFromModel, SelectKBest, chi2\n",
    "from sklearn.impute import KNNImputer\n",
    "from sklearn.linear_model import LogisticRegression, SGDClassifier, Lasso, LassoCV, lasso_path, RidgeCV\n",
    "from sklearn.metrics import classification_report, accuracy_score, roc_curve, auc, mean_squared_error, recall_score, f1_score, precision_score\n",
    "from sklearn.model_selection import GridSearchCV, train_test_split, cross_val_score, learning_curve, KFold\n",
    "from sklearn.pipeline import make_pipeline\n",
    "from sklearn.preprocessing import StandardScaler, MinMaxScaler\n",
    "from sklearn.svm import SVC\n",
    "from sklearn.tree import DecisionTreeClassifier\n",
    "\n",
    "from imblearn.metrics import classification_report_imbalanced\n",
    "from imblearn.under_sampling import RandomUnderSampler"
   ]
  },
  {
   "cell_type": "markdown",
   "id": "b0ee11b9",
   "metadata": {
    "id": "b0ee11b9"
   },
   "source": [
    "# Récupération et amélioration du jeu de données"
   ]
  },
  {
   "cell_type": "markdown",
   "id": "7R1qpHGUr2Oq",
   "metadata": {
    "id": "7R1qpHGUr2Oq"
   },
   "source": [
    "## Préparation des données"
   ]
  },
  {
   "cell_type": "code",
   "execution_count": null,
   "id": "f352cce9",
   "metadata": {
    "colab": {
     "base_uri": "https://localhost:8080/",
     "height": 73,
     "resources": {
      "http://localhost:8080/nbextensions/google.colab/files.js": {
       "data": "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",
       "headers": [
        [
         "content-type",
         "application/javascript"
        ]
       ],
       "ok": true,
       "status": 200,
       "status_text": ""
      }
     }
    },
    "id": "OEU8rLCSTdMC",
    "outputId": "90464b25-93ac-4da8-8085-58ea6b79f8be"
   },
   "outputs": [],
   "source": [
    "# chargement des données en local\n",
    "from google.colab import files\n",
    "uploaded = files.upload()"
   ]
  },
  {
   "cell_type": "code",
   "execution_count": 2,
   "id": "bLAFw7uVxtUQ",
   "metadata": {
    "colab": {
     "base_uri": "https://localhost:8080/",
     "height": 280
    },
    "id": "bLAFw7uVxtUQ",
    "outputId": "114aa6d1-22cc-4cca-cd67-20487c931e8b"
   },
   "outputs": [
    {
     "data": {
      "text/html": [
       "<div>\n",
       "<style scoped>\n",
       "    .dataframe tbody tr th:only-of-type {\n",
       "        vertical-align: middle;\n",
       "    }\n",
       "\n",
       "    .dataframe tbody tr th {\n",
       "        vertical-align: top;\n",
       "    }\n",
       "\n",
       "    .dataframe thead th {\n",
       "        text-align: right;\n",
       "    }\n",
       "</style>\n",
       "<table border=\"1\" class=\"dataframe\">\n",
       "  <thead>\n",
       "    <tr style=\"text-align: right;\">\n",
       "      <th></th>\n",
       "      <th>Date</th>\n",
       "      <th>Location</th>\n",
       "      <th>MinTemp</th>\n",
       "      <th>MaxTemp</th>\n",
       "      <th>Rainfall</th>\n",
       "      <th>Evaporation</th>\n",
       "      <th>Sunshine</th>\n",
       "      <th>WindGustDir</th>\n",
       "      <th>WindGustSpeed</th>\n",
       "      <th>WindDir9am</th>\n",
       "      <th>...</th>\n",
       "      <th>Humidity9am</th>\n",
       "      <th>Humidity3pm</th>\n",
       "      <th>Pressure9am</th>\n",
       "      <th>Pressure3pm</th>\n",
       "      <th>Cloud9am</th>\n",
       "      <th>Cloud3pm</th>\n",
       "      <th>Temp9am</th>\n",
       "      <th>Temp3pm</th>\n",
       "      <th>RainToday</th>\n",
       "      <th>RainTomorrow</th>\n",
       "    </tr>\n",
       "  </thead>\n",
       "  <tbody>\n",
       "    <tr>\n",
       "      <th>0</th>\n",
       "      <td>2008-12-01</td>\n",
       "      <td>Albury</td>\n",
       "      <td>13.4</td>\n",
       "      <td>22.9</td>\n",
       "      <td>0.6</td>\n",
       "      <td>NaN</td>\n",
       "      <td>NaN</td>\n",
       "      <td>W</td>\n",
       "      <td>44.0</td>\n",
       "      <td>W</td>\n",
       "      <td>...</td>\n",
       "      <td>71.0</td>\n",
       "      <td>22.0</td>\n",
       "      <td>1007.7</td>\n",
       "      <td>1007.1</td>\n",
       "      <td>8.0</td>\n",
       "      <td>NaN</td>\n",
       "      <td>16.9</td>\n",
       "      <td>21.8</td>\n",
       "      <td>No</td>\n",
       "      <td>No</td>\n",
       "    </tr>\n",
       "    <tr>\n",
       "      <th>1</th>\n",
       "      <td>2008-12-02</td>\n",
       "      <td>Albury</td>\n",
       "      <td>7.4</td>\n",
       "      <td>25.1</td>\n",
       "      <td>0.0</td>\n",
       "      <td>NaN</td>\n",
       "      <td>NaN</td>\n",
       "      <td>WNW</td>\n",
       "      <td>44.0</td>\n",
       "      <td>NNW</td>\n",
       "      <td>...</td>\n",
       "      <td>44.0</td>\n",
       "      <td>25.0</td>\n",
       "      <td>1010.6</td>\n",
       "      <td>1007.8</td>\n",
       "      <td>NaN</td>\n",
       "      <td>NaN</td>\n",
       "      <td>17.2</td>\n",
       "      <td>24.3</td>\n",
       "      <td>No</td>\n",
       "      <td>No</td>\n",
       "    </tr>\n",
       "    <tr>\n",
       "      <th>2</th>\n",
       "      <td>2008-12-03</td>\n",
       "      <td>Albury</td>\n",
       "      <td>12.9</td>\n",
       "      <td>25.7</td>\n",
       "      <td>0.0</td>\n",
       "      <td>NaN</td>\n",
       "      <td>NaN</td>\n",
       "      <td>WSW</td>\n",
       "      <td>46.0</td>\n",
       "      <td>W</td>\n",
       "      <td>...</td>\n",
       "      <td>38.0</td>\n",
       "      <td>30.0</td>\n",
       "      <td>1007.6</td>\n",
       "      <td>1008.7</td>\n",
       "      <td>NaN</td>\n",
       "      <td>2.0</td>\n",
       "      <td>21.0</td>\n",
       "      <td>23.2</td>\n",
       "      <td>No</td>\n",
       "      <td>No</td>\n",
       "    </tr>\n",
       "    <tr>\n",
       "      <th>3</th>\n",
       "      <td>2008-12-04</td>\n",
       "      <td>Albury</td>\n",
       "      <td>9.2</td>\n",
       "      <td>28.0</td>\n",
       "      <td>0.0</td>\n",
       "      <td>NaN</td>\n",
       "      <td>NaN</td>\n",
       "      <td>NE</td>\n",
       "      <td>24.0</td>\n",
       "      <td>SE</td>\n",
       "      <td>...</td>\n",
       "      <td>45.0</td>\n",
       "      <td>16.0</td>\n",
       "      <td>1017.6</td>\n",
       "      <td>1012.8</td>\n",
       "      <td>NaN</td>\n",
       "      <td>NaN</td>\n",
       "      <td>18.1</td>\n",
       "      <td>26.5</td>\n",
       "      <td>No</td>\n",
       "      <td>No</td>\n",
       "    </tr>\n",
       "    <tr>\n",
       "      <th>4</th>\n",
       "      <td>2008-12-05</td>\n",
       "      <td>Albury</td>\n",
       "      <td>17.5</td>\n",
       "      <td>32.3</td>\n",
       "      <td>1.0</td>\n",
       "      <td>NaN</td>\n",
       "      <td>NaN</td>\n",
       "      <td>W</td>\n",
       "      <td>41.0</td>\n",
       "      <td>ENE</td>\n",
       "      <td>...</td>\n",
       "      <td>82.0</td>\n",
       "      <td>33.0</td>\n",
       "      <td>1010.8</td>\n",
       "      <td>1006.0</td>\n",
       "      <td>7.0</td>\n",
       "      <td>8.0</td>\n",
       "      <td>17.8</td>\n",
       "      <td>29.7</td>\n",
       "      <td>No</td>\n",
       "      <td>No</td>\n",
       "    </tr>\n",
       "  </tbody>\n",
       "</table>\n",
       "<p>5 rows × 23 columns</p>\n",
       "</div>"
      ],
      "text/plain": [
       "         Date Location  MinTemp  MaxTemp  Rainfall  Evaporation  Sunshine  \\\n",
       "0  2008-12-01   Albury     13.4     22.9       0.6          NaN       NaN   \n",
       "1  2008-12-02   Albury      7.4     25.1       0.0          NaN       NaN   \n",
       "2  2008-12-03   Albury     12.9     25.7       0.0          NaN       NaN   \n",
       "3  2008-12-04   Albury      9.2     28.0       0.0          NaN       NaN   \n",
       "4  2008-12-05   Albury     17.5     32.3       1.0          NaN       NaN   \n",
       "\n",
       "  WindGustDir  WindGustSpeed WindDir9am  ... Humidity9am  Humidity3pm  \\\n",
       "0           W           44.0          W  ...        71.0         22.0   \n",
       "1         WNW           44.0        NNW  ...        44.0         25.0   \n",
       "2         WSW           46.0          W  ...        38.0         30.0   \n",
       "3          NE           24.0         SE  ...        45.0         16.0   \n",
       "4           W           41.0        ENE  ...        82.0         33.0   \n",
       "\n",
       "   Pressure9am  Pressure3pm  Cloud9am  Cloud3pm  Temp9am  Temp3pm  RainToday  \\\n",
       "0       1007.7       1007.1       8.0       NaN     16.9     21.8         No   \n",
       "1       1010.6       1007.8       NaN       NaN     17.2     24.3         No   \n",
       "2       1007.6       1008.7       NaN       2.0     21.0     23.2         No   \n",
       "3       1017.6       1012.8       NaN       NaN     18.1     26.5         No   \n",
       "4       1010.8       1006.0       7.0       8.0     17.8     29.7         No   \n",
       "\n",
       "   RainTomorrow  \n",
       "0            No  \n",
       "1            No  \n",
       "2            No  \n",
       "3            No  \n",
       "4            No  \n",
       "\n",
       "[5 rows x 23 columns]"
      ]
     },
     "execution_count": 2,
     "metadata": {},
     "output_type": "execute_result"
    }
   ],
   "source": [
    "# récupération du jeu de données\n",
    "df = pd.read_csv('weatherAUS.csv')\n",
    "df.head()"
   ]
  },
  {
   "cell_type": "code",
   "execution_count": 3,
   "id": "YwLMnzMaTdMH",
   "metadata": {
    "id": "YwLMnzMaTdMH"
   },
   "outputs": [],
   "source": [
    "# récupération du jeu de données sur Gdrive\n",
    "# from google.colab import drive\n",
    "# drive.mount('/content/drive')\n",
    "# df = pd.read_csv('/content/drive/My Drive/Colab Notebooks/Datascientest/Meteo/weatherAUS.csv')\n",
    "# df.head()"
   ]
  },
  {
   "cell_type": "code",
   "execution_count": 4,
   "id": "rlmB9I6zqS95",
   "metadata": {
    "colab": {
     "base_uri": "https://localhost:8080/"
    },
    "id": "rlmB9I6zqS95",
    "outputId": "0b521fff-b790-40cd-afbd-50d0674e9378"
   },
   "outputs": [
    {
     "name": "stdout",
     "output_type": "stream",
     "text": [
      "Taille du DataFrame initial:\n",
      "\n",
      "Nombre d'observations : 145460 \n",
      " Nombre de variables : 23\n"
     ]
    }
   ],
   "source": [
    "# taille du DataFrame initial\n",
    "obs_init = df.shape[0]\n",
    "var_init = df.shape[1]\n",
    "\n",
    "print(\"Taille du DataFrame initial:\\n\")\n",
    "print(\"Nombre d'observations : {} \\n Nombre de variables : {}\".format(df.shape[0], df.shape[1]))"
   ]
  },
  {
   "cell_type": "code",
   "execution_count": 5,
   "id": "0cdbd764",
   "metadata": {
    "id": "0cdbd764"
   },
   "outputs": [],
   "source": [
    "# suppression des doublons\n",
    "df.drop_duplicates(inplace=True)"
   ]
  },
  {
   "cell_type": "code",
   "execution_count": 6,
   "id": "_chAt5Utl9cZ",
   "metadata": {
    "colab": {
     "base_uri": "https://localhost:8080/"
    },
    "id": "_chAt5Utl9cZ",
    "outputId": "3e49f2db-3f8e-434b-a9fd-59fea071d652"
   },
   "outputs": [
    {
     "name": "stdout",
     "output_type": "stream",
     "text": [
      "Pourcentage de valeurs manquantes sur tout le dataframe: \n",
      "\n"
     ]
    },
    {
     "data": {
      "text/plain": [
       "Sunshine         48.009762\n",
       "Evaporation      43.166506\n",
       "Cloud3pm         40.807095\n",
       "Cloud9am         38.421559\n",
       "Pressure9am      10.356799\n",
       "Pressure3pm      10.331363\n",
       "WindDir9am        7.263853\n",
       "WindGustDir       7.098859\n",
       "WindGustSpeed     7.055548\n",
       "Humidity3pm       3.098446\n",
       "WindDir3pm        2.906641\n",
       "Temp3pm           2.481094\n",
       "RainTomorrow      2.245978\n",
       "Rainfall          2.241853\n",
       "RainToday         2.241853\n",
       "WindSpeed3pm      2.105046\n",
       "Humidity9am       1.824557\n",
       "Temp9am           1.214767\n",
       "WindSpeed9am      1.214767\n",
       "MinTemp           1.020899\n",
       "MaxTemp           0.866905\n",
       "Location          0.000000\n",
       "Date              0.000000\n",
       "dtype: float64"
      ]
     },
     "execution_count": 6,
     "metadata": {},
     "output_type": "execute_result"
    }
   ],
   "source": [
    "# détection des valeurs manquantes sur tout le dataframe\n",
    "print(\"Pourcentage de valeurs manquantes sur tout le dataframe: \\n\")\n",
    "df.isna().sum().sort_values(ascending=False).apply(lambda val : val/df.shape[0] * 100)"
   ]
  },
  {
   "cell_type": "markdown",
   "id": "NAvh2gf-2H4O",
   "metadata": {
    "id": "NAvh2gf-2H4O"
   },
   "source": [
    " - Les variables 'Sunshine', 'Evaporation', 'Cloud3pm' et 'Cloud9am' présentent la plus forte proportion de valeurs manquantes (entre 35% et 50%).\n",
    " - Les variables \"Date\" et \"Location\" n'ont pas de valeurs manquantes.\n",
    " - Les autres variables présentent moins de 10% de valeurs manquantes."
   ]
  },
  {
   "cell_type": "code",
   "execution_count": 7,
   "id": "fa52e5c9",
   "metadata": {
    "id": "fa52e5c9"
   },
   "outputs": [],
   "source": [
    "# suppression des valeurs manquantes pour \"RainToday\" et \"RainTomorrow\" qui ne contiennent que deux modalités.\n",
    "df.dropna(subset=['RainTomorrow', 'RainToday'], inplace=True)"
   ]
  },
  {
   "cell_type": "code",
   "execution_count": 8,
   "id": "e4XubV9jSRFe",
   "metadata": {
    "id": "e4XubV9jSRFe"
   },
   "outputs": [],
   "source": [
    "# encodage des variables qualitatives binaires\n",
    "df['RainToday'].replace({'No':0, 'Yes':1}, inplace = True)\n",
    "df['RainTomorrow'].replace({'No':0, 'Yes':1}, inplace = True)\n",
    "\n",
    "df['RainToday'] = df['RainToday'].astype('int64')\n",
    "df['RainTomorrow'] = df['RainTomorrow'].astype('int64')"
   ]
  },
  {
   "cell_type": "code",
   "execution_count": 13,
   "id": "auE5W_VKdJIE",
   "metadata": {
    "colab": {
     "base_uri": "https://localhost:8080/"
    },
    "id": "auE5W_VKdJIE",
    "outputId": "484f4eee-86ae-489c-d42d-c4152fc96631"
   },
   "outputs": [
    {
     "data": {
      "text/plain": [
       "GridSearchCV(cv=3,\n",
       "             estimator=Pipeline(steps=[('knnimputer', KNNImputer()),\n",
       "                                       ('sgdclassifier', SGDClassifier())]),\n",
       "             param_grid={'knnimputer__n_neighbors': [1, 2, 3, 4]})"
      ]
     },
     "execution_count": 13,
     "metadata": {},
     "output_type": "execute_result"
    }
   ],
   "source": [
    "# remplacement des NANs pour les variables présentant la plus forte proportion de valeurs manquantes\n",
    "# temps de calcul : ~ 1 h 30 min\n",
    "X = df[['Sunshine', 'Evaporation', 'Cloud3pm', 'Cloud9am']]\n",
    "y = df['RainTomorrow']\n",
    "\n",
    "X_train, X_test, y_train, y_test = train_test_split(X, y, test_size = 0.2, random_state=123)\n",
    "\n",
    "model = make_pipeline(KNNImputer(), SGDClassifier())\n",
    "\n",
    "params = {'knnimputer__n_neighbors' : [1,2,3,4]}\n",
    "\n",
    "grid = GridSearchCV(model, param_grid=params, cv=3)\n",
    "grid.fit(X_train, y_train)"
   ]
  },
  {
   "cell_type": "code",
   "execution_count": 14,
   "id": "cMFC7xGYJYz2",
   "metadata": {
    "colab": {
     "base_uri": "https://localhost:8080/"
    },
    "id": "cMFC7xGYJYz2",
    "outputId": "ad2501b9-46ef-42b0-9a6e-996ca64bf839"
   },
   "outputs": [
    {
     "data": {
      "text/plain": [
       "{'knnimputer__n_neighbors': 2}"
      ]
     },
     "execution_count": 14,
     "metadata": {},
     "output_type": "execute_result"
    }
   ],
   "source": [
    "grid.best_params_"
   ]
  },
  {
   "cell_type": "code",
   "execution_count": 9,
   "id": "7caf7c36",
   "metadata": {},
   "outputs": [],
   "source": [
    "best_param = 2"
   ]
  },
  {
   "cell_type": "code",
   "execution_count": 10,
   "id": "1QSg2ohhKgCO",
   "metadata": {
    "id": "1QSg2ohhKgCO"
   },
   "outputs": [],
   "source": [
    "# temps de calcul : ~ 20 min.\n",
    "imputer = KNNImputer(n_neighbors = best_param)\n",
    "df[['Sunshine', 'Evaporation', 'Cloud3pm', 'Cloud9am']] = imputer.fit_transform(df[['Sunshine', 'Evaporation', 'Cloud3pm', 'Cloud9am']])"
   ]
  },
  {
   "cell_type": "code",
   "execution_count": 11,
   "id": "jrus3jTHK86k",
   "metadata": {
    "colab": {
     "base_uri": "https://localhost:8080/"
    },
    "id": "jrus3jTHK86k",
    "outputId": "045d415f-6dcd-4c35-b676-0aed3611230b"
   },
   "outputs": [
    {
     "name": "stdout",
     "output_type": "stream",
     "text": [
      "Pourcentage de valeurs manquantes sur tout le dataframe: \n",
      "\n"
     ]
    },
    {
     "data": {
      "text/plain": [
       "Pressure3pm      9.780022\n",
       "Pressure9am      9.761555\n",
       "WindDir9am       6.861429\n",
       "WindGustDir      6.508413\n",
       "WindGustSpeed    6.467216\n",
       "WindDir3pm       2.606775\n",
       "Humidity3pm      2.486735\n",
       "Temp3pm          1.863808\n",
       "WindSpeed3pm     1.797751\n",
       "Humidity9am      1.077514\n",
       "WindSpeed9am     0.749359\n",
       "Temp9am          0.465952\n",
       "MinTemp          0.332417\n",
       "MaxTemp          0.218060\n",
       "RainToday        0.000000\n",
       "Cloud9am         0.000000\n",
       "Cloud3pm         0.000000\n",
       "Date             0.000000\n",
       "Location         0.000000\n",
       "Sunshine         0.000000\n",
       "Evaporation      0.000000\n",
       "Rainfall         0.000000\n",
       "RainTomorrow     0.000000\n",
       "dtype: float64"
      ]
     },
     "execution_count": 11,
     "metadata": {},
     "output_type": "execute_result"
    }
   ],
   "source": [
    "# détection des valeurs manquantes sur tout le dataframe\n",
    "print(\"Pourcentage de valeurs manquantes sur tout le dataframe: \\n\")\n",
    "df.isna().sum().sort_values(ascending=False).apply(lambda val : val/df.shape[0]*100)"
   ]
  },
  {
   "cell_type": "code",
   "execution_count": 12,
   "id": "7VB0az1ASO4g",
   "metadata": {
    "colab": {
     "base_uri": "https://localhost:8080/",
     "height": 238
    },
    "id": "7VB0az1ASO4g",
    "outputId": "5e50a5cb-6d24-45c3-92d4-3c87592707a9"
   },
   "outputs": [
    {
     "data": {
      "text/html": [
       "<div>\n",
       "<style scoped>\n",
       "    .dataframe tbody tr th:only-of-type {\n",
       "        vertical-align: middle;\n",
       "    }\n",
       "\n",
       "    .dataframe tbody tr th {\n",
       "        vertical-align: top;\n",
       "    }\n",
       "\n",
       "    .dataframe thead th {\n",
       "        text-align: right;\n",
       "    }\n",
       "</style>\n",
       "<table border=\"1\" class=\"dataframe\">\n",
       "  <thead>\n",
       "    <tr style=\"text-align: right;\">\n",
       "      <th></th>\n",
       "      <th>Pressure3pm</th>\n",
       "      <th>Pressure9am</th>\n",
       "      <th>WindGustSpeed</th>\n",
       "      <th>Humidity3pm</th>\n",
       "      <th>Temp3pm</th>\n",
       "      <th>WindSpeed3pm</th>\n",
       "      <th>Humidity9am</th>\n",
       "      <th>WindSpeed9am</th>\n",
       "      <th>Temp9am</th>\n",
       "      <th>MinTemp</th>\n",
       "      <th>MaxTemp</th>\n",
       "    </tr>\n",
       "    <tr>\n",
       "      <th>Date</th>\n",
       "      <th></th>\n",
       "      <th></th>\n",
       "      <th></th>\n",
       "      <th></th>\n",
       "      <th></th>\n",
       "      <th></th>\n",
       "      <th></th>\n",
       "      <th></th>\n",
       "      <th></th>\n",
       "      <th></th>\n",
       "      <th></th>\n",
       "    </tr>\n",
       "  </thead>\n",
       "  <tbody>\n",
       "    <tr>\n",
       "      <th>2008-12-01</th>\n",
       "      <td>1007.1</td>\n",
       "      <td>1007.7</td>\n",
       "      <td>44.0</td>\n",
       "      <td>22.0</td>\n",
       "      <td>21.8</td>\n",
       "      <td>24.0</td>\n",
       "      <td>71.0</td>\n",
       "      <td>20.0</td>\n",
       "      <td>16.9</td>\n",
       "      <td>13.4</td>\n",
       "      <td>22.9</td>\n",
       "    </tr>\n",
       "    <tr>\n",
       "      <th>2008-12-02</th>\n",
       "      <td>1007.8</td>\n",
       "      <td>1010.6</td>\n",
       "      <td>44.0</td>\n",
       "      <td>25.0</td>\n",
       "      <td>24.3</td>\n",
       "      <td>22.0</td>\n",
       "      <td>44.0</td>\n",
       "      <td>4.0</td>\n",
       "      <td>17.2</td>\n",
       "      <td>7.4</td>\n",
       "      <td>25.1</td>\n",
       "    </tr>\n",
       "    <tr>\n",
       "      <th>2008-12-03</th>\n",
       "      <td>1008.7</td>\n",
       "      <td>1007.6</td>\n",
       "      <td>46.0</td>\n",
       "      <td>30.0</td>\n",
       "      <td>23.2</td>\n",
       "      <td>26.0</td>\n",
       "      <td>38.0</td>\n",
       "      <td>19.0</td>\n",
       "      <td>21.0</td>\n",
       "      <td>12.9</td>\n",
       "      <td>25.7</td>\n",
       "    </tr>\n",
       "    <tr>\n",
       "      <th>2008-12-04</th>\n",
       "      <td>1012.8</td>\n",
       "      <td>1017.6</td>\n",
       "      <td>24.0</td>\n",
       "      <td>16.0</td>\n",
       "      <td>26.5</td>\n",
       "      <td>9.0</td>\n",
       "      <td>45.0</td>\n",
       "      <td>11.0</td>\n",
       "      <td>18.1</td>\n",
       "      <td>9.2</td>\n",
       "      <td>28.0</td>\n",
       "    </tr>\n",
       "    <tr>\n",
       "      <th>2008-12-05</th>\n",
       "      <td>1006.0</td>\n",
       "      <td>1010.8</td>\n",
       "      <td>41.0</td>\n",
       "      <td>33.0</td>\n",
       "      <td>29.7</td>\n",
       "      <td>20.0</td>\n",
       "      <td>82.0</td>\n",
       "      <td>7.0</td>\n",
       "      <td>17.8</td>\n",
       "      <td>17.5</td>\n",
       "      <td>32.3</td>\n",
       "    </tr>\n",
       "  </tbody>\n",
       "</table>\n",
       "</div>"
      ],
      "text/plain": [
       "            Pressure3pm  Pressure9am  WindGustSpeed  Humidity3pm  Temp3pm  \\\n",
       "Date                                                                        \n",
       "2008-12-01       1007.1       1007.7           44.0         22.0     21.8   \n",
       "2008-12-02       1007.8       1010.6           44.0         25.0     24.3   \n",
       "2008-12-03       1008.7       1007.6           46.0         30.0     23.2   \n",
       "2008-12-04       1012.8       1017.6           24.0         16.0     26.5   \n",
       "2008-12-05       1006.0       1010.8           41.0         33.0     29.7   \n",
       "\n",
       "            WindSpeed3pm  Humidity9am  WindSpeed9am  Temp9am  MinTemp  MaxTemp  \n",
       "Date                                                                            \n",
       "2008-12-01          24.0         71.0          20.0     16.9     13.4     22.9  \n",
       "2008-12-02          22.0         44.0           4.0     17.2      7.4     25.1  \n",
       "2008-12-03          26.0         38.0          19.0     21.0     12.9     25.7  \n",
       "2008-12-04           9.0         45.0          11.0     18.1      9.2     28.0  \n",
       "2008-12-05          20.0         82.0           7.0     17.8     17.5     32.3  "
      ]
     },
     "execution_count": 12,
     "metadata": {},
     "output_type": "execute_result"
    }
   ],
   "source": [
    "# remplacement des NANs pour les variables présentant des valeurs manquantes\n",
    "num_vars_with_nans = ['Pressure3pm','Pressure9am','WindGustSpeed','Humidity3pm','Temp3pm','WindSpeed3pm','Humidity9am','WindSpeed9am','Temp9am','MinTemp','MaxTemp']\n",
    "\n",
    "index_date = pd.to_datetime(df['Date'])\n",
    "df = df.set_index(index_date)\n",
    "\n",
    "df_date = df.set_index(index_date)[num_vars_with_nans]\n",
    "df_date.head()"
   ]
  },
  {
   "cell_type": "code",
   "execution_count": 13,
   "id": "Tyc2fwVRUhWM",
   "metadata": {
    "id": "Tyc2fwVRUhWM"
   },
   "outputs": [],
   "source": [
    "# remplacement des NANs pour les variables présentant des valeurs manquantes\n",
    "df_date = df_date.interpolate(method=\"time\")"
   ]
  },
  {
   "cell_type": "code",
   "execution_count": 14,
   "id": "D5NWogGfVxz4",
   "metadata": {
    "id": "D5NWogGfVxz4"
   },
   "outputs": [],
   "source": [
    "# remplacement des NANs pour les variables présentant des valeurs manquantes\n",
    "df[num_vars_with_nans] = df_date[num_vars_with_nans]"
   ]
  },
  {
   "cell_type": "code",
   "execution_count": 15,
   "id": "uneZPlQSUoWO",
   "metadata": {
    "colab": {
     "base_uri": "https://localhost:8080/"
    },
    "id": "uneZPlQSUoWO",
    "outputId": "1a562511-80f0-4e24-ab3a-5e9fa68b4035"
   },
   "outputs": [
    {
     "data": {
      "text/plain": [
       "Date                0\n",
       "Location            0\n",
       "MinTemp             0\n",
       "MaxTemp             0\n",
       "Rainfall            0\n",
       "Evaporation         0\n",
       "Sunshine            0\n",
       "WindGustDir      9163\n",
       "WindGustSpeed       0\n",
       "WindDir9am       9660\n",
       "WindDir3pm       3670\n",
       "WindSpeed9am        0\n",
       "WindSpeed3pm        0\n",
       "Humidity9am         0\n",
       "Humidity3pm         0\n",
       "Pressure9am         0\n",
       "Pressure3pm         0\n",
       "Cloud9am            0\n",
       "Cloud3pm            0\n",
       "Temp9am             0\n",
       "Temp3pm             0\n",
       "RainToday           0\n",
       "RainTomorrow        0\n",
       "dtype: int64"
      ]
     },
     "execution_count": 15,
     "metadata": {},
     "output_type": "execute_result"
    }
   ],
   "source": [
    "df.isna().sum()"
   ]
  },
  {
   "cell_type": "code",
   "execution_count": 16,
   "id": "u_E6QXC6XzEe",
   "metadata": {
    "id": "u_E6QXC6XzEe"
   },
   "outputs": [],
   "source": [
    "# remplacement des valeurs manquantes en utilisant le mode\n",
    "for feat in ['WindGustDir', 'WindDir9am', 'WindDir3pm'] :\n",
    "    df[feat].fillna(df[feat].mode()[0], inplace=True)"
   ]
  },
  {
   "cell_type": "code",
   "execution_count": 17,
   "id": "0MsdGgRAYH9J",
   "metadata": {
    "colab": {
     "base_uri": "https://localhost:8080/"
    },
    "id": "0MsdGgRAYH9J",
    "outputId": "68c7d798-8f74-4093-b296-bffac04e2acc"
   },
   "outputs": [
    {
     "data": {
      "text/plain": [
       "0"
      ]
     },
     "execution_count": 17,
     "metadata": {},
     "output_type": "execute_result"
    }
   ],
   "source": [
    "# vérification finale sur le nombre de valeurs manquantes\n",
    "df.isna().sum().sum()"
   ]
  },
  {
   "cell_type": "code",
   "execution_count": 18,
   "id": "wueJfzv1O_Zs",
   "metadata": {
    "id": "wueJfzv1O_Zs"
   },
   "outputs": [],
   "source": [
    "# définition de nouvelles variables\n",
    "df['Temp_Delta_MinMax'] = df['MaxTemp'] - df['MinTemp']\n",
    "df['Humidity_Delta'] = df['Humidity3pm'] - df['Humidity9am']"
   ]
  },
  {
   "cell_type": "code",
   "execution_count": 19,
   "id": "-ctXayikSGF0",
   "metadata": {
    "colab": {
     "base_uri": "https://localhost:8080/"
    },
    "id": "-ctXayikSGF0",
    "outputId": "ecd3c3cb-9ed5-4122-882c-74e7b24a477b"
   },
   "outputs": [
    {
     "data": {
      "text/plain": [
       "RainTomorrow         1.000000\n",
       "Humidity3pm          0.438034\n",
       "RainToday            0.313097\n",
       "Cloud3pm             0.290933\n",
       "Humidity9am          0.256141\n",
       "Humidity_Delta       0.253574\n",
       "Cloud9am             0.244862\n",
       "Rainfall             0.239032\n",
       "WindGustSpeed        0.217533\n",
       "WindSpeed9am         0.089186\n",
       "WindSpeed3pm         0.085503\n",
       "MinTemp              0.083992\n",
       "Temp9am             -0.025635\n",
       "Evaporation         -0.090469\n",
       "MaxTemp             -0.159395\n",
       "Temp3pm             -0.188807\n",
       "Pressure3pm         -0.211297\n",
       "Pressure9am         -0.229678\n",
       "Temp_Delta_MinMax   -0.336272\n",
       "Sunshine            -0.344986\n",
       "Name: RainTomorrow, dtype: float64"
      ]
     },
     "execution_count": 19,
     "metadata": {},
     "output_type": "execute_result"
    }
   ],
   "source": [
    "# corrélations avec la variable cible\n",
    "df.corr()['RainTomorrow'].sort_values(ascending=False)"
   ]
  },
  {
   "cell_type": "code",
   "execution_count": 20,
   "id": "qBgk5EbqTb0c",
   "metadata": {
    "id": "qBgk5EbqTb0c"
   },
   "outputs": [],
   "source": [
    "# suppression des variables les moins corrélées à la variable cible (choix arbitraire : 'inférieur à 0.15 en valeur absolue')\n",
    "df.drop(columns=['WindSpeed9am', 'WindSpeed3pm', 'MinTemp', 'Temp9am', 'Evaporation'], inplace=True)"
   ]
  },
  {
   "cell_type": "code",
   "execution_count": 21,
   "id": "oSbMb69ZVxlV",
   "metadata": {
    "id": "oSbMb69ZVxlV"
   },
   "outputs": [],
   "source": [
    "# suppression de la date car ni l'année, le mois, la semaine ou la journée ne sont pas très corrélées avec la variable cible\n",
    "df.drop(columns=['Date'], inplace=True)"
   ]
  },
  {
   "cell_type": "code",
   "execution_count": 22,
   "id": "F2kUlIyUgwOh",
   "metadata": {
    "id": "F2kUlIyUgwOh"
   },
   "outputs": [],
   "source": [
    "# définition de la fonction mesurant le niveau de corrélation par le V de Cramer\n",
    "def V_Cramer(table, N):\n",
    "    stat_chi2 = chi2_contingency(table)[0]\n",
    "    k = table.shape[0]\n",
    "    r = table.shape[1]\n",
    "    phi = max(0, (stat_chi2/N)-((k-1)*(r-1)/(N-1)))\n",
    "    k_corr = k - (np.square(k-1)/(N-1))\n",
    "    r_corr = r - (np.square(r-1)/(N-1))\n",
    "    return np.sqrt(phi/min(k_corr - 1, r_corr - 1))"
   ]
  },
  {
   "cell_type": "code",
   "execution_count": 23,
   "id": "bW56YrFvg0pU",
   "metadata": {
    "colab": {
     "base_uri": "https://localhost:8080/"
    },
    "id": "bW56YrFvg0pU",
    "outputId": "9bdf4f51-3615-416a-8d20-ff1c3b8f924b"
   },
   "outputs": [
    {
     "name": "stdout",
     "output_type": "stream",
     "text": [
      "Table de contingence :\n",
      "V_Cramer = 0.27673959015296234\n"
     ]
    }
   ],
   "source": [
    "# table de contingence entre entre les variables 'Humidity9am' et 'RainTomorrow'\n",
    "print(\"Table de contingence :\")\n",
    "table = pd.crosstab(df['Humidity9am'], df['RainTomorrow'])\n",
    "\n",
    "# mesure du niveau de corrélation par le V de Cramer\n",
    "print(\"V_Cramer = {}\".format(V_Cramer(table, df.shape[0])))"
   ]
  },
  {
   "cell_type": "code",
   "execution_count": 24,
   "id": "ixseXohRZhKa",
   "metadata": {
    "colab": {
     "base_uri": "https://localhost:8080/"
    },
    "id": "ixseXohRZhKa",
    "outputId": "2008cb36-c9b0-490d-d9e0-cd20c1eef2f1"
   },
   "outputs": [
    {
     "name": "stdout",
     "output_type": "stream",
     "text": [
      "Table de contingence :\n",
      "V_Cramer = 0.28019656157074646\n"
     ]
    }
   ],
   "source": [
    "# table de contingence entre les variables 'Humidity_Delta' et 'RainTomorrow'\n",
    "print(\"Table de contingence :\")\n",
    "table = pd.crosstab(df['Humidity_Delta'], df['RainTomorrow'])\n",
    "\n",
    "# mesure du niveau de corrélation par le V de Cramer\n",
    "print(\"V_Cramer = {}\".format(V_Cramer(table, df.shape[0])))"
   ]
  },
  {
   "cell_type": "code",
   "execution_count": 25,
   "id": "us4TmGfrYTnF",
   "metadata": {
    "id": "us4TmGfrYTnF"
   },
   "outputs": [],
   "source": [
    "# suppression de la variable \"Humidity9am\", moins corrélée à la variable cible que \"Humidity_Delta\"\n",
    "df.drop(columns=['Humidity9am'], inplace=True)"
   ]
  },
  {
   "cell_type": "code",
   "execution_count": 26,
   "id": "VgWynTeXWZ2f",
   "metadata": {
    "colab": {
     "base_uri": "https://localhost:8080/",
     "height": 697
    },
    "id": "VgWynTeXWZ2f",
    "outputId": "32d6f518-5f41-45cc-d5c1-56c961c653a6"
   },
   "outputs": [
    {
     "data": {
      "image/png": "[encoded data removed]",
      "text/plain": [
       "<Figure size 720x720 with 2 Axes>"
      ]
     },
     "metadata": {
      "needs_background": "light"
     },
     "output_type": "display_data"
    }
   ],
   "source": [
    "# création de la matrice de corrélation\n",
    "fig, ax = plt.subplots(figsize=(10,10))\n",
    "annot_kws={'fontsize':10,  \n",
    "           'color':\"k\", \n",
    "           'verticalalignment':'center'}\n",
    "sns.heatmap(df.corr(), linewidths=0.5, annot=True, annot_kws=annot_kws, fmt=\".2f\", ax=ax, cmap='coolwarm', center=0)\n",
    "plt.title('Matrice de corrélation du jeu de données', fontsize=10);"
   ]
  },
  {
   "cell_type": "markdown",
   "id": "WY4oh3i5aQTE",
   "metadata": {
    "id": "WY4oh3i5aQTE"
   },
   "source": [
    "- 'Temp3pm' et 'MaxTemp' sont très fortement corrélées (+0.97)\n",
    "- 'Pressure9am' et 'Pressure3pm' sont très fortement corrélées (+0.92)\n",
    "- 'Humidity3pm' et 'Temp_Delta_MinMax' sont très fortement corrélées (-0.72)\n",
    "- 'Sunshine' et 'Cloud3pm' sont fortement corrélées (-0.68)\n",
    "- 'Sunshine' et 'Cloud9am' sont fortement corrélées (-0.62)\n",
    "- 'Cloud9am' et 'Cloud3pm' sont fortement corrélées (+0.59)\n",
    "- 'Humidity3pm' et 'Temp3pm' sont fortement corrélées (-0.55)\n",
    "\n"
   ]
  },
  {
   "cell_type": "code",
   "execution_count": 27,
   "id": "5PeqxDwSbsH2",
   "metadata": {
    "colab": {
     "base_uri": "https://localhost:8080/"
    },
    "id": "5PeqxDwSbsH2",
    "outputId": "2599ea10-1280-4fda-c8e1-866ebf49b6bf"
   },
   "outputs": [
    {
     "name": "stdout",
     "output_type": "stream",
     "text": [
      "Table de contingence :\n",
      "V_Cramer = 0.24423121889156266\n"
     ]
    }
   ],
   "source": [
    "# table de contingence entre les variables 'Pressure9am' et 'RainTomorrow'\n",
    "print(\"Table de contingence :\")\n",
    "table = pd.crosstab(df['Pressure9am'], df['RainTomorrow'])\n",
    "\n",
    "# mesure du niveau de corrélation par le V de Cramer\n",
    "print(\"V_Cramer = {}\".format(V_Cramer(table, df.shape[0])))"
   ]
  },
  {
   "cell_type": "code",
   "execution_count": 28,
   "id": "cSuXkN2pb2tU",
   "metadata": {
    "colab": {
     "base_uri": "https://localhost:8080/"
    },
    "id": "cSuXkN2pb2tU",
    "outputId": "4c955dfd-44ff-46c3-e4a3-77865b4af896"
   },
   "outputs": [
    {
     "name": "stdout",
     "output_type": "stream",
     "text": [
      "Table de contingence :\n",
      "V_Cramer = 0.22808735874790356\n"
     ]
    }
   ],
   "source": [
    "# table de contingence entre les variables 'Pressure3pm' et 'RainTomorrow'\n",
    "print(\"Table de contingence :\")\n",
    "table = pd.crosstab(df['Pressure3pm'], df['RainTomorrow'])\n",
    "\n",
    "# mesure du niveau de corrélation par le V de Cramer\n",
    "print(\"V_Cramer = {}\".format(V_Cramer(table, df.shape[0])))"
   ]
  },
  {
   "cell_type": "code",
   "execution_count": 29,
   "id": "yoYgUTyobb79",
   "metadata": {
    "id": "yoYgUTyobb79"
   },
   "outputs": [],
   "source": [
    "# suppression de la variable \"Pressure3pm\", moins corrélée à la variable cible que \"Pressure9am\"\n",
    "df.drop(columns=['Pressure3pm'], inplace=True)"
   ]
  },
  {
   "cell_type": "code",
   "execution_count": 30,
   "id": "Ree4Bd2NcE5v",
   "metadata": {
    "colab": {
     "base_uri": "https://localhost:8080/"
    },
    "id": "Ree4Bd2NcE5v",
    "outputId": "a8fcc7fa-34c4-4584-8037-1abe10ae1f81"
   },
   "outputs": [
    {
     "name": "stdout",
     "output_type": "stream",
     "text": [
      "Table de contingence :\n",
      "V_Cramer = 0.2514090246026841\n"
     ]
    }
   ],
   "source": [
    "# table de contingence entre les variables 'Cloud9am' et 'RainTomorrow'\n",
    "print(\"Table de contingence :\")\n",
    "table = pd.crosstab(df['Cloud9am'], df['RainTomorrow'])\n",
    "\n",
    "# mesure du niveau de corrélation par le V de Cramer\n",
    "print(\"V_Cramer = {}\".format(V_Cramer(table, df.shape[0])))"
   ]
  },
  {
   "cell_type": "code",
   "execution_count": 31,
   "id": "s-UlBbNYcFsl",
   "metadata": {
    "colab": {
     "base_uri": "https://localhost:8080/"
    },
    "id": "s-UlBbNYcFsl",
    "outputId": "b320b020-80aa-487c-e2d0-7e2ad9fe8f4d"
   },
   "outputs": [
    {
     "name": "stdout",
     "output_type": "stream",
     "text": [
      "Table de contingence :\n",
      "V_Cramer = 0.30240619666711077\n"
     ]
    }
   ],
   "source": [
    "# table de contingence entre les variables 'Cloud3pm' et 'RainTomorrow'\n",
    "print(\"Table de contingence :\")\n",
    "table = pd.crosstab(df['Cloud3pm'], df['RainTomorrow'])\n",
    "\n",
    "# mesure du niveau de corrélation par le V de Cramer\n",
    "print(\"V_Cramer = {}\".format(V_Cramer(table, df.shape[0])))"
   ]
  },
  {
   "cell_type": "code",
   "execution_count": 32,
   "id": "HjwE_bI8ZTTH",
   "metadata": {
    "id": "HjwE_bI8ZTTH"
   },
   "outputs": [],
   "source": [
    "# suppression de la variable \"Cloud9am\", moins corrélée à la variable cible que \"Cloud3pm\"\n",
    "df.drop(columns=['Cloud9am'], inplace=True)"
   ]
  },
  {
   "cell_type": "code",
   "execution_count": 33,
   "id": "de2db20c",
   "metadata": {
    "colab": {
     "base_uri": "https://localhost:8080/"
    },
    "id": "de2db20c",
    "outputId": "ee583c85-6003-4749-f77d-0795d39490cb"
   },
   "outputs": [
    {
     "name": "stdout",
     "output_type": "stream",
     "text": [
      "Variables quantitatives: ['MaxTemp', 'Rainfall', 'Sunshine', 'WindGustSpeed', 'Humidity3pm', 'Pressure9am', 'Cloud3pm', 'Temp3pm', 'RainToday', 'RainTomorrow', 'Temp_Delta_MinMax', 'Humidity_Delta'] \n",
      "\n",
      "Nombre de variables quantitatives: 12\n"
     ]
    }
   ],
   "source": [
    "# récupération des variables quantitatives\n",
    "num_features = [col for col in df.columns if df[col].dtype != 'O']\n",
    "num_data = df.select_dtypes(include='number')\n",
    "\n",
    "print(\"Variables quantitatives: {}\".format(num_features),'\\n')\n",
    "print(\"Nombre de variables quantitatives: {}\".format(len(num_features)))"
   ]
  },
  {
   "cell_type": "code",
   "execution_count": 34,
   "id": "MtdYsVNPI96k",
   "metadata": {
    "colab": {
     "base_uri": "https://localhost:8080/"
    },
    "id": "MtdYsVNPI96k",
    "outputId": "89238ba3-99af-4d2c-c0c5-6b66a032c58c"
   },
   "outputs": [
    {
     "name": "stdout",
     "output_type": "stream",
     "text": [
      "Cardinalité de 'MaxTemp': 503\n",
      "Cardinalité de 'Rainfall': 679\n",
      "Cardinalité de 'Sunshine': 376\n",
      "Cardinalité de 'WindGustSpeed': 68\n",
      "Cardinalité de 'Humidity3pm': 101\n",
      "Cardinalité de 'Pressure9am': 545\n",
      "Cardinalité de 'Cloud3pm': 19\n",
      "Cardinalité de 'Temp3pm': 500\n",
      "Cardinalité de 'RainToday': 2\n",
      "Cardinalité de 'RainTomorrow': 2\n",
      "Cardinalité de 'Temp_Delta_MinMax': 1094\n",
      "Cardinalité de 'Humidity_Delta': 165\n"
     ]
    }
   ],
   "source": [
    "# cardinalité\n",
    "for feature in num_features:\n",
    "    print(\"Cardinalité de '{}': {}\".format(feature, len(df[feature].unique())))"
   ]
  },
  {
   "cell_type": "code",
   "execution_count": 35,
   "id": "GDbUW7-EJBWV",
   "metadata": {
    "id": "GDbUW7-EJBWV"
   },
   "outputs": [],
   "source": [
    "# suppression de la variable \"RainToday\" qui ne contient que deux modalités et se comporte donc plutôt comme une variable qualitative \n",
    "# df.drop(columns=['RainToday'], inplace=True)"
   ]
  },
  {
   "cell_type": "code",
   "execution_count": 36,
   "id": "t7n-8rmkJEMP",
   "metadata": {
    "id": "t7n-8rmkJEMP"
   },
   "outputs": [],
   "source": [
    "# mise à jour de la liste des colonnes du DataFrame\n",
    "# num_features = [col for col in df.columns if df[col].dtype != 'O']"
   ]
  },
  {
   "cell_type": "code",
   "execution_count": 37,
   "id": "i5_QGNnNcvML",
   "metadata": {
    "colab": {
     "base_uri": "https://localhost:8080/"
    },
    "id": "i5_QGNnNcvML",
    "outputId": "6094a051-bde4-472d-93e6-e10fab452d0f"
   },
   "outputs": [
    {
     "name": "stdout",
     "output_type": "stream",
     "text": [
      "Variables qualitatives:  ['Location', 'WindGustDir', 'WindDir9am', 'WindDir3pm'] \n",
      "\n",
      "Nombre de variables qualitatives:  4\n"
     ]
    }
   ],
   "source": [
    "# récupération des variables qualitatives\n",
    "cat_features = [col for col in df.columns if df[col].dtype == 'O']\n",
    "cat_data = df.select_dtypes(include = 'O')\n",
    "\n",
    "print(\"Variables qualitatives: \", cat_features,'\\n')\n",
    "print(\"Nombre de variables qualitatives: \", len(cat_features))"
   ]
  },
  {
   "cell_type": "code",
   "execution_count": 38,
   "id": "zk3car3teGFu",
   "metadata": {
    "colab": {
     "base_uri": "https://localhost:8080/"
    },
    "id": "zk3car3teGFu",
    "outputId": "0dcce810-f778-473c-be99-81920fe88869"
   },
   "outputs": [
    {
     "name": "stdout",
     "output_type": "stream",
     "text": [
      "Cardinalité de 'Location': 49\n",
      "Cardinalité de 'WindGustDir': 16\n",
      "Cardinalité de 'WindDir9am': 16\n",
      "Cardinalité de 'WindDir3pm': 16\n"
     ]
    }
   ],
   "source": [
    "# cardinalité\n",
    "for feature in cat_features:\n",
    "    print(\"Cardinalité de '{}': {}\".format(feature, len(df[feature].unique())))"
   ]
  },
  {
   "cell_type": "code",
   "execution_count": 39,
   "id": "u6i3xR6wfxW4",
   "metadata": {
    "id": "u6i3xR6wfxW4"
   },
   "outputs": [],
   "source": [
    "# suppression des variables quantitatives \"WindGustDir\", \"WindDir9am\" et \"WindDir3pm\" qui présentent une cardinalité trop forte\n",
    "df.drop(columns=['WindGustDir', 'WindDir9am', 'WindDir3pm'], inplace=True)"
   ]
  },
  {
   "cell_type": "code",
   "execution_count": 40,
   "id": "-EycDWSefLPS",
   "metadata": {
    "id": "-EycDWSefLPS"
   },
   "outputs": [],
   "source": [
    "# mise à jour de la liste des colonnes du DataFrame\n",
    "cat_features = [col for col in df.columns if df[col].dtype == 'O']"
   ]
  },
  {
   "cell_type": "code",
   "execution_count": 41,
   "id": "7872af94",
   "metadata": {
    "id": "7872af94"
   },
   "outputs": [],
   "source": [
    "# transformation des variables qualitatives en variables numériques (Olivier)\n",
    "# for column in cat_features:\n",
    "#    l = df[column].value_counts().index.tolist() \n",
    "#    mapping = {x:y for x,y in zip(l, range(len(l)))}\n",
    "#    df[column] = df[column].map(mapping) "
   ]
  },
  {
   "cell_type": "code",
   "execution_count": 42,
   "id": "5Hli7qNhwdaX",
   "metadata": {
    "id": "5Hli7qNhwdaX"
   },
   "outputs": [],
   "source": [
    "# dichotomisation (one hot encoding)\n",
    "# onehot_features = ['WindGustDir', 'WindDir9am', 'WindDir3pm']\n",
    "\n",
    "# def one_hot_encode(df, cat, prefix):\n",
    "#     for col, pref in zip(cat, prefix):\n",
    "#         dummy = pd.get_dummies(df[col], prefix=pref)\n",
    "#         df = pd.concat([df, dummy], axis=1)\n",
    "#         df = df.drop(col, axis=1)\n",
    "#     return df\n",
    "\n",
    "# df = one_hot_encode(df, onehot_features, ['wgd', 'wd9', 'wd3'])"
   ]
  },
  {
   "cell_type": "code",
   "execution_count": 43,
   "id": "de1f49ce",
   "metadata": {
    "id": "de1f49ce"
   },
   "outputs": [],
   "source": [
    "# calcul des valeurs délimitant les outliers et remplacement des outliers par la valeur des limites \n",
    "for feature in ['MaxTemp','WindGustSpeed','Humidity3pm','Pressure9am','Rainfall','Temp3pm','Temp_Delta_MinMax','Humidity_Delta']:\n",
    "    q1 = df[feature].quantile(0.25)\n",
    "    q3 = df[feature].quantile(0.75)\n",
    "    IQR = q3 - q1\n",
    "    lower_limit = q1 - (IQR*1.5)\n",
    "    upper_limit = q3 + (IQR*1.5)\n",
    "    df.loc[df[feature] < lower_limit, feature] = lower_limit\n",
    "    df.loc[df[feature] > upper_limit, feature] = upper_limit"
   ]
  },
  {
   "cell_type": "code",
   "execution_count": 44,
   "id": "3be94bb2",
   "metadata": {
    "id": "3be94bb2"
   },
   "outputs": [],
   "source": [
    "# remplacement des valeurs manquantes en utilisant la moyenne\n",
    "# for feat in num_features :\n",
    "#     df[feat].fillna(df[feat].mean(), inplace=True)"
   ]
  },
  {
   "cell_type": "code",
   "execution_count": 45,
   "id": "de770c1a",
   "metadata": {
    "id": "de770c1a"
   },
   "outputs": [],
   "source": [
    "# Vérification des valeurs manquantes sur tout le DataFrame\n",
    "# df.isnull().sum().sum()"
   ]
  },
  {
   "cell_type": "code",
   "execution_count": 46,
   "id": "kF1RoNa6n9_z",
   "metadata": {
    "colab": {
     "base_uri": "https://localhost:8080/"
    },
    "id": "kF1RoNa6n9_z",
    "outputId": "83d484ed-3773-48e6-aa44-135c06fe9be4"
   },
   "outputs": [
    {
     "name": "stdout",
     "output_type": "stream",
     "text": [
      "Taille du DataFrame réduit:\n",
      "\n",
      "Nombre d'observations initial: 145460 \n",
      " Nombre de variables initial: 23 \n",
      "\n",
      "Nombre d'observations actuel: 140787 \n",
      " Nombre de variables actuel: 13 \n",
      "\n",
      "3.2 % des observations retirées\n",
      "43.5 % des variables retirées\n"
     ]
    }
   ],
   "source": [
    "# taille du DataFrame réduit\n",
    "print(\"Taille du DataFrame réduit:\\n\")\n",
    "\n",
    "print(\"Nombre d'observations initial: {} \\n Nombre de variables initial: {} \\n\".format(obs_init, var_init))\n",
    "print(\"Nombre d'observations actuel: {} \\n Nombre de variables actuel: {} \\n\".format(df.shape[0], df.shape[1]))\n",
    "\n",
    "print(\"{} % des observations retirées\".format(round(100*(obs_init-df.shape[0])/obs_init,1)))\n",
    "print(\"{} % des variables retirées\".format(round(100*(var_init-df.shape[1])/var_init,1)))"
   ]
  },
  {
   "cell_type": "code",
   "execution_count": 47,
   "id": "b41875bc",
   "metadata": {
    "colab": {
     "base_uri": "https://localhost:8080/",
     "height": 697
    },
    "id": "b41875bc",
    "outputId": "bf79f1f6-0da6-4fc0-eaaf-841bebf8c9d8",
    "scrolled": false
   },
   "outputs": [
    {
     "data": {
      "image/png": "[encoded data removed]",
      "text/plain": [
       "<Figure size 720x720 with 2 Axes>"
      ]
     },
     "metadata": {
      "needs_background": "light"
     },
     "output_type": "display_data"
    }
   ],
   "source": [
    "# création de la matrice de corrélation\n",
    "fig, ax = plt.subplots(figsize=(10,10))\n",
    "annot_kws={'fontsize':10,  \n",
    "           'color':\"k\", \n",
    "           'verticalalignment':'center'}\n",
    "sns.heatmap(df.corr(), linewidths=0.5, annot=True, annot_kws=annot_kws, fmt=\".2f\", ax=ax, cmap='coolwarm', center=0)\n",
    "plt.title('Matrice de corrélation du jeu de données', fontsize=10);"
   ]
  },
  {
   "cell_type": "markdown",
   "id": "hRYEWNM1i9lO",
   "metadata": {
    "id": "hRYEWNM1i9lO"
   },
   "source": [
    "- 'Temp3pm' et 'MaxTemp' sont très fortement corrélées (+0.97)\n",
    "- 'RainToday' et 'Rainfall' sont très fortement corrélées (+0.97)\n",
    "- 'Humidity3pm' et 'Temp_Delta_MinMax' sont très fortement corrélées (-0.72)\n",
    "- 'Sunshine' et 'Cloud3pm' sont fortement corrélées (-0.68)\n",
    "- 'Humidity3pm' et 'Temp3pm' sont fortement corrélées (-0.55)\n"
   ]
  },
  {
   "cell_type": "code",
   "execution_count": 48,
   "id": "56fd6f7a",
   "metadata": {},
   "outputs": [],
   "source": [
    "df.to_csv('weatherAUS_preprocessed_before_city_clust.csv')"
   ]
  },
  {
   "cell_type": "markdown",
   "id": "7cgssDKFKwJt",
   "metadata": {
    "id": "7cgssDKFKwJt"
   },
   "source": [
    "## Classification des villes en fonction du climat"
   ]
  },
  {
   "cell_type": "code",
   "execution_count": 49,
   "id": "96306454",
   "metadata": {},
   "outputs": [],
   "source": [
    "df = pd.read_csv(\"weatherAUS_preprocessed_before_city_clust.csv\")"
   ]
  },
  {
   "cell_type": "code",
   "execution_count": 50,
   "id": "7f74792b",
   "metadata": {},
   "outputs": [],
   "source": [
    "df.drop(columns=['Date'], inplace=True)"
   ]
  },
  {
   "cell_type": "code",
   "execution_count": 51,
   "id": "c5950586",
   "metadata": {},
   "outputs": [],
   "source": [
    "# chargement des coordonnées géographiques en local\n",
    "#uploaded = files.upload()\n",
    "aus_town_gps = pd.read_csv(\"aus_town_gps.csv\",sep=\",\")"
   ]
  },
  {
   "cell_type": "code",
   "execution_count": 52,
   "id": "85f33721",
   "metadata": {},
   "outputs": [],
   "source": [
    "# chargement du climat en local\n",
    "#uploaded = files.upload()\n",
    "climatsaus = pd.read_csv(\"climatsAUS_v2.csv\",sep=\";\")"
   ]
  },
  {
   "cell_type": "code",
   "execution_count": 53,
   "id": "3ddf3a1d",
   "metadata": {},
   "outputs": [],
   "source": [
    "# Pour simplifier, on regroupe les climats en 4 catégories : chaud_humide, tempéré_froid, sec et méditerranéen. On pourra ainsi faire des visualisations plus facilement.\n",
    "climats_type = {'Am':'chaud_humide',\n",
    "                'Aw':'chaud_humide',\n",
    "                'Cfa':'chaud_humide',\n",
    "                'Cfb':'tempéré_froid', \n",
    "                'Cfc':'tempéré_froid', \n",
    "                'BSh':'sec',\n",
    "                'BSk':'sec',\n",
    "                'Bsk':'sec', \n",
    "                'Bwh':'sec',\n",
    "                'Csa':'méditerranéen',\n",
    "                'Csb':'méditerranéen'              \n",
    "               }\n",
    "\n",
    "climatsaus['Clim_type']=climatsaus['Climat_Koppen'].map(climats_type)"
   ]
  },
  {
   "cell_type": "code",
   "execution_count": 54,
   "id": "8e024cec",
   "metadata": {},
   "outputs": [],
   "source": [
    "df = pd.merge(df, aus_town_gps, how='left', left_on=\"Location\",right_on=\"Location\")\n",
    "df = pd.merge(df, climatsaus, how='left', left_on=\"Location\",right_on=\"Location\")"
   ]
  },
  {
   "cell_type": "code",
   "execution_count": 55,
   "id": "2074f628",
   "metadata": {},
   "outputs": [],
   "source": [
    "clim_indic = pd.get_dummies(df.Clim_type, prefix='clim')\n",
    "df = df.join(clim_indic).drop('Clim_type', axis=1)"
   ]
  },
  {
   "cell_type": "code",
   "execution_count": 56,
   "id": "4992f2cc",
   "metadata": {},
   "outputs": [],
   "source": [
    "# suppression des colonnes\n",
    "df.drop(columns=['Location','Latitude', 'Longitude', 'Climat_Koppen'], inplace=True)"
   ]
  },
  {
   "cell_type": "code",
   "execution_count": 57,
   "id": "ebcd86bd",
   "metadata": {},
   "outputs": [],
   "source": [
    "df.to_csv('weatherAUS_Rev0.csv')"
   ]
  },
  {
   "cell_type": "code",
   "execution_count": 58,
   "id": "LrizdaXyCRZ8",
   "metadata": {
    "colab": {
     "base_uri": "https://localhost:8080/"
    },
    "id": "LrizdaXyCRZ8",
    "outputId": "423f5859-7c83-45e2-f758-08dfbe2b6538"
   },
   "outputs": [
    {
     "name": "stdout",
     "output_type": "stream",
     "text": [
      "Taille du DataFrame réduit:\n",
      "\n",
      "Nombre d'observations initial: 145460 \n",
      " Nombre de variables initial: 23 \n",
      "\n",
      "Nombre d'observations actuel: 140787 \n",
      " Nombre de variables actuel: 16 \n",
      "\n",
      "3.2 % des observations retirées\n",
      "30.4 % des variables retirées\n"
     ]
    }
   ],
   "source": [
    "# taille du DataFrame réduit\n",
    "print(\"Taille du DataFrame réduit:\\n\")\n",
    "\n",
    "print(\"Nombre d'observations initial: {} \\n Nombre de variables initial: {} \\n\".format(obs_init, var_init))\n",
    "print(\"Nombre d'observations actuel: {} \\n Nombre de variables actuel: {} \\n\".format(df.shape[0], df.shape[1]))\n",
    "\n",
    "print(\"{} % des observations retirées\".format(round(100*(obs_init-df.shape[0])/obs_init,1)))\n",
    "print(\"{} % des variables retirées\".format(round(100*(var_init-df.shape[1])/var_init,1)))"
   ]
  },
  {
   "cell_type": "code",
   "execution_count": 59,
   "id": "fely-LfHtmYj",
   "metadata": {
    "colab": {
     "base_uri": "https://localhost:8080/",
     "height": 697
    },
    "id": "fely-LfHtmYj",
    "outputId": "883883b7-7860-4d90-ef2a-09acd2239a3c"
   },
   "outputs": [
    {
     "data": {
      "image/png": "[encoded data removed]",
      "text/plain": [
       "<Figure size 720x720 with 2 Axes>"
      ]
     },
     "metadata": {
      "needs_background": "light"
     },
     "output_type": "display_data"
    }
   ],
   "source": [
    "# création de la matrice de corrélation\n",
    "fig, ax = plt.subplots(figsize=(10,10))\n",
    "annot_kws={'fontsize':10,  \n",
    "           'color':\"k\", \n",
    "           'verticalalignment':'center'}\n",
    "sns.heatmap(df.corr(), linewidths=0.5, annot=True, annot_kws=annot_kws, fmt=\".2f\", ax=ax, cmap='coolwarm', center=0)\n",
    "plt.title('Matrice de corrélation du jeu de données', fontsize=10);"
   ]
  },
  {
   "cell_type": "markdown",
   "id": "99Osdl5ftwfW",
   "metadata": {
    "id": "99Osdl5ftwfW"
   },
   "source": [
    "- 'Temp3pm' et 'MaxTemp' sont très fortement corrélées (+0.97)\n",
    "- 'RainToday' et 'Rainfall' sont très fortement corrélées (+0.97)\n",
    "- 'Humidity3pm' et 'Temp_Delta_MinMax' sont très fortement corrélées (-0.72)\n",
    "- 'Sunshine' et 'Cloud3pm' sont fortement corrélées (-0.68)\n",
    "- 'Humidity3pm' et 'Temp3pm' sont fortement corrélées (-0.55)"
   ]
  },
  {
   "cell_type": "markdown",
   "id": "Cg2aaW0BoxAB",
   "metadata": {
    "id": "Cg2aaW0BoxAB"
   },
   "source": [
    "## Etude de sélection de variables"
   ]
  },
  {
   "cell_type": "code",
   "execution_count": 60,
   "id": "y-70_BNSaQec",
   "metadata": {
    "id": "y-70_BNSaQec"
   },
   "outputs": [],
   "source": [
    "# normalisation de l'ensemble des données\n",
    "df_copy = df.copy()\n",
    "df_copy[df_copy.columns] = pd.DataFrame(StandardScaler().fit_transform(df_copy))"
   ]
  },
  {
   "cell_type": "code",
   "execution_count": 61,
   "id": "hvN1AU0nvyL2",
   "metadata": {
    "id": "hvN1AU0nvyL2"
   },
   "outputs": [],
   "source": [
    "# séparation des données en une matrice de données et en un vecteur cible\n",
    "data = df_copy.drop(columns=['RainTomorrow'])\n",
    "target = df_copy['RainTomorrow']"
   ]
  },
  {
   "cell_type": "code",
   "execution_count": 62,
   "id": "yTcyC9h8v13e",
   "metadata": {
    "id": "yTcyC9h8v13e"
   },
   "outputs": [],
   "source": [
    "# division des données en un ensemble d'entraînement et un ensemble de test correspondant respectivement à 80% et 20% de la quantité totale des données disponibles\n",
    "X_train, X_test, y_train, y_test = train_test_split(data, target, test_size = 0.2, random_state=123)"
   ]
  },
  {
   "cell_type": "code",
   "execution_count": 63,
   "id": "1ffaea1f",
   "metadata": {},
   "outputs": [
    {
     "data": {
      "text/plain": [
       "71436     1.874102\n",
       "16613    -0.533589\n",
       "35841    -0.533589\n",
       "109966   -0.533589\n",
       "115370   -0.533589\n",
       "            ...   \n",
       "129130   -0.533589\n",
       "119906   -0.533589\n",
       "17730    -0.533589\n",
       "28030    -0.533589\n",
       "15725    -0.533589\n",
       "Name: RainTomorrow, Length: 112629, dtype: float64"
      ]
     },
     "execution_count": 63,
     "metadata": {},
     "output_type": "execute_result"
    }
   ],
   "source": [
    "y_train"
   ]
  },
  {
   "cell_type": "markdown",
   "id": "T0UkvrmRa8FF",
   "metadata": {
    "id": "T0UkvrmRa8FF"
   },
   "source": [
    "### Régression Ridge"
   ]
  },
  {
   "cell_type": "code",
   "execution_count": 64,
   "id": "Jcc8Q9hPbBrt",
   "metadata": {
    "colab": {
     "base_uri": "https://localhost:8080/"
    },
    "id": "Jcc8Q9hPbBrt",
    "outputId": "17e827f3-6c51-41fc-8818-333201a8c26a"
   },
   "outputs": [
    {
     "data": {
      "text/plain": [
       "RidgeCV(alphas=array([0.001, 0.112, 0.223, 0.334, 0.445, 0.556, 0.667, 0.778, 0.889,\n",
       "       1.   ]))"
      ]
     },
     "execution_count": 64,
     "metadata": {},
     "output_type": "execute_result"
    }
   ],
   "source": [
    "# création d'un modèle de régression Ridge et ajustement sur données d'apprentissage\n",
    "ridge_reg = RidgeCV(alphas=np.linspace(0.001, 1, 10))\n",
    "ridge_reg.fit(X_train, y_train)"
   ]
  },
  {
   "cell_type": "code",
   "execution_count": 65,
   "id": "vJcZEaZPbuIz",
   "metadata": {
    "colab": {
     "base_uri": "https://localhost:8080/"
    },
    "id": "vJcZEaZPbuIz",
    "outputId": "f4a37638-3018-440d-9baa-671b49387ca0"
   },
   "outputs": [
    {
     "name": "stdout",
     "output_type": "stream",
     "text": [
      "alpha retenu par le modèle:  1.0 \n",
      "\n",
      "score du modèle sur l'ensemble d'entraînement:  0.30183189857514825\n",
      "score du modèle sur l'ensemble de test:  0.30745713102652117\n"
     ]
    }
   ],
   "source": [
    "# alpha retenu par le modèle et scores du modèle sur l'ensemble d'entraînement et de test\n",
    "print(\"alpha retenu par le modèle: \", ridge_reg.alpha_, \"\\n\")\n",
    "\n",
    "print(\"score du modèle sur l'ensemble d'entraînement: \", ridge_reg.score(X_train, y_train))\n",
    "print(\"score du modèle sur l'ensemble de test: \", ridge_reg.score(X_test, y_test))"
   ]
  },
  {
   "cell_type": "code",
   "execution_count": 66,
   "id": "wXbIXOLQdGlX",
   "metadata": {
    "colab": {
     "base_uri": "https://localhost:8080/"
    },
    "id": "wXbIXOLQdGlX",
    "outputId": "4bdb4769-4e0e-48c1-cd4a-b167e83e3af1"
   },
   "outputs": [
    {
     "name": "stdout",
     "output_type": "stream",
     "text": [
      "Erreur quadratique moyenne de prédiction pour ridge_pred_train:  0.6990544435599397\n",
      "Erreur quadratique moyenne de prédiction pour ridge_pred_test:  0.6890137198872981\n"
     ]
    }
   ],
   "source": [
    "# calcul des erreurs quadratique moyenne de prédiction\n",
    "ridge_pred_train = ridge_reg.predict(X_train)\n",
    "ridge_pred_test = ridge_reg.predict(X_test)\n",
    "\n",
    "mse_train = mean_squared_error(y_train, ridge_pred_train)\n",
    "mse_test = mean_squared_error(y_test, ridge_pred_test)\n",
    "\n",
    "print(\"Erreur quadratique moyenne de prédiction pour ridge_pred_train: \", mse_train)\n",
    "print(\"Erreur quadratique moyenne de prédiction pour ridge_pred_test: \", mse_test)"
   ]
  },
  {
   "cell_type": "markdown",
   "id": "ThpQoKaXo-uE",
   "metadata": {
    "id": "ThpQoKaXo-uE"
   },
   "source": [
    "### Régression Lasso"
   ]
  },
  {
   "cell_type": "code",
   "execution_count": 67,
   "id": "xJpEbFfHpDNo",
   "metadata": {
    "colab": {
     "base_uri": "https://localhost:8080/"
    },
    "id": "xJpEbFfHpDNo",
    "outputId": "cb2d4053-c331-4e32-8e29-b3cab0e1938d"
   },
   "outputs": [
    {
     "data": {
      "text/plain": [
       "Lasso(alpha=0.01)"
      ]
     },
     "execution_count": 67,
     "metadata": {},
     "output_type": "execute_result"
    }
   ],
   "source": [
    "# création d'un modèle de régression Lasso et ajustement sur données d'apprentissage\n",
    "lasso_reg = Lasso(alpha=0.01)\n",
    "lasso_reg.fit(X_train, y_train)"
   ]
  },
  {
   "cell_type": "code",
   "execution_count": 68,
   "id": "9bNg2pTpvZgX",
   "metadata": {
    "colab": {
     "base_uri": "https://localhost:8080/"
    },
    "id": "9bNg2pTpvZgX",
    "outputId": "27fc5419-1995-470e-dbb9-16afe395ef3d"
   },
   "outputs": [
    {
     "name": "stdout",
     "output_type": "stream",
     "text": [
      "Coefficients estimés par le modèle:  [ 0.          0.11085993 -0.14314188  0.1521531   0.35608471 -0.12854251\n",
      "  0.01647745  0.00233129  0.          0.04957764  0.         -0.\n",
      "  0.010464    0.01841912 -0.04035516]\n"
     ]
    }
   ],
   "source": [
    "# coefficients estimés par le modèle\n",
    "print(\"Coefficients estimés par le modèle: \", lasso_reg.coef_)"
   ]
  },
  {
   "cell_type": "code",
   "execution_count": 69,
   "id": "Utrojk-lvk9v",
   "metadata": {
    "colab": {
     "base_uri": "https://localhost:8080/",
     "height": 572
    },
    "id": "Utrojk-lvk9v",
    "outputId": "f8625624-5512-4aa0-adc8-2c282739df6d"
   },
   "outputs": [
    {
     "data": {
      "image/png": "[encoded data removed]",
      "text/plain": [
       "<Figure size 864x576 with 1 Axes>"
      ]
     },
     "metadata": {
      "needs_background": "light"
     },
     "output_type": "display_data"
    }
   ],
   "source": [
    "# graphique représentant la valeur estimée du coefficient pour chaque variable de data \n",
    "fig = plt.figure(figsize=(12,8))\n",
    "plt.plot(range(len(data.columns)), lasso_reg.coef_, \"o\")\n",
    "plt.xticks(range(len(data.columns)), data.columns.values, rotation=70);"
   ]
  },
  {
   "cell_type": "markdown",
   "id": "ts9ThaC7wn3i",
   "metadata": {
    "id": "ts9ThaC7wn3i"
   },
   "source": [
    "- 10 variables sur 12 ont été sélectionnées par le modèle, avec le paramètre \"alpha = 0.01\". \n",
    "- Les coefficients des 2 autres variables sont estimés à 0."
   ]
  },
  {
   "cell_type": "code",
   "execution_count": 70,
   "id": "afJeIq_0w_Nr",
   "metadata": {
    "colab": {
     "base_uri": "https://localhost:8080/"
    },
    "id": "afJeIq_0w_Nr",
    "outputId": "ad5cce1c-683e-4b41-f92a-e40e3429ace7"
   },
   "outputs": [
    {
     "name": "stdout",
     "output_type": "stream",
     "text": [
      "Score du modèle sur l'ensemble d'apprentissage:  0.2997084093093404\n",
      "Score du modèle sur l'ensemble de test:  0.30626955235235587\n"
     ]
    }
   ],
   "source": [
    "# scores du modèle sur l'ensemble d'apprentissage et l'ensemble de test\n",
    "print(\"Score du modèle sur l'ensemble d'apprentissage: \", lasso_reg.score(X_train, y_train))\n",
    "print(\"Score du modèle sur l'ensemble de test: \", lasso_reg.score(X_test, y_test))"
   ]
  },
  {
   "cell_type": "code",
   "execution_count": 71,
   "id": "2TNLEdJYxUpD",
   "metadata": {
    "colab": {
     "base_uri": "https://localhost:8080/"
    },
    "id": "2TNLEdJYxUpD",
    "outputId": "00879e10-7588-4ea4-d788-26034f081f0e"
   },
   "outputs": [
    {
     "name": "stdout",
     "output_type": "stream",
     "text": [
      "Erreur quadratique moyenne de prédiction pour lasso_pred_train:  0.7011806286492976\n",
      "Erreur quadratique moyenne de prédiction pour lasso_pred_test:  0.690195246745207\n"
     ]
    }
   ],
   "source": [
    "# calcul des erreurs quadratique moyenne de prédiction\n",
    "lasso_pred_train = lasso_reg.predict(X_train)\n",
    "lasso_pred_test = lasso_reg.predict(X_test)\n",
    "\n",
    "mse_train = mean_squared_error(y_train, lasso_pred_train)\n",
    "mse_test = mean_squared_error(y_test, lasso_pred_test)\n",
    "\n",
    "print(\"Erreur quadratique moyenne de prédiction pour lasso_pred_train: \", mse_train)\n",
    "print(\"Erreur quadratique moyenne de prédiction pour lasso_pred_test: \", mse_test)"
   ]
  },
  {
   "cell_type": "code",
   "execution_count": 72,
   "id": "DSV3_5zXyMPs",
   "metadata": {
    "colab": {
     "base_uri": "https://localhost:8080/"
    },
    "id": "DSV3_5zXyMPs",
    "outputId": "62b75f0c-e2a9-426b-afa4-ad3bcc67d2e3"
   },
   "outputs": [
    {
     "data": {
      "text/plain": [
       "(15, 10)"
      ]
     },
     "execution_count": 72,
     "metadata": {},
     "output_type": "execute_result"
    }
   ],
   "source": [
    "# calcul des coefficients estimés en fonction des valeurs prises par alpha\n",
    "alphas = (0.001, 0.01, 0.02, 0.025, 0.05, 0.1, 0.25, 0.5, 0.8, 1.0)\n",
    "alphas = np.linspace(0.001, 1, 10)\n",
    "alpha_path, coefs_lasso, _ = lasso_path(X_train, y_train, alphas=alphas)\n",
    "coefs_lasso.shape"
   ]
  },
  {
   "cell_type": "code",
   "execution_count": 73,
   "id": "-llIaR0o0CAU",
   "metadata": {
    "colab": {
     "base_uri": "https://localhost:8080/",
     "height": 513
    },
    "id": "-llIaR0o0CAU",
    "outputId": "284b21c0-bf16-401c-a77a-6ee6575b470a"
   },
   "outputs": [
    {
     "data": {
      "image/png": "[encoded data removed]",
      "text/plain": [
       "<Figure size 864x576 with 1 Axes>"
      ]
     },
     "metadata": {
      "needs_background": "light"
     },
     "output_type": "display_data"
    }
   ],
   "source": [
    "# courbe des valeurs du coefficient estimé en fonction des valeurs prises par alpha\n",
    "fig = plt.figure(figsize=(12,8))\n",
    "for i in range(coefs_lasso.shape[0]):\n",
    "  plt.plot(alpha_path, coefs_lasso[i,:],'--')\n",
    "plt.xlabel('Alpha')\n",
    "plt.ylabel('Coefficients')\n",
    "plt.title('Lasso path');"
   ]
  },
  {
   "cell_type": "code",
   "execution_count": 74,
   "id": "u38xkBvq0t9O",
   "metadata": {
    "colab": {
     "base_uri": "https://localhost:8080/",
     "height": 513
    },
    "id": "u38xkBvq0t9O",
    "outputId": "df81add3-dd3e-4927-e456-0d9b09451fe0"
   },
   "outputs": [
    {
     "data": {
      "image/png": "[encoded data removed]",
      "text/plain": [
       "<Figure size 864x576 with 1 Axes>"
      ]
     },
     "metadata": {
      "needs_background": "light"
     },
     "output_type": "display_data"
    }
   ],
   "source": [
    "# recherche du alpha optimal en fonction de la performance prédictive, par validation croisée\n",
    "model_lasso = LassoCV(cv=10)\n",
    "model_lasso.fit(X_train, y_train)\n",
    "\n",
    "alphas = model_lasso.alphas_\n",
    "\n",
    "fig = plt.figure(figsize=(12,8))\n",
    "plt.plot(alphas, model_lasso.mse_path_, 'o:')\n",
    "plt.plot(alphas, model_lasso.mse_path_.mean(axis=1), 'r', label='Moyenne', linewidth=2)\n",
    "plt.axvline(model_lasso.alpha_, linestyle='--', color='k', label='alpha : estimation CV')\n",
    "plt.xlabel('Alpha')\n",
    "plt.ylabel('Mean Squared Error')\n",
    "plt.title('Mean Squared Error en fonction des valeurs de alpha pour chaque échantillon de la validation croisée')\n",
    "plt.legend();"
   ]
  },
  {
   "cell_type": "code",
   "execution_count": 75,
   "id": "LDcNYx5h6_-f",
   "metadata": {
    "colab": {
     "base_uri": "https://localhost:8080/"
    },
    "id": "LDcNYx5h6_-f",
    "outputId": "7b4430e9-346a-4993-bb71-548d9d3ed68c"
   },
   "outputs": [
    {
     "name": "stdout",
     "output_type": "stream",
     "text": [
      "score du modèle sur l'ensemble d'apprentissage:  0.3017985258137236\n",
      "score du modèle sur l'ensemble de test:  0.3075387419054014\n",
      "\n",
      " Erreur quadratique moyenne de prédiction pour model_lasso_pred_train:  0.6990878586889326\n",
      "Erreur quadratique moyenne de prédiction pour model_lasso_pred_test:  0.6889325248916384\n"
     ]
    }
   ],
   "source": [
    "# score et MSE obtenu sur l'echantillon de test par le modèle 'model_lasso'\n",
    "print(\"score du modèle sur l'ensemble d'apprentissage: \", model_lasso.score(X_train, y_train)) \n",
    "print(\"score du modèle sur l'ensemble de test: \", model_lasso.score(X_test, y_test))\n",
    "\n",
    "model_lasso_pred_train = model_lasso.predict(X_train)\n",
    "model_lasso_pred_test = model_lasso.predict(X_test)\n",
    "\n",
    "mse_train = mean_squared_error(y_train, model_lasso_pred_train)\n",
    "mse_test = mean_squared_error(y_test, model_lasso_pred_test)\n",
    "\n",
    "print(\"\\n Erreur quadratique moyenne de prédiction pour model_lasso_pred_train: \", mse_train)\n",
    "print(\"Erreur quadratique moyenne de prédiction pour model_lasso_pred_test: \", mse_test)"
   ]
  },
  {
   "cell_type": "markdown",
   "id": "V2xWPtqopDmU",
   "metadata": {
    "id": "V2xWPtqopDmU"
   },
   "source": [
    "### Embedded Method\n",
    "\n",
    "\n"
   ]
  },
  {
   "cell_type": "code",
   "execution_count": 76,
   "id": "rxDonQiMpH-e",
   "metadata": {
    "colab": {
     "base_uri": "https://localhost:8080/",
     "height": 136
    },
    "id": "rxDonQiMpH-e",
    "outputId": "1ddb786a-9611-4194-910d-ef5824f1d286"
   },
   "outputs": [
    {
     "data": {
      "image/png": "[encoded data removed]",
      "text/plain": [
       "<Figure size 1152x144 with 1 Axes>"
      ]
     },
     "metadata": {
      "needs_background": "light"
     },
     "output_type": "display_data"
    }
   ],
   "source": [
    "# ajustement du selecteur sur le jeu d'entraînement \n",
    "lasso = Lasso(alpha=0.01)\n",
    "sel = SelectFromModel(estimator=lasso, threshold=1e-10)\n",
    "sel.fit(X_train, y_train)\n",
    "\n",
    "# représentation graphique des features sélectionnées \n",
    "mask = sel.get_support()\n",
    "plt.matshow(mask.reshape(1,-1), cmap='gray_r')\n",
    "plt.xlabel('Feature selection');"
   ]
  },
  {
   "cell_type": "code",
   "execution_count": 77,
   "id": "FgeSqwnx8HeX",
   "metadata": {
    "colab": {
     "base_uri": "https://localhost:8080/"
    },
    "id": "FgeSqwnx8HeX",
    "outputId": "0567f35a-cb5d-4ecb-a736-3cd6f90d0cdd"
   },
   "outputs": [
    {
     "name": "stdout",
     "output_type": "stream",
     "text": [
      "Meilleur paramètre retenu par la grid search:  {'alpha': 0.001}\n"
     ]
    }
   ],
   "source": [
    "# création d'une grille de paramètres pour alpha et ajustement de la grid search sur le jeu d'entraînement\n",
    "alpha_grid = {'alpha' : np.linspace(0.001, 1, 10)}\n",
    "crossval  = KFold(n_splits=3, random_state=2, shuffle=True)\n",
    "\n",
    "search = GridSearchCV(estimator=lasso, param_grid=alpha_grid, scoring='neg_mean_squared_error', cv=crossval)\n",
    "search.fit(X_train, y_train)\n",
    "print(\"Meilleur paramètre retenu par la grid search: \", search.best_params_)"
   ]
  },
  {
   "cell_type": "code",
   "execution_count": 78,
   "id": "IuZn8AVI8Hr7",
   "metadata": {
    "colab": {
     "base_uri": "https://localhost:8080/",
     "height": 136
    },
    "id": "IuZn8AVI8Hr7",
    "outputId": "3142853f-0405-48ce-97fc-33e6c9374a6f"
   },
   "outputs": [
    {
     "data": {
      "image/png": "[encoded data removed]",
      "text/plain": [
       "<Figure size 1152x144 with 1 Axes>"
      ]
     },
     "metadata": {
      "needs_background": "light"
     },
     "output_type": "display_data"
    }
   ],
   "source": [
    "# récupération du jeu de features sélectionnées\n",
    "sel = SelectFromModel(estimator=search.best_estimator_, threshold=1e-10, prefit=True)\n",
    "\n",
    "# représentation graphique des features sélectionnées \n",
    "mask = sel.get_support()\n",
    "plt.matshow(mask.reshape(1,-1), cmap='gray_r')\n",
    "plt.xlabel('Feature selection');"
   ]
  },
  {
   "cell_type": "code",
   "execution_count": 79,
   "id": "c7d67bfb",
   "metadata": {},
   "outputs": [],
   "source": [
    "#création de la liste des variables sélectionnées\n",
    "select_feats = []\n",
    "for feats, select in zip(X_train.columns, mask):\n",
    "    if select == True:\n",
    "        select_feats.append(feats)"
   ]
  },
  {
   "cell_type": "code",
   "execution_count": 80,
   "id": "e0df93c5",
   "metadata": {},
   "outputs": [
    {
     "data": {
      "text/plain": [
       "Index(['MaxTemp', 'Rainfall', 'Sunshine', 'WindGustSpeed', 'Humidity3pm',\n",
       "       'Pressure9am', 'Cloud3pm', 'Temp3pm', 'Temp_Delta_MinMax',\n",
       "       'Humidity_Delta', 'clim_méditerranéen', 'clim_sec',\n",
       "       'clim_tempéré_froid'],\n",
       "      dtype='object')"
      ]
     },
     "execution_count": 80,
     "metadata": {},
     "output_type": "execute_result"
    }
   ],
   "source": [
    "# select_feats = X_train.columns[mask]\n",
    "X_train.columns[mask]"
   ]
  },
  {
   "cell_type": "markdown",
   "id": "48e1cea0",
   "metadata": {},
   "source": [
    "## Sélection de variables avec SelectKBest"
   ]
  },
  {
   "cell_type": "code",
   "execution_count": 81,
   "id": "46fad628",
   "metadata": {},
   "outputs": [],
   "source": [
    "df = pd.read_csv(\"weatherAUS_Rev0.csv\", index_col=0)\n",
    "df_copy = df.copy()\n",
    "# séparation des données en une matrice de données et en un vecteur cible\n",
    "data = df_copy.drop(columns=['RainTomorrow'])\n",
    "target = df_copy['RainTomorrow']\n",
    "# division des données en un ensemble d'entraînement et un ensemble de test correspondant respectivement à 80% et 20% de la quantité totale des données disponibles\n",
    "X_train, X_test, y_train, y_test = train_test_split(data, target, test_size = 0.2, random_state=123)"
   ]
  },
  {
   "cell_type": "code",
   "execution_count": 82,
   "id": "cdb1916e",
   "metadata": {},
   "outputs": [],
   "source": [
    "#SelectKBest nécessite des données positives pour le chi2\n",
    "X_Kbest = pd.DataFrame(MinMaxScaler().fit_transform(X_train), columns=X_train.columns)"
   ]
  },
  {
   "cell_type": "code",
   "execution_count": 83,
   "id": "f6cd68bc",
   "metadata": {},
   "outputs": [
    {
     "data": {
      "image/png": "[encoded data removed]",
      "text/plain": [
       "<Figure size 1152x144 with 1 Axes>"
      ]
     },
     "metadata": {
      "needs_background": "light"
     },
     "output_type": "display_data"
    }
   ],
   "source": [
    "sel = SelectKBest(score_func = chi2, k=13)\n",
    "sel.fit(X_Kbest, y_train)\n",
    "mask = sel.get_support()\n",
    "plt.matshow(mask.reshape(1,-1), cmap = 'gray_r')\n",
    "plt.xlabel('Axe des features');"
   ]
  },
  {
   "cell_type": "code",
   "execution_count": 84,
   "id": "22a98a0e",
   "metadata": {},
   "outputs": [
    {
     "data": {
      "text/plain": [
       "Index(['MaxTemp', 'Rainfall', 'Sunshine', 'WindGustSpeed', 'Humidity3pm',\n",
       "       'Pressure9am', 'Cloud3pm', 'Temp3pm', 'RainToday', 'Temp_Delta_MinMax',\n",
       "       'Humidity_Delta', 'clim_méditerranéen', 'clim_sec'],\n",
       "      dtype='object')"
      ]
     },
     "execution_count": 84,
     "metadata": {},
     "output_type": "execute_result"
    }
   ],
   "source": [
    "select_feats = X_train.columns[mask]\n",
    "X_train.columns[mask]"
   ]
  },
  {
   "cell_type": "markdown",
   "id": "YvGvgSWFqS-b",
   "metadata": {
    "id": "YvGvgSWFqS-b"
   },
   "source": [
    "## Sauvegarde du jeu de données"
   ]
  },
  {
   "cell_type": "code",
   "execution_count": 85,
   "id": "DVTH8RsBqS-c",
   "metadata": {
    "id": "DVTH8RsBqS-c"
   },
   "outputs": [],
   "source": [
    "df.to_csv('weatherAUS_preprocessed.csv')"
   ]
  },
  {
   "cell_type": "markdown",
   "id": "9de277aa",
   "metadata": {
    "id": "9de277aa"
   },
   "source": [
    "# Modèles de classification par apprentissage supervisé"
   ]
  },
  {
   "cell_type": "code",
   "execution_count": null,
   "id": "416809b0",
   "metadata": {},
   "outputs": [],
   "source": [
    "# chargement des données en local\n",
    "from google.colab import files\n",
    "uploaded = files.upload()"
   ]
  },
  {
   "cell_type": "code",
   "execution_count": 3,
   "id": "lD16-9ECM9nT",
   "metadata": {
    "colab": {
     "base_uri": "https://localhost:8080/",
     "height": 206
    },
    "id": "lD16-9ECM9nT",
    "outputId": "66f7f93c-00bd-4ca8-a9d2-0cb128201dae"
   },
   "outputs": [
    {
     "data": {
      "text/html": [
       "<div>\n",
       "<style scoped>\n",
       "    .dataframe tbody tr th:only-of-type {\n",
       "        vertical-align: middle;\n",
       "    }\n",
       "\n",
       "    .dataframe tbody tr th {\n",
       "        vertical-align: top;\n",
       "    }\n",
       "\n",
       "    .dataframe thead th {\n",
       "        text-align: right;\n",
       "    }\n",
       "</style>\n",
       "<table border=\"1\" class=\"dataframe\">\n",
       "  <thead>\n",
       "    <tr style=\"text-align: right;\">\n",
       "      <th></th>\n",
       "      <th>MaxTemp</th>\n",
       "      <th>Rainfall</th>\n",
       "      <th>Sunshine</th>\n",
       "      <th>WindGustSpeed</th>\n",
       "      <th>Humidity3pm</th>\n",
       "      <th>Pressure9am</th>\n",
       "      <th>Cloud3pm</th>\n",
       "      <th>Temp3pm</th>\n",
       "      <th>RainToday</th>\n",
       "      <th>RainTomorrow</th>\n",
       "      <th>Temp_Delta_MinMax</th>\n",
       "      <th>Humidity_Delta</th>\n",
       "      <th>clim_chaud_humide</th>\n",
       "      <th>clim_méditerranéen</th>\n",
       "      <th>clim_sec</th>\n",
       "      <th>clim_tempéré_froid</th>\n",
       "    </tr>\n",
       "  </thead>\n",
       "  <tbody>\n",
       "    <tr>\n",
       "      <th>0</th>\n",
       "      <td>22.9</td>\n",
       "      <td>0.6</td>\n",
       "      <td>0.15000</td>\n",
       "      <td>44.0</td>\n",
       "      <td>22.0</td>\n",
       "      <td>1007.7</td>\n",
       "      <td>8.00000</td>\n",
       "      <td>21.8</td>\n",
       "      <td>0</td>\n",
       "      <td>0</td>\n",
       "      <td>9.5</td>\n",
       "      <td>-49.0</td>\n",
       "      <td>1</td>\n",
       "      <td>0</td>\n",
       "      <td>0</td>\n",
       "      <td>0</td>\n",
       "    </tr>\n",
       "    <tr>\n",
       "      <th>1</th>\n",
       "      <td>25.1</td>\n",
       "      <td>0.0</td>\n",
       "      <td>7.63054</td>\n",
       "      <td>44.0</td>\n",
       "      <td>25.0</td>\n",
       "      <td>1010.6</td>\n",
       "      <td>4.49925</td>\n",
       "      <td>24.3</td>\n",
       "      <td>0</td>\n",
       "      <td>0</td>\n",
       "      <td>17.7</td>\n",
       "      <td>-19.0</td>\n",
       "      <td>1</td>\n",
       "      <td>0</td>\n",
       "      <td>0</td>\n",
       "      <td>0</td>\n",
       "    </tr>\n",
       "    <tr>\n",
       "      <th>2</th>\n",
       "      <td>25.7</td>\n",
       "      <td>0.0</td>\n",
       "      <td>11.70000</td>\n",
       "      <td>46.0</td>\n",
       "      <td>30.0</td>\n",
       "      <td>1007.6</td>\n",
       "      <td>2.00000</td>\n",
       "      <td>23.2</td>\n",
       "      <td>0</td>\n",
       "      <td>0</td>\n",
       "      <td>12.8</td>\n",
       "      <td>-8.0</td>\n",
       "      <td>1</td>\n",
       "      <td>0</td>\n",
       "      <td>0</td>\n",
       "      <td>0</td>\n",
       "    </tr>\n",
       "    <tr>\n",
       "      <th>3</th>\n",
       "      <td>28.0</td>\n",
       "      <td>0.0</td>\n",
       "      <td>7.63054</td>\n",
       "      <td>24.0</td>\n",
       "      <td>16.0</td>\n",
       "      <td>1017.6</td>\n",
       "      <td>4.49925</td>\n",
       "      <td>26.5</td>\n",
       "      <td>0</td>\n",
       "      <td>0</td>\n",
       "      <td>18.8</td>\n",
       "      <td>-29.0</td>\n",
       "      <td>1</td>\n",
       "      <td>0</td>\n",
       "      <td>0</td>\n",
       "      <td>0</td>\n",
       "    </tr>\n",
       "    <tr>\n",
       "      <th>4</th>\n",
       "      <td>32.3</td>\n",
       "      <td>1.0</td>\n",
       "      <td>2.55000</td>\n",
       "      <td>41.0</td>\n",
       "      <td>33.0</td>\n",
       "      <td>1010.8</td>\n",
       "      <td>8.00000</td>\n",
       "      <td>29.7</td>\n",
       "      <td>0</td>\n",
       "      <td>0</td>\n",
       "      <td>14.8</td>\n",
       "      <td>-49.0</td>\n",
       "      <td>1</td>\n",
       "      <td>0</td>\n",
       "      <td>0</td>\n",
       "      <td>0</td>\n",
       "    </tr>\n",
       "  </tbody>\n",
       "</table>\n",
       "</div>"
      ],
      "text/plain": [
       "   MaxTemp  Rainfall  Sunshine  WindGustSpeed  Humidity3pm  Pressure9am  \\\n",
       "0     22.9       0.6   0.15000           44.0         22.0       1007.7   \n",
       "1     25.1       0.0   7.63054           44.0         25.0       1010.6   \n",
       "2     25.7       0.0  11.70000           46.0         30.0       1007.6   \n",
       "3     28.0       0.0   7.63054           24.0         16.0       1017.6   \n",
       "4     32.3       1.0   2.55000           41.0         33.0       1010.8   \n",
       "\n",
       "   Cloud3pm  Temp3pm  RainToday  RainTomorrow  Temp_Delta_MinMax  \\\n",
       "0   8.00000     21.8          0             0                9.5   \n",
       "1   4.49925     24.3          0             0               17.7   \n",
       "2   2.00000     23.2          0             0               12.8   \n",
       "3   4.49925     26.5          0             0               18.8   \n",
       "4   8.00000     29.7          0             0               14.8   \n",
       "\n",
       "   Humidity_Delta  clim_chaud_humide  clim_méditerranéen  clim_sec  \\\n",
       "0           -49.0                  1                   0         0   \n",
       "1           -19.0                  1                   0         0   \n",
       "2            -8.0                  1                   0         0   \n",
       "3           -29.0                  1                   0         0   \n",
       "4           -49.0                  1                   0         0   \n",
       "\n",
       "   clim_tempéré_froid  \n",
       "0                   0  \n",
       "1                   0  \n",
       "2                   0  \n",
       "3                   0  \n",
       "4                   0  "
      ]
     },
     "execution_count": 3,
     "metadata": {},
     "output_type": "execute_result"
    }
   ],
   "source": [
    "# récupération du jeu de données sauvegardé\n",
    "df = pd.read_csv('weatherAUS_preprocessed.csv', index_col=0)\n",
    "df.head()"
   ]
  },
  {
   "cell_type": "code",
   "execution_count": 4,
   "id": "5ebd0799",
   "metadata": {},
   "outputs": [],
   "source": [
    "#récupération du jeu de données sur Gdrive\n",
    "# from google.colab import drive\n",
    "# drive.mount('/content/drive')\n",
    "# df = pd.read_csv('/content/drive/My Drive/Colab Notebooks/Datascientest/Meteo/weatherAUS_preprocessed.csv')\n",
    "# df.head()"
   ]
  },
  {
   "cell_type": "code",
   "execution_count": 6,
   "id": "be1d85d7",
   "metadata": {},
   "outputs": [],
   "source": [
    "select_feats = ['MaxTemp', 'Rainfall', 'Sunshine', 'WindGustSpeed', 'Humidity3pm',\n",
    "       'Pressure9am', 'Cloud3pm', 'Temp3pm', 'RainToday', 'Temp_Delta_MinMax',\n",
    "       'Humidity_Delta', 'clim_méditerranéen', 'clim_sec']"
   ]
  },
  {
   "cell_type": "code",
   "execution_count": 7,
   "id": "1a697ea1",
   "metadata": {
    "id": "1a697ea1"
   },
   "outputs": [],
   "source": [
    "# séparation des données en une matrice de données et en un vecteur cible\n",
    "data = df[select_feats]\n",
    "target = df['RainTomorrow']"
   ]
  },
  {
   "cell_type": "code",
   "execution_count": 8,
   "id": "5b04edc6",
   "metadata": {
    "id": "5b04edc6"
   },
   "outputs": [],
   "source": [
    "# division des données en un ensemble d'entraînement et un ensemble de test correspondant respectivement à 80% et 20% de la quantité totale des données disponibles\n",
    "X_train, X_test, y_train, y_test = train_test_split(data, target, test_size = 0.2, random_state=123)"
   ]
  },
  {
   "cell_type": "code",
   "execution_count": 9,
   "id": "A24NlSDFJ9vQ",
   "metadata": {
    "colab": {
     "base_uri": "https://localhost:8080/"
    },
    "id": "A24NlSDFJ9vQ",
    "outputId": "8c3e1717-a794-4788-f6fe-07a4cc64e2bd"
   },
   "outputs": [
    {
     "data": {
      "text/plain": [
       "0    0.777988\n",
       "1    0.222012\n",
       "Name: RainTomorrow, dtype: float64"
      ]
     },
     "execution_count": 9,
     "metadata": {},
     "output_type": "execute_result"
    }
   ],
   "source": [
    "# distribution de la variable cible dans l'ensemble d'entraînement\n",
    "y_train.value_counts(normalize=True)"
   ]
  },
  {
   "cell_type": "code",
   "execution_count": 10,
   "id": "f5616a86",
   "metadata": {
    "colab": {
     "base_uri": "https://localhost:8080/"
    },
    "id": "f5616a86",
    "outputId": "8003684d-5725-4d10-9507-40d0ebb11e40"
   },
   "outputs": [
    {
     "data": {
      "text/plain": [
       "0    0.779956\n",
       "1    0.220044\n",
       "Name: RainTomorrow, dtype: float64"
      ]
     },
     "execution_count": 10,
     "metadata": {},
     "output_type": "execute_result"
    }
   ],
   "source": [
    "# distribution de la variable cible dans l'ensemble de test\n",
    "y_test.value_counts(normalize=True)"
   ]
  },
  {
   "cell_type": "code",
   "execution_count": 11,
   "id": "8XNB_GKApymz",
   "metadata": {
    "id": "8XNB_GKApymz"
   },
   "outputs": [],
   "source": [
    "# oversampling des données\n",
    "# rOs = RandomOverSampler()\n",
    "# X_ro, y_ro = rOs.fit_resample(X_train, y_train)\n",
    "# print(\"Classes échantillon oversampled :\", dict(pd.Series(y_ro).value_counts()))"
   ]
  },
  {
   "cell_type": "code",
   "execution_count": 12,
   "id": "13b41857",
   "metadata": {
    "colab": {
     "base_uri": "https://localhost:8080/"
    },
    "id": "13b41857",
    "outputId": "0f6a000e-7b8b-4199-ded6-218bc47a994b"
   },
   "outputs": [
    {
     "name": "stdout",
     "output_type": "stream",
     "text": [
      "Classes échantillon undersampled : {0: 25005, 1: 25005}\n"
     ]
    }
   ],
   "source": [
    "# undersampling des données\n",
    "rUs = RandomUnderSampler()\n",
    "X_train_ru, y_train_ru = rUs.fit_resample(X_train, y_train)\n",
    "print(\"Classes échantillon undersampled :\", dict(pd.Series(y_train_ru).value_counts()))"
   ]
  },
  {
   "cell_type": "code",
   "execution_count": 13,
   "id": "qnmjv-fVsQDY",
   "metadata": {
    "colab": {
     "base_uri": "https://localhost:8080/"
    },
    "id": "qnmjv-fVsQDY",
    "outputId": "56c46f40-388d-4e1e-aaa6-c662eb0c6d3b"
   },
   "outputs": [
    {
     "data": {
      "text/plain": [
       "0    0.5\n",
       "1    0.5\n",
       "Name: RainTomorrow, dtype: float64"
      ]
     },
     "execution_count": 13,
     "metadata": {},
     "output_type": "execute_result"
    }
   ],
   "source": [
    "# distribution de la variable cible dans l'ensemble de test\n",
    "y_train_ru.value_counts(normalize=True)"
   ]
  },
  {
   "cell_type": "code",
   "execution_count": 14,
   "id": "00fa64ad",
   "metadata": {},
   "outputs": [],
   "source": [
    "# paramètre à initialiser pour calculer les performances des algo avec et sans rééquilibrage\n",
    "param_ru = ''\n",
    "\n",
    "if param_ru == 'under_sample':\n",
    "    X_train = X_train_ru\n",
    "    y_train = y_train_ru"
   ]
  },
  {
   "cell_type": "code",
   "execution_count": 15,
   "id": "06b700ea",
   "metadata": {
    "id": "06b700ea"
   },
   "outputs": [],
   "source": [
    "# standardisation des données\n",
    "scaler = StandardScaler()\n",
    "# scaler = MinMaxScaler()\n",
    "\n",
    "X_train_scaled = scaler.fit_transform(X_train)\n",
    "X_test_scaled = scaler.transform(X_test)"
   ]
  },
  {
   "cell_type": "markdown",
   "id": "9mJr-YJRueyJ",
   "metadata": {
    "id": "9mJr-YJRueyJ"
   },
   "source": [
    "## Régression Logistique"
   ]
  },
  {
   "cell_type": "code",
   "execution_count": 16,
   "id": "cdab3d79",
   "metadata": {
    "id": "cdab3d79"
   },
   "outputs": [],
   "source": [
    "# définition du modèle\n",
    "clf_lr  = LogisticRegression()\n",
    "\n",
    "param_grid_lr = {'solver' : ['liblinear', 'lbfgs', 'newton-cg', 'sag', 'saga'], \n",
    "                 'C' : np.linspace(0.1,1,10)}\n",
    "\n",
    "gcv_lr = GridSearchCV(clf_lr, param_grid_lr, cv=3)"
   ]
  },
  {
   "cell_type": "code",
   "execution_count": 17,
   "id": "bXjdgVSzu3a0",
   "metadata": {
    "colab": {
     "base_uri": "https://localhost:8080/"
    },
    "id": "bXjdgVSzu3a0",
    "outputId": "01cd2943-4675-4d64-cb66-a8c4800b1fa4"
   },
   "outputs": [
    {
     "name": "stdout",
     "output_type": "stream",
     "text": [
      "Meilleurs paramètres : {'C': 0.1, 'solver': 'lbfgs'} \n",
      "\n",
      "Accuracy Score: 0.8435258185950707 \n",
      "\n",
      "Train Data Score: 0.8394995960187873\n",
      "Test Data Score: 0.8435258185950707\n",
      "\n",
      " Matrice de confusion:\n",
      "\n",
      " Prédictions      0     1\n",
      "Réalités                \n",
      "0            20726  1236\n",
      "1             3170  3026\n",
      "\n",
      "               precision    recall  f1-score   support\n",
      "\n",
      "           0       0.87      0.94      0.90     21962\n",
      "           1       0.71      0.49      0.58      6196\n",
      "\n",
      "    accuracy                           0.84     28158\n",
      "   macro avg       0.79      0.72      0.74     28158\n",
      "weighted avg       0.83      0.84      0.83     28158\n",
      "\n",
      "Running Time: 0:01:15.240531\n"
     ]
    }
   ],
   "source": [
    "start_time = time.time()\n",
    "\n",
    "# entraînement (~ 25 sec.)\n",
    "gcv_lr.fit(X_train_scaled, y_train)\n",
    "\n",
    "# prédiction\n",
    "y_pred = gcv_lr.predict(X_test_scaled)\n",
    "\n",
    "# détermination des meilleurs paramètres\n",
    "print('Meilleurs paramètres :', gcv_lr.best_params_, \"\\n\")\n",
    "\n",
    "# évaluation de la performance\n",
    "print('Accuracy Score: {}'.format(accuracy_score(y_test,y_pred)),'\\n')\n",
    "\n",
    "# underfitting / overfitting\n",
    "print('Train Data Score: {}'.format(gcv_lr.score(X_train_scaled,y_train)))\n",
    "print('Test Data Score: {}'.format(gcv_lr.score(X_test_scaled,y_test)))\n",
    "\n",
    "# matrice de confusion\n",
    "print('\\n Matrice de confusion:')\n",
    "print('\\n', pd.crosstab(y_test, y_pred, rownames=['Réalités'], colnames=['Prédictions']))\n",
    "\n",
    "# rapport de classification\n",
    "print('\\n', classification_report(y_test, y_pred))\n",
    "\n",
    "# durée d'exécution\n",
    "gaussian_time = (time.time() - start_time)\n",
    "print(\"Running Time: %s\" % datetime.timedelta(seconds=gaussian_time))"
   ]
  },
  {
   "cell_type": "markdown",
   "id": "9Y4v2WC_0-4Y",
   "metadata": {
    "id": "9Y4v2WC_0-4Y"
   },
   "source": [
    "- la méthode de régression logistique ne fait pas l'objet de sur-apprentissage.\n",
    "- la sensibilité (taux de vrais positifs) vaut 0.76.\n",
    "- la spécificité (taux de vrais négatifs) vaut 0.79.\n",
    "- le F1-score concernant la classe '0' de la variable RainTomorrow est bon (0.85).\n",
    "- le F1-score concernant la classe '1' de la variable RainTomorrow est faible (0.61)."
   ]
  },
  {
   "cell_type": "code",
   "execution_count": 18,
   "id": "nIVKNWch9HSs",
   "metadata": {
    "colab": {
     "base_uri": "https://localhost:8080/"
    },
    "id": "nIVKNWch9HSs",
    "outputId": "80e79adf-8289-40a4-c900-f67ce7f28f8a"
   },
   "outputs": [
    {
     "name": "stdout",
     "output_type": "stream",
     "text": [
      "Cross-validation scores:[0.83826546 0.83930426 0.84116879]\n",
      "Average cross-validation score: 0.839579504390521\n"
     ]
    }
   ],
   "source": [
    "cv_scores = cross_val_score(gcv_lr, X_train_scaled, y_train, cv=3, scoring='accuracy')\n",
    "\n",
    "print('Cross-validation scores:{}'.format(cv_scores))\n",
    "print('Average cross-validation score: {}'.format(cv_scores.mean()))"
   ]
  },
  {
   "cell_type": "markdown",
   "id": "BjGqJ2wg-bxt",
   "metadata": {
    "id": "BjGqJ2wg-bxt"
   },
   "source": [
    "- Le score de la méthode de régression logistique est en moyenne de : 0.77."
   ]
  },
  {
   "cell_type": "code",
   "execution_count": 19,
   "id": "e97080f7",
   "metadata": {},
   "outputs": [],
   "source": [
    "pd.DataFrame([f1_score(y_test, y_pred),recall_score(y_test, y_pred),precision_score(y_test, y_pred)],\n",
    "             index=['f1','recall','precision'], columns=['scores_clf_lr_' + param_ru]).to_csv('scores_clf_lr_' + param_ru + '.csv')"
   ]
  },
  {
   "cell_type": "code",
   "execution_count": 102,
   "id": "m27zgl33K6Mp",
   "metadata": {
    "id": "m27zgl33K6Mp"
   },
   "outputs": [],
   "source": [
    "# courbe ROC (Receiver Operaing Characteristic) pour le modèle de régression logistique\n",
    "y_pred_logreg_proba = gcv_lr.predict_proba(X_test_scaled)\n",
    "fpr, tpr, thresholds = roc_curve(y_test, y_pred_logreg_proba[:,1])"
   ]
  },
  {
   "cell_type": "code",
   "execution_count": 103,
   "id": "nbrBqk8zK6-B",
   "metadata": {
    "colab": {
     "base_uri": "https://localhost:8080/"
    },
    "id": "nbrBqk8zK6-B",
    "outputId": "130cb82d-c91e-4b34-9fcf-675de1428da5"
   },
   "outputs": [
    {
     "name": "stdout",
     "output_type": "stream",
     "text": [
      "Aire sous la courbe = 0.8556330557229287\n"
     ]
    }
   ],
   "source": [
    "# aire sous la courbe ROC\n",
    "roc_auc = auc(fpr, tpr)\n",
    "print(\"Aire sous la courbe =\", roc_auc)"
   ]
  },
  {
   "cell_type": "code",
   "execution_count": 104,
   "id": "XgLFmi_28WOE",
   "metadata": {
    "colab": {
     "base_uri": "https://localhost:8080/",
     "height": 513
    },
    "id": "XgLFmi_28WOE",
    "outputId": "3ab85084-60ce-47cb-ea1a-3a8baf5a884b"
   },
   "outputs": [
    {
     "data": {
      "image/png": "[encoded data removed]",
      "text/plain": [
       "<Figure size 576x576 with 1 Axes>"
      ]
     },
     "metadata": {
      "needs_background": "light"
     },
     "output_type": "display_data"
    }
   ],
   "source": [
    "plt.figure(figsize=(8,8))\n",
    "plt.plot(fpr, tpr, '-g', linewidth=1, label='Modèle gcv_lr (auc=%0.2f)' %roc_auc)\n",
    "plt.plot([0,1], [0,1], 'k--', label='Aléatoire (auc=0.5)')\n",
    "plt.title('Courbe ROC pour le modèle de Régression Logistique')\n",
    "plt.xlabel('Taux de Faux Positifs')\n",
    "plt.ylabel('Taux de Vrai Positifs')\n",
    "plt.legend(loc=\"lower right\");"
   ]
  },
  {
   "cell_type": "markdown",
   "id": "SXu8GCTt8oGR",
   "metadata": {
    "id": "SXu8GCTt8oGR"
   },
   "source": [
    "\n",
    "- La courbe ROC est l'outil idéal pour résumer la performance d'un classifieur binaire en fonction de tous les seuils possibles. Elle évite un long travail de prédictions de classes pour différents seuils, et d'évaluation de la matrice de confusion pour chacun de ces seuils.\n",
    "- Graphiquement, la mesure ROC est représentée sous la forme d'une courbe qui donne le taux de vrais positifs (la sensibilité), en fonction du taux de faux positifs (l'antispécificité).\n",
    "- Plus la courbe se rapproche du point (0,1), meilleures sont les prédictions. Un modèle avec une sensibilité et une spécificité égales à 1 est considéré comme parfait.\n",
    "\n"
   ]
  },
  {
   "cell_type": "markdown",
   "id": "ci-XSrHBu6RL",
   "metadata": {
    "id": "ci-XSrHBu6RL"
   },
   "source": [
    "## Forêts Aléatoires"
   ]
  },
  {
   "cell_type": "code",
   "execution_count": 20,
   "id": "lXc7F6NqmqeW",
   "metadata": {
    "id": "lXc7F6NqmqeW"
   },
   "outputs": [],
   "source": [
    "# définition du modèle\n",
    "clf_rf  = RandomForestClassifier() # les forêts aléatoires ne gèrent pas les variables qualitatives\n",
    "\n",
    "param_grid_rf  = [{'n_estimators' : [10, 50, 100],\n",
    "                   'min_samples_leaf' : np.arange(1,6,1),\n",
    "                   'max_features' : ['sqrt', 'log2']}]\n",
    "\n",
    "gcv_rf = GridSearchCV(clf_rf, param_grid_rf)"
   ]
  },
  {
   "cell_type": "code",
   "execution_count": 21,
   "id": "LQndT6uEu9wC",
   "metadata": {
    "colab": {
     "base_uri": "https://localhost:8080/"
    },
    "id": "LQndT6uEu9wC",
    "outputId": "72623106-39e2-45dd-995d-060cf5f3b331",
    "scrolled": false
   },
   "outputs": [
    {
     "name": "stdout",
     "output_type": "stream",
     "text": [
      "Meilleurs paramètres : {'max_features': 'log2', 'min_samples_leaf': 3, 'n_estimators': 100} \n",
      "\n",
      "Accuracy Score: 0.8552454009517722 \n",
      "\n",
      "Train Data Score: 0.9431940264052775\n",
      "Test Data Score: 0.8552454009517722\n",
      "\n",
      " Matrice de confusion:\n",
      "\n",
      " Prédictions      0     1\n",
      "Réalités                \n",
      "0            20960  1002\n",
      "1             3074  3122\n",
      "              precision    recall  f1-score   support\n",
      "\n",
      "           0       0.87      0.95      0.91     21962\n",
      "           1       0.76      0.50      0.61      6196\n",
      "\n",
      "    accuracy                           0.86     28158\n",
      "   macro avg       0.81      0.73      0.76     28158\n",
      "weighted avg       0.85      0.86      0.84     28158\n",
      "\n",
      "Running Time: 0:16:58.268273\n"
     ]
    }
   ],
   "source": [
    "start_time = time.time()\n",
    "\n",
    "# entraînement (~ 6 min.)\n",
    "gcv_rf.fit(X_train_scaled, y_train)\n",
    "\n",
    "# prédiction\n",
    "y_pred = gcv_rf.predict(X_test_scaled)\n",
    "\n",
    "# détermination des meilleurs paramètres\n",
    "print('Meilleurs paramètres :', gcv_rf.best_params_,\"\\n\")\n",
    "\n",
    "# évaluation de la performance\n",
    "print('Accuracy Score: {}'.format(accuracy_score(y_test,y_pred)),'\\n')\n",
    "\n",
    "# underfitting / overfitting\n",
    "print('Train Data Score: {}'.format(gcv_rf.score(X_train_scaled,y_train)))\n",
    "print('Test Data Score: {}'.format(gcv_rf.score(X_test_scaled,y_test)))\n",
    "\n",
    "# matrice de confusion\n",
    "print('\\n Matrice de confusion:')\n",
    "print('\\n', pd.crosstab(y_test, y_pred, rownames=['Réalités'], colnames=['Prédictions']))\n",
    "\n",
    "# rapport de classification\n",
    "print(classification_report(y_test, y_pred))\n",
    "\n",
    "# durée d'exécution\n",
    "gaussian_time = (time.time() - start_time)\n",
    "print(\"Running Time: %s\" % datetime.timedelta(seconds=gaussian_time))"
   ]
  },
  {
   "cell_type": "markdown",
   "id": "_4rzIWFF4_Dj",
   "metadata": {
    "id": "_4rzIWFF4_Dj"
   },
   "source": [
    "- la méthode de forêt aléatoire fait l'objet de sur-apprentissage.\n",
    "- la sensibilité (taux de vrais positifs) vaut 0.79.\n",
    "- la spécificité (taux de vrais négatifs) vaut 0.81.\n",
    "- le F1-score concernant la classe '0' de la variable 'RainTomorrow' est bon (0.87).\n",
    "- le F1-score concernant la classe '1' de la variable 'RainTomorrow' est faible (0.64)."
   ]
  },
  {
   "cell_type": "code",
   "execution_count": 107,
   "id": "gfCx0Y9S9Tpt",
   "metadata": {
    "colab": {
     "base_uri": "https://localhost:8080/"
    },
    "id": "gfCx0Y9S9Tpt",
    "outputId": "267a93a7-9b6d-4203-bba7-d4a816faf0a4"
   },
   "outputs": [
    {
     "name": "stdout",
     "output_type": "stream",
     "text": [
      "Cross-validation scores:[0.77954409 0.78356329 0.7845231 ]\n",
      "Average cross-validation score: 0.7825434913017396\n"
     ]
    }
   ],
   "source": [
    "# temps d'exécution : ~ 18 min.\n",
    "cv_scores = cross_val_score(gcv_rf, X_train_scaled, y_train, cv=3, scoring='accuracy')\n",
    "\n",
    "print('Cross-validation scores:{}'.format(cv_scores))\n",
    "print('Average cross-validation score: {}'.format(cv_scores.mean()))"
   ]
  },
  {
   "cell_type": "markdown",
   "id": "SZHwAOHh-0-r",
   "metadata": {
    "id": "SZHwAOHh-0-r"
   },
   "source": [
    "- Le score de la méthode des forêts aléatoires est en moyenne de : 0.80."
   ]
  },
  {
   "cell_type": "code",
   "execution_count": 22,
   "id": "d7bda57e",
   "metadata": {},
   "outputs": [],
   "source": [
    "pd.DataFrame([f1_score(y_test, y_pred),recall_score(y_test, y_pred),precision_score(y_test, y_pred)],\n",
    "             index=['f1','recall','precision'], columns=['scores_clf_rf_' + param_ru]).to_csv('scores_clf_rf_' + param_ru + '.csv')"
   ]
  },
  {
   "cell_type": "code",
   "execution_count": 109,
   "id": "p5Bxs1ITMPxs",
   "metadata": {
    "id": "p5Bxs1ITMPxs"
   },
   "outputs": [],
   "source": [
    "# probabilités pour X_test_scaled d'appartenir à chacune des deux classes\n",
    "y_probas = gcv_rf.predict_proba(X_test_scaled)"
   ]
  },
  {
   "cell_type": "code",
   "execution_count": 110,
   "id": "E-ixhajkMSHY",
   "metadata": {
    "colab": {
     "base_uri": "https://localhost:8080/",
     "height": 312
    },
    "id": "E-ixhajkMSHY",
    "outputId": "dba659fe-3afc-4ea4-f832-b176f8ff0565"
   },
   "outputs": [
    {
     "data": {
      "image/png": "[encoded data removed]",
      "text/plain": [
       "<Figure size 432x288 with 1 Axes>"
      ]
     },
     "metadata": {
      "needs_background": "light"
     },
     "output_type": "display_data"
    }
   ],
   "source": [
    "# courbe de gain cumulée\n",
    "skplt.metrics.plot_cumulative_gain(y_test, y_probas);"
   ]
  },
  {
   "cell_type": "markdown",
   "id": "9hNX83LIMjT0",
   "metadata": {
    "id": "9hNX83LIMjT0"
   },
   "source": [
    "- L'axe horizontal représente les individus de l'échantillon test.\n",
    "- L'axe vertical représente la variable cible 'RainTomorrow'."
   ]
  },
  {
   "cell_type": "markdown",
   "id": "5gGeDEOOvAkp",
   "metadata": {
    "id": "5gGeDEOOvAkp"
   },
   "source": [
    "## Support Vector Machine"
   ]
  },
  {
   "cell_type": "code",
   "execution_count": 111,
   "id": "scHhtzgGmq40",
   "metadata": {
    "id": "scHhtzgGmq40"
   },
   "outputs": [],
   "source": [
    "# définition du modèle\n",
    "clf_svm = svm.SVC()\n",
    "\n",
    "# le temps de calcul est élevé lors d'une régularisation des paramètres de la fonction noyau\n",
    "param_grid_svm = {'kernel' : ['rbf','linear','poly'],\n",
    "                  'gamma' : [0.001, 0.1, 0.5]}\n",
    "\n",
    "gcv_svm = GridSearchCV(clf_svm, param_grid_svm)"
   ]
  },
  {
   "cell_type": "code",
   "execution_count": 112,
   "id": "acb6f92a",
   "metadata": {
    "colab": {
     "base_uri": "https://localhost:8080/"
    },
    "id": "acb6f92a",
    "outputId": "e957a332-cd87-4cd4-c6a3-26334af40154"
   },
   "outputs": [
    {
     "name": "stdout",
     "output_type": "stream",
     "text": [
      "Meilleurs paramètres : {'gamma': 0.1, 'kernel': 'rbf'} \n",
      "\n",
      "Accuracy Score: 0.7958306697918887 \n",
      "\n",
      "Train Data Score: 0.7916016796640671\n",
      "Test Data Score: 0.7958306697918887\n",
      "\n",
      " Matrice de confusion:\n",
      "\n",
      " Prédictions      0     1\n",
      "Réalités                \n",
      "0            17595  4367\n",
      "1             1382  4814\n",
      "              precision    recall  f1-score   support\n",
      "\n",
      "           0       0.93      0.80      0.86     21962\n",
      "           1       0.52      0.78      0.63      6196\n",
      "\n",
      "    accuracy                           0.80     28158\n",
      "   macro avg       0.73      0.79      0.74     28158\n",
      "weighted avg       0.84      0.80      0.81     28158\n",
      "\n",
      "Running Time: 3:34:36.021946\n"
     ]
    }
   ],
   "source": [
    "start_time = time.time()\n",
    "\n",
    "# entraînement (~ 1h)\n",
    "grille = gcv_svm.fit(X_train_scaled, y_train)\n",
    "\n",
    "# prédiction\n",
    "y_pred = gcv_svm.predict(X_test_scaled)\n",
    "\n",
    "# détermination des meilleurs paramètres\n",
    "print('Meilleurs paramètres :', gcv_svm.best_params_,\"\\n\")\n",
    "\n",
    "# évaluation de la performance\n",
    "print('Accuracy Score: {}'.format(accuracy_score(y_test,y_pred)),'\\n')\n",
    "\n",
    "# underfitting / overfitting\n",
    "print('Train Data Score: {}'.format(gcv_svm.score(X_train_scaled,y_train)))\n",
    "print('Test Data Score: {}'.format(gcv_svm.score(X_test_scaled,y_test)))\n",
    "\n",
    "# matrice de confusion\n",
    "print('\\n Matrice de confusion:')\n",
    "print('\\n', pd.crosstab(y_test, y_pred, rownames=['Réalités'], colnames=['Prédictions']))\n",
    "\n",
    "# rapport de classification\n",
    "print(classification_report(y_test, y_pred))\n",
    "\n",
    "# durée d'exécution\n",
    "gaussian_time = (time.time() - start_time)\n",
    "print(\"Running Time: %s\" % datetime.timedelta(seconds=gaussian_time))"
   ]
  },
  {
   "cell_type": "markdown",
   "id": "aRTKvyHl5ANp",
   "metadata": {
    "id": "aRTKvyHl5ANp"
   },
   "source": [
    "- la méthode SVM fait l'objet de sur-apprentissage.\n",
    "- la sensibilité (taux de vrais positifs) vaut 0.79.\n",
    "- la spécificité (taux de vrais négatifs) vaut 0.79.\n",
    "- le F1-score concernant la classe '0' de la variable 'RainTomorrow' est bon (0.86).\n",
    "- le F1-score concernant la classe '1' de la variable 'RainTomorrow' est faible (0.63)."
   ]
  },
  {
   "cell_type": "code",
   "execution_count": 113,
   "id": "yvyenICr9XQj",
   "metadata": {
    "colab": {
     "base_uri": "https://localhost:8080/"
    },
    "id": "yvyenICr9XQj",
    "outputId": "86168ce4-dc0a-43a5-bf60-ec4f1d8e0b66"
   },
   "outputs": [
    {
     "name": "stdout",
     "output_type": "stream",
     "text": [
      "Cross-validation scores:[0.78008398 0.78374325 0.78314337]\n",
      "Average cross-validation score: 0.7823235352929414\n"
     ]
    }
   ],
   "source": [
    "cv_scores = cross_val_score(gcv_svm, X_train_scaled, y_train, cv=3, scoring='accuracy')\n",
    "\n",
    "print('Cross-validation scores:{}'.format(cv_scores))\n",
    "print('Average cross-validation score: {}'.format(cv_scores.mean()))"
   ]
  },
  {
   "cell_type": "markdown",
   "id": "i06iwEWG-1qH",
   "metadata": {
    "id": "i06iwEWG-1qH"
   },
   "source": [
    "- Le score de la méthode SVM est en moyenne de : 0.79."
   ]
  },
  {
   "cell_type": "code",
   "execution_count": 114,
   "id": "fcca1642",
   "metadata": {},
   "outputs": [],
   "source": [
    "pd.DataFrame([f1_score(y_test, y_pred),recall_score(y_test, y_pred),precision_score(y_test, y_pred)],\n",
    "             index=['f1','recall','precision'], columns=['scores_clf_svm_' + param_ru]).to_csv('scores_clf_svm_' + param_ru + '.csv')"
   ]
  },
  {
   "cell_type": "code",
   "execution_count": 115,
   "id": "6YWNWhDcRUbJ",
   "metadata": {
    "colab": {
     "base_uri": "https://localhost:8080/"
    },
    "id": "6YWNWhDcRUbJ",
    "outputId": "710b6351-8d66-4c31-adec-2384c9ab9e76"
   },
   "outputs": [
    {
     "name": "stdout",
     "output_type": "stream",
     "text": [
      "                                 params  mean_test_score\n",
      "0     {'gamma': 0.001, 'kernel': 'rbf'}         0.771426\n",
      "1  {'gamma': 0.001, 'kernel': 'linear'}         0.770646\n",
      "2    {'gamma': 0.001, 'kernel': 'poly'}         0.691122\n",
      "3       {'gamma': 0.1, 'kernel': 'rbf'}         0.782224\n",
      "4    {'gamma': 0.1, 'kernel': 'linear'}         0.770646\n",
      "5      {'gamma': 0.1, 'kernel': 'poly'}         0.774245\n",
      "6       {'gamma': 0.5, 'kernel': 'rbf'}         0.782004\n",
      "7    {'gamma': 0.5, 'kernel': 'linear'}         0.770646\n",
      "8      {'gamma': 0.5, 'kernel': 'poly'}         0.778784\n"
     ]
    }
   ],
   "source": [
    "print(pd.DataFrame.from_dict(grille.cv_results_).loc[:,['params','mean_test_score']])"
   ]
  },
  {
   "cell_type": "code",
   "execution_count": 116,
   "id": "eYRPEf8WRWDW",
   "metadata": {
    "id": "eYRPEf8WRWDW"
   },
   "outputs": [],
   "source": [
    "# courbe d'apprentissage du modèle (prend beaucoup trop de temps)\n",
    "# train_sizes, train_scores, valid_scores = learning_curve(svm.SVC(kernel='linear', C=1), data, target, train_sizes=[50, 80, 110, 140], cv=5)\n",
    "# plt.xlabel(\"Training examples\")\n",
    "# plt.ylabel(\"Score\")\n",
    "\n",
    "# train_sizes = [50, 70, 80, 100, 110, 118]\n",
    "# train_sizes, train_scores, test_scores = learning_curve(gcv_svm, data, target, n_jobs=4, train_sizes=train_sizes)\n",
    "\n",
    "# train_score_mean = np.mean(train_scores, axis=1)\n",
    "# train_score_std = np.std(train_scores, axis=1)\n",
    "# test_score_mean = np.mean(test_scores, axis=1)\n",
    "# test_score_std = np.std(test_scores, axis=1)\n",
    "\n",
    "# plt.grid()\n",
    "# plt.fill_between(train_sizes, train_scores_mean - train_scores_std, train_scores_mean + train_scores_std, alpha=0.1, color=\"r\")\n",
    "# plt.fill_between(train_sizes, test_scores_mean - test_scores_std, test_scores_mean + test_scores_std, alpha=0.1, color=\"g\")\n",
    "# plt.plot(train_sizes, train_scores_mean, 'o-', color=\"r\", label=\"Training score\")\n",
    "# plt.plot(train_sizes, test_scores_mean, 'o-', color=\"g\", label=\"Cross-validation score\")\n",
    "\n",
    "# plt.legend(loc=\"best\");"
   ]
  },
  {
   "cell_type": "markdown",
   "id": "P-arQbY85ND-",
   "metadata": {
    "id": "P-arQbY85ND-"
   },
   "source": [
    "## K-plus proches voisins"
   ]
  },
  {
   "cell_type": "code",
   "execution_count": 23,
   "id": "DBnDWLC85Wv7",
   "metadata": {
    "id": "DBnDWLC85Wv7"
   },
   "outputs": [],
   "source": [
    "# définition du modèle\n",
    "clf_knn = neighbors.KNeighborsClassifier()\n",
    "\n",
    "param_grid_knn = {'n_neighbors' : np.arange(1,41,1),\n",
    "                  'metric' : ['minkowski','manhattan','chebyshev']}\n",
    "\n",
    "gcv_knn = GridSearchCV(clf_knn, param_grid_knn)"
   ]
  },
  {
   "cell_type": "code",
   "execution_count": 24,
   "id": "Rzfrg5uy5OWB",
   "metadata": {
    "colab": {
     "base_uri": "https://localhost:8080/"
    },
    "id": "Rzfrg5uy5OWB",
    "outputId": "9b362a73-9159-41ed-b2c2-0e45d75c0902"
   },
   "outputs": [
    {
     "name": "stdout",
     "output_type": "stream",
     "text": [
      "Meilleurs paramètres : {'metric': 'manhattan', 'n_neighbors': 39} \n",
      "\n",
      "Accuracy Score: 0.8520846651040557 \n",
      "\n",
      "Train Data Score: 0.8537321648953644\n",
      "Test Data Score: 0.8520846651040557\n",
      "\n",
      " Matrice de confusion:\n",
      "\n",
      " Prédictions      0     1\n",
      "Réalités                \n",
      "0            21012   950\n",
      "1             3215  2981\n",
      "              precision    recall  f1-score   support\n",
      "\n",
      "           0       0.87      0.96      0.91     21962\n",
      "           1       0.76      0.48      0.59      6196\n",
      "\n",
      "    accuracy                           0.85     28158\n",
      "   macro avg       0.81      0.72      0.75     28158\n",
      "weighted avg       0.84      0.85      0.84     28158\n",
      "\n",
      "Running Time: 3:01:31.312568\n"
     ]
    }
   ],
   "source": [
    "start_time = time.time()\n",
    "\n",
    "# entraînement (~ 20 min.)\n",
    "gcv_knn.fit(X_train_scaled, y_train)\n",
    "\n",
    "# prédiction\n",
    "y_pred = gcv_knn.predict(X_test_scaled)\n",
    "\n",
    "# détermination des meilleurs paramètres\n",
    "print('Meilleurs paramètres :', gcv_knn.best_params_,\"\\n\")\n",
    "\n",
    "# évaluation de la performance\n",
    "print('Accuracy Score: {}'.format(accuracy_score(y_test,y_pred)),'\\n')\n",
    "\n",
    "# underfitting / overfitting\n",
    "print('Train Data Score: {}'.format(gcv_knn.score(X_train_scaled,y_train)))\n",
    "print('Test Data Score: {}'.format(gcv_knn.score(X_test_scaled,y_test)))\n",
    "\n",
    "# matrice de confusion\n",
    "print('\\n Matrice de confusion:')\n",
    "print('\\n', pd.crosstab(y_test, y_pred, rownames=['Réalités'], colnames=['Prédictions']))\n",
    "\n",
    "# rapport de classification\n",
    "print(classification_report(y_test, y_pred))\n",
    "\n",
    "# durée d'exécution\n",
    "gaussian_time = (time.time() - start_time)\n",
    "print(\"Running Time: %s\" % datetime.timedelta(seconds=gaussian_time))"
   ]
  },
  {
   "cell_type": "markdown",
   "id": "0WAfCK7T6MwP",
   "metadata": {
    "id": "0WAfCK7T6MwP"
   },
   "source": [
    "- la méthode des K-plus proches voisins ne fait pas l'objet de sur-apprentissage.\n",
    "- la sensibilité (taux de vrais positifs) vaut 0.77.\n",
    "- la spécificité (taux de vrais négatifs) vaut 0.80.\n",
    "- le F1-score concernant la classe '0' de la variable 'RainTomorrow' est bon (0.86).\n",
    "- le F1-score concernant la classe '1' de la variable 'RainTomorrow' est faible (0.62)."
   ]
  },
  {
   "cell_type": "code",
   "execution_count": 120,
   "id": "zqhhq9p19Zi0",
   "metadata": {
    "colab": {
     "base_uri": "https://localhost:8080/"
    },
    "id": "zqhhq9p19Zi0",
    "outputId": "c163f5d3-4040-4178-c28f-8f4c6b2e1f26"
   },
   "outputs": [
    {
     "name": "stdout",
     "output_type": "stream",
     "text": [
      "Cross-validation scores:[0.77240552 0.774985   0.77780444]\n",
      "Average cross-validation score: 0.7750649870025995\n"
     ]
    }
   ],
   "source": [
    "# temps de calcul : ~ 35 min.\n",
    "cv_scores = cross_val_score(gcv_knn, X_train_scaled, y_train, cv=3, scoring='accuracy')\n",
    "\n",
    "print('Cross-validation scores:{}'.format(cv_scores))\n",
    "print('Average cross-validation score: {}'.format(cv_scores.mean()))"
   ]
  },
  {
   "cell_type": "markdown",
   "id": "JTxpXMPi-2XQ",
   "metadata": {
    "id": "JTxpXMPi-2XQ"
   },
   "source": [
    "- Le score de la méthode KNN est en moyenne de : 0.78."
   ]
  },
  {
   "cell_type": "code",
   "execution_count": 25,
   "id": "b28df8cc",
   "metadata": {},
   "outputs": [],
   "source": [
    "pd.DataFrame([f1_score(y_test, y_pred),recall_score(y_test, y_pred),precision_score(y_test, y_pred)],\n",
    "             index=['f1','recall','precision'], columns=['scores_clf_knn_' + param_ru]).to_csv('scores_clf_knn_' + param_ru + '.csv')"
   ]
  },
  {
   "cell_type": "code",
   "execution_count": 122,
   "id": "dSMrlZzER_sQ",
   "metadata": {
    "id": "dSMrlZzER_sQ"
   },
   "outputs": [],
   "source": [
    "# scores de 3 modèles utilisant respectivement les matrices de Minkowski, Manhattan et Chebyshev pour des valeurs de k allant de 1 à 40\n",
    "# temps de calcul : ~ 12 min.\n",
    "score_minko = []\n",
    "score_man = []\n",
    "score_cheb = []\n",
    "\n",
    "for k in range(1,41):\n",
    "  knn = neighbors.KNeighborsClassifier(n_neighbors=k)\n",
    "  knn.fit(X_train_scaled, y_train)\n",
    "  score_minko.append(knn.score(X_test_scaled, y_test))\n",
    "\n",
    "for k in range(1,41):\n",
    "  knn = neighbors.KNeighborsClassifier(n_neighbors=k, metric='manhattan')\n",
    "  knn.fit(X_train_scaled, y_train)\n",
    "  score_man.append(knn.score(X_test_scaled, y_test))\n",
    "\n",
    "for k in range(1,41):\n",
    "  knn = neighbors.KNeighborsClassifier(n_neighbors=k, metric='chebyshev')\n",
    "  knn.fit(X_train_scaled, y_train)\n",
    "  score_cheb.append(knn.score(X_test_scaled, y_test))"
   ]
  },
  {
   "cell_type": "code",
   "execution_count": 123,
   "id": "CHFcUJ5ySCUT",
   "metadata": {
    "colab": {
     "base_uri": "https://localhost:8080/",
     "height": 295
    },
    "id": "CHFcUJ5ySCUT",
    "outputId": "e2a699f5-a24f-48f8-828e-a76164203875"
   },
   "outputs": [
    {
     "data": {
      "image/png": "[encoded data removed]",
      "text/plain": [
       "<Figure size 432x288 with 1 Axes>"
      ]
     },
     "metadata": {
      "needs_background": "light"
     },
     "output_type": "display_data"
    }
   ],
   "source": [
    "# affichage des listes crées en fonction de k\n",
    "plt.title(\"Score de 3 modèles knn\")\n",
    "plt.plot(range(1,41), score_minko, color='blue', linestyle='dashed', lw=2, label='Minkowski')\n",
    "plt.plot(range(1,41), score_man, color='orange', linestyle='dashed', lw=2, label='Manhattan')\n",
    "plt.plot(range(1,41), score_cheb, color='red', linestyle='dashed', lw=2, label='Chebyshev')\n",
    "plt.xlabel(\"Valeur de k\")\n",
    "plt.ylabel(\"Accuracy\")\n",
    "plt.legend;"
   ]
  },
  {
   "cell_type": "markdown",
   "id": "8jpipwx96O3Q",
   "metadata": {
    "id": "8jpipwx96O3Q"
   },
   "source": [
    "## Arbres de décision"
   ]
  },
  {
   "cell_type": "code",
   "execution_count": 26,
   "id": "MjOc31sx6TDx",
   "metadata": {
    "id": "MjOc31sx6TDx"
   },
   "outputs": [],
   "source": [
    "# définition du modèle\n",
    "clf_dt = DecisionTreeClassifier()\n",
    "\n",
    "param_grid_dt = {'criterion' : ['entropy','gini'], \n",
    "                 'max_depth' : np.arange(2,6,1)}\n",
    "\n",
    "gcv_dt = GridSearchCV(clf_dt, param_grid_dt)"
   ]
  },
  {
   "cell_type": "code",
   "execution_count": 27,
   "id": "bCbiJ2kk6WsH",
   "metadata": {
    "colab": {
     "base_uri": "https://localhost:8080/"
    },
    "id": "bCbiJ2kk6WsH",
    "outputId": "45ba2563-9a27-4290-e6ad-60310bf58088"
   },
   "outputs": [
    {
     "name": "stdout",
     "output_type": "stream",
     "text": [
      "Meilleurs paramètres : {'criterion': 'gini', 'max_depth': 5} \n",
      "\n",
      "Accuracy Score: 0.8392996661694723 \n",
      "\n",
      "Train Data Score: 0.8385140594340712\n",
      "Test Data Score: 0.8392996661694723\n",
      "\n",
      " Matrice de confusion:\n",
      "\n",
      " Prédictions      0     1\n",
      "Réalités                \n",
      "0            20828  1134\n",
      "1             3391  2805\n",
      "              precision    recall  f1-score   support\n",
      "\n",
      "           0       0.86      0.95      0.90     21962\n",
      "           1       0.71      0.45      0.55      6196\n",
      "\n",
      "    accuracy                           0.84     28158\n",
      "   macro avg       0.79      0.70      0.73     28158\n",
      "weighted avg       0.83      0.84      0.83     28158\n",
      "\n",
      "Running Time: 0:00:08.332925\n"
     ]
    }
   ],
   "source": [
    "start_time = time.time()\n",
    "\n",
    "# entraînement\n",
    "gcv_dt.fit(X_train_scaled, y_train)\n",
    "\n",
    "# prédiction\n",
    "y_pred = gcv_dt.predict(X_test_scaled)\n",
    "\n",
    "# détermination des meilleurs paramètres\n",
    "print('Meilleurs paramètres :', gcv_dt.best_params_,\"\\n\")\n",
    "\n",
    "# évaluation de la performance\n",
    "print('Accuracy Score: {}'.format(accuracy_score(y_test,y_pred)),'\\n')\n",
    "\n",
    "# underfitting / overfitting\n",
    "print('Train Data Score: {}'.format(gcv_dt.score(X_train_scaled,y_train)))\n",
    "print('Test Data Score: {}'.format(gcv_dt.score(X_test_scaled,y_test)))\n",
    "\n",
    "# matrice de confusion\n",
    "print('\\n Matrice de confusion:')\n",
    "print('\\n', pd.crosstab(y_test, y_pred, rownames=['Réalités'], colnames=['Prédictions']))\n",
    "\n",
    "# rapport de classification\n",
    "print(classification_report(y_test, y_pred))\n",
    "\n",
    "# durée d'exécution\n",
    "gaussian_time = (time.time() - start_time)\n",
    "print(\"Running Time: %s\" % datetime.timedelta(seconds=gaussian_time))"
   ]
  },
  {
   "cell_type": "markdown",
   "id": "VanYBqYU6bRi",
   "metadata": {
    "id": "VanYBqYU6bRi"
   },
   "source": [
    "- la méthode des arbres de décision ne fait pas l'objet de sur-apprentissage.\n",
    "- la sensibilité (taux de vrais positifs) vaut 0.75.\n",
    "- la spécificité (taux de vrais négatifs) vaut 0.77.\n",
    "- le F1-score concernant la classe '0' de la variable 'RainTomorrow' est bon (0.84).\n",
    "- le F1-score concernant la classe '1' de la variable 'RainTomorrow' est faible (0.59)."
   ]
  },
  {
   "cell_type": "code",
   "execution_count": 126,
   "id": "ZUQ8697r8LVn",
   "metadata": {
    "colab": {
     "base_uri": "https://localhost:8080/",
     "height": 300
    },
    "id": "ZUQ8697r8LVn",
    "outputId": "7ae50112-d590-4c1f-b52e-a7c3e8bd8f74"
   },
   "outputs": [
    {
     "data": {
      "text/html": [
       "<div>\n",
       "<style scoped>\n",
       "    .dataframe tbody tr th:only-of-type {\n",
       "        vertical-align: middle;\n",
       "    }\n",
       "\n",
       "    .dataframe tbody tr th {\n",
       "        vertical-align: top;\n",
       "    }\n",
       "\n",
       "    .dataframe thead th {\n",
       "        text-align: right;\n",
       "    }\n",
       "</style>\n",
       "<table border=\"1\" class=\"dataframe\">\n",
       "  <thead>\n",
       "    <tr style=\"text-align: right;\">\n",
       "      <th></th>\n",
       "      <th>Importance</th>\n",
       "    </tr>\n",
       "  </thead>\n",
       "  <tbody>\n",
       "    <tr>\n",
       "      <th>Humidity3pm</th>\n",
       "      <td>0.675205</td>\n",
       "    </tr>\n",
       "    <tr>\n",
       "      <th>Sunshine</th>\n",
       "      <td>0.115665</td>\n",
       "    </tr>\n",
       "    <tr>\n",
       "      <th>WindGustSpeed</th>\n",
       "      <td>0.087159</td>\n",
       "    </tr>\n",
       "    <tr>\n",
       "      <th>Pressure9am</th>\n",
       "      <td>0.073247</td>\n",
       "    </tr>\n",
       "    <tr>\n",
       "      <th>Rainfall</th>\n",
       "      <td>0.039847</td>\n",
       "    </tr>\n",
       "    <tr>\n",
       "      <th>Humidity_Delta</th>\n",
       "      <td>0.003427</td>\n",
       "    </tr>\n",
       "    <tr>\n",
       "      <th>Temp_Delta_MinMax</th>\n",
       "      <td>0.002319</td>\n",
       "    </tr>\n",
       "    <tr>\n",
       "      <th>MaxTemp</th>\n",
       "      <td>0.001718</td>\n",
       "    </tr>\n",
       "  </tbody>\n",
       "</table>\n",
       "</div>"
      ],
      "text/plain": [
       "                   Importance\n",
       "Humidity3pm          0.675205\n",
       "Sunshine             0.115665\n",
       "WindGustSpeed        0.087159\n",
       "Pressure9am          0.073247\n",
       "Rainfall             0.039847\n",
       "Humidity_Delta       0.003427\n",
       "Temp_Delta_MinMax    0.002319\n",
       "MaxTemp              0.001718"
      ]
     },
     "execution_count": 126,
     "metadata": {},
     "output_type": "execute_result"
    }
   ],
   "source": [
    "# importance des variables\n",
    "clf_dt = gcv_dt.best_estimator_\n",
    "clf_dt.fit(X_train_scaled,y_train)\n",
    "\n",
    "feats = {}\n",
    "for feature, importance in zip(df.columns, clf_dt.feature_importances_):\n",
    "    feats[feature] = importance\n",
    "    \n",
    "importances = pd.DataFrame.from_dict(feats, orient='index').rename(columns={0:'Importance'})\n",
    "importances.sort_values(by='Importance', ascending=False).head(8)"
   ]
  },
  {
   "cell_type": "code",
   "execution_count": 127,
   "id": "V4EMokWZ8NST",
   "metadata": {
    "colab": {
     "base_uri": "https://localhost:8080/",
     "height": 265
    },
    "id": "V4EMokWZ8NST",
    "outputId": "08ea8e0a-8ade-4283-fdf1-0d536d134119"
   },
   "outputs": [
    {
     "data": {
      "image/png": "[encoded data removed]",
      "text/plain": [
       "<Figure size 432x288 with 1 Axes>"
      ]
     },
     "metadata": {
      "needs_background": "light"
     },
     "output_type": "display_data"
    }
   ],
   "source": [
    "# importance des variables\n",
    "feature_imp = pd.Series(clf_dt.feature_importances_,index=data.columns)\n",
    "feature_imp.nlargest(10).plot(kind='barh');"
   ]
  },
  {
   "cell_type": "code",
   "execution_count": 128,
   "id": "epwSZJbF9btR",
   "metadata": {
    "colab": {
     "base_uri": "https://localhost:8080/"
    },
    "id": "epwSZJbF9btR",
    "outputId": "9ecd2a77-483e-474c-bec1-93473a93cbcd"
   },
   "outputs": [
    {
     "name": "stdout",
     "output_type": "stream",
     "text": [
      "Cross-validation scores:[0.75938812 0.75944811 0.755009  ]\n",
      "Average cross-validation score: 0.7579484103179364\n"
     ]
    }
   ],
   "source": [
    "cv_scores = cross_val_score(gcv_dt, X_train_scaled, y_train, cv=3, scoring='accuracy')\n",
    "\n",
    "print('Cross-validation scores:{}'.format(cv_scores))\n",
    "print('Average cross-validation score: {}'.format(cv_scores.mean()))"
   ]
  },
  {
   "cell_type": "markdown",
   "id": "RCRvkS5I-3Dy",
   "metadata": {
    "id": "RCRvkS5I-3Dy"
   },
   "source": [
    "- Le score de la méthode DT est en moyenne de : 0.76."
   ]
  },
  {
   "cell_type": "code",
   "execution_count": 28,
   "id": "9126b83b",
   "metadata": {},
   "outputs": [],
   "source": [
    "pd.DataFrame([f1_score(y_test, y_pred),recall_score(y_test, y_pred),precision_score(y_test, y_pred)],\n",
    "             index=['f1','recall','precision'], columns=['scores_clf_dt_' + param_ru]).to_csv('scores_clf_dt_' + param_ru + '.csv')"
   ]
  },
  {
   "cell_type": "markdown",
   "id": "Ru7wQG31lYmQ",
   "metadata": {
    "id": "Ru7wQG31lYmQ"
   },
   "source": [
    "# Résumé des performances"
   ]
  },
  {
   "cell_type": "code",
   "execution_count": 136,
   "id": "407bfbaf",
   "metadata": {},
   "outputs": [],
   "source": [
    "scores_clf_dt_under_sample = pd.read_csv('scores_clf_dt_under_sample.csv', index_col=0)\n",
    "scores_clf_knn_under_sample = pd.read_csv('scores_clf_knn_under_sample.csv', index_col=0)\n",
    "scores_clf_svm_under_sample = pd.read_csv('scores_clf_svm_under_sample.csv', index_col=0)\n",
    "scores_clf_rf_under_sample = pd.read_csv('scores_clf_rf_under_sample.csv', index_col=0)\n",
    "scores_clf_lr_under_sample = pd.read_csv('scores_clf_lr_under_sample.csv', index_col=0)"
   ]
  },
  {
   "cell_type": "code",
   "execution_count": 141,
   "id": "d0afd9ff",
   "metadata": {},
   "outputs": [],
   "source": [
    "result_under_sample = pd.concat([scores_clf_dt_under_sample, scores_clf_knn_under_sample,scores_clf_svm_under_sample,\n",
    "                    scores_clf_rf_under_sample,scores_clf_lr_under_sample], axis=1)"
   ]
  },
  {
   "cell_type": "code",
   "execution_count": 142,
   "id": "7f047657",
   "metadata": {},
   "outputs": [
    {
     "data": {
      "text/html": [
       "<div>\n",
       "<style scoped>\n",
       "    .dataframe tbody tr th:only-of-type {\n",
       "        vertical-align: middle;\n",
       "    }\n",
       "\n",
       "    .dataframe tbody tr th {\n",
       "        vertical-align: top;\n",
       "    }\n",
       "\n",
       "    .dataframe thead th {\n",
       "        text-align: right;\n",
       "    }\n",
       "</style>\n",
       "<table border=\"1\" class=\"dataframe\">\n",
       "  <thead>\n",
       "    <tr style=\"text-align: right;\">\n",
       "      <th></th>\n",
       "      <th>scores_clf_dt_under_sample</th>\n",
       "      <th>scores_clf_knn_under_sample</th>\n",
       "      <th>scores_clf_svm_under_sample</th>\n",
       "      <th>scores_clf_rf_under_sample</th>\n",
       "      <th>scores_clf_lr_under_sample</th>\n",
       "    </tr>\n",
       "  </thead>\n",
       "  <tbody>\n",
       "    <tr>\n",
       "      <th>f1</th>\n",
       "      <td>0.592391</td>\n",
       "      <td>0.617278</td>\n",
       "      <td>0.626130</td>\n",
       "      <td>0.621807</td>\n",
       "      <td>0.601462</td>\n",
       "    </tr>\n",
       "    <tr>\n",
       "      <th>recall</th>\n",
       "      <td>0.736281</td>\n",
       "      <td>0.773241</td>\n",
       "      <td>0.776953</td>\n",
       "      <td>0.783731</td>\n",
       "      <td>0.763719</td>\n",
       "    </tr>\n",
       "    <tr>\n",
       "      <th>precision</th>\n",
       "      <td>0.495546</td>\n",
       "      <td>0.513670</td>\n",
       "      <td>0.524344</td>\n",
       "      <td>0.515335</td>\n",
       "      <td>0.496069</td>\n",
       "    </tr>\n",
       "  </tbody>\n",
       "</table>\n",
       "</div>"
      ],
      "text/plain": [
       "           scores_clf_dt_under_sample  scores_clf_knn_under_sample  \\\n",
       "f1                           0.592391                     0.617278   \n",
       "recall                       0.736281                     0.773241   \n",
       "precision                    0.495546                     0.513670   \n",
       "\n",
       "           scores_clf_svm_under_sample  scores_clf_rf_under_sample  \\\n",
       "f1                            0.626130                    0.621807   \n",
       "recall                        0.776953                    0.783731   \n",
       "precision                     0.524344                    0.515335   \n",
       "\n",
       "           scores_clf_lr_under_sample  \n",
       "f1                           0.601462  \n",
       "recall                       0.763719  \n",
       "precision                    0.496069  "
      ]
     },
     "execution_count": 142,
     "metadata": {},
     "output_type": "execute_result"
    }
   ],
   "source": [
    "result_under_sample"
   ]
  },
  {
   "cell_type": "code",
   "execution_count": 29,
   "id": "9eb16fff",
   "metadata": {},
   "outputs": [],
   "source": [
    "scores_clf_dt_ = pd.read_csv('scores_clf_dt_.csv', index_col=0)\n",
    "scores_clf_knn_ = pd.read_csv('scores_clf_knn_.csv', index_col=0)\n",
    "scores_clf_rf_ = pd.read_csv('scores_clf_rf_.csv', index_col=0)\n",
    "scores_clf_lr_ = pd.read_csv('scores_clf_lr_.csv', index_col=0)"
   ]
  },
  {
   "cell_type": "code",
   "execution_count": 30,
   "id": "d43e5175",
   "metadata": {},
   "outputs": [],
   "source": [
    "result_ = pd.concat([scores_clf_dt_, scores_clf_knn_,\n",
    "                    scores_clf_rf_,scores_clf_lr_], axis=1)"
   ]
  },
  {
   "cell_type": "code",
   "execution_count": 31,
   "id": "ed74b0b0",
   "metadata": {},
   "outputs": [
    {
     "data": {
      "text/html": [
       "<div>\n",
       "<style scoped>\n",
       "    .dataframe tbody tr th:only-of-type {\n",
       "        vertical-align: middle;\n",
       "    }\n",
       "\n",
       "    .dataframe tbody tr th {\n",
       "        vertical-align: top;\n",
       "    }\n",
       "\n",
       "    .dataframe thead th {\n",
       "        text-align: right;\n",
       "    }\n",
       "</style>\n",
       "<table border=\"1\" class=\"dataframe\">\n",
       "  <thead>\n",
       "    <tr style=\"text-align: right;\">\n",
       "      <th></th>\n",
       "      <th>scores_clf_dt_</th>\n",
       "      <th>scores_clf_knn_</th>\n",
       "      <th>scores_clf_rf_</th>\n",
       "      <th>scores_clf_lr_</th>\n",
       "    </tr>\n",
       "  </thead>\n",
       "  <tbody>\n",
       "    <tr>\n",
       "      <th>f1</th>\n",
       "      <td>0.553527</td>\n",
       "      <td>0.588723</td>\n",
       "      <td>0.605039</td>\n",
       "      <td>0.578696</td>\n",
       "    </tr>\n",
       "    <tr>\n",
       "      <th>recall</th>\n",
       "      <td>0.452711</td>\n",
       "      <td>0.481117</td>\n",
       "      <td>0.503873</td>\n",
       "      <td>0.488380</td>\n",
       "    </tr>\n",
       "    <tr>\n",
       "      <th>precision</th>\n",
       "      <td>0.712110</td>\n",
       "      <td>0.758331</td>\n",
       "      <td>0.757032</td>\n",
       "      <td>0.709995</td>\n",
       "    </tr>\n",
       "  </tbody>\n",
       "</table>\n",
       "</div>"
      ],
      "text/plain": [
       "           scores_clf_dt_  scores_clf_knn_  scores_clf_rf_  scores_clf_lr_\n",
       "f1               0.553527         0.588723        0.605039        0.578696\n",
       "recall           0.452711         0.481117        0.503873        0.488380\n",
       "precision        0.712110         0.758331        0.757032        0.709995"
      ]
     },
     "execution_count": 31,
     "metadata": {},
     "output_type": "execute_result"
    }
   ],
   "source": [
    "result_"
   ]
  },
  {
   "cell_type": "code",
   "execution_count": null,
   "id": "3b0ae4c6",
   "metadata": {},
   "outputs": [],
   "source": []
  }
 ],
 "metadata": {
  "colab": {
   "collapsed_sections": [
    "uWfmqoPvIcAJ",
    "7cgssDKFKwJt",
    "KBG3Oj9wLm3n",
    "T0UkvrmRa8FF",
    "ThpQoKaXo-uE",
    "V2xWPtqopDmU",
    "YvGvgSWFqS-b",
    "9de277aa",
    "9mJr-YJRueyJ",
    "ci-XSrHBu6RL",
    "5gGeDEOOvAkp",
    "P-arQbY85ND-",
    "8jpipwx96O3Q",
    "Ru7wQG31lYmQ"
   ],
   "name": "common_pyAusRainfall_modelisation2.ipynb",
   "provenance": []
  },
  "kernelspec": {
   "display_name": "Python 3 (ipykernel)",
   "language": "python",
   "name": "python3"
  },
  "language_info": {
   "codemirror_mode": {
    "name": "ipython",
    "version": 3
   },
   "file_extension": ".py",
   "mimetype": "text/x-python",
   "name": "python",
   "nbconvert_exporter": "python",
   "pygments_lexer": "ipython3",
   "version": "3.9.7"
  }
 },
 "nbformat": 4,
 "nbformat_minor": 5
}
