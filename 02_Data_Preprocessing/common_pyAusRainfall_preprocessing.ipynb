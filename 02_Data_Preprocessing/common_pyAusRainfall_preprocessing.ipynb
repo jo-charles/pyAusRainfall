{
 "cells": [
  {
   "cell_type": "markdown",
   "id": "c5a1277b",
   "metadata": {},
   "source": [
    "# Prévisions météo en Australie"
   ]
  },
  {
   "cell_type": "markdown",
   "id": "03e6828b",
   "metadata": {},
   "source": [
    "# Prétraitement des données"
   ]
  },
  {
   "cell_type": "markdown",
   "id": "109ecc65",
   "metadata": {},
   "source": [
    "## Récupération des librairies"
   ]
  },
  {
   "cell_type": "code",
   "execution_count": 2,
   "id": "59ff69e5",
   "metadata": {},
   "outputs": [
    {
     "name": "stdout",
     "output_type": "stream",
     "text": [
      "Requirement already satisfied: scikit-plot in c:\\users\\charlesj\\anaconda3\\lib\\site-packages (0.3.7)\n",
      "Requirement already satisfied: joblib>=0.10 in c:\\users\\charlesj\\anaconda3\\lib\\site-packages (from scikit-plot) (1.1.0)\n",
      "Requirement already satisfied: matplotlib>=1.4.0 in c:\\users\\charlesj\\anaconda3\\lib\\site-packages (from scikit-plot) (3.4.3)\n",
      "Requirement already satisfied: scipy>=0.9 in c:\\users\\charlesj\\anaconda3\\lib\\site-packages (from scikit-plot) (1.7.1)\n",
      "Requirement already satisfied: scikit-learn>=0.18 in c:\\users\\charlesj\\anaconda3\\lib\\site-packages (from scikit-plot) (1.1.2)\n",
      "Requirement already satisfied: kiwisolver>=1.0.1 in c:\\users\\charlesj\\anaconda3\\lib\\site-packages (from matplotlib>=1.4.0->scikit-plot) (1.3.1)\n",
      "Requirement already satisfied: pyparsing>=2.2.1 in c:\\users\\charlesj\\anaconda3\\lib\\site-packages (from matplotlib>=1.4.0->scikit-plot) (3.0.4)\n",
      "Requirement already satisfied: python-dateutil>=2.7 in c:\\users\\charlesj\\anaconda3\\lib\\site-packages (from matplotlib>=1.4.0->scikit-plot) (2.8.2)\n",
      "Requirement already satisfied: numpy>=1.16 in c:\\users\\charlesj\\anaconda3\\lib\\site-packages (from matplotlib>=1.4.0->scikit-plot) (1.20.3)\n",
      "Requirement already satisfied: pillow>=6.2.0 in c:\\users\\charlesj\\anaconda3\\lib\\site-packages (from matplotlib>=1.4.0->scikit-plot) (8.4.0)\n",
      "Requirement already satisfied: cycler>=0.10 in c:\\users\\charlesj\\anaconda3\\lib\\site-packages (from matplotlib>=1.4.0->scikit-plot) (0.10.0)\n",
      "Requirement already satisfied: six in c:\\users\\charlesj\\anaconda3\\lib\\site-packages (from cycler>=0.10->matplotlib>=1.4.0->scikit-plot) (1.16.0)\n",
      "Requirement already satisfied: threadpoolctl>=2.0.0 in c:\\users\\charlesj\\anaconda3\\lib\\site-packages (from scikit-learn>=0.18->scikit-plot) (2.2.0)\n"
     ]
    }
   ],
   "source": [
    "# récupération du package scikit-plot\n",
    "!pip install scikit-plot"
   ]
  },
  {
   "cell_type": "code",
   "execution_count": 4,
   "id": "753b213e",
   "metadata": {},
   "outputs": [],
   "source": [
    "# récupération des librairies\n",
    "%matplotlib inline\n",
    "\n",
    "import numpy as np\n",
    "import pandas as pd\n",
    "import matplotlib.pyplot as plt\n",
    "import seaborn as sns\n",
    "import time, datetime\n",
    "import scikitplot as skplt\n",
    "import warnings\n",
    "warnings.filterwarnings(\"ignore\")\n",
    "\n",
    "from scipy.spatial.distance import cdist\n",
    "from scipy.stats import chi2_contingency\n",
    "from sklearn import ensemble, linear_model, model_selection, neighbors, preprocessing, svm\n",
    "from sklearn.cluster import KMeans\n",
    "from sklearn.ensemble import RandomForestClassifier\n",
    "from sklearn.feature_selection import SelectFromModel, SelectKBest, chi2\n",
    "from sklearn.impute import KNNImputer\n",
    "from sklearn.linear_model import LogisticRegression, SGDClassifier, Lasso, LassoCV, lasso_path, RidgeCV\n",
    "from sklearn.metrics import classification_report, accuracy_score, roc_curve, auc, mean_squared_error, recall_score, f1_score, precision_score\n",
    "from sklearn.model_selection import GridSearchCV, train_test_split, cross_val_score, learning_curve, KFold\n",
    "from sklearn.pipeline import make_pipeline\n",
    "from sklearn.preprocessing import StandardScaler, MinMaxScaler\n",
    "from sklearn.svm import SVC\n",
    "from sklearn.tree import DecisionTreeClassifier"
   ]
  },
  {
   "cell_type": "markdown",
   "id": "87464d62",
   "metadata": {},
   "source": [
    "## Récupération et amélioration du jeu de données"
   ]
  },
  {
   "cell_type": "markdown",
   "id": "d564055b",
   "metadata": {},
   "source": [
    "### Préparation des données"
   ]
  },
  {
   "cell_type": "code",
   "execution_count": 3,
   "id": "cf48aab8",
   "metadata": {},
   "outputs": [
    {
     "data": {
      "text/html": [
       "<div>\n",
       "<style scoped>\n",
       "    .dataframe tbody tr th:only-of-type {\n",
       "        vertical-align: middle;\n",
       "    }\n",
       "\n",
       "    .dataframe tbody tr th {\n",
       "        vertical-align: top;\n",
       "    }\n",
       "\n",
       "    .dataframe thead th {\n",
       "        text-align: right;\n",
       "    }\n",
       "</style>\n",
       "<table border=\"1\" class=\"dataframe\">\n",
       "  <thead>\n",
       "    <tr style=\"text-align: right;\">\n",
       "      <th></th>\n",
       "      <th>Date</th>\n",
       "      <th>Location</th>\n",
       "      <th>MinTemp</th>\n",
       "      <th>MaxTemp</th>\n",
       "      <th>Rainfall</th>\n",
       "      <th>Evaporation</th>\n",
       "      <th>Sunshine</th>\n",
       "      <th>WindGustDir</th>\n",
       "      <th>WindGustSpeed</th>\n",
       "      <th>WindDir9am</th>\n",
       "      <th>...</th>\n",
       "      <th>Humidity9am</th>\n",
       "      <th>Humidity3pm</th>\n",
       "      <th>Pressure9am</th>\n",
       "      <th>Pressure3pm</th>\n",
       "      <th>Cloud9am</th>\n",
       "      <th>Cloud3pm</th>\n",
       "      <th>Temp9am</th>\n",
       "      <th>Temp3pm</th>\n",
       "      <th>RainToday</th>\n",
       "      <th>RainTomorrow</th>\n",
       "    </tr>\n",
       "  </thead>\n",
       "  <tbody>\n",
       "    <tr>\n",
       "      <th>0</th>\n",
       "      <td>2008-12-01</td>\n",
       "      <td>Albury</td>\n",
       "      <td>13.4</td>\n",
       "      <td>22.9</td>\n",
       "      <td>0.6</td>\n",
       "      <td>NaN</td>\n",
       "      <td>NaN</td>\n",
       "      <td>W</td>\n",
       "      <td>44.0</td>\n",
       "      <td>W</td>\n",
       "      <td>...</td>\n",
       "      <td>71.0</td>\n",
       "      <td>22.0</td>\n",
       "      <td>1007.7</td>\n",
       "      <td>1007.1</td>\n",
       "      <td>8.0</td>\n",
       "      <td>NaN</td>\n",
       "      <td>16.9</td>\n",
       "      <td>21.8</td>\n",
       "      <td>No</td>\n",
       "      <td>No</td>\n",
       "    </tr>\n",
       "    <tr>\n",
       "      <th>1</th>\n",
       "      <td>2008-12-02</td>\n",
       "      <td>Albury</td>\n",
       "      <td>7.4</td>\n",
       "      <td>25.1</td>\n",
       "      <td>0.0</td>\n",
       "      <td>NaN</td>\n",
       "      <td>NaN</td>\n",
       "      <td>WNW</td>\n",
       "      <td>44.0</td>\n",
       "      <td>NNW</td>\n",
       "      <td>...</td>\n",
       "      <td>44.0</td>\n",
       "      <td>25.0</td>\n",
       "      <td>1010.6</td>\n",
       "      <td>1007.8</td>\n",
       "      <td>NaN</td>\n",
       "      <td>NaN</td>\n",
       "      <td>17.2</td>\n",
       "      <td>24.3</td>\n",
       "      <td>No</td>\n",
       "      <td>No</td>\n",
       "    </tr>\n",
       "    <tr>\n",
       "      <th>2</th>\n",
       "      <td>2008-12-03</td>\n",
       "      <td>Albury</td>\n",
       "      <td>12.9</td>\n",
       "      <td>25.7</td>\n",
       "      <td>0.0</td>\n",
       "      <td>NaN</td>\n",
       "      <td>NaN</td>\n",
       "      <td>WSW</td>\n",
       "      <td>46.0</td>\n",
       "      <td>W</td>\n",
       "      <td>...</td>\n",
       "      <td>38.0</td>\n",
       "      <td>30.0</td>\n",
       "      <td>1007.6</td>\n",
       "      <td>1008.7</td>\n",
       "      <td>NaN</td>\n",
       "      <td>2.0</td>\n",
       "      <td>21.0</td>\n",
       "      <td>23.2</td>\n",
       "      <td>No</td>\n",
       "      <td>No</td>\n",
       "    </tr>\n",
       "    <tr>\n",
       "      <th>3</th>\n",
       "      <td>2008-12-04</td>\n",
       "      <td>Albury</td>\n",
       "      <td>9.2</td>\n",
       "      <td>28.0</td>\n",
       "      <td>0.0</td>\n",
       "      <td>NaN</td>\n",
       "      <td>NaN</td>\n",
       "      <td>NE</td>\n",
       "      <td>24.0</td>\n",
       "      <td>SE</td>\n",
       "      <td>...</td>\n",
       "      <td>45.0</td>\n",
       "      <td>16.0</td>\n",
       "      <td>1017.6</td>\n",
       "      <td>1012.8</td>\n",
       "      <td>NaN</td>\n",
       "      <td>NaN</td>\n",
       "      <td>18.1</td>\n",
       "      <td>26.5</td>\n",
       "      <td>No</td>\n",
       "      <td>No</td>\n",
       "    </tr>\n",
       "    <tr>\n",
       "      <th>4</th>\n",
       "      <td>2008-12-05</td>\n",
       "      <td>Albury</td>\n",
       "      <td>17.5</td>\n",
       "      <td>32.3</td>\n",
       "      <td>1.0</td>\n",
       "      <td>NaN</td>\n",
       "      <td>NaN</td>\n",
       "      <td>W</td>\n",
       "      <td>41.0</td>\n",
       "      <td>ENE</td>\n",
       "      <td>...</td>\n",
       "      <td>82.0</td>\n",
       "      <td>33.0</td>\n",
       "      <td>1010.8</td>\n",
       "      <td>1006.0</td>\n",
       "      <td>7.0</td>\n",
       "      <td>8.0</td>\n",
       "      <td>17.8</td>\n",
       "      <td>29.7</td>\n",
       "      <td>No</td>\n",
       "      <td>No</td>\n",
       "    </tr>\n",
       "  </tbody>\n",
       "</table>\n",
       "<p>5 rows × 23 columns</p>\n",
       "</div>"
      ],
      "text/plain": [
       "         Date Location  MinTemp  MaxTemp  Rainfall  Evaporation  Sunshine  \\\n",
       "0  2008-12-01   Albury     13.4     22.9       0.6          NaN       NaN   \n",
       "1  2008-12-02   Albury      7.4     25.1       0.0          NaN       NaN   \n",
       "2  2008-12-03   Albury     12.9     25.7       0.0          NaN       NaN   \n",
       "3  2008-12-04   Albury      9.2     28.0       0.0          NaN       NaN   \n",
       "4  2008-12-05   Albury     17.5     32.3       1.0          NaN       NaN   \n",
       "\n",
       "  WindGustDir  WindGustSpeed WindDir9am  ... Humidity9am  Humidity3pm  \\\n",
       "0           W           44.0          W  ...        71.0         22.0   \n",
       "1         WNW           44.0        NNW  ...        44.0         25.0   \n",
       "2         WSW           46.0          W  ...        38.0         30.0   \n",
       "3          NE           24.0         SE  ...        45.0         16.0   \n",
       "4           W           41.0        ENE  ...        82.0         33.0   \n",
       "\n",
       "   Pressure9am  Pressure3pm  Cloud9am  Cloud3pm  Temp9am  Temp3pm  RainToday  \\\n",
       "0       1007.7       1007.1       8.0       NaN     16.9     21.8         No   \n",
       "1       1010.6       1007.8       NaN       NaN     17.2     24.3         No   \n",
       "2       1007.6       1008.7       NaN       2.0     21.0     23.2         No   \n",
       "3       1017.6       1012.8       NaN       NaN     18.1     26.5         No   \n",
       "4       1010.8       1006.0       7.0       8.0     17.8     29.7         No   \n",
       "\n",
       "   RainTomorrow  \n",
       "0            No  \n",
       "1            No  \n",
       "2            No  \n",
       "3            No  \n",
       "4            No  \n",
       "\n",
       "[5 rows x 23 columns]"
      ]
     },
     "execution_count": 3,
     "metadata": {},
     "output_type": "execute_result"
    }
   ],
   "source": [
    "# récupération et aperçu du jeu de données d'origine\n",
    "df = pd.read_csv('data/weatherAUS.csv')\n",
    "df.head()"
   ]
  },
  {
   "cell_type": "code",
   "execution_count": 4,
   "id": "e01dbc02",
   "metadata": {},
   "outputs": [
    {
     "name": "stdout",
     "output_type": "stream",
     "text": [
      "Taille du DataFrame initial:\n",
      "\n",
      "Nombre d'observations : 145460 \n",
      " Nombre de variables : 23\n"
     ]
    }
   ],
   "source": [
    "# taille du DataFrame initial\n",
    "obs_init = df.shape[0]\n",
    "var_init = df.shape[1]\n",
    "\n",
    "print(\"Taille du DataFrame initial:\\n\")\n",
    "print(\"Nombre d'observations : {} \\n Nombre de variables : {}\".format(df.shape[0], df.shape[1]))"
   ]
  },
  {
   "cell_type": "code",
   "execution_count": 5,
   "id": "dbd7992c",
   "metadata": {},
   "outputs": [],
   "source": [
    "# suppression des doublons\n",
    "df.drop_duplicates(inplace=True)"
   ]
  },
  {
   "cell_type": "code",
   "execution_count": 6,
   "id": "9dbffa21",
   "metadata": {},
   "outputs": [
    {
     "name": "stdout",
     "output_type": "stream",
     "text": [
      "Pourcentage de valeurs manquantes sur tout le dataframe: \n",
      "\n"
     ]
    },
    {
     "data": {
      "text/plain": [
       "Sunshine         48.009762\n",
       "Evaporation      43.166506\n",
       "Cloud3pm         40.807095\n",
       "Cloud9am         38.421559\n",
       "Pressure9am      10.356799\n",
       "Pressure3pm      10.331363\n",
       "WindDir9am        7.263853\n",
       "WindGustDir       7.098859\n",
       "WindGustSpeed     7.055548\n",
       "Humidity3pm       3.098446\n",
       "WindDir3pm        2.906641\n",
       "Temp3pm           2.481094\n",
       "RainTomorrow      2.245978\n",
       "Rainfall          2.241853\n",
       "RainToday         2.241853\n",
       "WindSpeed3pm      2.105046\n",
       "Humidity9am       1.824557\n",
       "Temp9am           1.214767\n",
       "WindSpeed9am      1.214767\n",
       "MinTemp           1.020899\n",
       "MaxTemp           0.866905\n",
       "Location          0.000000\n",
       "Date              0.000000\n",
       "dtype: float64"
      ]
     },
     "execution_count": 6,
     "metadata": {},
     "output_type": "execute_result"
    }
   ],
   "source": [
    "# détection des valeurs manquantes sur tout le DataFrame\n",
    "print(\"Pourcentage de valeurs manquantes sur tout le DataFrame: \\n\")\n",
    "df.isna().sum().sort_values(ascending=False).apply(lambda val : val/df.shape[0] * 100)"
   ]
  },
  {
   "cell_type": "markdown",
   "id": "6feddd71",
   "metadata": {},
   "source": [
    " - Les variables \"Sunshine\", \"Evaporation\", \"Cloud3pm\" et \"Cloud9am\" présentent la plus forte proportion de valeurs manquantes (entre 35% et 50%).\n",
    " - Les variables \"Date\" et \"Location\" n'ont pas de valeurs manquantes.\n",
    " - Les autres variables présentent moins de 10% de valeurs manquantes."
   ]
  },
  {
   "cell_type": "code",
   "execution_count": 7,
   "id": "34a8f116",
   "metadata": {},
   "outputs": [],
   "source": [
    "# suppression des valeurs manquantes pour \"RainToday\" et \"RainTomorrow\" qui ne contiennent que deux modalités.\n",
    "df.dropna(subset=['RainTomorrow', 'RainToday'], inplace=True)"
   ]
  },
  {
   "cell_type": "code",
   "execution_count": 8,
   "id": "f3ad950d",
   "metadata": {},
   "outputs": [],
   "source": [
    "# encodage des variables qualitatives binaires\n",
    "df['RainToday'].replace({'No':0, 'Yes':1}, inplace = True)\n",
    "df['RainTomorrow'].replace({'No':0, 'Yes':1}, inplace = True)\n",
    "\n",
    "df['RainToday'] = df['RainToday'].astype('int64')\n",
    "df['RainTomorrow'] = df['RainTomorrow'].astype('int64')"
   ]
  },
  {
   "cell_type": "code",
   "execution_count": 9,
   "id": "3bd7869d",
   "metadata": {},
   "outputs": [
    {
     "data": {
      "text/html": [
       "<style>#sk-container-id-1 {color: black;background-color: white;}#sk-container-id-1 pre{padding: 0;}#sk-container-id-1 div.sk-toggleable {background-color: white;}#sk-container-id-1 label.sk-toggleable__label {cursor: pointer;display: block;width: 100%;margin-bottom: 0;padding: 0.3em;box-sizing: border-box;text-align: center;}#sk-container-id-1 label.sk-toggleable__label-arrow:before {content: \"▸\";float: left;margin-right: 0.25em;color: #696969;}#sk-container-id-1 label.sk-toggleable__label-arrow:hover:before {color: black;}#sk-container-id-1 div.sk-estimator:hover label.sk-toggleable__label-arrow:before {color: black;}#sk-container-id-1 div.sk-toggleable__content {max-height: 0;max-width: 0;overflow: hidden;text-align: left;background-color: #f0f8ff;}#sk-container-id-1 div.sk-toggleable__content pre {margin: 0.2em;color: black;border-radius: 0.25em;background-color: #f0f8ff;}#sk-container-id-1 input.sk-toggleable__control:checked~div.sk-toggleable__content {max-height: 200px;max-width: 100%;overflow: auto;}#sk-container-id-1 input.sk-toggleable__control:checked~label.sk-toggleable__label-arrow:before {content: \"▾\";}#sk-container-id-1 div.sk-estimator input.sk-toggleable__control:checked~label.sk-toggleable__label {background-color: #d4ebff;}#sk-container-id-1 div.sk-label input.sk-toggleable__control:checked~label.sk-toggleable__label {background-color: #d4ebff;}#sk-container-id-1 input.sk-hidden--visually {border: 0;clip: rect(1px 1px 1px 1px);clip: rect(1px, 1px, 1px, 1px);height: 1px;margin: -1px;overflow: hidden;padding: 0;position: absolute;width: 1px;}#sk-container-id-1 div.sk-estimator {font-family: monospace;background-color: #f0f8ff;border: 1px dotted black;border-radius: 0.25em;box-sizing: border-box;margin-bottom: 0.5em;}#sk-container-id-1 div.sk-estimator:hover {background-color: #d4ebff;}#sk-container-id-1 div.sk-parallel-item::after {content: \"\";width: 100%;border-bottom: 1px solid gray;flex-grow: 1;}#sk-container-id-1 div.sk-label:hover label.sk-toggleable__label {background-color: #d4ebff;}#sk-container-id-1 div.sk-serial::before {content: \"\";position: absolute;border-left: 1px solid gray;box-sizing: border-box;top: 0;bottom: 0;left: 50%;z-index: 0;}#sk-container-id-1 div.sk-serial {display: flex;flex-direction: column;align-items: center;background-color: white;padding-right: 0.2em;padding-left: 0.2em;position: relative;}#sk-container-id-1 div.sk-item {position: relative;z-index: 1;}#sk-container-id-1 div.sk-parallel {display: flex;align-items: stretch;justify-content: center;background-color: white;position: relative;}#sk-container-id-1 div.sk-item::before, #sk-container-id-1 div.sk-parallel-item::before {content: \"\";position: absolute;border-left: 1px solid gray;box-sizing: border-box;top: 0;bottom: 0;left: 50%;z-index: -1;}#sk-container-id-1 div.sk-parallel-item {display: flex;flex-direction: column;z-index: 1;position: relative;background-color: white;}#sk-container-id-1 div.sk-parallel-item:first-child::after {align-self: flex-end;width: 50%;}#sk-container-id-1 div.sk-parallel-item:last-child::after {align-self: flex-start;width: 50%;}#sk-container-id-1 div.sk-parallel-item:only-child::after {width: 0;}#sk-container-id-1 div.sk-dashed-wrapped {border: 1px dashed gray;margin: 0 0.4em 0.5em 0.4em;box-sizing: border-box;padding-bottom: 0.4em;background-color: white;}#sk-container-id-1 div.sk-label label {font-family: monospace;font-weight: bold;display: inline-block;line-height: 1.2em;}#sk-container-id-1 div.sk-label-container {text-align: center;}#sk-container-id-1 div.sk-container {/* jupyter's `normalize.less` sets `[hidden] { display: none; }` but bootstrap.min.css set `[hidden] { display: none !important; }` so we also need the `!important` here to be able to override the default hidden behavior on the sphinx rendered scikit-learn.org. See: https://github.com/scikit-learn/scikit-learn/issues/21755 */display: inline-block !important;position: relative;}#sk-container-id-1 div.sk-text-repr-fallback {display: none;}</style><div id=\"sk-container-id-1\" class=\"sk-top-container\"><div class=\"sk-text-repr-fallback\"><pre>GridSearchCV(cv=3,\n",
       "             estimator=Pipeline(steps=[(&#x27;knnimputer&#x27;, KNNImputer()),\n",
       "                                       (&#x27;sgdclassifier&#x27;, SGDClassifier())]),\n",
       "             param_grid={&#x27;knnimputer__n_neighbors&#x27;: [4, 5, 6]})</pre><b>In a Jupyter environment, please rerun this cell to show the HTML representation or trust the notebook. <br />On GitHub, the HTML representation is unable to render, please try loading this page with nbviewer.org.</b></div><div class=\"sk-container\" hidden><div class=\"sk-item sk-dashed-wrapped\"><div class=\"sk-label-container\"><div class=\"sk-label sk-toggleable\"><input class=\"sk-toggleable__control sk-hidden--visually\" id=\"sk-estimator-id-1\" type=\"checkbox\" ><label for=\"sk-estimator-id-1\" class=\"sk-toggleable__label sk-toggleable__label-arrow\">GridSearchCV</label><div class=\"sk-toggleable__content\"><pre>GridSearchCV(cv=3,\n",
       "             estimator=Pipeline(steps=[(&#x27;knnimputer&#x27;, KNNImputer()),\n",
       "                                       (&#x27;sgdclassifier&#x27;, SGDClassifier())]),\n",
       "             param_grid={&#x27;knnimputer__n_neighbors&#x27;: [4, 5, 6]})</pre></div></div></div><div class=\"sk-parallel\"><div class=\"sk-parallel-item\"><div class=\"sk-item\"><div class=\"sk-label-container\"><div class=\"sk-label sk-toggleable\"><input class=\"sk-toggleable__control sk-hidden--visually\" id=\"sk-estimator-id-2\" type=\"checkbox\" ><label for=\"sk-estimator-id-2\" class=\"sk-toggleable__label sk-toggleable__label-arrow\">estimator: Pipeline</label><div class=\"sk-toggleable__content\"><pre>Pipeline(steps=[(&#x27;knnimputer&#x27;, KNNImputer()),\n",
       "                (&#x27;sgdclassifier&#x27;, SGDClassifier())])</pre></div></div></div><div class=\"sk-serial\"><div class=\"sk-item\"><div class=\"sk-serial\"><div class=\"sk-item\"><div class=\"sk-estimator sk-toggleable\"><input class=\"sk-toggleable__control sk-hidden--visually\" id=\"sk-estimator-id-3\" type=\"checkbox\" ><label for=\"sk-estimator-id-3\" class=\"sk-toggleable__label sk-toggleable__label-arrow\">KNNImputer</label><div class=\"sk-toggleable__content\"><pre>KNNImputer()</pre></div></div></div><div class=\"sk-item\"><div class=\"sk-estimator sk-toggleable\"><input class=\"sk-toggleable__control sk-hidden--visually\" id=\"sk-estimator-id-4\" type=\"checkbox\" ><label for=\"sk-estimator-id-4\" class=\"sk-toggleable__label sk-toggleable__label-arrow\">SGDClassifier</label><div class=\"sk-toggleable__content\"><pre>SGDClassifier()</pre></div></div></div></div></div></div></div></div></div></div></div></div>"
      ],
      "text/plain": [
       "GridSearchCV(cv=3,\n",
       "             estimator=Pipeline(steps=[('knnimputer', KNNImputer()),\n",
       "                                       ('sgdclassifier', SGDClassifier())]),\n",
       "             param_grid={'knnimputer__n_neighbors': [4, 5, 6]})"
      ]
     },
     "execution_count": 9,
     "metadata": {},
     "output_type": "execute_result"
    }
   ],
   "source": [
    "# remplacement des NANs avec l'algorithme KNN-Imputer pour les variables présentant la plus forte proportion de valeurs manquantes\n",
    "# temps de calcul : ~ 1 h 20 min\n",
    "X = df[['Sunshine', 'Evaporation', 'Cloud3pm', 'Cloud9am']]\n",
    "y = df['RainTomorrow']\n",
    "\n",
    "X_train, X_test, y_train, y_test = train_test_split(X, y, test_size=0.2, random_state=123)\n",
    "\n",
    "model = make_pipeline(KNNImputer(), SGDClassifier())\n",
    "\n",
    "params = {'knnimputer__n_neighbors' : [4,5,6]}\n",
    "\n",
    "grid = GridSearchCV(model, param_grid=params, cv=3)\n",
    "grid.fit(X_train, y_train)"
   ]
  },
  {
   "cell_type": "code",
   "execution_count": 12,
   "id": "eff293ad",
   "metadata": {},
   "outputs": [
    {
     "data": {
      "text/plain": [
       "{'knnimputer__n_neighbors': 5}"
      ]
     },
     "execution_count": 12,
     "metadata": {},
     "output_type": "execute_result"
    }
   ],
   "source": [
    "grid.best_params_"
   ]
  },
  {
   "cell_type": "code",
   "execution_count": 13,
   "id": "197c243d",
   "metadata": {},
   "outputs": [],
   "source": [
    "# remplacement des NANs avec l'algorithme KNN-Imputer pour les variables présentant la plus forte proportion de valeurs manquantes\n",
    "# temps de calcul : ~ 20 min.\n",
    "imputer = KNNImputer(n_neighbors = grid.best_params_['knnimputer__n_neighbors'])\n",
    "df[['Sunshine', 'Evaporation', 'Cloud3pm', 'Cloud9am']] = imputer.fit_transform(df[['Sunshine', 'Evaporation', 'Cloud3pm', 'Cloud9am']])"
   ]
  },
  {
   "cell_type": "code",
   "execution_count": 14,
   "id": "175f4504",
   "metadata": {},
   "outputs": [
    {
     "name": "stdout",
     "output_type": "stream",
     "text": [
      "Pourcentage de valeurs manquantes sur tout le DataFrame: \n",
      "\n"
     ]
    },
    {
     "data": {
      "text/plain": [
       "Pressure3pm      9.780022\n",
       "Pressure9am      9.761555\n",
       "WindDir9am       6.861429\n",
       "WindGustDir      6.508413\n",
       "WindGustSpeed    6.467216\n",
       "WindDir3pm       2.606775\n",
       "Humidity3pm      2.486735\n",
       "Temp3pm          1.863808\n",
       "WindSpeed3pm     1.797751\n",
       "Humidity9am      1.077514\n",
       "WindSpeed9am     0.749359\n",
       "Temp9am          0.465952\n",
       "MinTemp          0.332417\n",
       "MaxTemp          0.218060\n",
       "RainToday        0.000000\n",
       "Cloud9am         0.000000\n",
       "Cloud3pm         0.000000\n",
       "Date             0.000000\n",
       "Location         0.000000\n",
       "Sunshine         0.000000\n",
       "Evaporation      0.000000\n",
       "Rainfall         0.000000\n",
       "RainTomorrow     0.000000\n",
       "dtype: float64"
      ]
     },
     "execution_count": 14,
     "metadata": {},
     "output_type": "execute_result"
    }
   ],
   "source": [
    "# détection des valeurs manquantes sur tout le DataFrame\n",
    "print(\"Pourcentage de valeurs manquantes sur tout le DataFrame: \\n\")\n",
    "df.isna().sum().sort_values(ascending=False).apply(lambda val : val/df.shape[0]*100)"
   ]
  },
  {
   "cell_type": "code",
   "execution_count": 15,
   "id": "5c18cccd",
   "metadata": {},
   "outputs": [
    {
     "data": {
      "text/html": [
       "<div>\n",
       "<style scoped>\n",
       "    .dataframe tbody tr th:only-of-type {\n",
       "        vertical-align: middle;\n",
       "    }\n",
       "\n",
       "    .dataframe tbody tr th {\n",
       "        vertical-align: top;\n",
       "    }\n",
       "\n",
       "    .dataframe thead th {\n",
       "        text-align: right;\n",
       "    }\n",
       "</style>\n",
       "<table border=\"1\" class=\"dataframe\">\n",
       "  <thead>\n",
       "    <tr style=\"text-align: right;\">\n",
       "      <th></th>\n",
       "      <th>Pressure3pm</th>\n",
       "      <th>Pressure9am</th>\n",
       "      <th>WindGustSpeed</th>\n",
       "      <th>Humidity3pm</th>\n",
       "      <th>Temp3pm</th>\n",
       "      <th>WindSpeed3pm</th>\n",
       "      <th>Humidity9am</th>\n",
       "      <th>WindSpeed9am</th>\n",
       "      <th>Temp9am</th>\n",
       "      <th>MinTemp</th>\n",
       "      <th>MaxTemp</th>\n",
       "    </tr>\n",
       "    <tr>\n",
       "      <th>Date</th>\n",
       "      <th></th>\n",
       "      <th></th>\n",
       "      <th></th>\n",
       "      <th></th>\n",
       "      <th></th>\n",
       "      <th></th>\n",
       "      <th></th>\n",
       "      <th></th>\n",
       "      <th></th>\n",
       "      <th></th>\n",
       "      <th></th>\n",
       "    </tr>\n",
       "  </thead>\n",
       "  <tbody>\n",
       "    <tr>\n",
       "      <th>2008-12-01</th>\n",
       "      <td>1007.1</td>\n",
       "      <td>1007.7</td>\n",
       "      <td>44.0</td>\n",
       "      <td>22.0</td>\n",
       "      <td>21.8</td>\n",
       "      <td>24.0</td>\n",
       "      <td>71.0</td>\n",
       "      <td>20.0</td>\n",
       "      <td>16.9</td>\n",
       "      <td>13.4</td>\n",
       "      <td>22.9</td>\n",
       "    </tr>\n",
       "    <tr>\n",
       "      <th>2008-12-02</th>\n",
       "      <td>1007.8</td>\n",
       "      <td>1010.6</td>\n",
       "      <td>44.0</td>\n",
       "      <td>25.0</td>\n",
       "      <td>24.3</td>\n",
       "      <td>22.0</td>\n",
       "      <td>44.0</td>\n",
       "      <td>4.0</td>\n",
       "      <td>17.2</td>\n",
       "      <td>7.4</td>\n",
       "      <td>25.1</td>\n",
       "    </tr>\n",
       "    <tr>\n",
       "      <th>2008-12-03</th>\n",
       "      <td>1008.7</td>\n",
       "      <td>1007.6</td>\n",
       "      <td>46.0</td>\n",
       "      <td>30.0</td>\n",
       "      <td>23.2</td>\n",
       "      <td>26.0</td>\n",
       "      <td>38.0</td>\n",
       "      <td>19.0</td>\n",
       "      <td>21.0</td>\n",
       "      <td>12.9</td>\n",
       "      <td>25.7</td>\n",
       "    </tr>\n",
       "    <tr>\n",
       "      <th>2008-12-04</th>\n",
       "      <td>1012.8</td>\n",
       "      <td>1017.6</td>\n",
       "      <td>24.0</td>\n",
       "      <td>16.0</td>\n",
       "      <td>26.5</td>\n",
       "      <td>9.0</td>\n",
       "      <td>45.0</td>\n",
       "      <td>11.0</td>\n",
       "      <td>18.1</td>\n",
       "      <td>9.2</td>\n",
       "      <td>28.0</td>\n",
       "    </tr>\n",
       "    <tr>\n",
       "      <th>2008-12-05</th>\n",
       "      <td>1006.0</td>\n",
       "      <td>1010.8</td>\n",
       "      <td>41.0</td>\n",
       "      <td>33.0</td>\n",
       "      <td>29.7</td>\n",
       "      <td>20.0</td>\n",
       "      <td>82.0</td>\n",
       "      <td>7.0</td>\n",
       "      <td>17.8</td>\n",
       "      <td>17.5</td>\n",
       "      <td>32.3</td>\n",
       "    </tr>\n",
       "  </tbody>\n",
       "</table>\n",
       "</div>"
      ],
      "text/plain": [
       "            Pressure3pm  Pressure9am  WindGustSpeed  Humidity3pm  Temp3pm  \\\n",
       "Date                                                                        \n",
       "2008-12-01       1007.1       1007.7           44.0         22.0     21.8   \n",
       "2008-12-02       1007.8       1010.6           44.0         25.0     24.3   \n",
       "2008-12-03       1008.7       1007.6           46.0         30.0     23.2   \n",
       "2008-12-04       1012.8       1017.6           24.0         16.0     26.5   \n",
       "2008-12-05       1006.0       1010.8           41.0         33.0     29.7   \n",
       "\n",
       "            WindSpeed3pm  Humidity9am  WindSpeed9am  Temp9am  MinTemp  MaxTemp  \n",
       "Date                                                                            \n",
       "2008-12-01          24.0         71.0          20.0     16.9     13.4     22.9  \n",
       "2008-12-02          22.0         44.0           4.0     17.2      7.4     25.1  \n",
       "2008-12-03          26.0         38.0          19.0     21.0     12.9     25.7  \n",
       "2008-12-04           9.0         45.0          11.0     18.1      9.2     28.0  \n",
       "2008-12-05          20.0         82.0           7.0     17.8     17.5     32.3  "
      ]
     },
     "execution_count": 15,
     "metadata": {},
     "output_type": "execute_result"
    }
   ],
   "source": [
    "# isolement des variables quantitatives présentant moins de 10% de valeurs manquantes\n",
    "num_vars_with_nans = ['Pressure3pm','Pressure9am','WindGustSpeed','Humidity3pm','Temp3pm','WindSpeed3pm','Humidity9am','WindSpeed9am','Temp9am','MinTemp','MaxTemp']\n",
    "\n",
    "index_date = pd.to_datetime(df['Date'])\n",
    "df = df.set_index(index_date)\n",
    "\n",
    "df_date = df.set_index(index_date)[num_vars_with_nans]\n",
    "df_date.head()"
   ]
  },
  {
   "cell_type": "code",
   "execution_count": 16,
   "id": "814007bc",
   "metadata": {},
   "outputs": [],
   "source": [
    "# remplacement des NANs pour les variables quantitatives présentant moins de 10% de valeurs manquantes avec la méthode interpolate\n",
    "df_date = df_date.interpolate(method=\"time\")"
   ]
  },
  {
   "cell_type": "code",
   "execution_count": 17,
   "id": "5659336d",
   "metadata": {},
   "outputs": [],
   "source": [
    "# réintégration des variables isolées dans le DataFrame d'origine\n",
    "df[num_vars_with_nans] = df_date[num_vars_with_nans]"
   ]
  },
  {
   "cell_type": "code",
   "execution_count": 20,
   "id": "87f4efac",
   "metadata": {},
   "outputs": [
    {
     "name": "stdout",
     "output_type": "stream",
     "text": [
      "Pourcentage de valeurs manquantes sur tout le DataFrame: \n",
      "\n"
     ]
    },
    {
     "data": {
      "text/plain": [
       "WindDir9am       6.861429\n",
       "WindGustDir      6.508413\n",
       "WindDir3pm       2.606775\n",
       "Date             0.000000\n",
       "Humidity9am      0.000000\n",
       "RainToday        0.000000\n",
       "Temp3pm          0.000000\n",
       "Temp9am          0.000000\n",
       "Cloud3pm         0.000000\n",
       "Cloud9am         0.000000\n",
       "Pressure3pm      0.000000\n",
       "Pressure9am      0.000000\n",
       "Humidity3pm      0.000000\n",
       "WindSpeed9am     0.000000\n",
       "WindSpeed3pm     0.000000\n",
       "Location         0.000000\n",
       "WindGustSpeed    0.000000\n",
       "Sunshine         0.000000\n",
       "Evaporation      0.000000\n",
       "Rainfall         0.000000\n",
       "MaxTemp          0.000000\n",
       "MinTemp          0.000000\n",
       "RainTomorrow     0.000000\n",
       "dtype: float64"
      ]
     },
     "execution_count": 20,
     "metadata": {},
     "output_type": "execute_result"
    }
   ],
   "source": [
    "# détection des valeurs manquantes sur tout le DataFrame\n",
    "print(\"Pourcentage de valeurs manquantes sur tout le DataFrame: \\n\")\n",
    "df.isna().sum().sort_values(ascending=False).apply(lambda val : val/df.shape[0]*100)"
   ]
  },
  {
   "cell_type": "code",
   "execution_count": 21,
   "id": "cbb02598",
   "metadata": {},
   "outputs": [],
   "source": [
    "# remplacement des valeurs manquantes pour les variables qualitatives en utilisant le mode\n",
    "for feat in ['WindGustDir', 'WindDir9am', 'WindDir3pm'] :\n",
    "    df[feat].fillna(df[feat].mode()[0], inplace=True)"
   ]
  },
  {
   "cell_type": "code",
   "execution_count": 22,
   "id": "dc8f7e67",
   "metadata": {},
   "outputs": [
    {
     "data": {
      "text/plain": [
       "0"
      ]
     },
     "execution_count": 22,
     "metadata": {},
     "output_type": "execute_result"
    }
   ],
   "source": [
    "# vérification finale sur le nombre de valeurs manquantes du DataFrame\n",
    "df.isna().sum().sum()"
   ]
  },
  {
   "cell_type": "code",
   "execution_count": 23,
   "id": "c1720401",
   "metadata": {},
   "outputs": [],
   "source": [
    "# définition de nouvelles variables\n",
    "df['Temp_Delta_MinMax'] = df['MaxTemp'] - df['MinTemp']\n",
    "df['Humidity_Delta'] = df['Humidity3pm'] - df['Humidity9am']"
   ]
  },
  {
   "cell_type": "code",
   "execution_count": 24,
   "id": "89faf761",
   "metadata": {},
   "outputs": [
    {
     "data": {
      "text/plain": [
       "RainTomorrow         1.000000\n",
       "Humidity3pm          0.438034\n",
       "RainToday            0.313097\n",
       "Cloud3pm             0.305400\n",
       "Cloud9am             0.260083\n",
       "Humidity9am          0.256141\n",
       "Humidity_Delta       0.253574\n",
       "Rainfall             0.239032\n",
       "WindGustSpeed        0.217533\n",
       "WindSpeed9am         0.089186\n",
       "WindSpeed3pm         0.085503\n",
       "MinTemp              0.083992\n",
       "Temp9am             -0.025635\n",
       "Evaporation         -0.101904\n",
       "MaxTemp             -0.159395\n",
       "Temp3pm             -0.188807\n",
       "Pressure3pm         -0.211297\n",
       "Pressure9am         -0.229678\n",
       "Temp_Delta_MinMax   -0.336272\n",
       "Sunshine            -0.354916\n",
       "Name: RainTomorrow, dtype: float64"
      ]
     },
     "execution_count": 24,
     "metadata": {},
     "output_type": "execute_result"
    }
   ],
   "source": [
    "# corrélations avec la variable cible\n",
    "df.corr()['RainTomorrow'].sort_values(ascending=False)"
   ]
  },
  {
   "cell_type": "code",
   "execution_count": 25,
   "id": "4080e1aa",
   "metadata": {},
   "outputs": [],
   "source": [
    "# suppression des variables les moins corrélées à la variable cible (choix arbitraire : 'inférieur à 0.15 en valeur absolue')\n",
    "df.drop(columns=['WindSpeed9am', 'WindSpeed3pm', 'MinTemp', 'Temp9am', 'Evaporation'], inplace=True)"
   ]
  },
  {
   "cell_type": "code",
   "execution_count": 26,
   "id": "4319ed76",
   "metadata": {},
   "outputs": [],
   "source": [
    "# suppression de la date car ni l'année, le mois, la semaine ou la journée ne sont pas très corrélées avec la variable cible (cf. \"common_pyAusRainfall_dataviz.ipynb\")\n",
    "df.drop(columns=['Date'], inplace=True)"
   ]
  },
  {
   "cell_type": "code",
   "execution_count": 27,
   "id": "da229df8",
   "metadata": {},
   "outputs": [],
   "source": [
    "# définition de la fonction mesurant le niveau de corrélation par le V de Cramer\n",
    "def V_Cramer(table, N):\n",
    "    stat_chi2 = chi2_contingency(table)[0]\n",
    "    k = table.shape[0]\n",
    "    r = table.shape[1]\n",
    "    phi = max(0, (stat_chi2/N)-((k-1)*(r-1)/(N-1)))\n",
    "    k_corr = k - (np.square(k-1)/(N-1))\n",
    "    r_corr = r - (np.square(r-1)/(N-1))\n",
    "    return np.sqrt(phi/min(k_corr - 1, r_corr - 1))"
   ]
  },
  {
   "cell_type": "code",
   "execution_count": 28,
   "id": "6f1ea024",
   "metadata": {},
   "outputs": [
    {
     "name": "stdout",
     "output_type": "stream",
     "text": [
      "Table de contingence :\n",
      "V_Cramer = 0.27673959015296234\n"
     ]
    }
   ],
   "source": [
    "# table de contingence entre entre les variables 'Humidity9am' et 'RainTomorrow'\n",
    "print(\"Table de contingence :\")\n",
    "table = pd.crosstab(df['Humidity9am'], df['RainTomorrow'])\n",
    "\n",
    "# mesure du niveau de corrélation par le V de Cramer\n",
    "print(\"V_Cramer = {}\".format(V_Cramer(table, df.shape[0])))"
   ]
  },
  {
   "cell_type": "code",
   "execution_count": 29,
   "id": "66ecb053",
   "metadata": {},
   "outputs": [
    {
     "name": "stdout",
     "output_type": "stream",
     "text": [
      "Table de contingence :\n",
      "V_Cramer = 0.28019656157074646\n"
     ]
    }
   ],
   "source": [
    "# table de contingence entre les variables 'Humidity_Delta' et 'RainTomorrow'\n",
    "print(\"Table de contingence :\")\n",
    "table = pd.crosstab(df['Humidity_Delta'], df['RainTomorrow'])\n",
    "\n",
    "# mesure du niveau de corrélation par le V de Cramer\n",
    "print(\"V_Cramer = {}\".format(V_Cramer(table, df.shape[0])))"
   ]
  },
  {
   "cell_type": "code",
   "execution_count": 30,
   "id": "98ddadc1",
   "metadata": {},
   "outputs": [],
   "source": [
    "# suppression de la variable \"Humidity9am\", moins corrélée à la variable cible que \"Humidity_Delta\"\n",
    "df.drop(columns=['Humidity9am'], inplace=True)"
   ]
  },
  {
   "cell_type": "code",
   "execution_count": 31,
   "id": "0c58e41d",
   "metadata": {},
   "outputs": [
    {
     "data": {
      "image/png": "[encoded data removed]",
      "text/plain": [
       "<Figure size 720x720 with 2 Axes>"
      ]
     },
     "metadata": {
      "needs_background": "light"
     },
     "output_type": "display_data"
    }
   ],
   "source": [
    "# matrice de corrélation\n",
    "fig, ax = plt.subplots(figsize=(10,10))\n",
    "annot_kws={'fontsize':10, 'color':\"k\", 'verticalalignment':'center'}\n",
    "sns.heatmap(df.corr(), linewidths=0.5, annot=True, annot_kws=annot_kws, fmt=\".2f\", ax=ax, cmap='coolwarm', center=0)\n",
    "plt.title('Matrice de corrélation du jeu de données', fontsize=10);"
   ]
  },
  {
   "cell_type": "markdown",
   "id": "ff901cd4",
   "metadata": {},
   "source": [
    "- \"Temp3pm\" et \"MaxTemp\" sont très fortement corrélées (+0.97)\n",
    "- \"Pressure9am\" et \"Pressure3pm\" sont très fortement corrélées (+0.92)\n",
    "- \"Humidity3pm\" et \"Temp_Delta_MinMax\" sont très fortement corrélées (-0.72)\n",
    "- \"Sunshine\" et \"Cloud3pm\" sont fortement corrélées (-0.70)\n",
    "- \"Sunshine\" et \"Cloud9am\" sont fortement corrélées (-0.68)\n",
    "- \"Cloud9am\" et \"Cloud3pm\" sont fortement corrélées (+0.62)\n",
    "- \"Humidity3pm\" et \"Temp3pm\" sont fortement corrélées (-0.55)"
   ]
  },
  {
   "cell_type": "code",
   "execution_count": 32,
   "id": "0ea2be96",
   "metadata": {},
   "outputs": [
    {
     "name": "stdout",
     "output_type": "stream",
     "text": [
      "Table de contingence :\n",
      "V_Cramer = 0.24423121889156266\n"
     ]
    }
   ],
   "source": [
    "# table de contingence entre les variables \"Pressure9am\" et \"RainTomorrow\"\n",
    "print(\"Table de contingence :\")\n",
    "table = pd.crosstab(df['Pressure9am'], df['RainTomorrow'])\n",
    "\n",
    "# mesure du niveau de corrélation par le V de Cramer\n",
    "print(\"V_Cramer = {}\".format(V_Cramer(table, df.shape[0])))"
   ]
  },
  {
   "cell_type": "code",
   "execution_count": 33,
   "id": "2433952e",
   "metadata": {},
   "outputs": [
    {
     "name": "stdout",
     "output_type": "stream",
     "text": [
      "Table de contingence :\n",
      "V_Cramer = 0.22808735874790356\n"
     ]
    }
   ],
   "source": [
    "# table de contingence entre les variables \"Pressure3pm\" et \"RainTomorrow\"\n",
    "print(\"Table de contingence :\")\n",
    "table = pd.crosstab(df['Pressure3pm'], df['RainTomorrow'])\n",
    "\n",
    "# mesure du niveau de corrélation par le V de Cramer\n",
    "print(\"V_Cramer = {}\".format(V_Cramer(table, df.shape[0])))"
   ]
  },
  {
   "cell_type": "code",
   "execution_count": 34,
   "id": "1ea68101",
   "metadata": {},
   "outputs": [],
   "source": [
    "# suppression de la variable \"Pressure3pm\", moins corrélée à la variable cible que \"Pressure9am\"\n",
    "df.drop(columns=['Pressure3pm'], inplace=True)"
   ]
  },
  {
   "cell_type": "code",
   "execution_count": 35,
   "id": "85553521",
   "metadata": {},
   "outputs": [
    {
     "name": "stdout",
     "output_type": "stream",
     "text": [
      "Table de contingence :\n",
      "V_Cramer = 0.26769405554360165\n"
     ]
    }
   ],
   "source": [
    "# table de contingence entre les variables \"Cloud9am\" et \"RainTomorrow\"\n",
    "print(\"Table de contingence :\")\n",
    "table = pd.crosstab(df['Cloud9am'], df['RainTomorrow'])\n",
    "\n",
    "# mesure du niveau de corrélation par le V de Cramer\n",
    "print(\"V_Cramer = {}\".format(V_Cramer(table, df.shape[0])))"
   ]
  },
  {
   "cell_type": "code",
   "execution_count": 36,
   "id": "9900a27e",
   "metadata": {},
   "outputs": [
    {
     "name": "stdout",
     "output_type": "stream",
     "text": [
      "Table de contingence :\n",
      "V_Cramer = 0.3281607321744599\n"
     ]
    }
   ],
   "source": [
    "# table de contingence entre les variables \"Cloud3pm\" et \"RainTomorrow\"\n",
    "print(\"Table de contingence :\")\n",
    "table = pd.crosstab(df['Cloud3pm'], df['RainTomorrow'])\n",
    "\n",
    "# mesure du niveau de corrélation par le V de Cramer\n",
    "print(\"V_Cramer = {}\".format(V_Cramer(table, df.shape[0])))"
   ]
  },
  {
   "cell_type": "code",
   "execution_count": 37,
   "id": "2a4632d0",
   "metadata": {},
   "outputs": [],
   "source": [
    "# suppression de la variable \"Cloud9am\", moins corrélée à la variable cible que \"Cloud3pm\"\n",
    "df.drop(columns=['Cloud9am'], inplace=True)"
   ]
  },
  {
   "cell_type": "code",
   "execution_count": 38,
   "id": "9fef2935",
   "metadata": {},
   "outputs": [
    {
     "name": "stdout",
     "output_type": "stream",
     "text": [
      "Table de contingence :\n",
      "V_Cramer = 0.20513636904544252\n"
     ]
    }
   ],
   "source": [
    "# table de contingence entre les variables \"Temp3pm\" et \"RainTomorrow\"\n",
    "print(\"Table de contingence :\")\n",
    "table = pd.crosstab(df['Temp3pm'], df['RainTomorrow'])\n",
    "\n",
    "# mesure du niveau de corrélation par le V de Cramer\n",
    "print(\"V_Cramer = {}\".format(V_Cramer(table, df.shape[0])))"
   ]
  },
  {
   "cell_type": "code",
   "execution_count": 39,
   "id": "0b270bf0",
   "metadata": {},
   "outputs": [
    {
     "name": "stdout",
     "output_type": "stream",
     "text": [
      "Table de contingence :\n",
      "V_Cramer = 0.16957868606472762\n"
     ]
    }
   ],
   "source": [
    "# table de contingence entre les variables \"MaxTemp\" et \"RainTomorrow\"\n",
    "print(\"Table de contingence :\")\n",
    "table = pd.crosstab(df['MaxTemp'], df['RainTomorrow'])\n",
    "\n",
    "# mesure du niveau de corrélation par le V de Cramer\n",
    "print(\"V_Cramer = {}\".format(V_Cramer(table, df.shape[0])))"
   ]
  },
  {
   "cell_type": "code",
   "execution_count": 40,
   "id": "b897f03c",
   "metadata": {},
   "outputs": [],
   "source": [
    "# suppression de la variable \"MaxTemp\", moins corrélée à la variable cible que \"Temp3pm\"\n",
    "df.drop(columns=['MaxTemp'], inplace=True)"
   ]
  },
  {
   "cell_type": "code",
   "execution_count": 41,
   "id": "71dd337d",
   "metadata": {},
   "outputs": [
    {
     "name": "stdout",
     "output_type": "stream",
     "text": [
      "Variables quantitatives: ['Rainfall', 'Sunshine', 'WindGustSpeed', 'Humidity3pm', 'Pressure9am', 'Cloud3pm', 'Temp3pm', 'RainToday', 'RainTomorrow', 'Temp_Delta_MinMax', 'Humidity_Delta'] \n",
      "\n",
      "Nombre de variables quantitatives: 11\n"
     ]
    }
   ],
   "source": [
    "# récupération des variables quantitatives\n",
    "num_features = [col for col in df.columns if df[col].dtype != 'O']\n",
    "num_data = df.select_dtypes(include='number')\n",
    "\n",
    "print(\"Variables quantitatives: {}\".format(num_features),'\\n')\n",
    "print(\"Nombre de variables quantitatives: {}\".format(len(num_features)))"
   ]
  },
  {
   "cell_type": "code",
   "execution_count": 42,
   "id": "7e7c3be4",
   "metadata": {},
   "outputs": [
    {
     "name": "stdout",
     "output_type": "stream",
     "text": [
      "Cardinalité de 'Rainfall': 679\n",
      "Cardinalité de 'Sunshine': 1012\n",
      "Cardinalité de 'WindGustSpeed': 68\n",
      "Cardinalité de 'Humidity3pm': 101\n",
      "Cardinalité de 'Pressure9am': 545\n",
      "Cardinalité de 'Cloud3pm': 43\n",
      "Cardinalité de 'Temp3pm': 500\n",
      "Cardinalité de 'RainToday': 2\n",
      "Cardinalité de 'RainTomorrow': 2\n",
      "Cardinalité de 'Temp_Delta_MinMax': 1094\n",
      "Cardinalité de 'Humidity_Delta': 165\n"
     ]
    }
   ],
   "source": [
    "# cardinalité\n",
    "for feature in num_features:\n",
    "    print(\"Cardinalité de '{}': {}\".format(feature, len(df[feature].unique())))"
   ]
  },
  {
   "cell_type": "code",
   "execution_count": 43,
   "id": "2d8ce93f",
   "metadata": {},
   "outputs": [],
   "source": [
    "# suppression de la variable \"RainToday\" qui ne contient que deux modalités et se comporte donc plutôt comme une variable qualitative \n",
    "# df.drop(columns=['RainToday'], inplace=True)"
   ]
  },
  {
   "cell_type": "code",
   "execution_count": 44,
   "id": "ab1552a3",
   "metadata": {},
   "outputs": [],
   "source": [
    "# mise à jour de la liste des colonnes du DataFrame\n",
    "# num_features = [col for col in df.columns if df[col].dtype != 'O']"
   ]
  },
  {
   "cell_type": "code",
   "execution_count": 45,
   "id": "075fc23e",
   "metadata": {},
   "outputs": [
    {
     "name": "stdout",
     "output_type": "stream",
     "text": [
      "Variables qualitatives:  ['Location', 'WindGustDir', 'WindDir9am', 'WindDir3pm'] \n",
      "\n",
      "Nombre de variables qualitatives:  4\n"
     ]
    }
   ],
   "source": [
    "# récupération des variables qualitatives\n",
    "cat_features = [col for col in df.columns if df[col].dtype == 'O']\n",
    "cat_data = df.select_dtypes(include = 'O')\n",
    "\n",
    "print(\"Variables qualitatives: \", cat_features,'\\n')\n",
    "print(\"Nombre de variables qualitatives: \", len(cat_features))"
   ]
  },
  {
   "cell_type": "code",
   "execution_count": 46,
   "id": "23e19422",
   "metadata": {},
   "outputs": [
    {
     "name": "stdout",
     "output_type": "stream",
     "text": [
      "Cardinalité de 'Location': 49\n",
      "Cardinalité de 'WindGustDir': 16\n",
      "Cardinalité de 'WindDir9am': 16\n",
      "Cardinalité de 'WindDir3pm': 16\n"
     ]
    }
   ],
   "source": [
    "# cardinalité\n",
    "for feature in cat_features:\n",
    "    print(\"Cardinalité de '{}': {}\".format(feature, len(df[feature].unique())))"
   ]
  },
  {
   "cell_type": "code",
   "execution_count": 47,
   "id": "78982ef8",
   "metadata": {},
   "outputs": [],
   "source": [
    "# suppression des variables quantitatives \"WindGustDir\", \"WindDir9am\" et \"WindDir3pm\" qui présentent une cardinalité trop forte\n",
    "df.drop(columns=['WindGustDir', 'WindDir9am', 'WindDir3pm'], inplace=True)"
   ]
  },
  {
   "cell_type": "code",
   "execution_count": 48,
   "id": "099f67ef",
   "metadata": {},
   "outputs": [],
   "source": [
    "# mise à jour de la liste des colonnes du DataFrame\n",
    "cat_features = [col for col in df.columns if df[col].dtype == 'O']"
   ]
  },
  {
   "cell_type": "code",
   "execution_count": 49,
   "id": "b0da5f87",
   "metadata": {},
   "outputs": [],
   "source": [
    "# transformation des variables qualitatives en variables numériques (Olivier)\n",
    "# for column in cat_features:\n",
    "#    l = df[column].value_counts().index.tolist() \n",
    "#    mapping = {x:y for x,y in zip(l, range(len(l)))}\n",
    "#    df[column] = df[column].map(mapping) "
   ]
  },
  {
   "cell_type": "code",
   "execution_count": 50,
   "id": "5ced15d5",
   "metadata": {},
   "outputs": [],
   "source": [
    "# dichotomisation (one hot encoding)\n",
    "# onehot_features = ['WindGustDir', 'WindDir9am', 'WindDir3pm']\n",
    "\n",
    "# def one_hot_encode(df, cat, prefix):\n",
    "#     for col, pref in zip(cat, prefix):\n",
    "#         dummy = pd.get_dummies(df[col], prefix=pref)\n",
    "#         df = pd.concat([df, dummy], axis=1)\n",
    "#         df = df.drop(col, axis=1)\n",
    "#     return df\n",
    "\n",
    "# df = one_hot_encode(df, onehot_features, ['wgd', 'wd9', 'wd3'])"
   ]
  },
  {
   "cell_type": "code",
   "execution_count": 51,
   "id": "df99ddd8",
   "metadata": {},
   "outputs": [],
   "source": [
    "# calcul des valeurs délimitant les outliers et remplacement des outliers par la valeur des limites \n",
    "for feature in ['WindGustSpeed','Humidity3pm','Pressure9am','Rainfall','Temp3pm','Temp_Delta_MinMax','Humidity_Delta']:\n",
    "    q1 = df[feature].quantile(0.25)\n",
    "    q3 = df[feature].quantile(0.75)\n",
    "    IQR = q3 - q1\n",
    "    lower_limit = q1 - (IQR*1.5)\n",
    "    upper_limit = q3 + (IQR*1.5)\n",
    "    df.loc[df[feature] < lower_limit, feature] = lower_limit\n",
    "    df.loc[df[feature] > upper_limit, feature] = upper_limit"
   ]
  },
  {
   "cell_type": "code",
   "execution_count": 52,
   "id": "9d447b1d",
   "metadata": {},
   "outputs": [],
   "source": [
    "# remplacement des valeurs manquantes en utilisant la moyenne\n",
    "# for feat in num_features :\n",
    "#     df[feat].fillna(df[feat].mean(), inplace=True)"
   ]
  },
  {
   "cell_type": "code",
   "execution_count": 53,
   "id": "dac11b79",
   "metadata": {},
   "outputs": [],
   "source": [
    "# Vérification des valeurs manquantes sur tout le DataFrame\n",
    "# df.isnull().sum().sum()"
   ]
  },
  {
   "cell_type": "code",
   "execution_count": 54,
   "id": "c6783abe",
   "metadata": {},
   "outputs": [
    {
     "name": "stdout",
     "output_type": "stream",
     "text": [
      "Taille du DataFrame réduit:\n",
      "\n",
      "Nombre d'observations initial: 145460 \n",
      " Nombre de variables initial: 23 \n",
      "\n",
      "Nombre d'observations actuel: 140787 \n",
      " Nombre de variables actuel: 12 \n",
      "\n",
      "3.2 % des observations retirées\n",
      "47.8 % des variables retirées\n"
     ]
    }
   ],
   "source": [
    "# taille du DataFrame réduit\n",
    "print(\"Taille du DataFrame réduit:\\n\")\n",
    "\n",
    "print(\"Nombre d'observations initial: {} \\n Nombre de variables initial: {} \\n\".format(obs_init, var_init))\n",
    "print(\"Nombre d'observations actuel: {} \\n Nombre de variables actuel: {} \\n\".format(df.shape[0], df.shape[1]))\n",
    "\n",
    "print(\"{} % des observations retirées\".format(round(100*(obs_init-df.shape[0])/obs_init,1)))\n",
    "print(\"{} % des variables retirées\".format(round(100*(var_init-df.shape[1])/var_init,1)))"
   ]
  },
  {
   "cell_type": "code",
   "execution_count": 56,
   "id": "ef8a2441",
   "metadata": {},
   "outputs": [
    {
     "data": {
      "image/png": "[encoded data removed]",
      "text/plain": [
       "<Figure size 576x576 with 2 Axes>"
      ]
     },
     "metadata": {
      "needs_background": "light"
     },
     "output_type": "display_data"
    }
   ],
   "source": [
    "# matrice de corrélation\n",
    "fig, ax = plt.subplots(figsize=(8,8))\n",
    "annot_kws={'fontsize':10, 'color':\"k\", 'verticalalignment':'center'}\n",
    "sns.heatmap(df.corr(), linewidths=0.5, annot=True, annot_kws=annot_kws, fmt=\".2f\", ax=ax, cmap='coolwarm', center=0)\n",
    "plt.title('Matrice de corrélation du jeu de données', fontsize=10);"
   ]
  },
  {
   "cell_type": "markdown",
   "id": "05bca247",
   "metadata": {},
   "source": [
    "- \"RainToday\" et \"Rainfall\" sont très fortement corrélées (+0.97)\n",
    "- \"Humidity3pm\" et \"Temp_Delta_MinMax\" sont très fortement corrélées (-0.72)\n",
    "- \"Sunshine\" et \"Cloud3pm\" sont fortement corrélées (-0.70)\n",
    "- \"Humidity3pm\" et \"Temp3pm\" sont fortement corrélées (-0.55)"
   ]
  },
  {
   "cell_type": "code",
   "execution_count": 57,
   "id": "679348a5",
   "metadata": {},
   "outputs": [
    {
     "name": "stdout",
     "output_type": "stream",
     "text": [
      "Table de contingence :\n",
      "V_Cramer = 0.31306598504012456\n"
     ]
    }
   ],
   "source": [
    "# table de contingence entre les variables \"RainToday\" et \"RainTomorrow\"\n",
    "print(\"Table de contingence :\")\n",
    "table = pd.crosstab(df['RainToday'], df['RainTomorrow'])\n",
    "\n",
    "# mesure du niveau de corrélation par le V de Cramer\n",
    "print(\"V_Cramer = {}\".format(V_Cramer(table, df.shape[0])))"
   ]
  },
  {
   "cell_type": "code",
   "execution_count": 58,
   "id": "9a2143d1",
   "metadata": {},
   "outputs": [
    {
     "name": "stdout",
     "output_type": "stream",
     "text": [
      "Table de contingence :\n",
      "V_Cramer = 0.3372604854774853\n"
     ]
    }
   ],
   "source": [
    "# table de contingence entre les variables \"Rainfall\" et \"RainTomorrow\"\n",
    "print(\"Table de contingence :\")\n",
    "table = pd.crosstab(df['Rainfall'], df['RainTomorrow'])\n",
    "\n",
    "# mesure du niveau de corrélation par le V de Cramer\n",
    "print(\"V_Cramer = {}\".format(V_Cramer(table, df.shape[0])))"
   ]
  },
  {
   "cell_type": "code",
   "execution_count": 59,
   "id": "1ad4d1bc",
   "metadata": {},
   "outputs": [],
   "source": [
    "# suppression de la variable \"RainToday\", moins corrélée à la variable cible que \"Rainfall\"\n",
    "df.drop(columns=['RainToday'], inplace=True)"
   ]
  },
  {
   "cell_type": "code",
   "execution_count": 60,
   "id": "394a4741",
   "metadata": {},
   "outputs": [
    {
     "data": {
      "image/png": "[encoded data removed]",
      "text/plain": [
       "<Figure size 576x576 with 2 Axes>"
      ]
     },
     "metadata": {
      "needs_background": "light"
     },
     "output_type": "display_data"
    }
   ],
   "source": [
    "# matrice de corrélation\n",
    "fig, ax = plt.subplots(figsize=(8,8))\n",
    "annot_kws={'fontsize':10, 'color':\"k\", 'verticalalignment':'center'}\n",
    "sns.heatmap(df.corr(), linewidths=0.5, annot=True, annot_kws=annot_kws, fmt=\".2f\", ax=ax, cmap='coolwarm', center=0)\n",
    "plt.title('Matrice de corrélation du jeu de données', fontsize=10);"
   ]
  },
  {
   "cell_type": "code",
   "execution_count": 62,
   "id": "ccd7575c",
   "metadata": {},
   "outputs": [],
   "source": [
    "# sauvegarde du jeu de données après prétraitement et avant l'étape de classification des villes en fonction du climat\n",
    "df.to_csv('data/weatherAUS_preprocessed_before_city_clust.csv')"
   ]
  },
  {
   "cell_type": "markdown",
   "id": "8edda79e",
   "metadata": {},
   "source": [
    "## Classification des villes en fonction du climat"
   ]
  },
  {
   "cell_type": "code",
   "execution_count": 17,
   "id": "1970ab40",
   "metadata": {},
   "outputs": [
    {
     "data": {
      "text/html": [
       "<div>\n",
       "<style scoped>\n",
       "    .dataframe tbody tr th:only-of-type {\n",
       "        vertical-align: middle;\n",
       "    }\n",
       "\n",
       "    .dataframe tbody tr th {\n",
       "        vertical-align: top;\n",
       "    }\n",
       "\n",
       "    .dataframe thead th {\n",
       "        text-align: right;\n",
       "    }\n",
       "</style>\n",
       "<table border=\"1\" class=\"dataframe\">\n",
       "  <thead>\n",
       "    <tr style=\"text-align: right;\">\n",
       "      <th></th>\n",
       "      <th>Date</th>\n",
       "      <th>Location</th>\n",
       "      <th>Rainfall</th>\n",
       "      <th>Sunshine</th>\n",
       "      <th>WindGustSpeed</th>\n",
       "      <th>Humidity3pm</th>\n",
       "      <th>Pressure9am</th>\n",
       "      <th>Cloud3pm</th>\n",
       "      <th>Temp3pm</th>\n",
       "      <th>RainTomorrow</th>\n",
       "      <th>Temp_Delta_MinMax</th>\n",
       "      <th>Humidity_Delta</th>\n",
       "    </tr>\n",
       "  </thead>\n",
       "  <tbody>\n",
       "    <tr>\n",
       "      <th>0</th>\n",
       "      <td>2008-12-01</td>\n",
       "      <td>Albury</td>\n",
       "      <td>0.6</td>\n",
       "      <td>4.94000</td>\n",
       "      <td>44.0</td>\n",
       "      <td>22.0</td>\n",
       "      <td>1007.7</td>\n",
       "      <td>7.40000</td>\n",
       "      <td>21.8</td>\n",
       "      <td>0</td>\n",
       "      <td>9.5</td>\n",
       "      <td>-49.0</td>\n",
       "    </tr>\n",
       "    <tr>\n",
       "      <th>1</th>\n",
       "      <td>2008-12-02</td>\n",
       "      <td>Albury</td>\n",
       "      <td>0.0</td>\n",
       "      <td>7.63054</td>\n",
       "      <td>44.0</td>\n",
       "      <td>25.0</td>\n",
       "      <td>1010.6</td>\n",
       "      <td>4.49925</td>\n",
       "      <td>24.3</td>\n",
       "      <td>0</td>\n",
       "      <td>17.7</td>\n",
       "      <td>-19.0</td>\n",
       "    </tr>\n",
       "    <tr>\n",
       "      <th>2</th>\n",
       "      <td>2008-12-03</td>\n",
       "      <td>Albury</td>\n",
       "      <td>0.0</td>\n",
       "      <td>7.96000</td>\n",
       "      <td>46.0</td>\n",
       "      <td>30.0</td>\n",
       "      <td>1007.6</td>\n",
       "      <td>2.00000</td>\n",
       "      <td>23.2</td>\n",
       "      <td>0</td>\n",
       "      <td>12.8</td>\n",
       "      <td>-8.0</td>\n",
       "    </tr>\n",
       "    <tr>\n",
       "      <th>3</th>\n",
       "      <td>2008-12-04</td>\n",
       "      <td>Albury</td>\n",
       "      <td>0.0</td>\n",
       "      <td>7.63054</td>\n",
       "      <td>24.0</td>\n",
       "      <td>16.0</td>\n",
       "      <td>1017.6</td>\n",
       "      <td>4.49925</td>\n",
       "      <td>26.5</td>\n",
       "      <td>0</td>\n",
       "      <td>18.8</td>\n",
       "      <td>-29.0</td>\n",
       "    </tr>\n",
       "    <tr>\n",
       "      <th>4</th>\n",
       "      <td>2008-12-05</td>\n",
       "      <td>Albury</td>\n",
       "      <td>1.0</td>\n",
       "      <td>0.90000</td>\n",
       "      <td>41.0</td>\n",
       "      <td>33.0</td>\n",
       "      <td>1010.8</td>\n",
       "      <td>8.00000</td>\n",
       "      <td>29.7</td>\n",
       "      <td>0</td>\n",
       "      <td>14.8</td>\n",
       "      <td>-49.0</td>\n",
       "    </tr>\n",
       "  </tbody>\n",
       "</table>\n",
       "</div>"
      ],
      "text/plain": [
       "         Date Location  Rainfall  Sunshine  WindGustSpeed  Humidity3pm  \\\n",
       "0  2008-12-01   Albury       0.6   4.94000           44.0         22.0   \n",
       "1  2008-12-02   Albury       0.0   7.63054           44.0         25.0   \n",
       "2  2008-12-03   Albury       0.0   7.96000           46.0         30.0   \n",
       "3  2008-12-04   Albury       0.0   7.63054           24.0         16.0   \n",
       "4  2008-12-05   Albury       1.0   0.90000           41.0         33.0   \n",
       "\n",
       "   Pressure9am  Cloud3pm  Temp3pm  RainTomorrow  Temp_Delta_MinMax  \\\n",
       "0       1007.7   7.40000     21.8             0                9.5   \n",
       "1       1010.6   4.49925     24.3             0               17.7   \n",
       "2       1007.6   2.00000     23.2             0               12.8   \n",
       "3       1017.6   4.49925     26.5             0               18.8   \n",
       "4       1010.8   8.00000     29.7             0               14.8   \n",
       "\n",
       "   Humidity_Delta  \n",
       "0           -49.0  \n",
       "1           -19.0  \n",
       "2            -8.0  \n",
       "3           -29.0  \n",
       "4           -49.0  "
      ]
     },
     "execution_count": 17,
     "metadata": {},
     "output_type": "execute_result"
    }
   ],
   "source": [
    "# récupération et aperçu du jeu de données après prétraitement et avant l'étape de classification des villes en fonction du climat\n",
    "df = pd.read_csv(\"data/weatherAUS_preprocessed_before_city_clust.csv\")\n",
    "df.head()"
   ]
  },
  {
   "cell_type": "code",
   "execution_count": 18,
   "id": "ae5faa5a",
   "metadata": {},
   "outputs": [],
   "source": [
    "# suppression de la variable \"Date\"\n",
    "df.drop(columns=['Date'], inplace=True)"
   ]
  },
  {
   "cell_type": "code",
   "execution_count": 19,
   "id": "a24f56e0",
   "metadata": {},
   "outputs": [],
   "source": [
    "# récupération et aperçu des coordonnées géographiques\n",
    "# aus_town_gps = pd.read_csv(\"old/aus_town_gps.csv\", sep=\",\")\n",
    "# aus_town_gps.head()"
   ]
  },
  {
   "cell_type": "code",
   "execution_count": 20,
   "id": "acebe908",
   "metadata": {},
   "outputs": [
    {
     "data": {
      "text/html": [
       "<div>\n",
       "<style scoped>\n",
       "    .dataframe tbody tr th:only-of-type {\n",
       "        vertical-align: middle;\n",
       "    }\n",
       "\n",
       "    .dataframe tbody tr th {\n",
       "        vertical-align: top;\n",
       "    }\n",
       "\n",
       "    .dataframe thead th {\n",
       "        text-align: right;\n",
       "    }\n",
       "</style>\n",
       "<table border=\"1\" class=\"dataframe\">\n",
       "  <thead>\n",
       "    <tr style=\"text-align: right;\">\n",
       "      <th></th>\n",
       "      <th>Location</th>\n",
       "      <th>Climat_Koppen</th>\n",
       "    </tr>\n",
       "  </thead>\n",
       "  <tbody>\n",
       "    <tr>\n",
       "      <th>0</th>\n",
       "      <td>Uluru</td>\n",
       "      <td>BSh</td>\n",
       "    </tr>\n",
       "    <tr>\n",
       "      <th>1</th>\n",
       "      <td>Woomera</td>\n",
       "      <td>Bwh</td>\n",
       "    </tr>\n",
       "    <tr>\n",
       "      <th>2</th>\n",
       "      <td>Adelaide</td>\n",
       "      <td>Csa</td>\n",
       "    </tr>\n",
       "    <tr>\n",
       "      <th>3</th>\n",
       "      <td>Albany</td>\n",
       "      <td>Csb</td>\n",
       "    </tr>\n",
       "    <tr>\n",
       "      <th>4</th>\n",
       "      <td>MountGambier</td>\n",
       "      <td>Csb</td>\n",
       "    </tr>\n",
       "  </tbody>\n",
       "</table>\n",
       "</div>"
      ],
      "text/plain": [
       "       Location Climat_Koppen\n",
       "0         Uluru           BSh\n",
       "1       Woomera           Bwh\n",
       "2      Adelaide           Csa\n",
       "3        Albany           Csb\n",
       "4  MountGambier           Csb"
      ]
     },
     "execution_count": 20,
     "metadata": {},
     "output_type": "execute_result"
    }
   ],
   "source": [
    "# récupération et aperçu du climat australien\n",
    "aus_climats = pd.read_csv(\"data/climatsAUS_v2.csv\", sep=\";\")\n",
    "aus_climats.head()"
   ]
  },
  {
   "cell_type": "code",
   "execution_count": 21,
   "id": "53511c13",
   "metadata": {},
   "outputs": [],
   "source": [
    "# regroupement des climats en 4 catégories: chaud_humide, tempéré_froid, sec et méditerranéen. \n",
    "climats_type = {'Am':'chaud_humide',\n",
    "                'Aw':'chaud_humide',\n",
    "                'Cfa':'chaud_humide',\n",
    "                'Cfb':'tempéré_froid', \n",
    "                'Cfc':'tempéré_froid', \n",
    "                'BSh':'sec',\n",
    "                'BSk':'sec',\n",
    "                'Bsk':'sec', \n",
    "                'Bwh':'sec',\n",
    "                'Csa':'méditerranéen',\n",
    "                'Csb':'méditerranéen'              \n",
    "               }\n",
    "\n",
    "aus_climats['Clim_type'] = aus_climats['Climat_Koppen'].map(climats_type)"
   ]
  },
  {
   "cell_type": "code",
   "execution_count": 22,
   "id": "c27837ed",
   "metadata": {},
   "outputs": [
    {
     "data": {
      "text/html": [
       "<div>\n",
       "<style scoped>\n",
       "    .dataframe tbody tr th:only-of-type {\n",
       "        vertical-align: middle;\n",
       "    }\n",
       "\n",
       "    .dataframe tbody tr th {\n",
       "        vertical-align: top;\n",
       "    }\n",
       "\n",
       "    .dataframe thead th {\n",
       "        text-align: right;\n",
       "    }\n",
       "</style>\n",
       "<table border=\"1\" class=\"dataframe\">\n",
       "  <thead>\n",
       "    <tr style=\"text-align: right;\">\n",
       "      <th></th>\n",
       "      <th>Location</th>\n",
       "      <th>Climat_Koppen</th>\n",
       "      <th>Clim_type</th>\n",
       "    </tr>\n",
       "  </thead>\n",
       "  <tbody>\n",
       "    <tr>\n",
       "      <th>0</th>\n",
       "      <td>Uluru</td>\n",
       "      <td>BSh</td>\n",
       "      <td>sec</td>\n",
       "    </tr>\n",
       "    <tr>\n",
       "      <th>1</th>\n",
       "      <td>Woomera</td>\n",
       "      <td>Bwh</td>\n",
       "      <td>sec</td>\n",
       "    </tr>\n",
       "    <tr>\n",
       "      <th>2</th>\n",
       "      <td>Adelaide</td>\n",
       "      <td>Csa</td>\n",
       "      <td>méditerranéen</td>\n",
       "    </tr>\n",
       "    <tr>\n",
       "      <th>3</th>\n",
       "      <td>Albany</td>\n",
       "      <td>Csb</td>\n",
       "      <td>méditerranéen</td>\n",
       "    </tr>\n",
       "    <tr>\n",
       "      <th>4</th>\n",
       "      <td>MountGambier</td>\n",
       "      <td>Csb</td>\n",
       "      <td>méditerranéen</td>\n",
       "    </tr>\n",
       "  </tbody>\n",
       "</table>\n",
       "</div>"
      ],
      "text/plain": [
       "       Location Climat_Koppen      Clim_type\n",
       "0         Uluru           BSh            sec\n",
       "1       Woomera           Bwh            sec\n",
       "2      Adelaide           Csa  méditerranéen\n",
       "3        Albany           Csb  méditerranéen\n",
       "4  MountGambier           Csb  méditerranéen"
      ]
     },
     "execution_count": 22,
     "metadata": {},
     "output_type": "execute_result"
    }
   ],
   "source": [
    "# aperçu du DataFrame \"aus_climats\"\n",
    "aus_climats.head()"
   ]
  },
  {
   "cell_type": "code",
   "execution_count": 23,
   "id": "edb100b7",
   "metadata": {},
   "outputs": [],
   "source": [
    "# intégration des coordonnées géographiques et du climat australien dans le DataFrame étudié\n",
    "# df = pd.merge(df, aus_town_gps, how='left', left_on=\"Location\", right_on=\"Location\")\n",
    "df = pd.merge(df, aus_climats, how='left', left_on=\"Location\", right_on=\"Location\")"
   ]
  },
  {
   "cell_type": "code",
   "execution_count": 24,
   "id": "570ba27e",
   "metadata": {},
   "outputs": [],
   "source": [
    "# encodage des variables liées au climat\n",
    "clim_indic = pd.get_dummies(df.Clim_type, prefix='clim')\n",
    "df = df.join(clim_indic).drop('Clim_type', axis=1)"
   ]
  },
  {
   "cell_type": "code",
   "execution_count": 25,
   "id": "6c9f4871",
   "metadata": {},
   "outputs": [],
   "source": [
    "# suppression des colonnes inutiles\n",
    "df.drop(columns=['Location', 'Climat_Koppen'], inplace=True)"
   ]
  },
  {
   "cell_type": "code",
   "execution_count": 26,
   "id": "220eb115",
   "metadata": {
    "scrolled": true
   },
   "outputs": [
    {
     "data": {
      "text/html": [
       "<div>\n",
       "<style scoped>\n",
       "    .dataframe tbody tr th:only-of-type {\n",
       "        vertical-align: middle;\n",
       "    }\n",
       "\n",
       "    .dataframe tbody tr th {\n",
       "        vertical-align: top;\n",
       "    }\n",
       "\n",
       "    .dataframe thead th {\n",
       "        text-align: right;\n",
       "    }\n",
       "</style>\n",
       "<table border=\"1\" class=\"dataframe\">\n",
       "  <thead>\n",
       "    <tr style=\"text-align: right;\">\n",
       "      <th></th>\n",
       "      <th>Rainfall</th>\n",
       "      <th>Sunshine</th>\n",
       "      <th>WindGustSpeed</th>\n",
       "      <th>Humidity3pm</th>\n",
       "      <th>Pressure9am</th>\n",
       "      <th>Cloud3pm</th>\n",
       "      <th>Temp3pm</th>\n",
       "      <th>RainTomorrow</th>\n",
       "      <th>Temp_Delta_MinMax</th>\n",
       "      <th>Humidity_Delta</th>\n",
       "      <th>clim_chaud_humide</th>\n",
       "      <th>clim_méditerranéen</th>\n",
       "      <th>clim_sec</th>\n",
       "      <th>clim_tempéré_froid</th>\n",
       "    </tr>\n",
       "  </thead>\n",
       "  <tbody>\n",
       "    <tr>\n",
       "      <th>0</th>\n",
       "      <td>0.6</td>\n",
       "      <td>4.94000</td>\n",
       "      <td>44.0</td>\n",
       "      <td>22.0</td>\n",
       "      <td>1007.7</td>\n",
       "      <td>7.40000</td>\n",
       "      <td>21.8</td>\n",
       "      <td>0</td>\n",
       "      <td>9.5</td>\n",
       "      <td>-49.0</td>\n",
       "      <td>1</td>\n",
       "      <td>0</td>\n",
       "      <td>0</td>\n",
       "      <td>0</td>\n",
       "    </tr>\n",
       "    <tr>\n",
       "      <th>1</th>\n",
       "      <td>0.0</td>\n",
       "      <td>7.63054</td>\n",
       "      <td>44.0</td>\n",
       "      <td>25.0</td>\n",
       "      <td>1010.6</td>\n",
       "      <td>4.49925</td>\n",
       "      <td>24.3</td>\n",
       "      <td>0</td>\n",
       "      <td>17.7</td>\n",
       "      <td>-19.0</td>\n",
       "      <td>1</td>\n",
       "      <td>0</td>\n",
       "      <td>0</td>\n",
       "      <td>0</td>\n",
       "    </tr>\n",
       "    <tr>\n",
       "      <th>2</th>\n",
       "      <td>0.0</td>\n",
       "      <td>7.96000</td>\n",
       "      <td>46.0</td>\n",
       "      <td>30.0</td>\n",
       "      <td>1007.6</td>\n",
       "      <td>2.00000</td>\n",
       "      <td>23.2</td>\n",
       "      <td>0</td>\n",
       "      <td>12.8</td>\n",
       "      <td>-8.0</td>\n",
       "      <td>1</td>\n",
       "      <td>0</td>\n",
       "      <td>0</td>\n",
       "      <td>0</td>\n",
       "    </tr>\n",
       "    <tr>\n",
       "      <th>3</th>\n",
       "      <td>0.0</td>\n",
       "      <td>7.63054</td>\n",
       "      <td>24.0</td>\n",
       "      <td>16.0</td>\n",
       "      <td>1017.6</td>\n",
       "      <td>4.49925</td>\n",
       "      <td>26.5</td>\n",
       "      <td>0</td>\n",
       "      <td>18.8</td>\n",
       "      <td>-29.0</td>\n",
       "      <td>1</td>\n",
       "      <td>0</td>\n",
       "      <td>0</td>\n",
       "      <td>0</td>\n",
       "    </tr>\n",
       "    <tr>\n",
       "      <th>4</th>\n",
       "      <td>1.0</td>\n",
       "      <td>0.90000</td>\n",
       "      <td>41.0</td>\n",
       "      <td>33.0</td>\n",
       "      <td>1010.8</td>\n",
       "      <td>8.00000</td>\n",
       "      <td>29.7</td>\n",
       "      <td>0</td>\n",
       "      <td>14.8</td>\n",
       "      <td>-49.0</td>\n",
       "      <td>1</td>\n",
       "      <td>0</td>\n",
       "      <td>0</td>\n",
       "      <td>0</td>\n",
       "    </tr>\n",
       "  </tbody>\n",
       "</table>\n",
       "</div>"
      ],
      "text/plain": [
       "   Rainfall  Sunshine  WindGustSpeed  Humidity3pm  Pressure9am  Cloud3pm  \\\n",
       "0       0.6   4.94000           44.0         22.0       1007.7   7.40000   \n",
       "1       0.0   7.63054           44.0         25.0       1010.6   4.49925   \n",
       "2       0.0   7.96000           46.0         30.0       1007.6   2.00000   \n",
       "3       0.0   7.63054           24.0         16.0       1017.6   4.49925   \n",
       "4       1.0   0.90000           41.0         33.0       1010.8   8.00000   \n",
       "\n",
       "   Temp3pm  RainTomorrow  Temp_Delta_MinMax  Humidity_Delta  \\\n",
       "0     21.8             0                9.5           -49.0   \n",
       "1     24.3             0               17.7           -19.0   \n",
       "2     23.2             0               12.8            -8.0   \n",
       "3     26.5             0               18.8           -29.0   \n",
       "4     29.7             0               14.8           -49.0   \n",
       "\n",
       "   clim_chaud_humide  clim_méditerranéen  clim_sec  clim_tempéré_froid  \n",
       "0                  1                   0         0                   0  \n",
       "1                  1                   0         0                   0  \n",
       "2                  1                   0         0                   0  \n",
       "3                  1                   0         0                   0  \n",
       "4                  1                   0         0                   0  "
      ]
     },
     "execution_count": 26,
     "metadata": {},
     "output_type": "execute_result"
    }
   ],
   "source": [
    "# aperçu du DataFrame \"df\"\n",
    "df.head()"
   ]
  },
  {
   "cell_type": "code",
   "execution_count": 27,
   "id": "ac65d3ac",
   "metadata": {},
   "outputs": [
    {
     "name": "stdout",
     "output_type": "stream",
     "text": [
      "Pourcentage de valeurs manquantes sur tout le DataFrame: \n",
      "\n"
     ]
    },
    {
     "data": {
      "text/plain": [
       "Rainfall              0.0\n",
       "Sunshine              0.0\n",
       "WindGustSpeed         0.0\n",
       "Humidity3pm           0.0\n",
       "Pressure9am           0.0\n",
       "Cloud3pm              0.0\n",
       "Temp3pm               0.0\n",
       "RainTomorrow          0.0\n",
       "Temp_Delta_MinMax     0.0\n",
       "Humidity_Delta        0.0\n",
       "clim_chaud_humide     0.0\n",
       "clim_méditerranéen    0.0\n",
       "clim_sec              0.0\n",
       "clim_tempéré_froid    0.0\n",
       "dtype: float64"
      ]
     },
     "execution_count": 27,
     "metadata": {},
     "output_type": "execute_result"
    }
   ],
   "source": [
    "# détection des valeurs manquantes sur tout le DataFrame\n",
    "print(\"Pourcentage de valeurs manquantes sur tout le DataFrame: \\n\")\n",
    "df.isna().sum().sort_values(ascending=False).apply(lambda val : val/df.shape[0]*100)"
   ]
  },
  {
   "cell_type": "code",
   "execution_count": 28,
   "id": "ac626f5f",
   "metadata": {},
   "outputs": [
    {
     "data": {
      "image/png": "[encoded data removed]",
      "text/plain": [
       "<Figure size 720x720 with 2 Axes>"
      ]
     },
     "metadata": {
      "needs_background": "light"
     },
     "output_type": "display_data"
    }
   ],
   "source": [
    "# matrice de corrélation\n",
    "fig, ax = plt.subplots(figsize=(10,10))\n",
    "annot_kws={'fontsize':10, 'color':\"k\", 'verticalalignment':'center'}\n",
    "sns.heatmap(df.corr(), linewidths=0.5, annot=True, annot_kws=annot_kws, fmt=\".2f\", ax=ax, cmap='coolwarm', center=0)\n",
    "plt.title('Matrice de corrélation du jeu de données', fontsize=10);"
   ]
  },
  {
   "cell_type": "markdown",
   "id": "328925c8",
   "metadata": {},
   "source": [
    "- \"Humidity3pm\" et \"Temp_Delta_MinMax\" sont fortement corrélées (-0.72)\n",
    "- \"Sunshine\" et \"Cloud3pm\" sont fortement corrélées (-0.70)\n",
    "- \"Humidity3pm\" et \"Temp3pm\" sont fortement corrélées (-0.55)"
   ]
  },
  {
   "cell_type": "code",
   "execution_count": 29,
   "id": "1704b2d1",
   "metadata": {},
   "outputs": [],
   "source": [
    "# sauvegarde du jeu de données après prétraitement et après l'étape de classification des villes en fonction du climat\n",
    "df.to_csv('data/weatherAUS_Rev0.csv')"
   ]
  },
  {
   "cell_type": "markdown",
   "id": "c18fc4d2",
   "metadata": {},
   "source": [
    "## Sélection de variables avec SelectKBest"
   ]
  },
  {
   "cell_type": "code",
   "execution_count": 5,
   "id": "80d09857",
   "metadata": {},
   "outputs": [
    {
     "data": {
      "text/html": [
       "<div>\n",
       "<style scoped>\n",
       "    .dataframe tbody tr th:only-of-type {\n",
       "        vertical-align: middle;\n",
       "    }\n",
       "\n",
       "    .dataframe tbody tr th {\n",
       "        vertical-align: top;\n",
       "    }\n",
       "\n",
       "    .dataframe thead th {\n",
       "        text-align: right;\n",
       "    }\n",
       "</style>\n",
       "<table border=\"1\" class=\"dataframe\">\n",
       "  <thead>\n",
       "    <tr style=\"text-align: right;\">\n",
       "      <th></th>\n",
       "      <th>Rainfall</th>\n",
       "      <th>Sunshine</th>\n",
       "      <th>WindGustSpeed</th>\n",
       "      <th>Humidity3pm</th>\n",
       "      <th>Pressure9am</th>\n",
       "      <th>Cloud3pm</th>\n",
       "      <th>Temp3pm</th>\n",
       "      <th>RainTomorrow</th>\n",
       "      <th>Temp_Delta_MinMax</th>\n",
       "      <th>Humidity_Delta</th>\n",
       "      <th>clim_chaud_humide</th>\n",
       "      <th>clim_méditerranéen</th>\n",
       "      <th>clim_sec</th>\n",
       "      <th>clim_tempéré_froid</th>\n",
       "    </tr>\n",
       "  </thead>\n",
       "  <tbody>\n",
       "    <tr>\n",
       "      <th>0</th>\n",
       "      <td>0.6</td>\n",
       "      <td>4.94000</td>\n",
       "      <td>44.0</td>\n",
       "      <td>22.0</td>\n",
       "      <td>1007.7</td>\n",
       "      <td>7.40000</td>\n",
       "      <td>21.8</td>\n",
       "      <td>0</td>\n",
       "      <td>9.5</td>\n",
       "      <td>-49.0</td>\n",
       "      <td>1</td>\n",
       "      <td>0</td>\n",
       "      <td>0</td>\n",
       "      <td>0</td>\n",
       "    </tr>\n",
       "    <tr>\n",
       "      <th>1</th>\n",
       "      <td>0.0</td>\n",
       "      <td>7.63054</td>\n",
       "      <td>44.0</td>\n",
       "      <td>25.0</td>\n",
       "      <td>1010.6</td>\n",
       "      <td>4.49925</td>\n",
       "      <td>24.3</td>\n",
       "      <td>0</td>\n",
       "      <td>17.7</td>\n",
       "      <td>-19.0</td>\n",
       "      <td>1</td>\n",
       "      <td>0</td>\n",
       "      <td>0</td>\n",
       "      <td>0</td>\n",
       "    </tr>\n",
       "    <tr>\n",
       "      <th>2</th>\n",
       "      <td>0.0</td>\n",
       "      <td>7.96000</td>\n",
       "      <td>46.0</td>\n",
       "      <td>30.0</td>\n",
       "      <td>1007.6</td>\n",
       "      <td>2.00000</td>\n",
       "      <td>23.2</td>\n",
       "      <td>0</td>\n",
       "      <td>12.8</td>\n",
       "      <td>-8.0</td>\n",
       "      <td>1</td>\n",
       "      <td>0</td>\n",
       "      <td>0</td>\n",
       "      <td>0</td>\n",
       "    </tr>\n",
       "    <tr>\n",
       "      <th>3</th>\n",
       "      <td>0.0</td>\n",
       "      <td>7.63054</td>\n",
       "      <td>24.0</td>\n",
       "      <td>16.0</td>\n",
       "      <td>1017.6</td>\n",
       "      <td>4.49925</td>\n",
       "      <td>26.5</td>\n",
       "      <td>0</td>\n",
       "      <td>18.8</td>\n",
       "      <td>-29.0</td>\n",
       "      <td>1</td>\n",
       "      <td>0</td>\n",
       "      <td>0</td>\n",
       "      <td>0</td>\n",
       "    </tr>\n",
       "    <tr>\n",
       "      <th>4</th>\n",
       "      <td>1.0</td>\n",
       "      <td>0.90000</td>\n",
       "      <td>41.0</td>\n",
       "      <td>33.0</td>\n",
       "      <td>1010.8</td>\n",
       "      <td>8.00000</td>\n",
       "      <td>29.7</td>\n",
       "      <td>0</td>\n",
       "      <td>14.8</td>\n",
       "      <td>-49.0</td>\n",
       "      <td>1</td>\n",
       "      <td>0</td>\n",
       "      <td>0</td>\n",
       "      <td>0</td>\n",
       "    </tr>\n",
       "  </tbody>\n",
       "</table>\n",
       "</div>"
      ],
      "text/plain": [
       "   Rainfall  Sunshine  WindGustSpeed  Humidity3pm  Pressure9am  Cloud3pm  \\\n",
       "0       0.6   4.94000           44.0         22.0       1007.7   7.40000   \n",
       "1       0.0   7.63054           44.0         25.0       1010.6   4.49925   \n",
       "2       0.0   7.96000           46.0         30.0       1007.6   2.00000   \n",
       "3       0.0   7.63054           24.0         16.0       1017.6   4.49925   \n",
       "4       1.0   0.90000           41.0         33.0       1010.8   8.00000   \n",
       "\n",
       "   Temp3pm  RainTomorrow  Temp_Delta_MinMax  Humidity_Delta  \\\n",
       "0     21.8             0                9.5           -49.0   \n",
       "1     24.3             0               17.7           -19.0   \n",
       "2     23.2             0               12.8            -8.0   \n",
       "3     26.5             0               18.8           -29.0   \n",
       "4     29.7             0               14.8           -49.0   \n",
       "\n",
       "   clim_chaud_humide  clim_méditerranéen  clim_sec  clim_tempéré_froid  \n",
       "0                  1                   0         0                   0  \n",
       "1                  1                   0         0                   0  \n",
       "2                  1                   0         0                   0  \n",
       "3                  1                   0         0                   0  \n",
       "4                  1                   0         0                   0  "
      ]
     },
     "execution_count": 5,
     "metadata": {},
     "output_type": "execute_result"
    }
   ],
   "source": [
    "# récupération et aperçu du jeu de données après prétraitement et après l'étape de classification des villes en fonction du climat\n",
    "df = pd.read_csv(\"data/weatherAUS_Rev0.csv\", index_col=0)\n",
    "df.head()"
   ]
  },
  {
   "cell_type": "code",
   "execution_count": 6,
   "id": "b4447451",
   "metadata": {},
   "outputs": [
    {
     "data": {
      "text/html": [
       "<div>\n",
       "<style scoped>\n",
       "    .dataframe tbody tr th:only-of-type {\n",
       "        vertical-align: middle;\n",
       "    }\n",
       "\n",
       "    .dataframe tbody tr th {\n",
       "        vertical-align: top;\n",
       "    }\n",
       "\n",
       "    .dataframe thead th {\n",
       "        text-align: right;\n",
       "    }\n",
       "</style>\n",
       "<table border=\"1\" class=\"dataframe\">\n",
       "  <thead>\n",
       "    <tr style=\"text-align: right;\">\n",
       "      <th></th>\n",
       "      <th>Rainfall</th>\n",
       "      <th>Sunshine</th>\n",
       "      <th>WindGustSpeed</th>\n",
       "      <th>Humidity3pm</th>\n",
       "      <th>Pressure9am</th>\n",
       "      <th>Cloud3pm</th>\n",
       "      <th>Temp3pm</th>\n",
       "      <th>RainTomorrow</th>\n",
       "      <th>Temp_Delta_MinMax</th>\n",
       "      <th>Humidity_Delta</th>\n",
       "      <th>clim_chaud_humide</th>\n",
       "      <th>clim_méditerranéen</th>\n",
       "      <th>clim_sec</th>\n",
       "      <th>clim_tempéré_froid</th>\n",
       "    </tr>\n",
       "  </thead>\n",
       "  <tbody>\n",
       "    <tr>\n",
       "      <th>count</th>\n",
       "      <td>140787.000000</td>\n",
       "      <td>140787.000000</td>\n",
       "      <td>140787.000000</td>\n",
       "      <td>140787.00000</td>\n",
       "      <td>140787.000000</td>\n",
       "      <td>140787.000000</td>\n",
       "      <td>140787.000000</td>\n",
       "      <td>140787.000000</td>\n",
       "      <td>140787.000000</td>\n",
       "      <td>140787.000000</td>\n",
       "      <td>140787.000000</td>\n",
       "      <td>140787.000000</td>\n",
       "      <td>140787.000000</td>\n",
       "      <td>140787.000000</td>\n",
       "    </tr>\n",
       "    <tr>\n",
       "      <th>mean</th>\n",
       "      <td>0.485723</td>\n",
       "      <td>7.464994</td>\n",
       "      <td>39.774027</td>\n",
       "      <td>51.45039</td>\n",
       "      <td>1017.675010</td>\n",
       "      <td>4.508838</td>\n",
       "      <td>21.704255</td>\n",
       "      <td>0.221618</td>\n",
       "      <td>11.047056</td>\n",
       "      <td>-17.432103</td>\n",
       "      <td>0.388012</td>\n",
       "      <td>0.209558</td>\n",
       "      <td>0.149147</td>\n",
       "      <td>0.253283</td>\n",
       "    </tr>\n",
       "    <tr>\n",
       "      <th>std</th>\n",
       "      <td>0.791851</td>\n",
       "      <td>3.179909</td>\n",
       "      <td>12.945712</td>\n",
       "      <td>20.80663</td>\n",
       "      <td>7.020096</td>\n",
       "      <td>2.217148</td>\n",
       "      <td>6.915140</td>\n",
       "      <td>0.415337</td>\n",
       "      <td>4.955324</td>\n",
       "      <td>16.392319</td>\n",
       "      <td>0.487299</td>\n",
       "      <td>0.406994</td>\n",
       "      <td>0.356235</td>\n",
       "      <td>0.434893</td>\n",
       "    </tr>\n",
       "    <tr>\n",
       "      <th>min</th>\n",
       "      <td>0.000000</td>\n",
       "      <td>0.000000</td>\n",
       "      <td>6.000000</td>\n",
       "      <td>0.00000</td>\n",
       "      <td>998.650000</td>\n",
       "      <td>0.000000</td>\n",
       "      <td>1.900000</td>\n",
       "      <td>0.000000</td>\n",
       "      <td>-3.750000</td>\n",
       "      <td>-63.500000</td>\n",
       "      <td>0.000000</td>\n",
       "      <td>0.000000</td>\n",
       "      <td>0.000000</td>\n",
       "      <td>0.000000</td>\n",
       "    </tr>\n",
       "    <tr>\n",
       "      <th>25%</th>\n",
       "      <td>0.000000</td>\n",
       "      <td>6.160000</td>\n",
       "      <td>31.000000</td>\n",
       "      <td>37.00000</td>\n",
       "      <td>1012.900000</td>\n",
       "      <td>3.000000</td>\n",
       "      <td>16.600000</td>\n",
       "      <td>0.000000</td>\n",
       "      <td>7.200000</td>\n",
       "      <td>-29.000000</td>\n",
       "      <td>0.000000</td>\n",
       "      <td>0.000000</td>\n",
       "      <td>0.000000</td>\n",
       "      <td>0.000000</td>\n",
       "    </tr>\n",
       "    <tr>\n",
       "      <th>50%</th>\n",
       "      <td>0.000000</td>\n",
       "      <td>7.630540</td>\n",
       "      <td>39.000000</td>\n",
       "      <td>52.00000</td>\n",
       "      <td>1017.600000</td>\n",
       "      <td>4.499250</td>\n",
       "      <td>21.100000</td>\n",
       "      <td>0.000000</td>\n",
       "      <td>10.500000</td>\n",
       "      <td>-17.000000</td>\n",
       "      <td>0.000000</td>\n",
       "      <td>0.000000</td>\n",
       "      <td>0.000000</td>\n",
       "      <td>0.000000</td>\n",
       "    </tr>\n",
       "    <tr>\n",
       "      <th>75%</th>\n",
       "      <td>0.800000</td>\n",
       "      <td>9.700000</td>\n",
       "      <td>48.000000</td>\n",
       "      <td>66.00000</td>\n",
       "      <td>1022.400000</td>\n",
       "      <td>6.000000</td>\n",
       "      <td>26.400000</td>\n",
       "      <td>0.000000</td>\n",
       "      <td>14.500000</td>\n",
       "      <td>-6.000000</td>\n",
       "      <td>1.000000</td>\n",
       "      <td>0.000000</td>\n",
       "      <td>0.000000</td>\n",
       "      <td>1.000000</td>\n",
       "    </tr>\n",
       "    <tr>\n",
       "      <th>max</th>\n",
       "      <td>2.000000</td>\n",
       "      <td>14.500000</td>\n",
       "      <td>73.500000</td>\n",
       "      <td>100.00000</td>\n",
       "      <td>1036.650000</td>\n",
       "      <td>9.000000</td>\n",
       "      <td>41.100000</td>\n",
       "      <td>1.000000</td>\n",
       "      <td>25.450000</td>\n",
       "      <td>28.500000</td>\n",
       "      <td>1.000000</td>\n",
       "      <td>1.000000</td>\n",
       "      <td>1.000000</td>\n",
       "      <td>1.000000</td>\n",
       "    </tr>\n",
       "  </tbody>\n",
       "</table>\n",
       "</div>"
      ],
      "text/plain": [
       "            Rainfall       Sunshine  WindGustSpeed   Humidity3pm  \\\n",
       "count  140787.000000  140787.000000  140787.000000  140787.00000   \n",
       "mean        0.485723       7.464994      39.774027      51.45039   \n",
       "std         0.791851       3.179909      12.945712      20.80663   \n",
       "min         0.000000       0.000000       6.000000       0.00000   \n",
       "25%         0.000000       6.160000      31.000000      37.00000   \n",
       "50%         0.000000       7.630540      39.000000      52.00000   \n",
       "75%         0.800000       9.700000      48.000000      66.00000   \n",
       "max         2.000000      14.500000      73.500000     100.00000   \n",
       "\n",
       "         Pressure9am       Cloud3pm        Temp3pm   RainTomorrow  \\\n",
       "count  140787.000000  140787.000000  140787.000000  140787.000000   \n",
       "mean     1017.675010       4.508838      21.704255       0.221618   \n",
       "std         7.020096       2.217148       6.915140       0.415337   \n",
       "min       998.650000       0.000000       1.900000       0.000000   \n",
       "25%      1012.900000       3.000000      16.600000       0.000000   \n",
       "50%      1017.600000       4.499250      21.100000       0.000000   \n",
       "75%      1022.400000       6.000000      26.400000       0.000000   \n",
       "max      1036.650000       9.000000      41.100000       1.000000   \n",
       "\n",
       "       Temp_Delta_MinMax  Humidity_Delta  clim_chaud_humide  \\\n",
       "count      140787.000000   140787.000000      140787.000000   \n",
       "mean           11.047056      -17.432103           0.388012   \n",
       "std             4.955324       16.392319           0.487299   \n",
       "min            -3.750000      -63.500000           0.000000   \n",
       "25%             7.200000      -29.000000           0.000000   \n",
       "50%            10.500000      -17.000000           0.000000   \n",
       "75%            14.500000       -6.000000           1.000000   \n",
       "max            25.450000       28.500000           1.000000   \n",
       "\n",
       "       clim_méditerranéen       clim_sec  clim_tempéré_froid  \n",
       "count       140787.000000  140787.000000       140787.000000  \n",
       "mean             0.209558       0.149147            0.253283  \n",
       "std              0.406994       0.356235            0.434893  \n",
       "min              0.000000       0.000000            0.000000  \n",
       "25%              0.000000       0.000000            0.000000  \n",
       "50%              0.000000       0.000000            0.000000  \n",
       "75%              0.000000       0.000000            1.000000  \n",
       "max              1.000000       1.000000            1.000000  "
      ]
     },
     "execution_count": 6,
     "metadata": {},
     "output_type": "execute_result"
    }
   ],
   "source": [
    "# analyse statistique rapide du DataFrame \"df\" \n",
    "df.describe()"
   ]
  },
  {
   "cell_type": "code",
   "execution_count": 7,
   "id": "f6446c24",
   "metadata": {},
   "outputs": [],
   "source": [
    "# sauvegarde temporaire du DataFrame \"df\"\n",
    "df_copy = df.copy()"
   ]
  },
  {
   "cell_type": "code",
   "execution_count": 8,
   "id": "b2dfed57",
   "metadata": {},
   "outputs": [],
   "source": [
    "# séparation des données en une matrice de données et en un vecteur cible\n",
    "data = df_copy.drop(columns=['RainTomorrow'])\n",
    "target = df_copy['RainTomorrow']"
   ]
  },
  {
   "cell_type": "code",
   "execution_count": 9,
   "id": "eab837a5",
   "metadata": {},
   "outputs": [],
   "source": [
    "# division des données en un ensemble d'entraînement et un ensemble de test correspondant respectivement à 80% et 20% de la quantité totale des données disponibles\n",
    "X_train, X_test, y_train, y_test = train_test_split(data, target, test_size=0.2, random_state=123)"
   ]
  },
  {
   "cell_type": "code",
   "execution_count": 10,
   "id": "7bba6771",
   "metadata": {},
   "outputs": [],
   "source": [
    "# ajustement des données pour l'utilisation de la méthode SelectKBest() qui nécessite des données positives pour le chi2\n",
    "X_Kbest = pd.DataFrame(MinMaxScaler().fit_transform(X_train), columns=X_train.columns)"
   ]
  },
  {
   "cell_type": "code",
   "execution_count": 11,
   "id": "db3260f8",
   "metadata": {},
   "outputs": [
    {
     "data": {
      "image/png": "[encoded data removed]",
      "text/plain": [
       "<Figure size 1152x144 with 1 Axes>"
      ]
     },
     "metadata": {
      "needs_background": "light"
     },
     "output_type": "display_data"
    }
   ],
   "source": [
    "# représentation des variables les plus pertinentes selon la méthode SelectKBest()\n",
    "sel = SelectKBest(score_func=chi2, k=13)\n",
    "sel.fit(X_Kbest, y_train)\n",
    "mask = sel.get_support()\n",
    "plt.matshow(mask.reshape(1,-1), cmap = 'gray_r')\n",
    "plt.xlabel('Axe des features');"
   ]
  },
  {
   "cell_type": "markdown",
   "id": "d5ecb69b",
   "metadata": {},
   "source": [
    "- toutes les variables semblent pertinentes selon la méthode SelectKBest()"
   ]
  },
  {
   "cell_type": "code",
   "execution_count": 12,
   "id": "fc0d3373",
   "metadata": {},
   "outputs": [
    {
     "data": {
      "text/plain": [
       "Index(['Rainfall', 'Sunshine', 'WindGustSpeed', 'Humidity3pm', 'Pressure9am',\n",
       "       'Cloud3pm', 'Temp3pm', 'Temp_Delta_MinMax', 'Humidity_Delta',\n",
       "       'clim_chaud_humide', 'clim_méditerranéen', 'clim_sec',\n",
       "       'clim_tempéré_froid'],\n",
       "      dtype='object')"
      ]
     },
     "execution_count": 12,
     "metadata": {},
     "output_type": "execute_result"
    }
   ],
   "source": [
    "# affichage du nom de toutes les variables à sélectionner selon la méthode SelectKBest()\n",
    "select_feats = X_train.columns[mask]\n",
    "select_feats"
   ]
  },
  {
   "cell_type": "code",
   "execution_count": 17,
   "id": "8825939c",
   "metadata": {},
   "outputs": [],
   "source": [
    "# redéfinition du DataFrame \"df\" en ne gardant que les variables sélectionnées par la méthode SelectKBest()\n",
    "df = df[select_feats.insert(13,\"RainTomorrow\")]"
   ]
  },
  {
   "cell_type": "code",
   "execution_count": 18,
   "id": "c695aa47",
   "metadata": {},
   "outputs": [
    {
     "data": {
      "text/plain": [
       "Index(['Rainfall', 'Sunshine', 'WindGustSpeed', 'Humidity3pm', 'Pressure9am',\n",
       "       'Cloud3pm', 'Temp3pm', 'Temp_Delta_MinMax', 'Humidity_Delta',\n",
       "       'clim_chaud_humide', 'clim_méditerranéen', 'clim_sec',\n",
       "       'clim_tempéré_froid', 'RainTomorrow'],\n",
       "      dtype='object')"
      ]
     },
     "execution_count": 18,
     "metadata": {},
     "output_type": "execute_result"
    }
   ],
   "source": [
    "# affichage des colonnes du DataFrame \"df\"\n",
    "df.columns"
   ]
  },
  {
   "cell_type": "markdown",
   "id": "754f648c",
   "metadata": {},
   "source": [
    "## Sauvegarde finale du jeu de données"
   ]
  },
  {
   "cell_type": "code",
   "execution_count": 19,
   "id": "5be5037a",
   "metadata": {},
   "outputs": [],
   "source": [
    "# sauvegarde du jeu de données après prétraitement, après l'étape de classification des villes en fonction du climat \n",
    "# et après sélection des variables les plus pertinentes selon la méthode SelectKBest()\n",
    "df.to_csv('data/weatherAUS_preprocessed.csv')"
   ]
  },
  {
   "cell_type": "code",
   "execution_count": null,
   "id": "d9acf187",
   "metadata": {},
   "outputs": [],
   "source": []
  }
 ],
 "metadata": {
  "kernelspec": {
   "display_name": "Python 3 (ipykernel)",
   "language": "python",
   "name": "python3"
  },
  "language_info": {
   "codemirror_mode": {
    "name": "ipython",
    "version": 3
   },
   "file_extension": ".py",
   "mimetype": "text/x-python",
   "name": "python",
   "nbconvert_exporter": "python",
   "pygments_lexer": "ipython3",
   "version": "3.9.7"
  }
 },
 "nbformat": 4,
 "nbformat_minor": 5
}
