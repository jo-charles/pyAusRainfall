{
 "cells": [
  {
   "cell_type": "markdown",
   "id": "uWfmqoPvIcAJ",
   "metadata": {
    "id": "uWfmqoPvIcAJ"
   },
   "source": [
    "# Prévisions météo en Australie"
   ]
  },
  {
   "cell_type": "markdown",
   "id": "827e90a5",
   "metadata": {},
   "source": [
    "# Modélisation avec étape de ré-échantillonage"
   ]
  },
  {
   "cell_type": "markdown",
   "id": "NJN5xGP7CUc_",
   "metadata": {
    "id": "NJN5xGP7CUc_"
   },
   "source": [
    "# Récupération des librairies"
   ]
  },
  {
   "cell_type": "code",
   "execution_count": 4,
   "id": "MP_EJ9XNFo2d",
   "metadata": {
    "colab": {
     "base_uri": "https://localhost:8080/"
    },
    "id": "MP_EJ9XNFo2d",
    "outputId": "e1c0a9a3-7797-4a69-9301-d72fb8c03d31"
   },
   "outputs": [
    {
     "name": "stdout",
     "output_type": "stream",
     "text": [
      "Requirement already satisfied: scikit-plot in c:\\users\\charlesj\\anaconda3\\lib\\site-packages (0.3.7)\n",
      "Requirement already satisfied: matplotlib>=1.4.0 in c:\\users\\charlesj\\anaconda3\\lib\\site-packages (from scikit-plot) (3.4.3)\n",
      "Requirement already satisfied: scipy>=0.9 in c:\\users\\charlesj\\anaconda3\\lib\\site-packages (from scikit-plot) (1.7.1)\n",
      "Requirement already satisfied: joblib>=0.10 in c:\\users\\charlesj\\anaconda3\\lib\\site-packages (from scikit-plot) (1.1.0)\n",
      "Requirement already satisfied: scikit-learn>=0.18 in c:\\users\\charlesj\\anaconda3\\lib\\site-packages (from scikit-plot) (1.1.2)\n",
      "Requirement already satisfied: python-dateutil>=2.7 in c:\\users\\charlesj\\anaconda3\\lib\\site-packages (from matplotlib>=1.4.0->scikit-plot) (2.8.2)\n",
      "Requirement already satisfied: pillow>=6.2.0 in c:\\users\\charlesj\\anaconda3\\lib\\site-packages (from matplotlib>=1.4.0->scikit-plot) (8.4.0)\n",
      "Requirement already satisfied: numpy>=1.16 in c:\\users\\charlesj\\anaconda3\\lib\\site-packages (from matplotlib>=1.4.0->scikit-plot) (1.20.3)\n",
      "Requirement already satisfied: pyparsing>=2.2.1 in c:\\users\\charlesj\\anaconda3\\lib\\site-packages (from matplotlib>=1.4.0->scikit-plot) (3.0.4)\n",
      "Requirement already satisfied: kiwisolver>=1.0.1 in c:\\users\\charlesj\\anaconda3\\lib\\site-packages (from matplotlib>=1.4.0->scikit-plot) (1.3.1)\n",
      "Requirement already satisfied: cycler>=0.10 in c:\\users\\charlesj\\anaconda3\\lib\\site-packages (from matplotlib>=1.4.0->scikit-plot) (0.10.0)\n",
      "Requirement already satisfied: six in c:\\users\\charlesj\\anaconda3\\lib\\site-packages (from cycler>=0.10->matplotlib>=1.4.0->scikit-plot) (1.16.0)\n",
      "Requirement already satisfied: threadpoolctl>=2.0.0 in c:\\users\\charlesj\\anaconda3\\lib\\site-packages (from scikit-learn>=0.18->scikit-plot) (2.2.0)\n"
     ]
    }
   ],
   "source": [
    "# récupération du package scikit-plot\n",
    "!pip install scikit-plot"
   ]
  },
  {
   "cell_type": "code",
   "execution_count": 5,
   "id": "f563b03b",
   "metadata": {},
   "outputs": [
    {
     "name": "stdout",
     "output_type": "stream",
     "text": [
      "Requirement already satisfied: imblearn in c:\\users\\charlesj\\anaconda3\\lib\\site-packages (0.0)\n",
      "Requirement already satisfied: imbalanced-learn in c:\\users\\charlesj\\anaconda3\\lib\\site-packages (from imblearn) (0.9.1)\n",
      "Requirement already satisfied: numpy>=1.17.3 in c:\\users\\charlesj\\anaconda3\\lib\\site-packages (from imbalanced-learn->imblearn) (1.20.3)\n",
      "Requirement already satisfied: scipy>=1.3.2 in c:\\users\\charlesj\\anaconda3\\lib\\site-packages (from imbalanced-learn->imblearn) (1.7.1)\n",
      "Requirement already satisfied: threadpoolctl>=2.0.0 in c:\\users\\charlesj\\anaconda3\\lib\\site-packages (from imbalanced-learn->imblearn) (2.2.0)\n",
      "Requirement already satisfied: scikit-learn>=1.1.0 in c:\\users\\charlesj\\anaconda3\\lib\\site-packages (from imbalanced-learn->imblearn) (1.1.2)\n",
      "Requirement already satisfied: joblib>=1.0.0 in c:\\users\\charlesj\\anaconda3\\lib\\site-packages (from imbalanced-learn->imblearn) (1.1.0)\n"
     ]
    }
   ],
   "source": [
    "# récupération du package imblearn\n",
    "!pip install --upgrade imblearn"
   ]
  },
  {
   "cell_type": "code",
   "execution_count": 15,
   "id": "db07acc9",
   "metadata": {
    "id": "db07acc9"
   },
   "outputs": [],
   "source": [
    "# récupération des librairies\n",
    "%matplotlib inline\n",
    "\n",
    "import numpy as np\n",
    "import pandas as pd\n",
    "import matplotlib.pyplot as plt\n",
    "import seaborn as sns\n",
    "import time, datetime\n",
    "import scikitplot as skplt\n",
    "import warnings\n",
    "warnings.filterwarnings(\"ignore\")\n",
    "\n",
    "from scipy.spatial.distance import cdist\n",
    "from scipy.stats import chi2_contingency\n",
    "\n",
    "from sklearn import ensemble, linear_model, model_selection, neighbors, preprocessing, svm\n",
    "\n",
    "from sklearn.cluster import KMeans\n",
    "from sklearn.ensemble import RandomForestClassifier\n",
    "from sklearn.feature_selection import SelectFromModel, SelectKBest, chi2\n",
    "from sklearn.impute import KNNImputer\n",
    "from sklearn.linear_model import LogisticRegression, SGDClassifier, Lasso, LassoCV, lasso_path, RidgeCV\n",
    "from sklearn.metrics import classification_report, accuracy_score, roc_curve, auc, mean_squared_error, recall_score, f1_score, precision_score\n",
    "from sklearn.model_selection import GridSearchCV, train_test_split, cross_val_score, learning_curve, KFold\n",
    "from sklearn.pipeline import make_pipeline\n",
    "from sklearn.preprocessing import StandardScaler, MinMaxScaler\n",
    "from sklearn.svm import SVC\n",
    "from sklearn.tree import DecisionTreeClassifier\n",
    "\n",
    "# from imblearn.metrics import classification_report_imbalanced\n",
    "from imblearn.under_sampling import RandomUnderSampler\n",
    "from imblearn.over_sampling import RandomOverSampler"
   ]
  },
  {
   "cell_type": "markdown",
   "id": "9de277aa",
   "metadata": {
    "id": "9de277aa"
   },
   "source": [
    "# Modèles de classification par apprentissage supervisé"
   ]
  },
  {
   "cell_type": "code",
   "execution_count": 7,
   "id": "lD16-9ECM9nT",
   "metadata": {
    "colab": {
     "base_uri": "https://localhost:8080/",
     "height": 206
    },
    "id": "lD16-9ECM9nT",
    "outputId": "66f7f93c-00bd-4ca8-a9d2-0cb128201dae"
   },
   "outputs": [
    {
     "data": {
      "text/html": [
       "<div>\n",
       "<style scoped>\n",
       "    .dataframe tbody tr th:only-of-type {\n",
       "        vertical-align: middle;\n",
       "    }\n",
       "\n",
       "    .dataframe tbody tr th {\n",
       "        vertical-align: top;\n",
       "    }\n",
       "\n",
       "    .dataframe thead th {\n",
       "        text-align: right;\n",
       "    }\n",
       "</style>\n",
       "<table border=\"1\" class=\"dataframe\">\n",
       "  <thead>\n",
       "    <tr style=\"text-align: right;\">\n",
       "      <th></th>\n",
       "      <th>Rainfall</th>\n",
       "      <th>Sunshine</th>\n",
       "      <th>WindGustSpeed</th>\n",
       "      <th>Humidity3pm</th>\n",
       "      <th>Pressure9am</th>\n",
       "      <th>Cloud3pm</th>\n",
       "      <th>Temp3pm</th>\n",
       "      <th>RainTomorrow</th>\n",
       "      <th>Temp_Delta_MinMax</th>\n",
       "      <th>Humidity_Delta</th>\n",
       "      <th>clim_chaud_humide</th>\n",
       "      <th>clim_méditerranéen</th>\n",
       "      <th>clim_sec</th>\n",
       "      <th>clim_tempéré_froid</th>\n",
       "    </tr>\n",
       "  </thead>\n",
       "  <tbody>\n",
       "    <tr>\n",
       "      <th>0</th>\n",
       "      <td>0.6</td>\n",
       "      <td>4.94000</td>\n",
       "      <td>44.0</td>\n",
       "      <td>22.0</td>\n",
       "      <td>1007.7</td>\n",
       "      <td>7.40000</td>\n",
       "      <td>21.8</td>\n",
       "      <td>0</td>\n",
       "      <td>9.5</td>\n",
       "      <td>-49.0</td>\n",
       "      <td>1</td>\n",
       "      <td>0</td>\n",
       "      <td>0</td>\n",
       "      <td>0</td>\n",
       "    </tr>\n",
       "    <tr>\n",
       "      <th>1</th>\n",
       "      <td>0.0</td>\n",
       "      <td>7.63054</td>\n",
       "      <td>44.0</td>\n",
       "      <td>25.0</td>\n",
       "      <td>1010.6</td>\n",
       "      <td>4.49925</td>\n",
       "      <td>24.3</td>\n",
       "      <td>0</td>\n",
       "      <td>17.7</td>\n",
       "      <td>-19.0</td>\n",
       "      <td>1</td>\n",
       "      <td>0</td>\n",
       "      <td>0</td>\n",
       "      <td>0</td>\n",
       "    </tr>\n",
       "    <tr>\n",
       "      <th>2</th>\n",
       "      <td>0.0</td>\n",
       "      <td>7.96000</td>\n",
       "      <td>46.0</td>\n",
       "      <td>30.0</td>\n",
       "      <td>1007.6</td>\n",
       "      <td>2.00000</td>\n",
       "      <td>23.2</td>\n",
       "      <td>0</td>\n",
       "      <td>12.8</td>\n",
       "      <td>-8.0</td>\n",
       "      <td>1</td>\n",
       "      <td>0</td>\n",
       "      <td>0</td>\n",
       "      <td>0</td>\n",
       "    </tr>\n",
       "    <tr>\n",
       "      <th>3</th>\n",
       "      <td>0.0</td>\n",
       "      <td>7.63054</td>\n",
       "      <td>24.0</td>\n",
       "      <td>16.0</td>\n",
       "      <td>1017.6</td>\n",
       "      <td>4.49925</td>\n",
       "      <td>26.5</td>\n",
       "      <td>0</td>\n",
       "      <td>18.8</td>\n",
       "      <td>-29.0</td>\n",
       "      <td>1</td>\n",
       "      <td>0</td>\n",
       "      <td>0</td>\n",
       "      <td>0</td>\n",
       "    </tr>\n",
       "    <tr>\n",
       "      <th>4</th>\n",
       "      <td>1.0</td>\n",
       "      <td>0.90000</td>\n",
       "      <td>41.0</td>\n",
       "      <td>33.0</td>\n",
       "      <td>1010.8</td>\n",
       "      <td>8.00000</td>\n",
       "      <td>29.7</td>\n",
       "      <td>0</td>\n",
       "      <td>14.8</td>\n",
       "      <td>-49.0</td>\n",
       "      <td>1</td>\n",
       "      <td>0</td>\n",
       "      <td>0</td>\n",
       "      <td>0</td>\n",
       "    </tr>\n",
       "  </tbody>\n",
       "</table>\n",
       "</div>"
      ],
      "text/plain": [
       "   Rainfall  Sunshine  WindGustSpeed  Humidity3pm  Pressure9am  Cloud3pm  \\\n",
       "0       0.6   4.94000           44.0         22.0       1007.7   7.40000   \n",
       "1       0.0   7.63054           44.0         25.0       1010.6   4.49925   \n",
       "2       0.0   7.96000           46.0         30.0       1007.6   2.00000   \n",
       "3       0.0   7.63054           24.0         16.0       1017.6   4.49925   \n",
       "4       1.0   0.90000           41.0         33.0       1010.8   8.00000   \n",
       "\n",
       "   Temp3pm  RainTomorrow  Temp_Delta_MinMax  Humidity_Delta  \\\n",
       "0     21.8             0                9.5           -49.0   \n",
       "1     24.3             0               17.7           -19.0   \n",
       "2     23.2             0               12.8            -8.0   \n",
       "3     26.5             0               18.8           -29.0   \n",
       "4     29.7             0               14.8           -49.0   \n",
       "\n",
       "   clim_chaud_humide  clim_méditerranéen  clim_sec  clim_tempéré_froid  \n",
       "0                  1                   0         0                   0  \n",
       "1                  1                   0         0                   0  \n",
       "2                  1                   0         0                   0  \n",
       "3                  1                   0         0                   0  \n",
       "4                  1                   0         0                   0  "
      ]
     },
     "execution_count": 7,
     "metadata": {},
     "output_type": "execute_result"
    }
   ],
   "source": [
    "# récuperation et aperçu du jeu de données après prétraitement, après l'étape de classification des villes en fonction \n",
    "# du climat et après sélection des variables les plus pertinentes selon la méthode SelectKBest()\n",
    "df = pd.read_csv('data/weatherAUS_preprocessed.csv', index_col=0)\n",
    "df.head()"
   ]
  },
  {
   "cell_type": "code",
   "execution_count": 9,
   "id": "1a697ea1",
   "metadata": {
    "id": "1a697ea1"
   },
   "outputs": [],
   "source": [
    "# séparation des données en une matrice de données et en un vecteur cible\n",
    "data = df.drop('RainTomorrow', axis=1)\n",
    "target = df['RainTomorrow']"
   ]
  },
  {
   "cell_type": "code",
   "execution_count": 10,
   "id": "5b04edc6",
   "metadata": {
    "id": "5b04edc6"
   },
   "outputs": [],
   "source": [
    "# division des données en un ensemble d'entraînement et un ensemble de test correspondant respectivement à 80% et 20% de la quantité totale des données disponibles\n",
    "X_train, X_test, y_train, y_test = train_test_split(data, target, test_size=0.2, random_state=123)"
   ]
  },
  {
   "cell_type": "code",
   "execution_count": null,
   "id": "7f686bf6",
   "metadata": {},
   "outputs": [],
   "source": [
    "# distribution de la variable cible dans l'ensemble d'entraînement\n",
    "y_train.value_counts"
   ]
  },
  {
   "cell_type": "code",
   "execution_count": 11,
   "id": "A24NlSDFJ9vQ",
   "metadata": {
    "colab": {
     "base_uri": "https://localhost:8080/"
    },
    "id": "A24NlSDFJ9vQ",
    "outputId": "8c3e1717-a794-4788-f6fe-07a4cc64e2bd"
   },
   "outputs": [
    {
     "data": {
      "text/plain": [
       "0    0.777988\n",
       "1    0.222012\n",
       "Name: RainTomorrow, dtype: float64"
      ]
     },
     "execution_count": 11,
     "metadata": {},
     "output_type": "execute_result"
    }
   ],
   "source": [
    "# distribution de la variable cible dans l'ensemble d'entraînement\n",
    "y_train.value_counts(normalize=True)"
   ]
  },
  {
   "cell_type": "code",
   "execution_count": null,
   "id": "b87080e1",
   "metadata": {},
   "outputs": [],
   "source": [
    "# distribution de la variable cible dans l'ensemble de test\n",
    "y_test.value_counts"
   ]
  },
  {
   "cell_type": "code",
   "execution_count": 12,
   "id": "f5616a86",
   "metadata": {
    "colab": {
     "base_uri": "https://localhost:8080/"
    },
    "id": "f5616a86",
    "outputId": "8003684d-5725-4d10-9507-40d0ebb11e40"
   },
   "outputs": [
    {
     "data": {
      "text/plain": [
       "0    0.779956\n",
       "1    0.220044\n",
       "Name: RainTomorrow, dtype: float64"
      ]
     },
     "execution_count": 12,
     "metadata": {},
     "output_type": "execute_result"
    }
   ],
   "source": [
    "# distribution de la variable cible dans l'ensemble de test\n",
    "y_test.value_counts(normalize=True)"
   ]
  },
  {
   "cell_type": "code",
   "execution_count": 13,
   "id": "8XNB_GKApymz",
   "metadata": {
    "id": "8XNB_GKApymz"
   },
   "outputs": [],
   "source": [
    "# oversampling des données\n",
    "# rOs = RandomOverSampler()\n",
    "# X_ro, y_ro = rOs.fit_resample(X_train, y_train)\n",
    "# print(\"Cardinalité des classes de la variable cible sur-échantillonnée:\", dict(pd.Series(y_ro).value_counts()))"
   ]
  },
  {
   "cell_type": "code",
   "execution_count": 16,
   "id": "13b41857",
   "metadata": {
    "colab": {
     "base_uri": "https://localhost:8080/"
    },
    "id": "13b41857",
    "outputId": "0f6a000e-7b8b-4199-ded6-218bc47a994b"
   },
   "outputs": [
    {
     "name": "stdout",
     "output_type": "stream",
     "text": [
      "Classes échantillon undersampled : {0: 25005, 1: 25005}\n"
     ]
    }
   ],
   "source": [
    "# undersampling des données\n",
    "rUs = RandomUnderSampler()\n",
    "X_train_ru, y_train_ru = rUs.fit_resample(X_train, y_train)\n",
    "print(\"Cardinalité des classes de la variable cible sous-échantillonnée:\", dict(pd.Series(y_train_ru).value_counts()))"
   ]
  },
  {
   "cell_type": "code",
   "execution_count": 17,
   "id": "qnmjv-fVsQDY",
   "metadata": {
    "colab": {
     "base_uri": "https://localhost:8080/"
    },
    "id": "qnmjv-fVsQDY",
    "outputId": "56c46f40-388d-4e1e-aaa6-c662eb0c6d3b"
   },
   "outputs": [
    {
     "data": {
      "text/plain": [
       "0    0.5\n",
       "1    0.5\n",
       "Name: RainTomorrow, dtype: float64"
      ]
     },
     "execution_count": 17,
     "metadata": {},
     "output_type": "execute_result"
    }
   ],
   "source": [
    "# distribution de la variable cible dans l'ensemble de test\n",
    "y_train_ru.value_counts(normalize=True)"
   ]
  },
  {
   "cell_type": "code",
   "execution_count": 18,
   "id": "00fa64ad",
   "metadata": {},
   "outputs": [],
   "source": [
    "# paramètre à initialiser pour calculer les performances des algorithmes avec ré-échantillonage\n",
    "param_ru = 'under_sample'\n",
    "\n",
    "if param_ru == 'under_sample':\n",
    "    X_train = X_train_ru\n",
    "    y_train = y_train_ru"
   ]
  },
  {
   "cell_type": "code",
   "execution_count": 19,
   "id": "06b700ea",
   "metadata": {
    "id": "06b700ea"
   },
   "outputs": [],
   "source": [
    "# standardisation des données\n",
    "scaler = StandardScaler()\n",
    "# scaler = MinMaxScaler()\n",
    "\n",
    "X_train_scaled = scaler.fit_transform(X_train)\n",
    "X_test_scaled = scaler.transform(X_test)"
   ]
  },
  {
   "cell_type": "markdown",
   "id": "9mJr-YJRueyJ",
   "metadata": {
    "id": "9mJr-YJRueyJ"
   },
   "source": [
    "## Régression Logistique"
   ]
  },
  {
   "cell_type": "code",
   "execution_count": 22,
   "id": "cdab3d79",
   "metadata": {
    "id": "cdab3d79"
   },
   "outputs": [],
   "source": [
    "# définition du modèle\n",
    "clf_lr = LogisticRegression()\n",
    "\n",
    "# param_grid_lr = {'solver':['liblinear', 'lbfgs', 'newton-cg', 'sag', 'saga'], \n",
    "#                  'C':np.linspace(0.1,1,10)}\n",
    "\n",
    "param_grid_lr = {'solver':['liblinear'], \n",
    "                 'C':np.linspace(0.1,1,10)}\n",
    "\n",
    "gcv_lr = GridSearchCV(clf_lr, param_grid_lr, cv=3)"
   ]
  },
  {
   "cell_type": "code",
   "execution_count": 23,
   "id": "bXjdgVSzu3a0",
   "metadata": {
    "colab": {
     "base_uri": "https://localhost:8080/"
    },
    "id": "bXjdgVSzu3a0",
    "outputId": "01cd2943-4675-4d64-cb66-a8c4800b1fa4"
   },
   "outputs": [
    {
     "name": "stdout",
     "output_type": "stream",
     "text": [
      "Meilleurs paramètres : {'C': 0.2, 'solver': 'liblinear'} \n",
      "\n",
      "Accuracy Score: 0.7790681156332125 \n",
      "\n",
      "Train Data Score: 0.7733053389322135\n",
      "Test Data Score: 0.7790681156332125\n",
      "\n",
      " Matrice de confusion:\n",
      "\n",
      " Prédictions      0     1\n",
      "Réalités                \n",
      "0            17189  4773\n",
      "1             1448  4748\n",
      "\n",
      "               precision    recall  f1-score   support\n",
      "\n",
      "           0       0.92      0.78      0.85     21962\n",
      "           1       0.50      0.77      0.60      6196\n",
      "\n",
      "    accuracy                           0.78     28158\n",
      "   macro avg       0.71      0.77      0.73     28158\n",
      "weighted avg       0.83      0.78      0.79     28158\n",
      "\n",
      "Running Time: 0:00:02.130943\n"
     ]
    }
   ],
   "source": [
    "start_time = time.time()\n",
    "\n",
    "# entraînement\n",
    "gcv_lr.fit(X_train_scaled, y_train)\n",
    "\n",
    "# prédiction\n",
    "y_pred = gcv_lr.predict(X_test_scaled)\n",
    "\n",
    "# détermination des meilleurs paramètres\n",
    "print('Meilleurs paramètres :', gcv_lr.best_params_, \"\\n\")\n",
    "\n",
    "# évaluation de la performance\n",
    "print('Accuracy Score: {}'.format(accuracy_score(y_test,y_pred)),'\\n')\n",
    "\n",
    "# underfitting / overfitting\n",
    "print('Train Data Score: {}'.format(gcv_lr.score(X_train_scaled,y_train)))\n",
    "print('Test Data Score: {}'.format(gcv_lr.score(X_test_scaled,y_test)))\n",
    "\n",
    "# matrice de confusion\n",
    "print('\\n Matrice de confusion:')\n",
    "print('\\n', pd.crosstab(y_test, y_pred, rownames=['Réalités'], colnames=['Prédictions']))\n",
    "\n",
    "# rapport de classification\n",
    "print('\\n', classification_report(y_test, y_pred))\n",
    "\n",
    "# durée d'exécution\n",
    "gaussian_time = (time.time() - start_time)\n",
    "print(\"Running Time: %s\" % datetime.timedelta(seconds=gaussian_time))"
   ]
  },
  {
   "cell_type": "markdown",
   "id": "9Y4v2WC_0-4Y",
   "metadata": {
    "id": "9Y4v2WC_0-4Y"
   },
   "source": [
    "- la méthode de régression logistique ne fait pas l'objet de sur-apprentissage.\n",
    "- la sensibilité (taux de vrais positifs) vaut 0.77.\n",
    "- la spécificité (taux de vrais négatifs) vaut 0.78.\n",
    "- le F1-score concernant la classe '0' de la variable RainTomorrow est bon (0.85).\n",
    "- le F1-score concernant la classe '1' de la variable RainTomorrow est faible (0.60)."
   ]
  },
  {
   "cell_type": "code",
   "execution_count": 24,
   "id": "nIVKNWch9HSs",
   "metadata": {
    "colab": {
     "base_uri": "https://localhost:8080/"
    },
    "id": "nIVKNWch9HSs",
    "outputId": "80e79adf-8289-40a4-c900-f67ce7f28f8a"
   },
   "outputs": [
    {
     "name": "stdout",
     "output_type": "stream",
     "text": [
      "Cross-validation scores:[0.77096581 0.77318536 0.77624475]\n",
      "Average cross-validation score: 0.7734653069386123\n"
     ]
    }
   ],
   "source": [
    "cv_scores = cross_val_score(gcv_lr, X_train_scaled, y_train, cv=3, scoring='accuracy')\n",
    "\n",
    "print('Cross-validation scores:{}'.format(cv_scores))\n",
    "print('Average cross-validation score: {}'.format(cv_scores.mean()))"
   ]
  },
  {
   "cell_type": "markdown",
   "id": "BjGqJ2wg-bxt",
   "metadata": {
    "id": "BjGqJ2wg-bxt"
   },
   "source": [
    "- Le score de la méthode de régression logistique est en moyenne de : 0.77."
   ]
  },
  {
   "cell_type": "code",
   "execution_count": 26,
   "id": "e97080f7",
   "metadata": {},
   "outputs": [],
   "source": [
    "# sauvegarde des scores dans un fichier de sortie\n",
    "pd.DataFrame([f1_score(y_test, y_pred), recall_score(y_test, y_pred), precision_score(y_test, y_pred)],\n",
    "             index=['f1','recall','precision'], \n",
    "             columns=['scores_clf_lr_' + param_ru]).to_csv('scores/scores_clf_lr_' + param_ru + '.csv')"
   ]
  },
  {
   "cell_type": "code",
   "execution_count": 27,
   "id": "m27zgl33K6Mp",
   "metadata": {
    "id": "m27zgl33K6Mp"
   },
   "outputs": [],
   "source": [
    "# courbe ROC (Receiver Operating Characteristic) pour le modèle de régression logistique\n",
    "y_pred_logreg_proba = gcv_lr.predict_proba(X_test_scaled)\n",
    "fpr, tpr, thresholds = roc_curve(y_test, y_pred_logreg_proba[:,1])"
   ]
  },
  {
   "cell_type": "code",
   "execution_count": 28,
   "id": "nbrBqk8zK6-B",
   "metadata": {
    "colab": {
     "base_uri": "https://localhost:8080/"
    },
    "id": "nbrBqk8zK6-B",
    "outputId": "130cb82d-c91e-4b34-9fcf-675de1428da5"
   },
   "outputs": [
    {
     "name": "stdout",
     "output_type": "stream",
     "text": [
      "Aire sous la courbe = 0.8576790658246544\n"
     ]
    }
   ],
   "source": [
    "# aire sous la courbe ROC\n",
    "roc_auc = auc(fpr, tpr)\n",
    "print(\"Aire sous la courbe =\", roc_auc)"
   ]
  },
  {
   "cell_type": "code",
   "execution_count": 29,
   "id": "XgLFmi_28WOE",
   "metadata": {
    "colab": {
     "base_uri": "https://localhost:8080/",
     "height": 513
    },
    "id": "XgLFmi_28WOE",
    "outputId": "3ab85084-60ce-47cb-ea1a-3a8baf5a884b"
   },
   "outputs": [
    {
     "data": {
      "image/png": "[encoded data removed]",
      "text/plain": [
       "<Figure size 576x576 with 1 Axes>"
      ]
     },
     "metadata": {
      "needs_background": "light"
     },
     "output_type": "display_data"
    }
   ],
   "source": [
    "plt.figure(figsize=(8,8))\n",
    "plt.plot(fpr, tpr, '-g', linewidth=1, label='Modèle gcv_lr (auc=%0.2f)' %roc_auc)\n",
    "plt.plot([0,1], [0,1], 'k--', label='Aléatoire (auc=0.5)')\n",
    "plt.title('Courbe ROC pour le modèle de Régression Logistique')\n",
    "plt.xlabel('Taux de Faux Positifs')\n",
    "plt.ylabel('Taux de Vrai Positifs')\n",
    "plt.legend(loc=\"lower right\");"
   ]
  },
  {
   "cell_type": "markdown",
   "id": "SXu8GCTt8oGR",
   "metadata": {
    "id": "SXu8GCTt8oGR"
   },
   "source": [
    "\n",
    "- La courbe ROC est l'outil idéal pour résumer la performance d'un classifieur binaire en fonction de tous les seuils possibles. Elle évite un long travail de prédictions de classes pour différents seuils, et d'évaluation de la matrice de confusion pour chacun de ces seuils.\n",
    "- Graphiquement, la mesure ROC est représentée sous la forme d'une courbe qui donne le taux de vrais positifs (la sensibilité), en fonction du taux de faux positifs (l'antispécificité).\n",
    "- Plus la courbe se rapproche du point (0,1), meilleures sont les prédictions. Un modèle avec une sensibilité et une spécificité égales à 1 est considéré comme parfait.\n",
    "\n"
   ]
  },
  {
   "cell_type": "markdown",
   "id": "ci-XSrHBu6RL",
   "metadata": {
    "id": "ci-XSrHBu6RL"
   },
   "source": [
    "## Forêts Aléatoires"
   ]
  },
  {
   "cell_type": "code",
   "execution_count": 30,
   "id": "lXc7F6NqmqeW",
   "metadata": {
    "id": "lXc7F6NqmqeW"
   },
   "outputs": [],
   "source": [
    "# définition du modèle\n",
    "clf_rf  = RandomForestClassifier() # les forêts aléatoires ne gèrent pas les variables qualitatives\n",
    "\n",
    "param_grid_rf  = [{'n_estimators' : [50, 100, 150],\n",
    "                   'min_samples_leaf' : np.arange(1,6,1),\n",
    "                   'max_features' : ['sqrt', 'log2']}]\n",
    "\n",
    "gcv_rf = GridSearchCV(clf_rf, param_grid_rf)"
   ]
  },
  {
   "cell_type": "code",
   "execution_count": 31,
   "id": "LQndT6uEu9wC",
   "metadata": {
    "colab": {
     "base_uri": "https://localhost:8080/"
    },
    "id": "LQndT6uEu9wC",
    "outputId": "72623106-39e2-45dd-995d-060cf5f3b331",
    "scrolled": false
   },
   "outputs": [
    {
     "name": "stdout",
     "output_type": "stream",
     "text": [
      "Meilleurs paramètres : {'max_features': 'log2', 'min_samples_leaf': 3, 'n_estimators': 150} \n",
      "\n",
      "Accuracy Score: 0.7940194616094893 \n",
      "\n",
      "Train Data Score: 0.9436712657468507\n",
      "Test Data Score: 0.7940194616094893\n",
      "\n",
      " Matrice de confusion:\n",
      "\n",
      " Prédictions      0     1\n",
      "Réalités                \n",
      "0            17514  4448\n",
      "1             1352  4844\n",
      "              precision    recall  f1-score   support\n",
      "\n",
      "           0       0.93      0.80      0.86     21962\n",
      "           1       0.52      0.78      0.63      6196\n",
      "\n",
      "    accuracy                           0.79     28158\n",
      "   macro avg       0.72      0.79      0.74     28158\n",
      "weighted avg       0.84      0.79      0.81     28158\n",
      "\n",
      "Running Time: 0:11:50.949642\n"
     ]
    }
   ],
   "source": [
    "start_time = time.time()\n",
    "\n",
    "# entraînement\n",
    "gcv_rf.fit(X_train_scaled, y_train)\n",
    "\n",
    "# prédiction\n",
    "y_pred = gcv_rf.predict(X_test_scaled)\n",
    "\n",
    "# détermination des meilleurs paramètres\n",
    "print('Meilleurs paramètres :', gcv_rf.best_params_,\"\\n\")\n",
    "\n",
    "# évaluation de la performance\n",
    "print('Accuracy Score: {}'.format(accuracy_score(y_test,y_pred)),'\\n')\n",
    "\n",
    "# underfitting / overfitting\n",
    "print('Train Data Score: {}'.format(gcv_rf.score(X_train_scaled,y_train)))\n",
    "print('Test Data Score: {}'.format(gcv_rf.score(X_test_scaled,y_test)))\n",
    "\n",
    "# matrice de confusion\n",
    "print('\\n Matrice de confusion:')\n",
    "print('\\n', pd.crosstab(y_test, y_pred, rownames=['Réalités'], colnames=['Prédictions']))\n",
    "\n",
    "# rapport de classification\n",
    "print(classification_report(y_test, y_pred))\n",
    "\n",
    "# durée d'exécution\n",
    "gaussian_time = (time.time() - start_time)\n",
    "print(\"Running Time: %s\" % datetime.timedelta(seconds=gaussian_time))"
   ]
  },
  {
   "cell_type": "markdown",
   "id": "_4rzIWFF4_Dj",
   "metadata": {
    "id": "_4rzIWFF4_Dj"
   },
   "source": [
    "- la méthode de forêt aléatoire fait l'objet de sur-apprentissage.\n",
    "- la sensibilité (taux de vrais positifs) vaut 0.78.\n",
    "- la spécificité (taux de vrais négatifs) vaut 0.80.\n",
    "- le F1-score concernant la classe '0' de la variable 'RainTomorrow' est bon (0.86).\n",
    "- le F1-score concernant la classe '1' de la variable 'RainTomorrow' est faible (0.63)."
   ]
  },
  {
   "cell_type": "code",
   "execution_count": 32,
   "id": "gfCx0Y9S9Tpt",
   "metadata": {
    "colab": {
     "base_uri": "https://localhost:8080/"
    },
    "id": "gfCx0Y9S9Tpt",
    "outputId": "267a93a7-9b6d-4203-bba7-d4a816faf0a4"
   },
   "outputs": [
    {
     "name": "stdout",
     "output_type": "stream",
     "text": [
      "Cross-validation scores:[0.78596281 0.78560288 0.78836233]\n",
      "Average cross-validation score: 0.786642671465707\n"
     ]
    }
   ],
   "source": [
    "cv_scores = cross_val_score(gcv_rf, X_train_scaled, y_train, cv=3, scoring='accuracy')\n",
    "\n",
    "print('Cross-validation scores:{}'.format(cv_scores))\n",
    "print('Average cross-validation score: {}'.format(cv_scores.mean()))"
   ]
  },
  {
   "cell_type": "markdown",
   "id": "SZHwAOHh-0-r",
   "metadata": {
    "id": "SZHwAOHh-0-r"
   },
   "source": [
    "- Le score de la méthode des forêts aléatoires est en moyenne de : 0.79."
   ]
  },
  {
   "cell_type": "code",
   "execution_count": 34,
   "id": "d7bda57e",
   "metadata": {},
   "outputs": [],
   "source": [
    "# sauvegarde des scores dans un fichier de sortie\n",
    "pd.DataFrame([f1_score(y_test, y_pred), recall_score(y_test, y_pred), precision_score(y_test, y_pred)],\n",
    "             index=['f1','recall','precision'], \n",
    "             columns=['scores_clf_rf_' + param_ru]).to_csv('scores/scores_clf_rf_' + param_ru + '.csv')"
   ]
  },
  {
   "cell_type": "code",
   "execution_count": 35,
   "id": "p5Bxs1ITMPxs",
   "metadata": {
    "id": "p5Bxs1ITMPxs"
   },
   "outputs": [],
   "source": [
    "# probabilités pour X_test_scaled d'appartenir à chacune des deux classes\n",
    "y_probas = gcv_rf.predict_proba(X_test_scaled)"
   ]
  },
  {
   "cell_type": "code",
   "execution_count": 36,
   "id": "E-ixhajkMSHY",
   "metadata": {
    "colab": {
     "base_uri": "https://localhost:8080/",
     "height": 312
    },
    "id": "E-ixhajkMSHY",
    "outputId": "dba659fe-3afc-4ea4-f832-b176f8ff0565"
   },
   "outputs": [
    {
     "data": {
      "image/png": "[encoded data removed]",
      "text/plain": [
       "<Figure size 432x288 with 1 Axes>"
      ]
     },
     "metadata": {
      "needs_background": "light"
     },
     "output_type": "display_data"
    }
   ],
   "source": [
    "# courbe de gain cumulée\n",
    "skplt.metrics.plot_cumulative_gain(y_test, y_probas);"
   ]
  },
  {
   "cell_type": "markdown",
   "id": "9hNX83LIMjT0",
   "metadata": {
    "id": "9hNX83LIMjT0"
   },
   "source": [
    "- L'axe horizontal représente les individus de l'échantillon test.\n",
    "- L'axe vertical représente la variable cible \"RainTomorrow\"."
   ]
  },
  {
   "cell_type": "markdown",
   "id": "5gGeDEOOvAkp",
   "metadata": {
    "id": "5gGeDEOOvAkp"
   },
   "source": [
    "## Support Vector Machine"
   ]
  },
  {
   "cell_type": "code",
   "execution_count": 37,
   "id": "scHhtzgGmq40",
   "metadata": {
    "id": "scHhtzgGmq40"
   },
   "outputs": [],
   "source": [
    "# définition du modèle\n",
    "clf_svm = svm.SVC()\n",
    "\n",
    "# le temps de calcul est élevé lors d'une régularisation des paramètres de la fonction noyau\n",
    "# param_grid_svm = {'kernel' : ['rbf','linear','poly'], \n",
    "#                   'gamma' : [0.001, 0.1, 0.5]}\n",
    "\n",
    "param_grid_svm = {'kernel' : ['rbf'], \n",
    "                  'gamma' : [0.01, 0.1, 0.5]}\n",
    "\n",
    "gcv_svm = GridSearchCV(clf_svm, param_grid_svm)"
   ]
  },
  {
   "cell_type": "code",
   "execution_count": 38,
   "id": "acb6f92a",
   "metadata": {
    "colab": {
     "base_uri": "https://localhost:8080/"
    },
    "id": "acb6f92a",
    "outputId": "e957a332-cd87-4cd4-c6a3-26334af40154"
   },
   "outputs": [
    {
     "name": "stdout",
     "output_type": "stream",
     "text": [
      "Meilleurs paramètres : {'gamma': 0.1, 'kernel': 'rbf'} \n",
      "\n",
      "Accuracy Score: 0.796576461396406 \n",
      "\n",
      "Train Data Score: 0.7954409118176364\n",
      "Test Data Score: 0.796576461396406\n",
      "\n",
      " Matrice de confusion:\n",
      "\n",
      " Prédictions      0     1\n",
      "Réalités                \n",
      "0            17610  4352\n",
      "1             1376  4820\n",
      "              precision    recall  f1-score   support\n",
      "\n",
      "           0       0.93      0.80      0.86     21962\n",
      "           1       0.53      0.78      0.63      6196\n",
      "\n",
      "    accuracy                           0.80     28158\n",
      "   macro avg       0.73      0.79      0.74     28158\n",
      "weighted avg       0.84      0.80      0.81     28158\n",
      "\n",
      "Running Time: 1:09:45.812581\n"
     ]
    }
   ],
   "source": [
    "start_time = time.time()\n",
    "\n",
    "# entraînement\n",
    "grille = gcv_svm.fit(X_train_scaled, y_train)\n",
    "\n",
    "# prédiction\n",
    "y_pred = gcv_svm.predict(X_test_scaled)\n",
    "\n",
    "# détermination des meilleurs paramètres\n",
    "print('Meilleurs paramètres :', gcv_svm.best_params_,\"\\n\")\n",
    "\n",
    "# évaluation de la performance\n",
    "print('Accuracy Score: {}'.format(accuracy_score(y_test,y_pred)),'\\n')\n",
    "\n",
    "# underfitting / overfitting\n",
    "print('Train Data Score: {}'.format(gcv_svm.score(X_train_scaled,y_train)))\n",
    "print('Test Data Score: {}'.format(gcv_svm.score(X_test_scaled,y_test)))\n",
    "\n",
    "# matrice de confusion\n",
    "print('\\n Matrice de confusion:')\n",
    "print('\\n', pd.crosstab(y_test, y_pred, rownames=['Réalités'], colnames=['Prédictions']))\n",
    "\n",
    "# rapport de classification\n",
    "print(classification_report(y_test, y_pred))\n",
    "\n",
    "# durée d'exécution\n",
    "gaussian_time = (time.time() - start_time)\n",
    "print(\"Running Time: %s\" % datetime.timedelta(seconds=gaussian_time))"
   ]
  },
  {
   "cell_type": "markdown",
   "id": "aRTKvyHl5ANp",
   "metadata": {
    "id": "aRTKvyHl5ANp"
   },
   "source": [
    "- la méthode SVM ne fait pas l'objet de sur-apprentissage.\n",
    "- la sensibilité (taux de vrais positifs) vaut 0.78.\n",
    "- la spécificité (taux de vrais négatifs) vaut 0.80.\n",
    "- le F1-score concernant la classe '0' de la variable 'RainTomorrow' est bon (0.86).\n",
    "- le F1-score concernant la classe '1' de la variable 'RainTomorrow' est faible (0.63)."
   ]
  },
  {
   "cell_type": "code",
   "execution_count": 39,
   "id": "yvyenICr9XQj",
   "metadata": {
    "colab": {
     "base_uri": "https://localhost:8080/"
    },
    "id": "yvyenICr9XQj",
    "outputId": "86168ce4-dc0a-43a5-bf60-ec4f1d8e0b66"
   },
   "outputs": [
    {
     "name": "stdout",
     "output_type": "stream",
     "text": [
      "Cross-validation scores:[0.78464307 0.7860228  0.78812238]\n",
      "Average cross-validation score: 0.7862627474505098\n"
     ]
    }
   ],
   "source": [
    "cv_scores = cross_val_score(gcv_svm, X_train_scaled, y_train, cv=3, scoring='accuracy')\n",
    "\n",
    "print('Cross-validation scores:{}'.format(cv_scores))\n",
    "print('Average cross-validation score: {}'.format(cv_scores.mean()))"
   ]
  },
  {
   "cell_type": "markdown",
   "id": "i06iwEWG-1qH",
   "metadata": {
    "id": "i06iwEWG-1qH"
   },
   "source": [
    "- Le score de la méthode SVM est en moyenne de : 0.79."
   ]
  },
  {
   "cell_type": "code",
   "execution_count": 40,
   "id": "fcca1642",
   "metadata": {},
   "outputs": [],
   "source": [
    "# sauvegarde des scores dans un fichier de sortie\n",
    "pd.DataFrame([f1_score(y_test, y_pred), recall_score(y_test, y_pred), precision_score(y_test, y_pred)],\n",
    "             index=['f1','recall','precision'], \n",
    "             columns=['scores_clf_svm_' + param_ru]).to_csv('scores/scores_clf_svm_' + param_ru + '.csv')"
   ]
  },
  {
   "cell_type": "code",
   "execution_count": 41,
   "id": "6YWNWhDcRUbJ",
   "metadata": {
    "colab": {
     "base_uri": "https://localhost:8080/"
    },
    "id": "6YWNWhDcRUbJ",
    "outputId": "710b6351-8d66-4c31-adec-2384c9ab9e76"
   },
   "outputs": [
    {
     "name": "stdout",
     "output_type": "stream",
     "text": [
      "                             params  mean_test_score\n",
      "0  {'gamma': 0.01, 'kernel': 'rbf'}         0.780984\n",
      "1   {'gamma': 0.1, 'kernel': 'rbf'}         0.787163\n",
      "2   {'gamma': 0.5, 'kernel': 'rbf'}         0.783563\n",
      "3     {'gamma': 1, 'kernel': 'rbf'}         0.779404\n"
     ]
    }
   ],
   "source": [
    "print(pd.DataFrame.from_dict(grille.cv_results_).loc[:,['params','mean_test_score']])"
   ]
  },
  {
   "cell_type": "code",
   "execution_count": 42,
   "id": "eYRPEf8WRWDW",
   "metadata": {
    "id": "eYRPEf8WRWDW"
   },
   "outputs": [],
   "source": [
    "# courbe d'apprentissage du modèle (prend beaucoup trop de temps)\n",
    "# train_sizes, train_scores, valid_scores = learning_curve(svm.SVC(kernel='linear', C=1), data, target, train_sizes=[50, 80, 110, 140], cv=5)\n",
    "# plt.xlabel(\"Training examples\")\n",
    "# plt.ylabel(\"Score\")\n",
    "\n",
    "# train_sizes = [50, 70, 80, 100, 110, 118]\n",
    "# train_sizes, train_scores, test_scores = learning_curve(gcv_svm, data, target, n_jobs=4, train_sizes=train_sizes)\n",
    "\n",
    "# train_score_mean = np.mean(train_scores, axis=1)\n",
    "# train_score_std = np.std(train_scores, axis=1)\n",
    "# test_score_mean = np.mean(test_scores, axis=1)\n",
    "# test_score_std = np.std(test_scores, axis=1)\n",
    "\n",
    "# plt.grid()\n",
    "# plt.fill_between(train_sizes, train_scores_mean - train_scores_std, train_scores_mean + train_scores_std, alpha=0.1, color=\"r\")\n",
    "# plt.fill_between(train_sizes, test_scores_mean - test_scores_std, test_scores_mean + test_scores_std, alpha=0.1, color=\"g\")\n",
    "# plt.plot(train_sizes, train_scores_mean, 'o-', color=\"r\", label=\"Training score\")\n",
    "# plt.plot(train_sizes, test_scores_mean, 'o-', color=\"g\", label=\"Cross-validation score\")\n",
    "\n",
    "# plt.legend(loc=\"best\");"
   ]
  },
  {
   "cell_type": "markdown",
   "id": "P-arQbY85ND-",
   "metadata": {
    "id": "P-arQbY85ND-"
   },
   "source": [
    "## K-plus proches voisins"
   ]
  },
  {
   "cell_type": "code",
   "execution_count": 43,
   "id": "DBnDWLC85Wv7",
   "metadata": {
    "id": "DBnDWLC85Wv7"
   },
   "outputs": [],
   "source": [
    "# définition du modèle\n",
    "clf_knn = neighbors.KNeighborsClassifier()\n",
    "\n",
    "param_grid_knn = {'n_neighbors' : np.arange(20,41,1),\n",
    "                  'metric' : ['minkowski','manhattan','chebyshev']}\n",
    "\n",
    "gcv_knn = GridSearchCV(clf_knn, param_grid_knn)"
   ]
  },
  {
   "cell_type": "code",
   "execution_count": 44,
   "id": "Rzfrg5uy5OWB",
   "metadata": {
    "colab": {
     "base_uri": "https://localhost:8080/"
    },
    "id": "Rzfrg5uy5OWB",
    "outputId": "9b362a73-9159-41ed-b2c2-0e45d75c0902"
   },
   "outputs": [
    {
     "name": "stdout",
     "output_type": "stream",
     "text": [
      "Meilleurs paramètres : {'metric': 'minkowski', 'n_neighbors': 33} \n",
      "\n",
      "Accuracy Score: 0.792030683997443 \n",
      "\n",
      "Train Data Score: 0.7924815036992602\n",
      "Test Data Score: 0.792030683997443\n",
      "\n",
      " Matrice de confusion:\n",
      "\n",
      " Prédictions      0     1\n",
      "Réalités                \n",
      "0            17492  4470\n",
      "1             1386  4810\n",
      "              precision    recall  f1-score   support\n",
      "\n",
      "           0       0.93      0.80      0.86     21962\n",
      "           1       0.52      0.78      0.62      6196\n",
      "\n",
      "    accuracy                           0.79     28158\n",
      "   macro avg       0.72      0.79      0.74     28158\n",
      "weighted avg       0.84      0.79      0.80     28158\n",
      "\n",
      "Running Time: 0:30:36.672307\n"
     ]
    }
   ],
   "source": [
    "start_time = time.time()\n",
    "\n",
    "# entraînement\n",
    "gcv_knn.fit(X_train_scaled, y_train)\n",
    "\n",
    "# prédiction\n",
    "y_pred = gcv_knn.predict(X_test_scaled)\n",
    "\n",
    "# détermination des meilleurs paramètres\n",
    "print('Meilleurs paramètres :', gcv_knn.best_params_,\"\\n\")\n",
    "\n",
    "# évaluation de la performance\n",
    "print('Accuracy Score: {}'.format(accuracy_score(y_test,y_pred)),'\\n')\n",
    "\n",
    "# underfitting / overfitting\n",
    "print('Train Data Score: {}'.format(gcv_knn.score(X_train_scaled,y_train)))\n",
    "print('Test Data Score: {}'.format(gcv_knn.score(X_test_scaled,y_test)))\n",
    "\n",
    "# matrice de confusion\n",
    "print('\\n Matrice de confusion:')\n",
    "print('\\n', pd.crosstab(y_test, y_pred, rownames=['Réalités'], colnames=['Prédictions']))\n",
    "\n",
    "# rapport de classification\n",
    "print(classification_report(y_test, y_pred))\n",
    "\n",
    "# durée d'exécution\n",
    "gaussian_time = (time.time() - start_time)\n",
    "print(\"Running Time: %s\" % datetime.timedelta(seconds=gaussian_time))"
   ]
  },
  {
   "cell_type": "markdown",
   "id": "0WAfCK7T6MwP",
   "metadata": {
    "id": "0WAfCK7T6MwP"
   },
   "source": [
    "- la méthode des K-plus proches voisins ne fait pas l'objet de sur-apprentissage.\n",
    "- la sensibilité (taux de vrais positifs) vaut 0.78.\n",
    "- la spécificité (taux de vrais négatifs) vaut 0.80.\n",
    "- le F1-score concernant la classe '0' de la variable 'RainTomorrow' est bon (0.86).\n",
    "- le F1-score concernant la classe '1' de la variable 'RainTomorrow' est faible (0.62)."
   ]
  },
  {
   "cell_type": "code",
   "execution_count": 45,
   "id": "zqhhq9p19Zi0",
   "metadata": {
    "colab": {
     "base_uri": "https://localhost:8080/"
    },
    "id": "zqhhq9p19Zi0",
    "outputId": "c163f5d3-4040-4178-c28f-8f4c6b2e1f26"
   },
   "outputs": [
    {
     "name": "stdout",
     "output_type": "stream",
     "text": [
      "Cross-validation scores:[0.77594481 0.77624475 0.7824835 ]\n",
      "Average cross-validation score: 0.7782243551289741\n"
     ]
    }
   ],
   "source": [
    "cv_scores = cross_val_score(gcv_knn, X_train_scaled, y_train, cv=3, scoring='accuracy')\n",
    "\n",
    "print('Cross-validation scores:{}'.format(cv_scores))\n",
    "print('Average cross-validation score: {}'.format(cv_scores.mean()))"
   ]
  },
  {
   "cell_type": "markdown",
   "id": "JTxpXMPi-2XQ",
   "metadata": {
    "id": "JTxpXMPi-2XQ"
   },
   "source": [
    "- Le score de la méthode KNN est en moyenne de : 0.78."
   ]
  },
  {
   "cell_type": "code",
   "execution_count": 46,
   "id": "b28df8cc",
   "metadata": {},
   "outputs": [],
   "source": [
    "# sauvegarde des scores dans un fichier de sortie\n",
    "pd.DataFrame([f1_score(y_test, y_pred), recall_score(y_test, y_pred), precision_score(y_test, y_pred)],\n",
    "             index=['f1','recall','precision'], \n",
    "             columns=['scores_clf_knn_' + param_ru]).to_csv('scores/scores_clf_knn_' + param_ru + '.csv')"
   ]
  },
  {
   "cell_type": "code",
   "execution_count": 47,
   "id": "dSMrlZzER_sQ",
   "metadata": {
    "id": "dSMrlZzER_sQ"
   },
   "outputs": [],
   "source": [
    "# scores de 3 modèles utilisant respectivement les matrices de Minkowski, Manhattan et Chebyshev pour des valeurs de k allant de 1 à 40\n",
    "# temps de calcul : ~ 12 min.\n",
    "score_minko = []\n",
    "score_man = []\n",
    "score_cheb = []\n",
    "\n",
    "for k in range(1,41):\n",
    "  knn = neighbors.KNeighborsClassifier(n_neighbors=k)\n",
    "  knn.fit(X_train_scaled, y_train)\n",
    "  score_minko.append(knn.score(X_test_scaled, y_test))\n",
    "\n",
    "for k in range(1,41):\n",
    "  knn = neighbors.KNeighborsClassifier(n_neighbors=k, metric='manhattan')\n",
    "  knn.fit(X_train_scaled, y_train)\n",
    "  score_man.append(knn.score(X_test_scaled, y_test))\n",
    "\n",
    "for k in range(1,41):\n",
    "  knn = neighbors.KNeighborsClassifier(n_neighbors=k, metric='chebyshev')\n",
    "  knn.fit(X_train_scaled, y_train)\n",
    "  score_cheb.append(knn.score(X_test_scaled, y_test))"
   ]
  },
  {
   "cell_type": "code",
   "execution_count": 48,
   "id": "CHFcUJ5ySCUT",
   "metadata": {
    "colab": {
     "base_uri": "https://localhost:8080/",
     "height": 295
    },
    "id": "CHFcUJ5ySCUT",
    "outputId": "e2a699f5-a24f-48f8-828e-a76164203875"
   },
   "outputs": [
    {
     "data": {
      "image/png": "[encoded data removed]",
      "text/plain": [
       "<Figure size 432x288 with 1 Axes>"
      ]
     },
     "metadata": {
      "needs_background": "light"
     },
     "output_type": "display_data"
    }
   ],
   "source": [
    "# affichage des listes crées en fonction de k\n",
    "plt.title(\"Score de 3 modèles knn\")\n",
    "plt.plot(range(1,41), score_minko, color='blue', linestyle='dashed', lw=2, label='Minkowski')\n",
    "plt.plot(range(1,41), score_man, color='orange', linestyle='dashed', lw=2, label='Manhattan')\n",
    "plt.plot(range(1,41), score_cheb, color='red', linestyle='dashed', lw=2, label='Chebyshev')\n",
    "plt.xlabel(\"Valeur de k\")\n",
    "plt.ylabel(\"Accuracy\")\n",
    "plt.legend;"
   ]
  },
  {
   "cell_type": "markdown",
   "id": "8jpipwx96O3Q",
   "metadata": {
    "id": "8jpipwx96O3Q"
   },
   "source": [
    "## Arbres de décision"
   ]
  },
  {
   "cell_type": "code",
   "execution_count": 49,
   "id": "MjOc31sx6TDx",
   "metadata": {
    "id": "MjOc31sx6TDx"
   },
   "outputs": [],
   "source": [
    "# définition du modèle\n",
    "clf_dt = DecisionTreeClassifier()\n",
    "\n",
    "param_grid_dt = {'criterion' : ['entropy','gini'], \n",
    "                 'max_depth' : np.arange(2,6,1)}\n",
    "\n",
    "gcv_dt = GridSearchCV(clf_dt, param_grid_dt)"
   ]
  },
  {
   "cell_type": "code",
   "execution_count": 50,
   "id": "bCbiJ2kk6WsH",
   "metadata": {
    "colab": {
     "base_uri": "https://localhost:8080/"
    },
    "id": "bCbiJ2kk6WsH",
    "outputId": "45ba2563-9a27-4290-e6ad-60310bf58088"
   },
   "outputs": [
    {
     "name": "stdout",
     "output_type": "stream",
     "text": [
      "Meilleurs paramètres : {'criterion': 'entropy', 'max_depth': 5} \n",
      "\n",
      "Accuracy Score: 0.7727111300518503 \n",
      "\n",
      "Train Data Score: 0.7601079784043191\n",
      "Test Data Score: 0.7727111300518503\n",
      "\n",
      " Matrice de confusion:\n",
      "\n",
      " Prédictions      0     1\n",
      "Réalités                \n",
      "0            17218  4744\n",
      "1             1656  4540\n",
      "              precision    recall  f1-score   support\n",
      "\n",
      "           0       0.91      0.78      0.84     21962\n",
      "           1       0.49      0.73      0.59      6196\n",
      "\n",
      "    accuracy                           0.77     28158\n",
      "   macro avg       0.70      0.76      0.71     28158\n",
      "weighted avg       0.82      0.77      0.79     28158\n",
      "\n",
      "Running Time: 0:00:02.275700\n"
     ]
    }
   ],
   "source": [
    "start_time = time.time()\n",
    "\n",
    "# entraînement\n",
    "gcv_dt.fit(X_train_scaled, y_train)\n",
    "\n",
    "# prédiction\n",
    "y_pred = gcv_dt.predict(X_test_scaled)\n",
    "\n",
    "# détermination des meilleurs paramètres\n",
    "print('Meilleurs paramètres :', gcv_dt.best_params_,\"\\n\")\n",
    "\n",
    "# évaluation de la performance\n",
    "print('Accuracy Score: {}'.format(accuracy_score(y_test,y_pred)),'\\n')\n",
    "\n",
    "# underfitting / overfitting\n",
    "print('Train Data Score: {}'.format(gcv_dt.score(X_train_scaled,y_train)))\n",
    "print('Test Data Score: {}'.format(gcv_dt.score(X_test_scaled,y_test)))\n",
    "\n",
    "# matrice de confusion\n",
    "print('\\n Matrice de confusion:')\n",
    "print('\\n', pd.crosstab(y_test, y_pred, rownames=['Réalités'], colnames=['Prédictions']))\n",
    "\n",
    "# rapport de classification\n",
    "print(classification_report(y_test, y_pred))\n",
    "\n",
    "# durée d'exécution\n",
    "gaussian_time = (time.time() - start_time)\n",
    "print(\"Running Time: %s\" % datetime.timedelta(seconds=gaussian_time))"
   ]
  },
  {
   "cell_type": "markdown",
   "id": "VanYBqYU6bRi",
   "metadata": {
    "id": "VanYBqYU6bRi"
   },
   "source": [
    "- la méthode des arbres de décision ne fait pas l'objet de sur-apprentissage.\n",
    "- la sensibilité (taux de vrais positifs) vaut 0.73.\n",
    "- la spécificité (taux de vrais négatifs) vaut 0.78.\n",
    "- le F1-score concernant la classe '0' de la variable 'RainTomorrow' est bon (0.84).\n",
    "- le F1-score concernant la classe '1' de la variable 'RainTomorrow' est faible (0.59)."
   ]
  },
  {
   "cell_type": "code",
   "execution_count": 51,
   "id": "ZUQ8697r8LVn",
   "metadata": {
    "colab": {
     "base_uri": "https://localhost:8080/",
     "height": 300
    },
    "id": "ZUQ8697r8LVn",
    "outputId": "7ae50112-d590-4c1f-b52e-a7c3e8bd8f74"
   },
   "outputs": [
    {
     "data": {
      "text/html": [
       "<div>\n",
       "<style scoped>\n",
       "    .dataframe tbody tr th:only-of-type {\n",
       "        vertical-align: middle;\n",
       "    }\n",
       "\n",
       "    .dataframe tbody tr th {\n",
       "        vertical-align: top;\n",
       "    }\n",
       "\n",
       "    .dataframe thead th {\n",
       "        text-align: right;\n",
       "    }\n",
       "</style>\n",
       "<table border=\"1\" class=\"dataframe\">\n",
       "  <thead>\n",
       "    <tr style=\"text-align: right;\">\n",
       "      <th></th>\n",
       "      <th>Importance</th>\n",
       "    </tr>\n",
       "  </thead>\n",
       "  <tbody>\n",
       "    <tr>\n",
       "      <th>Humidity3pm</th>\n",
       "      <td>0.661755</td>\n",
       "    </tr>\n",
       "    <tr>\n",
       "      <th>Sunshine</th>\n",
       "      <td>0.138992</td>\n",
       "    </tr>\n",
       "    <tr>\n",
       "      <th>WindGustSpeed</th>\n",
       "      <td>0.081032</td>\n",
       "    </tr>\n",
       "    <tr>\n",
       "      <th>Pressure9am</th>\n",
       "      <td>0.071098</td>\n",
       "    </tr>\n",
       "    <tr>\n",
       "      <th>Rainfall</th>\n",
       "      <td>0.036070</td>\n",
       "    </tr>\n",
       "    <tr>\n",
       "      <th>Temp_Delta_MinMax</th>\n",
       "      <td>0.005014</td>\n",
       "    </tr>\n",
       "    <tr>\n",
       "      <th>Humidity_Delta</th>\n",
       "      <td>0.003218</td>\n",
       "    </tr>\n",
       "    <tr>\n",
       "      <th>Temp3pm</th>\n",
       "      <td>0.002498</td>\n",
       "    </tr>\n",
       "  </tbody>\n",
       "</table>\n",
       "</div>"
      ],
      "text/plain": [
       "                   Importance\n",
       "Humidity3pm          0.661755\n",
       "Sunshine             0.138992\n",
       "WindGustSpeed        0.081032\n",
       "Pressure9am          0.071098\n",
       "Rainfall             0.036070\n",
       "Temp_Delta_MinMax    0.005014\n",
       "Humidity_Delta       0.003218\n",
       "Temp3pm              0.002498"
      ]
     },
     "execution_count": 51,
     "metadata": {},
     "output_type": "execute_result"
    }
   ],
   "source": [
    "# importance des variables\n",
    "clf_dt = gcv_dt.best_estimator_\n",
    "clf_dt.fit(X_train_scaled,y_train)\n",
    "\n",
    "feats = {}\n",
    "for feature, importance in zip(df.columns, clf_dt.feature_importances_):\n",
    "    feats[feature] = importance\n",
    "    \n",
    "importances = pd.DataFrame.from_dict(feats, orient='index').rename(columns={0:'Importance'})\n",
    "importances.sort_values(by='Importance', ascending=False).head(8)"
   ]
  },
  {
   "cell_type": "code",
   "execution_count": 52,
   "id": "V4EMokWZ8NST",
   "metadata": {
    "colab": {
     "base_uri": "https://localhost:8080/",
     "height": 265
    },
    "id": "V4EMokWZ8NST",
    "outputId": "08ea8e0a-8ade-4283-fdf1-0d536d134119"
   },
   "outputs": [
    {
     "data": {
      "image/png": "[encoded data removed]",
      "text/plain": [
       "<Figure size 432x288 with 1 Axes>"
      ]
     },
     "metadata": {
      "needs_background": "light"
     },
     "output_type": "display_data"
    }
   ],
   "source": [
    "# importance des variables\n",
    "feature_imp = pd.Series(clf_dt.feature_importances_,index=data.columns)\n",
    "feature_imp.nlargest(10).plot(kind='barh');"
   ]
  },
  {
   "cell_type": "code",
   "execution_count": 53,
   "id": "epwSZJbF9btR",
   "metadata": {
    "colab": {
     "base_uri": "https://localhost:8080/"
    },
    "id": "epwSZJbF9btR",
    "outputId": "9ecd2a77-483e-474c-bec1-93473a93cbcd"
   },
   "outputs": [
    {
     "name": "stdout",
     "output_type": "stream",
     "text": [
      "Cross-validation scores:[0.75476905 0.75302939 0.75476905]\n",
      "Average cross-validation score: 0.7541891621675664\n"
     ]
    }
   ],
   "source": [
    "cv_scores = cross_val_score(gcv_dt, X_train_scaled, y_train, cv=3, scoring='accuracy')\n",
    "\n",
    "print('Cross-validation scores:{}'.format(cv_scores))\n",
    "print('Average cross-validation score: {}'.format(cv_scores.mean()))"
   ]
  },
  {
   "cell_type": "markdown",
   "id": "RCRvkS5I-3Dy",
   "metadata": {
    "id": "RCRvkS5I-3Dy"
   },
   "source": [
    "- Le score de la méthode DT est en moyenne de : 0.76."
   ]
  },
  {
   "cell_type": "code",
   "execution_count": 54,
   "id": "9126b83b",
   "metadata": {},
   "outputs": [],
   "source": [
    "# sauvegarde des scores dans un fichier de sortie\n",
    "pd.DataFrame([f1_score(y_test, y_pred), recall_score(y_test, y_pred), precision_score(y_test, y_pred)],\n",
    "             index=['f1','recall','precision'], \n",
    "             columns=['scores_clf_dt_' + param_ru]).to_csv('scores/scores_clf_dt_' + param_ru + '.csv')"
   ]
  },
  {
   "cell_type": "markdown",
   "id": "Ru7wQG31lYmQ",
   "metadata": {
    "id": "Ru7wQG31lYmQ"
   },
   "source": [
    "# Résumé des performances"
   ]
  },
  {
   "cell_type": "code",
   "execution_count": 56,
   "id": "407bfbaf",
   "metadata": {},
   "outputs": [],
   "source": [
    "scores_clf_dt_under_sample = pd.read_csv('scores/scores_clf_dt_under_sample.csv', index_col=0)\n",
    "scores_clf_knn_under_sample = pd.read_csv('scores/scores_clf_knn_under_sample.csv', index_col=0)\n",
    "scores_clf_svm_under_sample = pd.read_csv('scores/scores_clf_svm_under_sample.csv', index_col=0)\n",
    "scores_clf_rf_under_sample = pd.read_csv('scores/scores_clf_rf_under_sample.csv', index_col=0)\n",
    "scores_clf_lr_under_sample = pd.read_csv('scores/scores_clf_lr_under_sample.csv', index_col=0)"
   ]
  },
  {
   "cell_type": "code",
   "execution_count": 57,
   "id": "d0afd9ff",
   "metadata": {},
   "outputs": [],
   "source": [
    "result_under_sample = pd.concat([scores_clf_dt_under_sample, scores_clf_knn_under_sample, scores_clf_svm_under_sample,\n",
    "                    scores_clf_rf_under_sample, scores_clf_lr_under_sample], axis=1)"
   ]
  },
  {
   "cell_type": "code",
   "execution_count": 58,
   "id": "7f047657",
   "metadata": {},
   "outputs": [
    {
     "data": {
      "text/html": [
       "<div>\n",
       "<style scoped>\n",
       "    .dataframe tbody tr th:only-of-type {\n",
       "        vertical-align: middle;\n",
       "    }\n",
       "\n",
       "    .dataframe tbody tr th {\n",
       "        vertical-align: top;\n",
       "    }\n",
       "\n",
       "    .dataframe thead th {\n",
       "        text-align: right;\n",
       "    }\n",
       "</style>\n",
       "<table border=\"1\" class=\"dataframe\">\n",
       "  <thead>\n",
       "    <tr style=\"text-align: right;\">\n",
       "      <th></th>\n",
       "      <th>scores_clf_dt_under_sample</th>\n",
       "      <th>scores_clf_knn_under_sample</th>\n",
       "      <th>scores_clf_svm_under_sample</th>\n",
       "      <th>scores_clf_rf_under_sample</th>\n",
       "      <th>scores_clf_lr_under_sample</th>\n",
       "    </tr>\n",
       "  </thead>\n",
       "  <tbody>\n",
       "    <tr>\n",
       "      <th>f1</th>\n",
       "      <td>0.586563</td>\n",
       "      <td>0.617278</td>\n",
       "      <td>0.627277</td>\n",
       "      <td>0.625517</td>\n",
       "      <td>0.604187</td>\n",
       "    </tr>\n",
       "    <tr>\n",
       "      <th>recall</th>\n",
       "      <td>0.732731</td>\n",
       "      <td>0.773241</td>\n",
       "      <td>0.777921</td>\n",
       "      <td>0.781795</td>\n",
       "      <td>0.766301</td>\n",
       "    </tr>\n",
       "    <tr>\n",
       "      <th>precision</th>\n",
       "      <td>0.489013</td>\n",
       "      <td>0.513670</td>\n",
       "      <td>0.525512</td>\n",
       "      <td>0.521309</td>\n",
       "      <td>0.498687</td>\n",
       "    </tr>\n",
       "  </tbody>\n",
       "</table>\n",
       "</div>"
      ],
      "text/plain": [
       "           scores_clf_dt_under_sample  scores_clf_knn_under_sample  \\\n",
       "f1                           0.586563                     0.617278   \n",
       "recall                       0.732731                     0.773241   \n",
       "precision                    0.489013                     0.513670   \n",
       "\n",
       "           scores_clf_svm_under_sample  scores_clf_rf_under_sample  \\\n",
       "f1                            0.627277                    0.625517   \n",
       "recall                        0.777921                    0.781795   \n",
       "precision                     0.525512                    0.521309   \n",
       "\n",
       "           scores_clf_lr_under_sample  \n",
       "f1                           0.604187  \n",
       "recall                       0.766301  \n",
       "precision                    0.498687  "
      ]
     },
     "execution_count": 58,
     "metadata": {},
     "output_type": "execute_result"
    }
   ],
   "source": [
    "result_under_sample"
   ]
  },
  {
   "cell_type": "code",
   "execution_count": null,
   "id": "11f370ea",
   "metadata": {},
   "outputs": [],
   "source": []
  }
 ],
 "metadata": {
  "colab": {
   "collapsed_sections": [
    "uWfmqoPvIcAJ",
    "7cgssDKFKwJt",
    "KBG3Oj9wLm3n",
    "T0UkvrmRa8FF",
    "ThpQoKaXo-uE",
    "V2xWPtqopDmU",
    "YvGvgSWFqS-b",
    "9de277aa",
    "9mJr-YJRueyJ",
    "ci-XSrHBu6RL",
    "5gGeDEOOvAkp",
    "P-arQbY85ND-",
    "8jpipwx96O3Q",
    "Ru7wQG31lYmQ"
   ],
   "name": "common_pyAusRainfall_modelisation2.ipynb",
   "provenance": []
  },
  "kernelspec": {
   "display_name": "Python 3 (ipykernel)",
   "language": "python",
   "name": "python3"
  },
  "language_info": {
   "codemirror_mode": {
    "name": "ipython",
    "version": 3
   },
   "file_extension": ".py",
   "mimetype": "text/x-python",
   "name": "python",
   "nbconvert_exporter": "python",
   "pygments_lexer": "ipython3",
   "version": "3.9.7"
  }
 },
 "nbformat": 4,
 "nbformat_minor": 5
}
