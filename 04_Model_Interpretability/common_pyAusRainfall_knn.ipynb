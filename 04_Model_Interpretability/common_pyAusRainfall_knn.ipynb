{
 "cells": [
  {
   "cell_type": "markdown",
   "id": "uWfmqoPvIcAJ",
   "metadata": {
    "id": "uWfmqoPvIcAJ"
   },
   "source": [
    "# Prévisions météorologiques en Australie"
   ]
  },
  {
   "cell_type": "markdown",
   "id": "827e90a5",
   "metadata": {},
   "source": [
    "# Modélisation avec étape de ré-échantillonage"
   ]
  },
  {
   "cell_type": "markdown",
   "id": "NJN5xGP7CUc_",
   "metadata": {
    "id": "NJN5xGP7CUc_"
   },
   "source": [
    "# Récupération des librairies"
   ]
  },
  {
   "cell_type": "code",
   "execution_count": 1,
   "id": "4d661310",
   "metadata": {},
   "outputs": [],
   "source": [
    "# récupération du package skater\n",
    "# SUR UN TERMINAL: \"conda install -c conda-forge Skater\""
   ]
  },
  {
   "cell_type": "code",
   "execution_count": 2,
   "id": "f4606b03",
   "metadata": {},
   "outputs": [
    {
     "name": "stdout",
     "output_type": "stream",
     "text": [
      "Requirement already satisfied: imblearn in c:\\users\\jo.charles\\anaconda3\\lib\\site-packages (0.0)\n",
      "Requirement already satisfied: imbalanced-learn in c:\\users\\jo.charles\\anaconda3\\lib\\site-packages (from imblearn) (0.9.1)\n",
      "Requirement already satisfied: numpy>=1.17.3 in c:\\users\\jo.charles\\anaconda3\\lib\\site-packages (from imbalanced-learn->imblearn) (1.21.5)\n",
      "Requirement already satisfied: scipy>=1.3.2 in c:\\users\\jo.charles\\anaconda3\\lib\\site-packages (from imbalanced-learn->imblearn) (1.9.1)\n",
      "Requirement already satisfied: threadpoolctl>=2.0.0 in c:\\users\\jo.charles\\anaconda3\\lib\\site-packages (from imbalanced-learn->imblearn) (2.2.0)\n",
      "Requirement already satisfied: scikit-learn>=1.1.0 in c:\\users\\jo.charles\\anaconda3\\lib\\site-packages (from imbalanced-learn->imblearn) (1.1.3)\n",
      "Requirement already satisfied: joblib>=1.0.0 in c:\\users\\jo.charles\\anaconda3\\lib\\site-packages (from imbalanced-learn->imblearn) (1.2.0)\n"
     ]
    }
   ],
   "source": [
    "# récupération du package imblearn\n",
    "!pip install --upgrade imblearn"
   ]
  },
  {
   "cell_type": "code",
   "execution_count": 3,
   "id": "db07acc9",
   "metadata": {
    "id": "db07acc9"
   },
   "outputs": [],
   "source": [
    "# récupération des librairies\n",
    "%matplotlib inline\n",
    "import matplotlib.pyplot as plt\n",
    "import numpy as np\n",
    "import pandas as pd\n",
    "import time, datetime\n",
    "import warnings\n",
    "warnings.filterwarnings(\"ignore\")\n",
    "\n",
    "from skater.core.explanations import Interpretation\n",
    "from sklearn import neighbors\n",
    "from sklearn.impute import KNNImputer\n",
    "from sklearn.metrics import classification_report, accuracy_score\n",
    "from skater.model import InMemoryModel\n",
    "from sklearn.model_selection import GridSearchCV, train_test_split\n",
    "from sklearn.preprocessing import StandardScaler\n",
    "\n",
    "from imblearn.under_sampling import RandomUnderSampler"
   ]
  },
  {
   "cell_type": "markdown",
   "id": "9de277aa",
   "metadata": {
    "id": "9de277aa"
   },
   "source": [
    "# Modèle de classification par apprentissage supervisé"
   ]
  },
  {
   "cell_type": "markdown",
   "id": "08b36bee",
   "metadata": {},
   "source": [
    "### Préparation du jeu de données et paramètrage"
   ]
  },
  {
   "cell_type": "code",
   "execution_count": 4,
   "id": "lD16-9ECM9nT",
   "metadata": {
    "colab": {
     "base_uri": "https://localhost:8080/",
     "height": 206
    },
    "id": "lD16-9ECM9nT",
    "outputId": "66f7f93c-00bd-4ca8-a9d2-0cb128201dae"
   },
   "outputs": [
    {
     "data": {
      "text/html": [
       "<div>\n",
       "<style scoped>\n",
       "    .dataframe tbody tr th:only-of-type {\n",
       "        vertical-align: middle;\n",
       "    }\n",
       "\n",
       "    .dataframe tbody tr th {\n",
       "        vertical-align: top;\n",
       "    }\n",
       "\n",
       "    .dataframe thead th {\n",
       "        text-align: right;\n",
       "    }\n",
       "</style>\n",
       "<table border=\"1\" class=\"dataframe\">\n",
       "  <thead>\n",
       "    <tr style=\"text-align: right;\">\n",
       "      <th></th>\n",
       "      <th>Rainfall</th>\n",
       "      <th>Sunshine</th>\n",
       "      <th>WindGustSpeed</th>\n",
       "      <th>Humidity3pm</th>\n",
       "      <th>Pressure9am</th>\n",
       "      <th>Cloud3pm</th>\n",
       "      <th>Temp3pm</th>\n",
       "      <th>Temp_Delta_MinMax</th>\n",
       "      <th>Humidity_Delta</th>\n",
       "      <th>clim_chaud_humide</th>\n",
       "      <th>clim_méditerranéen</th>\n",
       "      <th>clim_sec</th>\n",
       "      <th>clim_tempéré_froid</th>\n",
       "      <th>RainTomorrow</th>\n",
       "    </tr>\n",
       "  </thead>\n",
       "  <tbody>\n",
       "    <tr>\n",
       "      <th>0</th>\n",
       "      <td>0.6</td>\n",
       "      <td>4.94000</td>\n",
       "      <td>44.0</td>\n",
       "      <td>22.0</td>\n",
       "      <td>1007.7</td>\n",
       "      <td>7.40000</td>\n",
       "      <td>21.8</td>\n",
       "      <td>9.5</td>\n",
       "      <td>-49.0</td>\n",
       "      <td>1</td>\n",
       "      <td>0</td>\n",
       "      <td>0</td>\n",
       "      <td>0</td>\n",
       "      <td>0</td>\n",
       "    </tr>\n",
       "    <tr>\n",
       "      <th>1</th>\n",
       "      <td>0.0</td>\n",
       "      <td>7.63054</td>\n",
       "      <td>44.0</td>\n",
       "      <td>25.0</td>\n",
       "      <td>1010.6</td>\n",
       "      <td>4.49925</td>\n",
       "      <td>24.3</td>\n",
       "      <td>17.7</td>\n",
       "      <td>-19.0</td>\n",
       "      <td>1</td>\n",
       "      <td>0</td>\n",
       "      <td>0</td>\n",
       "      <td>0</td>\n",
       "      <td>0</td>\n",
       "    </tr>\n",
       "    <tr>\n",
       "      <th>2</th>\n",
       "      <td>0.0</td>\n",
       "      <td>7.96000</td>\n",
       "      <td>46.0</td>\n",
       "      <td>30.0</td>\n",
       "      <td>1007.6</td>\n",
       "      <td>2.00000</td>\n",
       "      <td>23.2</td>\n",
       "      <td>12.8</td>\n",
       "      <td>-8.0</td>\n",
       "      <td>1</td>\n",
       "      <td>0</td>\n",
       "      <td>0</td>\n",
       "      <td>0</td>\n",
       "      <td>0</td>\n",
       "    </tr>\n",
       "    <tr>\n",
       "      <th>3</th>\n",
       "      <td>0.0</td>\n",
       "      <td>7.63054</td>\n",
       "      <td>24.0</td>\n",
       "      <td>16.0</td>\n",
       "      <td>1017.6</td>\n",
       "      <td>4.49925</td>\n",
       "      <td>26.5</td>\n",
       "      <td>18.8</td>\n",
       "      <td>-29.0</td>\n",
       "      <td>1</td>\n",
       "      <td>0</td>\n",
       "      <td>0</td>\n",
       "      <td>0</td>\n",
       "      <td>0</td>\n",
       "    </tr>\n",
       "    <tr>\n",
       "      <th>4</th>\n",
       "      <td>1.0</td>\n",
       "      <td>0.90000</td>\n",
       "      <td>41.0</td>\n",
       "      <td>33.0</td>\n",
       "      <td>1010.8</td>\n",
       "      <td>8.00000</td>\n",
       "      <td>29.7</td>\n",
       "      <td>14.8</td>\n",
       "      <td>-49.0</td>\n",
       "      <td>1</td>\n",
       "      <td>0</td>\n",
       "      <td>0</td>\n",
       "      <td>0</td>\n",
       "      <td>0</td>\n",
       "    </tr>\n",
       "  </tbody>\n",
       "</table>\n",
       "</div>"
      ],
      "text/plain": [
       "   Rainfall  Sunshine  WindGustSpeed  Humidity3pm  Pressure9am  Cloud3pm  \\\n",
       "0       0.6   4.94000           44.0         22.0       1007.7   7.40000   \n",
       "1       0.0   7.63054           44.0         25.0       1010.6   4.49925   \n",
       "2       0.0   7.96000           46.0         30.0       1007.6   2.00000   \n",
       "3       0.0   7.63054           24.0         16.0       1017.6   4.49925   \n",
       "4       1.0   0.90000           41.0         33.0       1010.8   8.00000   \n",
       "\n",
       "   Temp3pm  Temp_Delta_MinMax  Humidity_Delta  clim_chaud_humide  \\\n",
       "0     21.8                9.5           -49.0                  1   \n",
       "1     24.3               17.7           -19.0                  1   \n",
       "2     23.2               12.8            -8.0                  1   \n",
       "3     26.5               18.8           -29.0                  1   \n",
       "4     29.7               14.8           -49.0                  1   \n",
       "\n",
       "   clim_méditerranéen  clim_sec  clim_tempéré_froid  RainTomorrow  \n",
       "0                   0         0                   0             0  \n",
       "1                   0         0                   0             0  \n",
       "2                   0         0                   0             0  \n",
       "3                   0         0                   0             0  \n",
       "4                   0         0                   0             0  "
      ]
     },
     "execution_count": 4,
     "metadata": {},
     "output_type": "execute_result"
    }
   ],
   "source": [
    "# récuperation et aperçu du jeu de données après prétraitement des données, après l'étape de classification des villes \n",
    "# en fonction du climat et après sélection des variables les plus pertinentes selon la méthode SelectKBest()\n",
    "df = pd.read_csv('../data/weatherAUS_preprocessed.csv', index_col=0)\n",
    "df.head()"
   ]
  },
  {
   "cell_type": "code",
   "execution_count": 5,
   "id": "1a697ea1",
   "metadata": {
    "id": "1a697ea1"
   },
   "outputs": [],
   "source": [
    "# séparation des données en une matrice de données et en un vecteur cible\n",
    "data = df.drop('RainTomorrow', axis=1)\n",
    "target = df['RainTomorrow']"
   ]
  },
  {
   "cell_type": "code",
   "execution_count": 6,
   "id": "5b04edc6",
   "metadata": {
    "id": "5b04edc6"
   },
   "outputs": [],
   "source": [
    "# division des données en un ensemble d'entraînement et un ensemble de test correspondant respectivement \n",
    "# à 80% et 20% de la quantité totale des données disponibles\n",
    "X_train, X_test, y_train, y_test = train_test_split(data, target, test_size=0.2, random_state=123)"
   ]
  },
  {
   "cell_type": "code",
   "execution_count": 7,
   "id": "13b41857",
   "metadata": {
    "colab": {
     "base_uri": "https://localhost:8080/"
    },
    "id": "13b41857",
    "outputId": "0f6a000e-7b8b-4199-ded6-218bc47a994b"
   },
   "outputs": [],
   "source": [
    "# undersampling des données\n",
    "rUs = RandomUnderSampler()\n",
    "X_train, y_train = rUs.fit_resample(X_train, y_train)"
   ]
  },
  {
   "cell_type": "code",
   "execution_count": 8,
   "id": "72c7c0b6",
   "metadata": {},
   "outputs": [
    {
     "name": "stdout",
     "output_type": "stream",
     "text": [
      "Cardinalité des classes de la variable cible ré-échantillonnée: {0: 25005, 1: 25005}\n"
     ]
    }
   ],
   "source": [
    "# distribution de la variable cible ré-échantillonnée dans l'ensemble d'entraînement\n",
    "print(\"Cardinalité des classes de la variable cible ré-échantillonnée:\", dict(pd.Series(y_train).value_counts()))"
   ]
  },
  {
   "cell_type": "code",
   "execution_count": 9,
   "id": "642c138a",
   "metadata": {},
   "outputs": [
    {
     "data": {
      "text/plain": [
       "0    0.5\n",
       "1    0.5\n",
       "Name: RainTomorrow, dtype: float64"
      ]
     },
     "execution_count": 9,
     "metadata": {},
     "output_type": "execute_result"
    }
   ],
   "source": [
    "# distribution de la variable cible ré-échantillonnée dans l'ensemble d'entraînement\n",
    "y_train.value_counts(normalize=True)"
   ]
  },
  {
   "cell_type": "code",
   "execution_count": 10,
   "id": "63e95e16",
   "metadata": {},
   "outputs": [
    {
     "name": "stdout",
     "output_type": "stream",
     "text": [
      "Cardinalité des classes de la variable cible dans l'ensemble de test: {0: 21962, 1: 6196}\n"
     ]
    }
   ],
   "source": [
    "# distribution de la variable cible dans l'ensemble de test\n",
    "print(\"Cardinalité des classes de la variable cible dans l'ensemble de test:\", \n",
    "      dict(pd.Series(y_test).value_counts()))"
   ]
  },
  {
   "cell_type": "code",
   "execution_count": 11,
   "id": "fd90f4cd",
   "metadata": {},
   "outputs": [
    {
     "data": {
      "text/plain": [
       "0    0.779956\n",
       "1    0.220044\n",
       "Name: RainTomorrow, dtype: float64"
      ]
     },
     "execution_count": 11,
     "metadata": {},
     "output_type": "execute_result"
    }
   ],
   "source": [
    "# distribution de la variable cible dans l'ensemble de test\n",
    "y_test.value_counts(normalize=True)"
   ]
  },
  {
   "cell_type": "code",
   "execution_count": 12,
   "id": "06b700ea",
   "metadata": {
    "id": "06b700ea"
   },
   "outputs": [],
   "source": [
    "# standardisation des données\n",
    "scaler = StandardScaler()\n",
    "\n",
    "X_train_scaled = scaler.fit_transform(X_train)\n",
    "X_test_scaled = scaler.transform(X_test)"
   ]
  },
  {
   "cell_type": "code",
   "execution_count": 13,
   "id": "f6417aa4",
   "metadata": {},
   "outputs": [],
   "source": [
    "# paramètre à initialiser pour définir la règle d'évaluation des modèles\n",
    "scoring = 'accuracy' # considéré dans le cadre de cette étude\n",
    "# scoring = 'f1'"
   ]
  },
  {
   "cell_type": "markdown",
   "id": "P-arQbY85ND-",
   "metadata": {
    "id": "P-arQbY85ND-"
   },
   "source": [
    "### K-plus proches voisins"
   ]
  },
  {
   "cell_type": "code",
   "execution_count": 14,
   "id": "DBnDWLC85Wv7",
   "metadata": {
    "id": "DBnDWLC85Wv7"
   },
   "outputs": [],
   "source": [
    "# définition du modèle\n",
    "clf_knn = neighbors.KNeighborsClassifier()\n",
    "\n",
    "param_grid_knn = {'n_neighbors' : np.arange(20,41,1), \n",
    "                  'metric' : ['minkowski','manhattan','chebyshev']}\n",
    "\n",
    "gcv_knn = GridSearchCV(clf_knn, param_grid_knn, scoring=scoring)"
   ]
  },
  {
   "cell_type": "code",
   "execution_count": 15,
   "id": "Rzfrg5uy5OWB",
   "metadata": {
    "colab": {
     "base_uri": "https://localhost:8080/"
    },
    "id": "Rzfrg5uy5OWB",
    "outputId": "9b362a73-9159-41ed-b2c2-0e45d75c0902"
   },
   "outputs": [
    {
     "name": "stdout",
     "output_type": "stream",
     "text": [
      "Meilleurs paramètres: {'metric': 'manhattan', 'n_neighbors': 31} \n",
      "\n",
      "Accuracy Score: 0.7925278784004546 \n",
      "\n",
      "Train Data Score: 0.7935412917416517\n",
      "Test Data Score: 0.7925278784004546\n",
      "\n",
      " Matrice de confusion:\n",
      "\n",
      " Prédictions      0     1\n",
      "Réalités                \n",
      "0            17522  4440\n",
      "1             1402  4794\n",
      "\n",
      "               precision    recall  f1-score   support\n",
      "\n",
      "           0       0.93      0.80      0.86     21962\n",
      "           1       0.52      0.77      0.62      6196\n",
      "\n",
      "    accuracy                           0.79     28158\n",
      "   macro avg       0.72      0.79      0.74     28158\n",
      "weighted avg       0.84      0.79      0.81     28158\n",
      "\n",
      "Running Time: 0:18:30.371746\n"
     ]
    }
   ],
   "source": [
    "start_time = time.time()\n",
    "\n",
    "# entraînement du modèle\n",
    "gcv_knn.fit(X_train_scaled, y_train)\n",
    "\n",
    "# prédiction du modèle\n",
    "y_pred = gcv_knn.predict(X_test_scaled)\n",
    "\n",
    "# détermination des meilleurs paramètres\n",
    "print('Meilleurs paramètres:', gcv_knn.best_params_,\"\\n\")\n",
    "\n",
    "# évaluation de la performance\n",
    "print('Accuracy Score: {}'.format(accuracy_score(y_test, y_pred)),'\\n')\n",
    "\n",
    "# underfitting / overfitting\n",
    "print('Train Data Score: {}'.format(gcv_knn.score(X_train_scaled, y_train)))\n",
    "print('Test Data Score: {}'.format(gcv_knn.score(X_test_scaled, y_test)))\n",
    "\n",
    "# matrice de confusion\n",
    "print('\\n Matrice de confusion:')\n",
    "print('\\n', pd.crosstab(y_test, y_pred, rownames=['Réalités'], colnames=['Prédictions']))\n",
    "\n",
    "# rapport de classification\n",
    "print('\\n', classification_report(y_test, y_pred))\n",
    "\n",
    "# durée d'exécution\n",
    "gaussian_time = (time.time() - start_time)\n",
    "print(\"Running Time: %s\" % datetime.timedelta(seconds=gaussian_time))"
   ]
  },
  {
   "cell_type": "markdown",
   "id": "0WAfCK7T6MwP",
   "metadata": {
    "id": "0WAfCK7T6MwP"
   },
   "source": [
    "- la méthode des K-plus proches voisins **ne fait pas l'objet de sur-apprentissage** (score par défaut de la méthode).\n",
    "- la sensibilité (taux de vrais positifs) vaut 0.77.\n",
    "- la spécificité (taux de vrais négatifs) vaut 0.80.\n",
    "- le F1-score concernant la classe '0' de la variable 'RainTomorrow' est bon (0.86).\n",
    "- le F1-score concernant la classe '1' de la variable 'RainTomorrow' est faible (0.62).\n",
    "\n",
    "La classe '1' est caractérisée par une précision très faible, ce qui signifie que la classe n'est quasiment pas détectée, et un rappel élevé, ce qui signifie que la classe inclut peu d'observations d'autres classes lorsqu'elle est détectée."
   ]
  },
  {
   "cell_type": "markdown",
   "id": "ef157141",
   "metadata": {},
   "source": [
    "### Interprétation du modèle avec Skater"
   ]
  },
  {
   "cell_type": "code",
   "execution_count": 16,
   "id": "0be23239",
   "metadata": {},
   "outputs": [],
   "source": [
    "# conversion de l'ensemble d'entraînement standardisé en DataFrame\n",
    "X_train_scaled = pd.DataFrame(X_train_scaled, columns=X_train.columns)"
   ]
  },
  {
   "cell_type": "code",
   "execution_count": 17,
   "id": "1244d8e0",
   "metadata": {},
   "outputs": [],
   "source": [
    "# création d'un modèle\n",
    "model = InMemoryModel(gcv_knn.predict_proba, examples=X_train_scaled)"
   ]
  },
  {
   "cell_type": "code",
   "execution_count": 18,
   "id": "c5990d52",
   "metadata": {},
   "outputs": [],
   "source": [
    "# création d'une interprétation\n",
    "interpreter = Interpretation(X_train_scaled, feature_names=X_train_scaled.columns)"
   ]
  },
  {
   "cell_type": "code",
   "execution_count": 19,
   "id": "05080b4b",
   "metadata": {},
   "outputs": [],
   "source": [
    "# création d'un objet DataSet à partir des entrées, lié à l'interprétation\n",
    "interpreter.load_data(X_train_scaled)"
   ]
  },
  {
   "cell_type": "code",
   "execution_count": 20,
   "id": "46a6848b",
   "metadata": {},
   "outputs": [
    {
     "name": "stdout",
     "output_type": "stream",
     "text": [
      "[13/13] features ████████████████████ Time elapsed: 284 seconds"
     ]
    },
    {
     "data": {
      "image/png": "[encoded data removed]",
      "text/plain": [
       "<Figure size 1200x600 with 1 Axes>"
      ]
     },
     "metadata": {},
     "output_type": "display_data"
    }
   ],
   "source": [
    "# affichage de l'importance des variables dans le jeu de données\n",
    "plt.rcParams['figure.figsize'] = (12,6)\n",
    "interpreter.feature_importance.plot_feature_importance(model, ascending=True);"
   ]
  },
  {
   "cell_type": "markdown",
   "id": "93d27ea3",
   "metadata": {},
   "source": [
    "Nous affichons ci-dessous les graphiques de dépendance partielle des variables ayant le plus d'importance pour mesurer individuellement leur impact sur la prédiction du modèle, lorsque les autres variables sont maintenues constantes. \n",
    "\n",
    "La dérivée de la dépendance partielle permet de décrire l'impact de chaque variable."
   ]
  },
  {
   "cell_type": "code",
   "execution_count": 21,
   "id": "12b4f16c",
   "metadata": {},
   "outputs": [
    {
     "name": "stdout",
     "output_type": "stream",
     "text": [
      "[100/100] grid cells ████████████████████ Time elapsed: 23 seconds"
     ]
    },
    {
     "data": {
      "image/png": "[encoded data removed]",
      "text/plain": [
       "<Figure size 600x400 with 1 Axes>"
      ]
     },
     "metadata": {},
     "output_type": "display_data"
    }
   ],
   "source": [
    "# affichage du graphique de dépendance partielle de la variable \"Humidity_Delta\"\n",
    "interpreter.partial_dependence.plot_partial_dependence(\n",
    "    ['Pressure9am'], model, grid_resolution=100, with_variance=True, figsize=(6,4));"
   ]
  },
  {
   "cell_type": "markdown",
   "id": "fbc319e1",
   "metadata": {},
   "source": [
    "Plus la pression est faible à 9h, plus il est probable qu'il pleuve le lendemain."
   ]
  },
  {
   "cell_type": "code",
   "execution_count": 22,
   "id": "d378b8dc",
   "metadata": {},
   "outputs": [
    {
     "name": "stdout",
     "output_type": "stream",
     "text": [
      "[72/72] grid cells ████████████████████ Time elapsed: 20 seconds"
     ]
    },
    {
     "data": {
      "image/png": "[encoded data removed]",
      "text/plain": [
       "<Figure size 600x400 with 1 Axes>"
      ]
     },
     "metadata": {},
     "output_type": "display_data"
    }
   ],
   "source": [
    "# affichage du graphique de dépendance partielle de la variable \"Humidity3pm\"\n",
    "interpreter.partial_dependence.plot_partial_dependence(\n",
    "    ['Humidity3pm'], model, grid_resolution=100, with_variance=True, figsize=(6,4));"
   ]
  },
  {
   "cell_type": "markdown",
   "id": "168d4cdb",
   "metadata": {},
   "source": [
    "Plus l'humidité est importante à 15h, plus il est probable qu'il pleuve le lendemain."
   ]
  },
  {
   "cell_type": "code",
   "execution_count": 23,
   "id": "1761b105",
   "metadata": {},
   "outputs": [
    {
     "name": "stdout",
     "output_type": "stream",
     "text": [
      "[69/69] grid cells ████████████████████ Time elapsed: 19 seconds"
     ]
    },
    {
     "data": {
      "image/png": "[encoded data removed]",
      "text/plain": [
       "<Figure size 600x400 with 1 Axes>"
      ]
     },
     "metadata": {},
     "output_type": "display_data"
    }
   ],
   "source": [
    "# affichage du graphique de dépendance partielle de la variable \"Temp_Delta_MinMax\"\n",
    "interpreter.partial_dependence.plot_partial_dependence(\n",
    "    ['Sunshine'], model, grid_resolution=100, with_variance=True, figsize=(6,4));"
   ]
  },
  {
   "cell_type": "markdown",
   "id": "33733a60",
   "metadata": {},
   "source": [
    "Plus l'ensoleillement est faible, plus il est probable qu'il pleuve le lendemain."
   ]
  },
  {
   "cell_type": "code",
   "execution_count": null,
   "id": "7a9d4354",
   "metadata": {},
   "outputs": [],
   "source": []
  }
 ],
 "metadata": {
  "colab": {
   "collapsed_sections": [
    "uWfmqoPvIcAJ",
    "7cgssDKFKwJt",
    "KBG3Oj9wLm3n",
    "T0UkvrmRa8FF",
    "ThpQoKaXo-uE",
    "V2xWPtqopDmU",
    "YvGvgSWFqS-b",
    "9de277aa",
    "9mJr-YJRueyJ",
    "ci-XSrHBu6RL",
    "5gGeDEOOvAkp",
    "P-arQbY85ND-",
    "8jpipwx96O3Q",
    "Ru7wQG31lYmQ"
   ],
   "name": "common_pyAusRainfall_modelisation2.ipynb",
   "provenance": []
  },
  "kernelspec": {
   "display_name": "Python 3 (ipykernel)",
   "language": "python",
   "name": "python3"
  },
  "language_info": {
   "codemirror_mode": {
    "name": "ipython",
    "version": 3
   },
   "file_extension": ".py",
   "mimetype": "text/x-python",
   "name": "python",
   "nbconvert_exporter": "python",
   "pygments_lexer": "ipython3",
   "version": "3.9.13"
  }
 },
 "nbformat": 4,
 "nbformat_minor": 5
}
