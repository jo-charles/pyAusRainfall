{
 "cells": [
  {
   "cell_type": "markdown",
   "metadata": {
    "id": "uWfmqoPvIcAJ"
   },
   "source": [
    "# Prévisions météo en Australie"
   ]
  },
  {
   "cell_type": "markdown",
   "metadata": {},
   "source": [
    "# Modélisation avec étape de ré-échantillonage"
   ]
  },
  {
   "cell_type": "markdown",
   "metadata": {
    "id": "NJN5xGP7CUc_"
   },
   "source": [
    "# Récupération des librairies"
   ]
  },
  {
   "cell_type": "code",
   "execution_count": 1,
   "metadata": {
    "colab": {
     "base_uri": "https://localhost:8080/"
    },
    "id": "MP_EJ9XNFo2d",
    "outputId": "e1c0a9a3-7797-4a69-9301-d72fb8c03d31"
   },
   "outputs": [
    {
     "name": "stdout",
     "output_type": "stream",
     "text": [
      "Requirement already satisfied: scikit-plot in /Users/gensteele/opt/anaconda3/lib/python3.8/site-packages (0.3.7)\n",
      "Requirement already satisfied: matplotlib>=1.4.0 in /Users/gensteele/opt/anaconda3/lib/python3.8/site-packages (from scikit-plot) (3.3.2)\n",
      "Requirement already satisfied: scikit-learn>=0.18 in /Users/gensteele/opt/anaconda3/lib/python3.8/site-packages (from scikit-plot) (1.1.1)\n",
      "Requirement already satisfied: joblib>=0.10 in /Users/gensteele/opt/anaconda3/lib/python3.8/site-packages (from scikit-plot) (1.1.0)\n",
      "Requirement already satisfied: scipy>=0.9 in /Users/gensteele/opt/anaconda3/lib/python3.8/site-packages (from scikit-plot) (1.5.2)\n",
      "Requirement already satisfied: python-dateutil>=2.1 in /Users/gensteele/opt/anaconda3/lib/python3.8/site-packages (from matplotlib>=1.4.0->scikit-plot) (2.8.1)\n",
      "Requirement already satisfied: certifi>=2020.06.20 in /Users/gensteele/opt/anaconda3/lib/python3.8/site-packages (from matplotlib>=1.4.0->scikit-plot) (2020.6.20)\n",
      "Requirement already satisfied: cycler>=0.10 in /Users/gensteele/opt/anaconda3/lib/python3.8/site-packages (from matplotlib>=1.4.0->scikit-plot) (0.10.0)\n",
      "Requirement already satisfied: kiwisolver>=1.0.1 in /Users/gensteele/opt/anaconda3/lib/python3.8/site-packages (from matplotlib>=1.4.0->scikit-plot) (1.3.0)\n",
      "Requirement already satisfied: pyparsing!=2.0.4,!=2.1.2,!=2.1.6,>=2.0.3 in /Users/gensteele/opt/anaconda3/lib/python3.8/site-packages (from matplotlib>=1.4.0->scikit-plot) (2.4.7)\n",
      "Requirement already satisfied: numpy>=1.15 in /Users/gensteele/opt/anaconda3/lib/python3.8/site-packages (from matplotlib>=1.4.0->scikit-plot) (1.19.2)\n",
      "Requirement already satisfied: pillow>=6.2.0 in /Users/gensteele/opt/anaconda3/lib/python3.8/site-packages (from matplotlib>=1.4.0->scikit-plot) (8.0.1)\n",
      "Requirement already satisfied: threadpoolctl>=2.0.0 in /Users/gensteele/opt/anaconda3/lib/python3.8/site-packages (from scikit-learn>=0.18->scikit-plot) (2.1.0)\n",
      "Requirement already satisfied: six>=1.5 in /Users/gensteele/opt/anaconda3/lib/python3.8/site-packages (from python-dateutil>=2.1->matplotlib>=1.4.0->scikit-plot) (1.15.0)\n"
     ]
    }
   ],
   "source": [
    "# récupération du package scikit-plot\n",
    "!pip install scikit-plot"
   ]
  },
  {
   "cell_type": "code",
   "execution_count": 2,
   "metadata": {},
   "outputs": [
    {
     "name": "stdout",
     "output_type": "stream",
     "text": [
      "Requirement already up-to-date: imblearn in /Users/gensteele/opt/anaconda3/lib/python3.8/site-packages (0.0)\n",
      "Requirement already satisfied, skipping upgrade: imbalanced-learn in /Users/gensteele/opt/anaconda3/lib/python3.8/site-packages (from imblearn) (0.9.1)\n",
      "Requirement already satisfied, skipping upgrade: numpy>=1.17.3 in /Users/gensteele/opt/anaconda3/lib/python3.8/site-packages (from imbalanced-learn->imblearn) (1.19.2)\n",
      "Requirement already satisfied, skipping upgrade: scipy>=1.3.2 in /Users/gensteele/opt/anaconda3/lib/python3.8/site-packages (from imbalanced-learn->imblearn) (1.5.2)\n",
      "Requirement already satisfied, skipping upgrade: threadpoolctl>=2.0.0 in /Users/gensteele/opt/anaconda3/lib/python3.8/site-packages (from imbalanced-learn->imblearn) (2.1.0)\n",
      "Requirement already satisfied, skipping upgrade: joblib>=1.0.0 in /Users/gensteele/opt/anaconda3/lib/python3.8/site-packages (from imbalanced-learn->imblearn) (1.1.0)\n",
      "Requirement already satisfied, skipping upgrade: scikit-learn>=1.1.0 in /Users/gensteele/opt/anaconda3/lib/python3.8/site-packages (from imbalanced-learn->imblearn) (1.1.1)\n"
     ]
    }
   ],
   "source": [
    "# récupération du package imblearn\n",
    "!pip install --upgrade imblearn"
   ]
  },
  {
   "cell_type": "code",
   "execution_count": 18,
   "metadata": {
    "id": "db07acc9"
   },
   "outputs": [],
   "source": [
    "# récupération des librairies\n",
    "%matplotlib inline\n",
    "\n",
    "import numpy as np\n",
    "import pandas as pd\n",
    "import matplotlib.pyplot as plt\n",
    "import seaborn as sns\n",
    "import time, datetime\n",
    "import scikitplot as skplt\n",
    "import warnings\n",
    "warnings.filterwarnings(\"ignore\")\n",
    "\n",
    "from scipy.spatial.distance import cdist\n",
    "from scipy.stats import chi2_contingency\n",
    "\n",
    "from sklearn import ensemble, linear_model, model_selection, neighbors, preprocessing, svm\n",
    "\n",
    "from sklearn.cluster import KMeans\n",
    "from sklearn.ensemble import RandomForestClassifier\n",
    "from sklearn.feature_selection import SelectFromModel, SelectKBest, chi2\n",
    "from sklearn.impute import KNNImputer\n",
    "from sklearn.linear_model import LogisticRegression, SGDClassifier, Lasso, LassoCV, lasso_path, RidgeCV\n",
    "from sklearn.metrics import classification_report, accuracy_score, roc_curve, auc, mean_squared_error, recall_score, f1_score, precision_score\n",
    "from sklearn.model_selection import GridSearchCV, train_test_split, cross_val_score, learning_curve, KFold\n",
    "from sklearn.pipeline import make_pipeline\n",
    "from sklearn.preprocessing import StandardScaler, MinMaxScaler\n",
    "from sklearn.tree import DecisionTreeClassifier, plot_tree\n",
    "\n",
    "# from imblearn.metrics import classification_report_imbalanced\n",
    "from imblearn.under_sampling import RandomUnderSampler"
   ]
  },
  {
   "cell_type": "markdown",
   "metadata": {
    "id": "9de277aa"
   },
   "source": [
    "# Modèles de classification par apprentissage supervisé"
   ]
  },
  {
   "cell_type": "code",
   "execution_count": 6,
   "metadata": {
    "colab": {
     "base_uri": "https://localhost:8080/",
     "height": 206
    },
    "id": "lD16-9ECM9nT",
    "outputId": "66f7f93c-00bd-4ca8-a9d2-0cb128201dae"
   },
   "outputs": [
    {
     "data": {
      "text/html": [
       "<div>\n",
       "<style scoped>\n",
       "    .dataframe tbody tr th:only-of-type {\n",
       "        vertical-align: middle;\n",
       "    }\n",
       "\n",
       "    .dataframe tbody tr th {\n",
       "        vertical-align: top;\n",
       "    }\n",
       "\n",
       "    .dataframe thead th {\n",
       "        text-align: right;\n",
       "    }\n",
       "</style>\n",
       "<table border=\"1\" class=\"dataframe\">\n",
       "  <thead>\n",
       "    <tr style=\"text-align: right;\">\n",
       "      <th></th>\n",
       "      <th>Rainfall</th>\n",
       "      <th>Sunshine</th>\n",
       "      <th>WindGustSpeed</th>\n",
       "      <th>Humidity3pm</th>\n",
       "      <th>Pressure9am</th>\n",
       "      <th>Cloud3pm</th>\n",
       "      <th>Temp3pm</th>\n",
       "      <th>Temp_Delta_MinMax</th>\n",
       "      <th>Humidity_Delta</th>\n",
       "      <th>clim_chaud_humide</th>\n",
       "      <th>clim_méditerranéen</th>\n",
       "      <th>clim_sec</th>\n",
       "      <th>clim_tempéré_froid</th>\n",
       "      <th>RainTomorrow</th>\n",
       "    </tr>\n",
       "  </thead>\n",
       "  <tbody>\n",
       "    <tr>\n",
       "      <th>0</th>\n",
       "      <td>0.6</td>\n",
       "      <td>4.94000</td>\n",
       "      <td>44.0</td>\n",
       "      <td>22.0</td>\n",
       "      <td>1007.7</td>\n",
       "      <td>7.40000</td>\n",
       "      <td>21.8</td>\n",
       "      <td>9.5</td>\n",
       "      <td>-49.0</td>\n",
       "      <td>1</td>\n",
       "      <td>0</td>\n",
       "      <td>0</td>\n",
       "      <td>0</td>\n",
       "      <td>0</td>\n",
       "    </tr>\n",
       "    <tr>\n",
       "      <th>1</th>\n",
       "      <td>0.0</td>\n",
       "      <td>7.63054</td>\n",
       "      <td>44.0</td>\n",
       "      <td>25.0</td>\n",
       "      <td>1010.6</td>\n",
       "      <td>4.49925</td>\n",
       "      <td>24.3</td>\n",
       "      <td>17.7</td>\n",
       "      <td>-19.0</td>\n",
       "      <td>1</td>\n",
       "      <td>0</td>\n",
       "      <td>0</td>\n",
       "      <td>0</td>\n",
       "      <td>0</td>\n",
       "    </tr>\n",
       "    <tr>\n",
       "      <th>2</th>\n",
       "      <td>0.0</td>\n",
       "      <td>7.96000</td>\n",
       "      <td>46.0</td>\n",
       "      <td>30.0</td>\n",
       "      <td>1007.6</td>\n",
       "      <td>2.00000</td>\n",
       "      <td>23.2</td>\n",
       "      <td>12.8</td>\n",
       "      <td>-8.0</td>\n",
       "      <td>1</td>\n",
       "      <td>0</td>\n",
       "      <td>0</td>\n",
       "      <td>0</td>\n",
       "      <td>0</td>\n",
       "    </tr>\n",
       "    <tr>\n",
       "      <th>3</th>\n",
       "      <td>0.0</td>\n",
       "      <td>7.63054</td>\n",
       "      <td>24.0</td>\n",
       "      <td>16.0</td>\n",
       "      <td>1017.6</td>\n",
       "      <td>4.49925</td>\n",
       "      <td>26.5</td>\n",
       "      <td>18.8</td>\n",
       "      <td>-29.0</td>\n",
       "      <td>1</td>\n",
       "      <td>0</td>\n",
       "      <td>0</td>\n",
       "      <td>0</td>\n",
       "      <td>0</td>\n",
       "    </tr>\n",
       "    <tr>\n",
       "      <th>4</th>\n",
       "      <td>1.0</td>\n",
       "      <td>0.90000</td>\n",
       "      <td>41.0</td>\n",
       "      <td>33.0</td>\n",
       "      <td>1010.8</td>\n",
       "      <td>8.00000</td>\n",
       "      <td>29.7</td>\n",
       "      <td>14.8</td>\n",
       "      <td>-49.0</td>\n",
       "      <td>1</td>\n",
       "      <td>0</td>\n",
       "      <td>0</td>\n",
       "      <td>0</td>\n",
       "      <td>0</td>\n",
       "    </tr>\n",
       "  </tbody>\n",
       "</table>\n",
       "</div>"
      ],
      "text/plain": [
       "   Rainfall  Sunshine  WindGustSpeed  Humidity3pm  Pressure9am  Cloud3pm  \\\n",
       "0       0.6   4.94000           44.0         22.0       1007.7   7.40000   \n",
       "1       0.0   7.63054           44.0         25.0       1010.6   4.49925   \n",
       "2       0.0   7.96000           46.0         30.0       1007.6   2.00000   \n",
       "3       0.0   7.63054           24.0         16.0       1017.6   4.49925   \n",
       "4       1.0   0.90000           41.0         33.0       1010.8   8.00000   \n",
       "\n",
       "   Temp3pm  Temp_Delta_MinMax  Humidity_Delta  clim_chaud_humide  \\\n",
       "0     21.8                9.5           -49.0                  1   \n",
       "1     24.3               17.7           -19.0                  1   \n",
       "2     23.2               12.8            -8.0                  1   \n",
       "3     26.5               18.8           -29.0                  1   \n",
       "4     29.7               14.8           -49.0                  1   \n",
       "\n",
       "   clim_méditerranéen  clim_sec  clim_tempéré_froid  RainTomorrow  \n",
       "0                   0         0                   0             0  \n",
       "1                   0         0                   0             0  \n",
       "2                   0         0                   0             0  \n",
       "3                   0         0                   0             0  \n",
       "4                   0         0                   0             0  "
      ]
     },
     "execution_count": 6,
     "metadata": {},
     "output_type": "execute_result"
    }
   ],
   "source": [
    "# récuperation et aperçu du jeu de données après prétraitement, après l'étape de classification des villes en fonction \n",
    "# du climat et après sélection des variables les plus pertinentes selon la méthode SelectKBest()\n",
    "df = pd.read_csv('data/weatherAUS_preprocessed.csv', index_col=0)\n",
    "df.head()"
   ]
  },
  {
   "cell_type": "code",
   "execution_count": 7,
   "metadata": {
    "id": "1a697ea1"
   },
   "outputs": [],
   "source": [
    "# séparation des données en une matrice de données et en un vecteur cible\n",
    "data = df.drop('RainTomorrow', axis=1)\n",
    "target = df['RainTomorrow']"
   ]
  },
  {
   "cell_type": "code",
   "execution_count": 8,
   "metadata": {
    "id": "5b04edc6"
   },
   "outputs": [],
   "source": [
    "# division des données en un ensemble d'entraînement et un ensemble de test correspondant respectivement à 80% et 20% de la quantité totale des données disponibles\n",
    "X_train, X_test, y_train, y_test = train_test_split(data, target, test_size=0.2, random_state=123)"
   ]
  },
  {
   "cell_type": "code",
   "execution_count": 9,
   "metadata": {
    "colab": {
     "base_uri": "https://localhost:8080/"
    },
    "id": "A24NlSDFJ9vQ",
    "outputId": "8c3e1717-a794-4788-f6fe-07a4cc64e2bd"
   },
   "outputs": [
    {
     "data": {
      "text/plain": [
       "0    0.777988\n",
       "1    0.222012\n",
       "Name: RainTomorrow, dtype: float64"
      ]
     },
     "execution_count": 9,
     "metadata": {},
     "output_type": "execute_result"
    }
   ],
   "source": [
    "# distribution de la variable cible dans l'ensemble d'entraînement\n",
    "y_train.value_counts(normalize=True)"
   ]
  },
  {
   "cell_type": "code",
   "execution_count": 10,
   "metadata": {
    "colab": {
     "base_uri": "https://localhost:8080/"
    },
    "id": "13b41857",
    "outputId": "0f6a000e-7b8b-4199-ded6-218bc47a994b"
   },
   "outputs": [
    {
     "name": "stdout",
     "output_type": "stream",
     "text": [
      "Cardinalité des classes de la variable cible sous-échantillonnée: {1: 25005, 0: 25005}\n"
     ]
    }
   ],
   "source": [
    "# undersampling des données\n",
    "rUs = RandomUnderSampler()\n",
    "X_train_ru, y_train_ru = rUs.fit_resample(X_train, y_train)\n",
    "print(\"Cardinalité des classes de la variable cible sous-échantillonnée:\", dict(pd.Series(y_train_ru).value_counts()))"
   ]
  },
  {
   "cell_type": "code",
   "execution_count": 11,
   "metadata": {
    "colab": {
     "base_uri": "https://localhost:8080/"
    },
    "id": "qnmjv-fVsQDY",
    "outputId": "56c46f40-388d-4e1e-aaa6-c662eb0c6d3b"
   },
   "outputs": [
    {
     "data": {
      "text/plain": [
       "1    0.5\n",
       "0    0.5\n",
       "Name: RainTomorrow, dtype: float64"
      ]
     },
     "execution_count": 11,
     "metadata": {},
     "output_type": "execute_result"
    }
   ],
   "source": [
    "# distribution de la variable cible dans l'ensemble de test\n",
    "y_train_ru.value_counts(normalize=True)"
   ]
  },
  {
   "cell_type": "code",
   "execution_count": 12,
   "metadata": {
    "id": "06b700ea"
   },
   "outputs": [],
   "source": [
    "# standardisation des données\n",
    "scaler = StandardScaler()\n",
    "# scaler = MinMaxScaler()\n",
    "\n",
    "X_train_scaled = scaler.fit_transform(X_train)\n",
    "X_test_scaled = scaler.transform(X_test)"
   ]
  },
  {
   "cell_type": "markdown",
   "metadata": {
    "id": "8jpipwx96O3Q"
   },
   "source": [
    "## Arbres de décision"
   ]
  },
  {
   "cell_type": "code",
   "execution_count": 13,
   "metadata": {
    "id": "MjOc31sx6TDx"
   },
   "outputs": [],
   "source": [
    "# définition du modèle\n",
    "clf_dt = DecisionTreeClassifier()\n",
    "\n",
    "param_grid_dt = {'criterion' : ['entropy','gini'], \n",
    "                 'max_depth' : np.arange(2,6,1)}\n",
    "\n",
    "gcv_dt = GridSearchCV(clf_dt, param_grid_dt)"
   ]
  },
  {
   "cell_type": "code",
   "execution_count": 14,
   "metadata": {
    "colab": {
     "base_uri": "https://localhost:8080/"
    },
    "id": "bCbiJ2kk6WsH",
    "outputId": "45ba2563-9a27-4290-e6ad-60310bf58088"
   },
   "outputs": [
    {
     "name": "stdout",
     "output_type": "stream",
     "text": [
      "Meilleurs paramètres : {'criterion': 'gini', 'max_depth': 5} \n",
      "\n",
      "Accuracy Score: 0.839193124511684 \n",
      "\n",
      "Train Data Score: 0.8386028465137754\n",
      "Test Data Score: 0.839193124511684\n",
      "\n",
      " Matrice de confusion:\n",
      "\n",
      " Prédictions      0     1\n",
      "Réalités                \n",
      "0            20825  1137\n",
      "1             3391  2805\n",
      "              precision    recall  f1-score   support\n",
      "\n",
      "           0       0.86      0.95      0.90     21962\n",
      "           1       0.71      0.45      0.55      6196\n",
      "\n",
      "    accuracy                           0.84     28158\n",
      "   macro avg       0.79      0.70      0.73     28158\n",
      "weighted avg       0.83      0.84      0.83     28158\n",
      "\n",
      "Running Time: 0:00:16.032970\n"
     ]
    }
   ],
   "source": [
    "start_time = time.time()\n",
    "\n",
    "# entraînement\n",
    "gcv_dt.fit(X_train_scaled, y_train)\n",
    "\n",
    "# prédiction\n",
    "y_pred = gcv_dt.predict(X_test_scaled)\n",
    "\n",
    "# détermination des meilleurs paramètres\n",
    "print('Meilleurs paramètres :', gcv_dt.best_params_,\"\\n\")\n",
    "\n",
    "# évaluation de la performance\n",
    "print('Accuracy Score: {}'.format(accuracy_score(y_test,y_pred)),'\\n')\n",
    "\n",
    "# underfitting / overfitting\n",
    "print('Train Data Score: {}'.format(gcv_dt.score(X_train_scaled,y_train)))\n",
    "print('Test Data Score: {}'.format(gcv_dt.score(X_test_scaled,y_test)))\n",
    "\n",
    "# matrice de confusion\n",
    "print('\\n Matrice de confusion:')\n",
    "print('\\n', pd.crosstab(y_test, y_pred, rownames=['Réalités'], colnames=['Prédictions']))\n",
    "\n",
    "# rapport de classification\n",
    "print(classification_report(y_test, y_pred))\n",
    "\n",
    "# durée d'exécution\n",
    "gaussian_time = (time.time() - start_time)\n",
    "print(\"Running Time: %s\" % datetime.timedelta(seconds=gaussian_time))"
   ]
  },
  {
   "cell_type": "markdown",
   "metadata": {
    "id": "VanYBqYU6bRi"
   },
   "source": [
    "- la méthode des arbres de décision ne fait pas l'objet de sur-apprentissage.\n",
    "- la sensibilité (taux de vrais positifs) vaut 0.73.\n",
    "- la spécificité (taux de vrais négatifs) vaut 0.78.\n",
    "- le F1-score concernant la classe '0' de la variable 'RainTomorrow' est bon (0.84).\n",
    "- le F1-score concernant la classe '1' de la variable 'RainTomorrow' est faible (0.59)."
   ]
  },
  {
   "cell_type": "code",
   "execution_count": 15,
   "metadata": {
    "colab": {
     "base_uri": "https://localhost:8080/",
     "height": 300
    },
    "id": "ZUQ8697r8LVn",
    "outputId": "7ae50112-d590-4c1f-b52e-a7c3e8bd8f74"
   },
   "outputs": [
    {
     "data": {
      "text/html": [
       "<div>\n",
       "<style scoped>\n",
       "    .dataframe tbody tr th:only-of-type {\n",
       "        vertical-align: middle;\n",
       "    }\n",
       "\n",
       "    .dataframe tbody tr th {\n",
       "        vertical-align: top;\n",
       "    }\n",
       "\n",
       "    .dataframe thead th {\n",
       "        text-align: right;\n",
       "    }\n",
       "</style>\n",
       "<table border=\"1\" class=\"dataframe\">\n",
       "  <thead>\n",
       "    <tr style=\"text-align: right;\">\n",
       "      <th></th>\n",
       "      <th>Importance</th>\n",
       "    </tr>\n",
       "  </thead>\n",
       "  <tbody>\n",
       "    <tr>\n",
       "      <th>Humidity3pm</th>\n",
       "      <td>0.750954</td>\n",
       "    </tr>\n",
       "    <tr>\n",
       "      <th>WindGustSpeed</th>\n",
       "      <td>0.086579</td>\n",
       "    </tr>\n",
       "    <tr>\n",
       "      <th>Rainfall</th>\n",
       "      <td>0.058749</td>\n",
       "    </tr>\n",
       "    <tr>\n",
       "      <th>Sunshine</th>\n",
       "      <td>0.047818</td>\n",
       "    </tr>\n",
       "    <tr>\n",
       "      <th>Pressure9am</th>\n",
       "      <td>0.046689</td>\n",
       "    </tr>\n",
       "    <tr>\n",
       "      <th>clim_méditerranéen</th>\n",
       "      <td>0.003083</td>\n",
       "    </tr>\n",
       "    <tr>\n",
       "      <th>Humidity_Delta</th>\n",
       "      <td>0.002374</td>\n",
       "    </tr>\n",
       "    <tr>\n",
       "      <th>clim_chaud_humide</th>\n",
       "      <td>0.001898</td>\n",
       "    </tr>\n",
       "  </tbody>\n",
       "</table>\n",
       "</div>"
      ],
      "text/plain": [
       "                    Importance\n",
       "Humidity3pm           0.750954\n",
       "WindGustSpeed         0.086579\n",
       "Rainfall              0.058749\n",
       "Sunshine              0.047818\n",
       "Pressure9am           0.046689\n",
       "clim_méditerranéen    0.003083\n",
       "Humidity_Delta        0.002374\n",
       "clim_chaud_humide     0.001898"
      ]
     },
     "execution_count": 15,
     "metadata": {},
     "output_type": "execute_result"
    }
   ],
   "source": [
    "# importance des variables\n",
    "clf_dt = gcv_dt.best_estimator_\n",
    "clf_dt.fit(X_train_scaled,y_train)\n",
    "\n",
    "feats = {}\n",
    "for feature, importance in zip(df.columns, clf_dt.feature_importances_):\n",
    "    feats[feature] = importance\n",
    "    \n",
    "importances = pd.DataFrame.from_dict(feats, orient='index').rename(columns={0:'Importance'})\n",
    "importances.sort_values(by='Importance', ascending=False).head(8)"
   ]
  },
  {
   "cell_type": "code",
   "execution_count": 16,
   "metadata": {
    "colab": {
     "base_uri": "https://localhost:8080/",
     "height": 265
    },
    "id": "V4EMokWZ8NST",
    "outputId": "08ea8e0a-8ade-4283-fdf1-0d536d134119"
   },
   "outputs": [
    {
     "data": {
      "image/png": "[encoded data removed]",
      "text/plain": [
       "<Figure size 432x288 with 1 Axes>"
      ]
     },
     "metadata": {
      "needs_background": "light"
     },
     "output_type": "display_data"
    }
   ],
   "source": [
    "# importance des variables\n",
    "feature_imp = pd.Series(clf_dt.feature_importances_,index=data.columns)\n",
    "feature_imp.nlargest(10).plot(kind='barh');"
   ]
  },
  {
   "cell_type": "code",
   "execution_count": 17,
   "metadata": {
    "colab": {
     "base_uri": "https://localhost:8080/"
    },
    "id": "epwSZJbF9btR",
    "outputId": "9ecd2a77-483e-474c-bec1-93473a93cbcd"
   },
   "outputs": [
    {
     "name": "stdout",
     "output_type": "stream",
     "text": [
      "Cross-validation scores:[0.83514903 0.83714674 0.83829209]\n",
      "Average cross-validation score: 0.8368626197515737\n"
     ]
    }
   ],
   "source": [
    "cv_scores = cross_val_score(gcv_dt, X_train_scaled, y_train, cv=3, scoring='accuracy')\n",
    "\n",
    "print('Cross-validation scores:{}'.format(cv_scores))\n",
    "print('Average cross-validation score: {}'.format(cv_scores.mean()))"
   ]
  },
  {
   "cell_type": "markdown",
   "metadata": {
    "id": "RCRvkS5I-3Dy"
   },
   "source": [
    "- Le score de la méthode DT est en moyenne de : 0.84."
   ]
  },
  {
   "cell_type": "markdown",
   "metadata": {},
   "source": [
    "C'est clair que l'humidite est le variable le plus important dans ce modele. \n",
    "\n",
    "Decision Trees sont consideres comme 'white box' modeles au contraire des 'black box' modeles (e.g. neural networks), qui sont beaucoup plus difficile a interpreter. Nous pouvons visualiser le Decision Tree lui meme en utilisant plot_tree. La graphique d'un Decision Tree devient vite peu lisible avec un 'max-depth' de plus que 3. Ici nous allons presenter le graphique pour un modele reinitialise pour etre plus photogenique. A chaque noeud, la condition est tres claire, donc c'est facile de faire une prediction et la justifier."
   ]
  },
  {
   "cell_type": "code",
   "execution_count": 22,
   "metadata": {},
   "outputs": [
    {
     "data": {
      "text/html": [
       "<style>#sk-container-id-1 {color: black;background-color: white;}#sk-container-id-1 pre{padding: 0;}#sk-container-id-1 div.sk-toggleable {background-color: white;}#sk-container-id-1 label.sk-toggleable__label {cursor: pointer;display: block;width: 100%;margin-bottom: 0;padding: 0.3em;box-sizing: border-box;text-align: center;}#sk-container-id-1 label.sk-toggleable__label-arrow:before {content: \"▸\";float: left;margin-right: 0.25em;color: #696969;}#sk-container-id-1 label.sk-toggleable__label-arrow:hover:before {color: black;}#sk-container-id-1 div.sk-estimator:hover label.sk-toggleable__label-arrow:before {color: black;}#sk-container-id-1 div.sk-toggleable__content {max-height: 0;max-width: 0;overflow: hidden;text-align: left;background-color: #f0f8ff;}#sk-container-id-1 div.sk-toggleable__content pre {margin: 0.2em;color: black;border-radius: 0.25em;background-color: #f0f8ff;}#sk-container-id-1 input.sk-toggleable__control:checked~div.sk-toggleable__content {max-height: 200px;max-width: 100%;overflow: auto;}#sk-container-id-1 input.sk-toggleable__control:checked~label.sk-toggleable__label-arrow:before {content: \"▾\";}#sk-container-id-1 div.sk-estimator input.sk-toggleable__control:checked~label.sk-toggleable__label {background-color: #d4ebff;}#sk-container-id-1 div.sk-label input.sk-toggleable__control:checked~label.sk-toggleable__label {background-color: #d4ebff;}#sk-container-id-1 input.sk-hidden--visually {border: 0;clip: rect(1px 1px 1px 1px);clip: rect(1px, 1px, 1px, 1px);height: 1px;margin: -1px;overflow: hidden;padding: 0;position: absolute;width: 1px;}#sk-container-id-1 div.sk-estimator {font-family: monospace;background-color: #f0f8ff;border: 1px dotted black;border-radius: 0.25em;box-sizing: border-box;margin-bottom: 0.5em;}#sk-container-id-1 div.sk-estimator:hover {background-color: #d4ebff;}#sk-container-id-1 div.sk-parallel-item::after {content: \"\";width: 100%;border-bottom: 1px solid gray;flex-grow: 1;}#sk-container-id-1 div.sk-label:hover label.sk-toggleable__label {background-color: #d4ebff;}#sk-container-id-1 div.sk-serial::before {content: \"\";position: absolute;border-left: 1px solid gray;box-sizing: border-box;top: 0;bottom: 0;left: 50%;z-index: 0;}#sk-container-id-1 div.sk-serial {display: flex;flex-direction: column;align-items: center;background-color: white;padding-right: 0.2em;padding-left: 0.2em;position: relative;}#sk-container-id-1 div.sk-item {position: relative;z-index: 1;}#sk-container-id-1 div.sk-parallel {display: flex;align-items: stretch;justify-content: center;background-color: white;position: relative;}#sk-container-id-1 div.sk-item::before, #sk-container-id-1 div.sk-parallel-item::before {content: \"\";position: absolute;border-left: 1px solid gray;box-sizing: border-box;top: 0;bottom: 0;left: 50%;z-index: -1;}#sk-container-id-1 div.sk-parallel-item {display: flex;flex-direction: column;z-index: 1;position: relative;background-color: white;}#sk-container-id-1 div.sk-parallel-item:first-child::after {align-self: flex-end;width: 50%;}#sk-container-id-1 div.sk-parallel-item:last-child::after {align-self: flex-start;width: 50%;}#sk-container-id-1 div.sk-parallel-item:only-child::after {width: 0;}#sk-container-id-1 div.sk-dashed-wrapped {border: 1px dashed gray;margin: 0 0.4em 0.5em 0.4em;box-sizing: border-box;padding-bottom: 0.4em;background-color: white;}#sk-container-id-1 div.sk-label label {font-family: monospace;font-weight: bold;display: inline-block;line-height: 1.2em;}#sk-container-id-1 div.sk-label-container {text-align: center;}#sk-container-id-1 div.sk-container {/* jupyter's `normalize.less` sets `[hidden] { display: none; }` but bootstrap.min.css set `[hidden] { display: none !important; }` so we also need the `!important` here to be able to override the default hidden behavior on the sphinx rendered scikit-learn.org. See: https://github.com/scikit-learn/scikit-learn/issues/21755 */display: inline-block !important;position: relative;}#sk-container-id-1 div.sk-text-repr-fallback {display: none;}</style><div id=\"sk-container-id-1\" class=\"sk-top-container\"><div class=\"sk-text-repr-fallback\"><pre>DecisionTreeClassifier(max_depth=3)</pre><b>In a Jupyter environment, please rerun this cell to show the HTML representation or trust the notebook. <br />On GitHub, the HTML representation is unable to render, please try loading this page with nbviewer.org.</b></div><div class=\"sk-container\" hidden><div class=\"sk-item\"><div class=\"sk-estimator sk-toggleable\"><input class=\"sk-toggleable__control sk-hidden--visually\" id=\"sk-estimator-id-1\" type=\"checkbox\" checked><label for=\"sk-estimator-id-1\" class=\"sk-toggleable__label sk-toggleable__label-arrow\">DecisionTreeClassifier</label><div class=\"sk-toggleable__content\"><pre>DecisionTreeClassifier(max_depth=3)</pre></div></div></div></div></div>"
      ],
      "text/plain": [
       "DecisionTreeClassifier(max_depth=3)"
      ]
     },
     "execution_count": 22,
     "metadata": {},
     "output_type": "execute_result"
    }
   ],
   "source": [
    "# Retrain to have max-depth of 3 for visualisation purposes\n",
    "clf_dt2 = DecisionTreeClassifier(max_depth=3)\n",
    "clf_dt2.fit(X_train_scaled,y_train)"
   ]
  },
  {
   "cell_type": "code",
   "execution_count": 23,
   "metadata": {},
   "outputs": [
    {
     "data": {
      "image/png": "[encoded data removed]",
      "text/plain": [
       "<Figure size 1080x1080 with 1 Axes>"
      ]
     },
     "metadata": {
      "needs_background": "light"
     },
     "output_type": "display_data"
    }
   ],
   "source": [
    "plt.figure(figsize=(15,15))\n",
    "plot_tree(clf_dt2, feature_names = X_train.columns.tolist(), filled=True, fontsize = 10); #proportion=True"
   ]
  },
  {
   "cell_type": "markdown",
   "metadata": {},
   "source": [
    "Un autre alternative pour expliquer tous les etapes dans un modele Decision Tree est de presenter le modele comme du pseudo-code mais qui est du \"vrai\" code. Voici une fonction pour faire ca."
   ]
  },
  {
   "cell_type": "code",
   "execution_count": 24,
   "metadata": {},
   "outputs": [],
   "source": [
    "#\n",
    "from sklearn.tree import _tree\n",
    "\n",
    "def tree_to_code(tree, feature_names):\n",
    "    \"\"\"\n",
    "    Visualise un DT comme code\n",
    "    \n",
    "    Parametres:\n",
    "    -----------\n",
    "    tree: decision tree model\n",
    "    feature_names: list\n",
    "    \"\"\"\n",
    "\n",
    "    tree_ = tree.tree_\n",
    "    feature_name = [\n",
    "        feature_names[i] if i != _tree.TREE_UNDEFINED else \"undefined!\"\n",
    "        for i in tree_.feature\n",
    "    ]\n",
    "    print(\"def tree({}):\".format(\", \".join(feature_names)))\n",
    "\n",
    "    def recurse(node, depth):\n",
    "        indent = \"  \" * depth\n",
    "        if tree_.feature[node] != _tree.TREE_UNDEFINED:\n",
    "            name = feature_name[node]\n",
    "            threshold = tree_.threshold[node]\n",
    "            print(\"{}if {} <= {}:\".format(indent, name, threshold))\n",
    "            recurse(tree_.children_left[node], depth + 1)\n",
    "            print(\"{}else:  # if {} > {}\".format(indent, name, threshold))\n",
    "            recurse(tree_.children_right[node], depth + 1)\n",
    "        else:\n",
    "            print(\"{}return {}\".format(indent, tree_.value[node]))\n",
    "\n",
    "    recurse(0, 1)"
   ]
  },
  {
   "cell_type": "code",
   "execution_count": 25,
   "metadata": {},
   "outputs": [
    {
     "name": "stdout",
     "output_type": "stream",
     "text": [
      "def tree(Rainfall, Sunshine, WindGustSpeed, Humidity3pm, Pressure9am, Cloud3pm, Temp3pm, Temp_Delta_MinMax, Humidity_Delta, clim_chaud_humide, clim_méditerranéen, clim_sec, clim_tempéré_froid):\n",
      "  if Humidity3pm <= 0.9646297097206116:\n",
      "    if Humidity3pm <= 0.1463293693959713:\n",
      "      if Sunshine <= 0.04559019394218922:\n",
      "        return [[9560. 2382.]]\n",
      "      else:  # if Sunshine > 0.04559019394218922\n",
      "        return [[46812.  3163.]]\n",
      "    else:  # if Humidity3pm > 0.1463293693959713\n",
      "      if WindGustSpeed <= 0.5577304512262344:\n",
      "        return [[19622.  4731.]]\n",
      "      else:  # if WindGustSpeed > 0.5577304512262344\n",
      "        return [[4169. 3099.]]\n",
      "  else:  # if Humidity3pm > 0.9646297097206116\n",
      "    if Humidity3pm <= 1.5422534942626953:\n",
      "      if Rainfall <= 0.45916397869586945:\n",
      "        return [[3865. 2265.]]\n",
      "      else:  # if Rainfall > 0.45916397869586945\n",
      "        return [[2029. 3014.]]\n",
      "    else:  # if Humidity3pm > 1.5422534942626953\n",
      "      if Rainfall <= 0.45916397869586945:\n",
      "        return [[ 931. 2198.]]\n",
      "      else:  # if Rainfall > 0.45916397869586945\n",
      "        return [[ 636. 4153.]]\n"
     ]
    }
   ],
   "source": [
    "#apply fonction to simplified decision tree model\n",
    "tree_to_code(clf_dt2, feature_names = X_train.columns.tolist())"
   ]
  },
  {
   "cell_type": "code",
   "execution_count": 26,
   "metadata": {},
   "outputs": [
    {
     "name": "stdout",
     "output_type": "stream",
     "text": [
      "def tree(Rainfall, Sunshine, WindGustSpeed, Humidity3pm, Pressure9am, Cloud3pm, Temp3pm, Temp_Delta_MinMax, Humidity_Delta, clim_chaud_humide, clim_méditerranéen, clim_sec, clim_tempéré_froid):\n",
      "  if Humidity3pm <= 0.9646297097206116:\n",
      "    if Humidity3pm <= 0.1463293693959713:\n",
      "      if Sunshine <= 0.04559019394218922:\n",
      "        if WindGustSpeed <= 1.0209693908691406:\n",
      "          if Pressure9am <= -0.1737670674920082:\n",
      "            return [[2637.  795.]]\n",
      "          else:  # if Pressure9am > -0.1737670674920082\n",
      "            return [[5435.  664.]]\n",
      "        else:  # if WindGustSpeed > 1.0209693908691406\n",
      "          if clim_méditerranéen <= 0.7172037661075592:\n",
      "            return [[1337.  706.]]\n",
      "          else:  # if clim_méditerranéen > 0.7172037661075592\n",
      "            return [[151. 217.]]\n",
      "      else:  # if Sunshine > 0.04559019394218922\n",
      "        if WindGustSpeed <= 1.0209693908691406:\n",
      "          if Humidity3pm <= -0.43129441142082214:\n",
      "            return [[26751.   947.]]\n",
      "          else:  # if Humidity3pm > -0.43129441142082214\n",
      "            return [[14454.  1194.]]\n",
      "        else:  # if WindGustSpeed > 1.0209693908691406\n",
      "          if Sunshine <= 0.9581439793109894:\n",
      "            return [[3662.  892.]]\n",
      "          else:  # if Sunshine > 0.9581439793109894\n",
      "            return [[1945.  130.]]\n",
      "    else:  # if Humidity3pm > 0.1463293693959713\n",
      "      if WindGustSpeed <= 0.5577304512262344:\n",
      "        if Rainfall <= 0.7115867733955383:\n",
      "          if Pressure9am <= -0.3446798771619797:\n",
      "            return [[3559. 1135.]]\n",
      "          else:  # if Pressure9am > -0.3446798771619797\n",
      "            return [[11831.  1772.]]\n",
      "        else:  # if Rainfall > 0.7115867733955383\n",
      "          if Humidity3pm <= 0.6276825070381165:\n",
      "            return [[2704.  883.]]\n",
      "          else:  # if Humidity3pm > 0.6276825070381165\n",
      "            return [[1528.  941.]]\n",
      "      else:  # if WindGustSpeed > 0.5577304512262344\n",
      "        if Pressure9am <= -0.65802001953125:\n",
      "          if Rainfall <= -0.5505271553993225:\n",
      "            return [[592. 438.]]\n",
      "          else:  # if Rainfall > -0.5505271553993225\n",
      "            return [[ 687. 1185.]]\n",
      "        else:  # if Pressure9am > -0.65802001953125\n",
      "          if Rainfall <= -0.17189297452569008:\n",
      "            return [[1759.  592.]]\n",
      "          else:  # if Rainfall > -0.17189297452569008\n",
      "            return [[1131.  884.]]\n",
      "  else:  # if Humidity3pm > 0.9646297097206116\n",
      "    if Humidity3pm <= 1.5422534942626953:\n",
      "      if Rainfall <= 0.45916397869586945:\n",
      "        if Pressure9am <= 0.5383696258068085:\n",
      "          if Sunshine <= 0.04724850319325924:\n",
      "            return [[1014. 1182.]]\n",
      "          else:  # if Sunshine > 0.04724850319325924\n",
      "            return [[1441.  663.]]\n",
      "        else:  # if Pressure9am > 0.5383696258068085\n",
      "          if clim_chaud_humide <= 0.2292276918888092:\n",
      "            return [[1026.  218.]]\n",
      "          else:  # if clim_chaud_humide > 0.2292276918888092\n",
      "            return [[384. 202.]]\n",
      "      else:  # if Rainfall > 0.45916397869586945\n",
      "        if WindGustSpeed <= 0.2875077724456787:\n",
      "          if Pressure9am <= -0.04558246396481991:\n",
      "            return [[632. 876.]]\n",
      "          else:  # if Pressure9am > -0.04558246396481991\n",
      "            return [[795. 593.]]\n",
      "        else:  # if WindGustSpeed > 0.2875077724456787\n",
      "          if Pressure9am <= -1.042573869228363:\n",
      "            return [[150. 636.]]\n",
      "          else:  # if Pressure9am > -1.042573869228363\n",
      "            return [[452. 909.]]\n",
      "    else:  # if Humidity3pm > 1.5422534942626953\n",
      "      if Rainfall <= 0.45916397869586945:\n",
      "        if Pressure9am <= 1.09383624792099:\n",
      "          if Sunshine <= -0.2187357246875763:\n",
      "            return [[ 262. 1327.]]\n",
      "          else:  # if Sunshine > -0.2187357246875763\n",
      "            return [[443. 728.]]\n",
      "        else:  # if Pressure9am > 1.09383624792099\n",
      "          if Humidity_Delta <= 1.2182111740112305:\n",
      "            return [[179.  69.]]\n",
      "          else:  # if Humidity_Delta > 1.2182111740112305\n",
      "            return [[47. 74.]]\n",
      "      else:  # if Rainfall > 0.45916397869586945\n",
      "        if Temp3pm <= -2.3549201488494873:\n",
      "          if Humidity_Delta <= 0.9739442467689514:\n",
      "            return [[24. 10.]]\n",
      "          else:  # if Humidity_Delta > 0.9739442467689514\n",
      "            return [[ 60. 153.]]\n",
      "        else:  # if Temp3pm > -2.3549201488494873\n",
      "          if Humidity3pm <= 1.8310654163360596:\n",
      "            return [[ 341. 1601.]]\n",
      "          else:  # if Humidity3pm > 1.8310654163360596\n",
      "            return [[ 211. 2389.]]\n"
     ]
    }
   ],
   "source": [
    "#apply function to best fit model\n",
    "tree_to_code(clf_dt, feature_names = X_train.columns.tolist())"
   ]
  },
  {
   "cell_type": "markdown",
   "metadata": {},
   "source": [
    "Le code pour le modele choisi est plus longue et a l'aire plus imposant mais ca reste facile a suivre.\n",
    "\n",
    "De cette facon, avec quelques valeurs connues en entree, l'utilsateur humain peut facilement trouver la probabilite en sortie."
   ]
  }
 ],
 "metadata": {
  "celltoolbar": "Raw Cell Format",
  "colab": {
   "collapsed_sections": [
    "uWfmqoPvIcAJ",
    "7cgssDKFKwJt",
    "KBG3Oj9wLm3n",
    "T0UkvrmRa8FF",
    "ThpQoKaXo-uE",
    "V2xWPtqopDmU",
    "YvGvgSWFqS-b",
    "9de277aa",
    "9mJr-YJRueyJ",
    "ci-XSrHBu6RL",
    "5gGeDEOOvAkp",
    "P-arQbY85ND-",
    "8jpipwx96O3Q",
    "Ru7wQG31lYmQ"
   ],
   "name": "common_pyAusRainfall_modelisation2.ipynb",
   "provenance": []
  },
  "kernelspec": {
   "display_name": "Python 3",
   "language": "python",
   "name": "python3"
  },
  "language_info": {
   "codemirror_mode": {
    "name": "ipython",
    "version": 3
   },
   "file_extension": ".py",
   "mimetype": "text/x-python",
   "name": "python",
   "nbconvert_exporter": "python",
   "pygments_lexer": "ipython3",
   "version": "3.8.5"
  }
 },
 "nbformat": 4,
 "nbformat_minor": 5
}
