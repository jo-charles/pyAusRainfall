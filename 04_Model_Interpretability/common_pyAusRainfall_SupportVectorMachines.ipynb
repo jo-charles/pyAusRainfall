{
 "cells": [
  {
   "cell_type": "markdown",
   "id": "uWfmqoPvIcAJ",
   "metadata": {
    "id": "uWfmqoPvIcAJ"
   },
   "source": [
    "# Prévisions météorologiques en Australie"
   ]
  },
  {
   "cell_type": "markdown",
   "id": "827e90a5",
   "metadata": {},
   "source": [
    "# Modélisation avec étape de ré-échantillonage"
   ]
  },
  {
   "cell_type": "markdown",
   "id": "NJN5xGP7CUc_",
   "metadata": {
    "id": "NJN5xGP7CUc_"
   },
   "source": [
    "# Récupération des librairies"
   ]
  },
  {
   "cell_type": "code",
   "execution_count": 1,
   "id": "4d661310",
   "metadata": {},
   "outputs": [],
   "source": [
    "# récupération du package skater\n",
    "# SUR UN TERMINAL: \"conda install -c conda-forge Skater\""
   ]
  },
  {
   "cell_type": "code",
   "execution_count": 2,
   "id": "f4606b03",
   "metadata": {},
   "outputs": [
    {
     "name": "stdout",
     "output_type": "stream",
     "text": [
      "Requirement already satisfied: imblearn in c:\\users\\jo.charles\\anaconda3\\lib\\site-packages (0.0)\n",
      "Requirement already satisfied: imbalanced-learn in c:\\users\\jo.charles\\anaconda3\\lib\\site-packages (from imblearn) (0.9.1)\n",
      "Requirement already satisfied: numpy>=1.17.3 in c:\\users\\jo.charles\\anaconda3\\lib\\site-packages (from imbalanced-learn->imblearn) (1.21.5)\n",
      "Requirement already satisfied: scipy>=1.3.2 in c:\\users\\jo.charles\\anaconda3\\lib\\site-packages (from imbalanced-learn->imblearn) (1.9.1)\n",
      "Requirement already satisfied: threadpoolctl>=2.0.0 in c:\\users\\jo.charles\\anaconda3\\lib\\site-packages (from imbalanced-learn->imblearn) (2.2.0)\n",
      "Requirement already satisfied: scikit-learn>=1.1.0 in c:\\users\\jo.charles\\anaconda3\\lib\\site-packages (from imbalanced-learn->imblearn) (1.1.3)\n",
      "Requirement already satisfied: joblib>=1.0.0 in c:\\users\\jo.charles\\anaconda3\\lib\\site-packages (from imbalanced-learn->imblearn) (1.2.0)\n"
     ]
    }
   ],
   "source": [
    "# récupération du package imblearn\n",
    "!pip install --upgrade imblearn"
   ]
  },
  {
   "cell_type": "code",
   "execution_count": 3,
   "id": "db07acc9",
   "metadata": {
    "id": "db07acc9"
   },
   "outputs": [],
   "source": [
    "# récupération des librairies\n",
    "%matplotlib inline\n",
    "import matplotlib.pyplot as plt\n",
    "import numpy as np\n",
    "import pandas as pd\n",
    "import time, datetime\n",
    "import warnings\n",
    "warnings.filterwarnings(\"ignore\")\n",
    "\n",
    "from skater.core.explanations import Interpretation\n",
    "from sklearn.metrics import classification_report\n",
    "from skater.model import InMemoryModel\n",
    "from sklearn.model_selection import GridSearchCV, train_test_split\n",
    "from sklearn.preprocessing import StandardScaler\n",
    "from sklearn.svm import SVC\n",
    "\n",
    "from imblearn.under_sampling import RandomUnderSampler\n",
    "from imblearn.metrics import classification_report_imbalanced"
   ]
  },
  {
   "cell_type": "markdown",
   "id": "9de277aa",
   "metadata": {
    "id": "9de277aa"
   },
   "source": [
    "# Modèle de classification par apprentissage supervisé"
   ]
  },
  {
   "cell_type": "markdown",
   "id": "08b36bee",
   "metadata": {},
   "source": [
    "### Préparation du jeu de données et paramètrage"
   ]
  },
  {
   "cell_type": "code",
   "execution_count": 4,
   "id": "lD16-9ECM9nT",
   "metadata": {
    "colab": {
     "base_uri": "https://localhost:8080/",
     "height": 206
    },
    "id": "lD16-9ECM9nT",
    "outputId": "66f7f93c-00bd-4ca8-a9d2-0cb128201dae"
   },
   "outputs": [
    {
     "data": {
      "text/html": [
       "<div>\n",
       "<style scoped>\n",
       "    .dataframe tbody tr th:only-of-type {\n",
       "        vertical-align: middle;\n",
       "    }\n",
       "\n",
       "    .dataframe tbody tr th {\n",
       "        vertical-align: top;\n",
       "    }\n",
       "\n",
       "    .dataframe thead th {\n",
       "        text-align: right;\n",
       "    }\n",
       "</style>\n",
       "<table border=\"1\" class=\"dataframe\">\n",
       "  <thead>\n",
       "    <tr style=\"text-align: right;\">\n",
       "      <th></th>\n",
       "      <th>Rainfall</th>\n",
       "      <th>Sunshine</th>\n",
       "      <th>WindGustSpeed</th>\n",
       "      <th>Humidity3pm</th>\n",
       "      <th>Pressure9am</th>\n",
       "      <th>Cloud3pm</th>\n",
       "      <th>Temp3pm</th>\n",
       "      <th>Temp_Delta_MinMax</th>\n",
       "      <th>Humidity_Delta</th>\n",
       "      <th>clim_chaud_humide</th>\n",
       "      <th>clim_méditerranéen</th>\n",
       "      <th>clim_sec</th>\n",
       "      <th>clim_tempéré_froid</th>\n",
       "      <th>RainTomorrow</th>\n",
       "    </tr>\n",
       "  </thead>\n",
       "  <tbody>\n",
       "    <tr>\n",
       "      <th>0</th>\n",
       "      <td>0.6</td>\n",
       "      <td>4.94000</td>\n",
       "      <td>44.0</td>\n",
       "      <td>22.0</td>\n",
       "      <td>1007.7</td>\n",
       "      <td>7.40000</td>\n",
       "      <td>21.8</td>\n",
       "      <td>9.5</td>\n",
       "      <td>-49.0</td>\n",
       "      <td>1</td>\n",
       "      <td>0</td>\n",
       "      <td>0</td>\n",
       "      <td>0</td>\n",
       "      <td>0</td>\n",
       "    </tr>\n",
       "    <tr>\n",
       "      <th>1</th>\n",
       "      <td>0.0</td>\n",
       "      <td>7.63054</td>\n",
       "      <td>44.0</td>\n",
       "      <td>25.0</td>\n",
       "      <td>1010.6</td>\n",
       "      <td>4.49925</td>\n",
       "      <td>24.3</td>\n",
       "      <td>17.7</td>\n",
       "      <td>-19.0</td>\n",
       "      <td>1</td>\n",
       "      <td>0</td>\n",
       "      <td>0</td>\n",
       "      <td>0</td>\n",
       "      <td>0</td>\n",
       "    </tr>\n",
       "    <tr>\n",
       "      <th>2</th>\n",
       "      <td>0.0</td>\n",
       "      <td>7.96000</td>\n",
       "      <td>46.0</td>\n",
       "      <td>30.0</td>\n",
       "      <td>1007.6</td>\n",
       "      <td>2.00000</td>\n",
       "      <td>23.2</td>\n",
       "      <td>12.8</td>\n",
       "      <td>-8.0</td>\n",
       "      <td>1</td>\n",
       "      <td>0</td>\n",
       "      <td>0</td>\n",
       "      <td>0</td>\n",
       "      <td>0</td>\n",
       "    </tr>\n",
       "    <tr>\n",
       "      <th>3</th>\n",
       "      <td>0.0</td>\n",
       "      <td>7.63054</td>\n",
       "      <td>24.0</td>\n",
       "      <td>16.0</td>\n",
       "      <td>1017.6</td>\n",
       "      <td>4.49925</td>\n",
       "      <td>26.5</td>\n",
       "      <td>18.8</td>\n",
       "      <td>-29.0</td>\n",
       "      <td>1</td>\n",
       "      <td>0</td>\n",
       "      <td>0</td>\n",
       "      <td>0</td>\n",
       "      <td>0</td>\n",
       "    </tr>\n",
       "    <tr>\n",
       "      <th>4</th>\n",
       "      <td>1.0</td>\n",
       "      <td>0.90000</td>\n",
       "      <td>41.0</td>\n",
       "      <td>33.0</td>\n",
       "      <td>1010.8</td>\n",
       "      <td>8.00000</td>\n",
       "      <td>29.7</td>\n",
       "      <td>14.8</td>\n",
       "      <td>-49.0</td>\n",
       "      <td>1</td>\n",
       "      <td>0</td>\n",
       "      <td>0</td>\n",
       "      <td>0</td>\n",
       "      <td>0</td>\n",
       "    </tr>\n",
       "  </tbody>\n",
       "</table>\n",
       "</div>"
      ],
      "text/plain": [
       "   Rainfall  Sunshine  WindGustSpeed  Humidity3pm  Pressure9am  Cloud3pm  \\\n",
       "0       0.6   4.94000           44.0         22.0       1007.7   7.40000   \n",
       "1       0.0   7.63054           44.0         25.0       1010.6   4.49925   \n",
       "2       0.0   7.96000           46.0         30.0       1007.6   2.00000   \n",
       "3       0.0   7.63054           24.0         16.0       1017.6   4.49925   \n",
       "4       1.0   0.90000           41.0         33.0       1010.8   8.00000   \n",
       "\n",
       "   Temp3pm  Temp_Delta_MinMax  Humidity_Delta  clim_chaud_humide  \\\n",
       "0     21.8                9.5           -49.0                  1   \n",
       "1     24.3               17.7           -19.0                  1   \n",
       "2     23.2               12.8            -8.0                  1   \n",
       "3     26.5               18.8           -29.0                  1   \n",
       "4     29.7               14.8           -49.0                  1   \n",
       "\n",
       "   clim_méditerranéen  clim_sec  clim_tempéré_froid  RainTomorrow  \n",
       "0                   0         0                   0             0  \n",
       "1                   0         0                   0             0  \n",
       "2                   0         0                   0             0  \n",
       "3                   0         0                   0             0  \n",
       "4                   0         0                   0             0  "
      ]
     },
     "execution_count": 4,
     "metadata": {},
     "output_type": "execute_result"
    }
   ],
   "source": [
    "# récuperation et aperçu du jeu de données après prétraitement des données, après l'étape de classification des villes \n",
    "# en fonction du climat et après sélection des variables les plus pertinentes selon la méthode SelectKBest()\n",
    "df = pd.read_csv('../data/weatherAUS_preprocessed.csv', index_col=0)\n",
    "df.head()"
   ]
  },
  {
   "cell_type": "code",
   "execution_count": 5,
   "id": "1a697ea1",
   "metadata": {
    "id": "1a697ea1"
   },
   "outputs": [],
   "source": [
    "# séparation des données en une matrice de données et en un vecteur cible\n",
    "data = df.drop('RainTomorrow', axis=1)\n",
    "target = df['RainTomorrow']"
   ]
  },
  {
   "cell_type": "code",
   "execution_count": 6,
   "id": "5b04edc6",
   "metadata": {
    "id": "5b04edc6"
   },
   "outputs": [],
   "source": [
    "# division des données en un ensemble d'entraînement et un ensemble de test correspondant respectivement \n",
    "# à 80% et 20% de la quantité totale des données disponibles\n",
    "X_train, X_test, y_train, y_test = train_test_split(data, target, test_size=0.2, random_state=123)"
   ]
  },
  {
   "cell_type": "code",
   "execution_count": 7,
   "id": "13b41857",
   "metadata": {
    "colab": {
     "base_uri": "https://localhost:8080/"
    },
    "id": "13b41857",
    "outputId": "0f6a000e-7b8b-4199-ded6-218bc47a994b"
   },
   "outputs": [],
   "source": [
    "# undersampling des données\n",
    "rUs = RandomUnderSampler()\n",
    "X_train, y_train = rUs.fit_resample(X_train, y_train)"
   ]
  },
  {
   "cell_type": "code",
   "execution_count": 8,
   "id": "72c7c0b6",
   "metadata": {},
   "outputs": [
    {
     "name": "stdout",
     "output_type": "stream",
     "text": [
      "Cardinalité des classes de la variable cible ré-échantillonnée: {0: 25005, 1: 25005}\n"
     ]
    }
   ],
   "source": [
    "# distribution de la variable cible ré-échantillonnée dans l'ensemble d'entraînement\n",
    "print(\"Cardinalité des classes de la variable cible ré-échantillonnée:\", dict(pd.Series(y_train).value_counts()))"
   ]
  },
  {
   "cell_type": "code",
   "execution_count": 9,
   "id": "642c138a",
   "metadata": {},
   "outputs": [
    {
     "data": {
      "text/plain": [
       "0    0.5\n",
       "1    0.5\n",
       "Name: RainTomorrow, dtype: float64"
      ]
     },
     "execution_count": 9,
     "metadata": {},
     "output_type": "execute_result"
    }
   ],
   "source": [
    "# distribution de la variable cible ré-échantillonnée dans l'ensemble d'entraînement\n",
    "y_train.value_counts(normalize=True)"
   ]
  },
  {
   "cell_type": "code",
   "execution_count": 10,
   "id": "63e95e16",
   "metadata": {},
   "outputs": [
    {
     "name": "stdout",
     "output_type": "stream",
     "text": [
      "Cardinalité des classes de la variable cible dans l'ensemble de test: {0: 21962, 1: 6196}\n"
     ]
    }
   ],
   "source": [
    "# distribution de la variable cible dans l'ensemble de test\n",
    "print(\"Cardinalité des classes de la variable cible dans l'ensemble de test:\", \n",
    "      dict(pd.Series(y_test).value_counts()))"
   ]
  },
  {
   "cell_type": "code",
   "execution_count": 11,
   "id": "fd90f4cd",
   "metadata": {},
   "outputs": [
    {
     "data": {
      "text/plain": [
       "0    0.779956\n",
       "1    0.220044\n",
       "Name: RainTomorrow, dtype: float64"
      ]
     },
     "execution_count": 11,
     "metadata": {},
     "output_type": "execute_result"
    }
   ],
   "source": [
    "# distribution de la variable cible dans l'ensemble de test\n",
    "y_test.value_counts(normalize=True)"
   ]
  },
  {
   "cell_type": "code",
   "execution_count": 12,
   "id": "06b700ea",
   "metadata": {
    "id": "06b700ea"
   },
   "outputs": [],
   "source": [
    "# standardisation des données\n",
    "scaler = StandardScaler()\n",
    "\n",
    "X_train_scaled = scaler.fit_transform(X_train)\n",
    "X_test_scaled = scaler.transform(X_test)"
   ]
  },
  {
   "cell_type": "markdown",
   "id": "P-arQbY85ND-",
   "metadata": {
    "id": "P-arQbY85ND-"
   },
   "source": [
    "### Séparateurs à Vaste Marge (SVM)"
   ]
  },
  {
   "cell_type": "markdown",
   "id": "c4098474-d87d-4dfa-8d5e-27e3d01709c2",
   "metadata": {},
   "source": [
    "Les séparateurs à vaste marge (SVM) visent à résoudre les problèmes de classification en trouvant de bonnes frontières de décision entre deux ensembles de points appartenant à deux catégories différentes. Une frontière de décision peut être considérée comme une ligne ou une surface séparant les données d’apprentissage en deux demi-espaces correspondant à deux catégories de prédiction, soit dans le cadre de notre étude `\"RainTomorrow=0\"` et `\"RainTomorrow=1\"`. Pour classer de nouveaux points de données, il suffit de vérifier de quel côté de la frontière de décision ils se trouvent.\n",
    "\n",
    "Les séparateurs à vaste marge procèdent à la recherche de ces frontières en deux étapes :\n",
    "- Les données sont mises en correspondance avec une nouvelle représentation à haute dimension où la frontière de décision peut être exprimée sous la forme d’un hyperplan.\n",
    "- Le séparateur à vaste marge identifie l'hyperplan qui maximise la distance au point le plus proche dans chaque classe. Cela permet à la frontière de bien s’adapter à de nouveaux échantillons en dehors de l’ensemble de données d’apprentissage.\n",
    "\n",
    "La méthode de classification par SVM ne fournit pas directement de probabilités d'appartenir à chaque classe mais les classes prédites elle-mêmes en fonction du score qu'elle attribue à chaque individu.  "
   ]
  },
  {
   "cell_type": "code",
   "execution_count": 13,
   "id": "44ab394d-e594-40a0-b2e7-315ed137848d",
   "metadata": {
    "id": "cdab3d79"
   },
   "outputs": [],
   "source": [
    "# définition du modèle\n",
    "clf_svm = SVC(probability=True)"
   ]
  },
  {
   "cell_type": "code",
   "execution_count": 14,
   "id": "08afc20f-73ac-4279-801d-2b6cbe79e818",
   "metadata": {},
   "outputs": [],
   "source": [
    "# définition de la grille de paramètres pour GridSearchCV avec restriction des paramètres en fonction des résultats précédents\n",
    "param_grid_svm = {'kernel':['polynomial', 'rbf'], 'gamma':[1.0], 'C':[1.0], 'class_weight':['balanced']} "
   ]
  },
  {
   "cell_type": "code",
   "execution_count": 15,
   "id": "b0fbccb1-0d71-409e-bb12-cefd8ece735b",
   "metadata": {},
   "outputs": [
    {
     "data": {
      "text/html": [
       "<style>#sk-container-id-1 {color: black;background-color: white;}#sk-container-id-1 pre{padding: 0;}#sk-container-id-1 div.sk-toggleable {background-color: white;}#sk-container-id-1 label.sk-toggleable__label {cursor: pointer;display: block;width: 100%;margin-bottom: 0;padding: 0.3em;box-sizing: border-box;text-align: center;}#sk-container-id-1 label.sk-toggleable__label-arrow:before {content: \"▸\";float: left;margin-right: 0.25em;color: #696969;}#sk-container-id-1 label.sk-toggleable__label-arrow:hover:before {color: black;}#sk-container-id-1 div.sk-estimator:hover label.sk-toggleable__label-arrow:before {color: black;}#sk-container-id-1 div.sk-toggleable__content {max-height: 0;max-width: 0;overflow: hidden;text-align: left;background-color: #f0f8ff;}#sk-container-id-1 div.sk-toggleable__content pre {margin: 0.2em;color: black;border-radius: 0.25em;background-color: #f0f8ff;}#sk-container-id-1 input.sk-toggleable__control:checked~div.sk-toggleable__content {max-height: 200px;max-width: 100%;overflow: auto;}#sk-container-id-1 input.sk-toggleable__control:checked~label.sk-toggleable__label-arrow:before {content: \"▾\";}#sk-container-id-1 div.sk-estimator input.sk-toggleable__control:checked~label.sk-toggleable__label {background-color: #d4ebff;}#sk-container-id-1 div.sk-label input.sk-toggleable__control:checked~label.sk-toggleable__label {background-color: #d4ebff;}#sk-container-id-1 input.sk-hidden--visually {border: 0;clip: rect(1px 1px 1px 1px);clip: rect(1px, 1px, 1px, 1px);height: 1px;margin: -1px;overflow: hidden;padding: 0;position: absolute;width: 1px;}#sk-container-id-1 div.sk-estimator {font-family: monospace;background-color: #f0f8ff;border: 1px dotted black;border-radius: 0.25em;box-sizing: border-box;margin-bottom: 0.5em;}#sk-container-id-1 div.sk-estimator:hover {background-color: #d4ebff;}#sk-container-id-1 div.sk-parallel-item::after {content: \"\";width: 100%;border-bottom: 1px solid gray;flex-grow: 1;}#sk-container-id-1 div.sk-label:hover label.sk-toggleable__label {background-color: #d4ebff;}#sk-container-id-1 div.sk-serial::before {content: \"\";position: absolute;border-left: 1px solid gray;box-sizing: border-box;top: 0;bottom: 0;left: 50%;z-index: 0;}#sk-container-id-1 div.sk-serial {display: flex;flex-direction: column;align-items: center;background-color: white;padding-right: 0.2em;padding-left: 0.2em;position: relative;}#sk-container-id-1 div.sk-item {position: relative;z-index: 1;}#sk-container-id-1 div.sk-parallel {display: flex;align-items: stretch;justify-content: center;background-color: white;position: relative;}#sk-container-id-1 div.sk-item::before, #sk-container-id-1 div.sk-parallel-item::before {content: \"\";position: absolute;border-left: 1px solid gray;box-sizing: border-box;top: 0;bottom: 0;left: 50%;z-index: -1;}#sk-container-id-1 div.sk-parallel-item {display: flex;flex-direction: column;z-index: 1;position: relative;background-color: white;}#sk-container-id-1 div.sk-parallel-item:first-child::after {align-self: flex-end;width: 50%;}#sk-container-id-1 div.sk-parallel-item:last-child::after {align-self: flex-start;width: 50%;}#sk-container-id-1 div.sk-parallel-item:only-child::after {width: 0;}#sk-container-id-1 div.sk-dashed-wrapped {border: 1px dashed gray;margin: 0 0.4em 0.5em 0.4em;box-sizing: border-box;padding-bottom: 0.4em;background-color: white;}#sk-container-id-1 div.sk-label label {font-family: monospace;font-weight: bold;display: inline-block;line-height: 1.2em;}#sk-container-id-1 div.sk-label-container {text-align: center;}#sk-container-id-1 div.sk-container {/* jupyter's `normalize.less` sets `[hidden] { display: none; }` but bootstrap.min.css set `[hidden] { display: none !important; }` so we also need the `!important` here to be able to override the default hidden behavior on the sphinx rendered scikit-learn.org. See: https://github.com/scikit-learn/scikit-learn/issues/21755 */display: inline-block !important;position: relative;}#sk-container-id-1 div.sk-text-repr-fallback {display: none;}</style><div id=\"sk-container-id-1\" class=\"sk-top-container\"><div class=\"sk-text-repr-fallback\"><pre>GridSearchCV(cv=2, estimator=SVC(probability=True), n_jobs=-1,\n",
       "             param_grid={&#x27;C&#x27;: [1.0], &#x27;class_weight&#x27;: [&#x27;balanced&#x27;],\n",
       "                         &#x27;gamma&#x27;: [1.0], &#x27;kernel&#x27;: [&#x27;polynomial&#x27;, &#x27;rbf&#x27;]},\n",
       "             scoring=&#x27;f1_macro&#x27;)</pre><b>In a Jupyter environment, please rerun this cell to show the HTML representation or trust the notebook. <br />On GitHub, the HTML representation is unable to render, please try loading this page with nbviewer.org.</b></div><div class=\"sk-container\" hidden><div class=\"sk-item sk-dashed-wrapped\"><div class=\"sk-label-container\"><div class=\"sk-label sk-toggleable\"><input class=\"sk-toggleable__control sk-hidden--visually\" id=\"sk-estimator-id-1\" type=\"checkbox\" ><label for=\"sk-estimator-id-1\" class=\"sk-toggleable__label sk-toggleable__label-arrow\">GridSearchCV</label><div class=\"sk-toggleable__content\"><pre>GridSearchCV(cv=2, estimator=SVC(probability=True), n_jobs=-1,\n",
       "             param_grid={&#x27;C&#x27;: [1.0], &#x27;class_weight&#x27;: [&#x27;balanced&#x27;],\n",
       "                         &#x27;gamma&#x27;: [1.0], &#x27;kernel&#x27;: [&#x27;polynomial&#x27;, &#x27;rbf&#x27;]},\n",
       "             scoring=&#x27;f1_macro&#x27;)</pre></div></div></div><div class=\"sk-parallel\"><div class=\"sk-parallel-item\"><div class=\"sk-item\"><div class=\"sk-label-container\"><div class=\"sk-label sk-toggleable\"><input class=\"sk-toggleable__control sk-hidden--visually\" id=\"sk-estimator-id-2\" type=\"checkbox\" ><label for=\"sk-estimator-id-2\" class=\"sk-toggleable__label sk-toggleable__label-arrow\">estimator: SVC</label><div class=\"sk-toggleable__content\"><pre>SVC(probability=True)</pre></div></div></div><div class=\"sk-serial\"><div class=\"sk-item\"><div class=\"sk-estimator sk-toggleable\"><input class=\"sk-toggleable__control sk-hidden--visually\" id=\"sk-estimator-id-3\" type=\"checkbox\" ><label for=\"sk-estimator-id-3\" class=\"sk-toggleable__label sk-toggleable__label-arrow\">SVC</label><div class=\"sk-toggleable__content\"><pre>SVC(probability=True)</pre></div></div></div></div></div></div></div></div></div></div>"
      ],
      "text/plain": [
       "GridSearchCV(cv=2, estimator=SVC(probability=True), n_jobs=-1,\n",
       "             param_grid={'C': [1.0], 'class_weight': ['balanced'],\n",
       "                         'gamma': [1.0], 'kernel': ['polynomial', 'rbf']},\n",
       "             scoring='f1_macro')"
      ]
     },
     "execution_count": 15,
     "metadata": {},
     "output_type": "execute_result"
    }
   ],
   "source": [
    "# définition de la grille de recherche et d'une stratégie basée sur le F1-score pour rechercher le meilleur estimateur\n",
    "gcv_svm = GridSearchCV(clf_svm, param_grid=param_grid_svm, scoring='f1_macro', n_jobs=-1, cv=2)\n",
    "\n",
    "# entraînement du modèle\n",
    "gcv_svm.fit(X_train_scaled, y_train)"
   ]
  },
  {
   "cell_type": "code",
   "execution_count": 16,
   "id": "ecd935a5-16c4-4cdd-902c-28f6af55284b",
   "metadata": {},
   "outputs": [
    {
     "name": "stdout",
     "output_type": "stream",
     "text": [
      "Meilleurs paramètres: {'C': 1.0, 'class_weight': 'balanced', 'gamma': 1.0, 'kernel': 'rbf'} \n",
      "\n",
      "Train Data Score: 0.8892563449751445\n",
      "Test Data Score: 0.7332591148439721\n",
      "\n",
      "               precision    recall  f1-score   support\n",
      "\n",
      "           0       0.89      0.88      0.89     21962\n",
      "           1       0.60      0.63      0.62      6196\n",
      "\n",
      "    accuracy                           0.83     28158\n",
      "   macro avg       0.75      0.76      0.75     28158\n",
      "weighted avg       0.83      0.83      0.83     28158\n",
      "\n",
      "\n",
      "                    pre       rec       spe        f1       geo       iba       sup\n",
      "\n",
      "          0       0.89      0.88      0.63      0.89      0.75      0.57     21962\n",
      "          1       0.60      0.63      0.88      0.62      0.75      0.54      6196\n",
      "\n",
      "avg / total       0.83      0.83      0.69      0.83      0.75      0.56     28158\n",
      "\n"
     ]
    }
   ],
   "source": [
    "# prédictions du modèle à l'aide d'un seuil de probabilités adapté pour mieux distinguer les classes\n",
    "y_probas = gcv_svm.predict_proba(X_test_scaled)\n",
    "y_pred = (y_probas[:,1] >= 0.71).astype(bool)\n",
    "\n",
    "# affichage des meilleurs paramètres\n",
    "print('Meilleurs paramètres:', gcv_svm.best_params_, \"\\n\")\n",
    "\n",
    "# vérification de l'underfitting et overfitting\n",
    "print('Train Data Score: {}'.format(gcv_svm.score(X_train_scaled, y_train)))\n",
    "print('Test Data Score: {}'.format(gcv_svm.score(X_test_scaled, y_test)))\n",
    "\n",
    "# affichage du rapport de classification \n",
    "print('\\n', classification_report(y_test, y_pred))\n",
    "\n",
    "# affichage du rapport de classification spécifique aux jeux de données déséquilibrés\n",
    "print('\\n', classification_report_imbalanced(y_test, y_pred))"
   ]
  },
  {
   "cell_type": "markdown",
   "id": "88268929-d907-4122-928d-b98fabfad4fe",
   "metadata": {
    "id": "9Y4v2WC_0-4Y"
   },
   "source": [
    "- la méthode de régression logistique **fait l'objet d'un fort sur-apprentissage** (score=F1_macro)\n",
    "\n",
    "La classe positive est caractérisée par:\n",
    "- une précision et un rappel parfaitement équilibrés\n",
    "- `un F1-score macro égal à 0.75`\n",
    "- `une moyenne géométrique égale à 0.75`"
   ]
  },
  {
   "cell_type": "markdown",
   "id": "ef157141",
   "metadata": {},
   "source": [
    "### Interprétation du modèle avec Skater"
   ]
  },
  {
   "cell_type": "code",
   "execution_count": 17,
   "id": "0be23239",
   "metadata": {},
   "outputs": [],
   "source": [
    "# conversion de l'ensemble d'entraînement standardisé en DataFrame\n",
    "X_train_scaled = pd.DataFrame(X_train_scaled, columns=X_train.columns)"
   ]
  },
  {
   "cell_type": "code",
   "execution_count": 18,
   "id": "1244d8e0",
   "metadata": {},
   "outputs": [],
   "source": [
    "# création d'un modèle\n",
    "model = InMemoryModel(gcv_svm.best_estimator_.predict_proba, examples=X_train_scaled)"
   ]
  },
  {
   "cell_type": "code",
   "execution_count": 19,
   "id": "c5990d52",
   "metadata": {},
   "outputs": [],
   "source": [
    "# création d'une interprétation\n",
    "interpreter = Interpretation(X_train_scaled, feature_names=X_train_scaled.columns)"
   ]
  },
  {
   "cell_type": "code",
   "execution_count": 20,
   "id": "05080b4b",
   "metadata": {},
   "outputs": [],
   "source": [
    "# création d'un objet DataSet à partir des entrées, lié à l'interprétation\n",
    "interpreter.load_data(X_train_scaled)"
   ]
  },
  {
   "cell_type": "code",
   "execution_count": 21,
   "id": "46a6848b",
   "metadata": {},
   "outputs": [
    {
     "name": "stdout",
     "output_type": "stream",
     "text": [
      "[13/13] features ████████████████████ Time elapsed: 2576 seconds"
     ]
    },
    {
     "data": {
      "image/png": "[encoded data removed]",
      "text/plain": [
       "<Figure size 1200x600 with 1 Axes>"
      ]
     },
     "metadata": {},
     "output_type": "display_data"
    }
   ],
   "source": [
    "# affichage de l'importance des variables dans le jeu de données\n",
    "plt.rcParams['figure.figsize'] = (12,6)\n",
    "interpreter.feature_importance.plot_feature_importance(model, ascending=True);"
   ]
  },
  {
   "cell_type": "markdown",
   "id": "93d27ea3",
   "metadata": {},
   "source": [
    "Nous affichons ci-dessous les graphiques de dépendance partielle des variables ayant le plus d'importance pour mesurer individuellement leur impact sur la prédiction du modèle, lorsque les autres variables sont maintenues constantes. \n",
    "\n",
    "La dérivée de la dépendance partielle permet de décrire l'impact de chaque variable."
   ]
  },
  {
   "cell_type": "code",
   "execution_count": 22,
   "id": "12b4f16c",
   "metadata": {},
   "outputs": [
    {
     "name": "stdout",
     "output_type": "stream",
     "text": [
      "[69/69] grid cells ████████████████████ Time elapsed: 41 seconds"
     ]
    },
    {
     "data": {
      "image/png": "[encoded data removed]",
      "text/plain": [
       "<Figure size 600x400 with 1 Axes>"
      ]
     },
     "metadata": {},
     "output_type": "display_data"
    }
   ],
   "source": [
    "# affichage du graphique de dépendance partielle de la variable \"Sunshine\"\n",
    "interpreter.partial_dependence.plot_partial_dependence(\n",
    "    ['Sunshine'], model, grid_resolution=100, with_variance=True, figsize=(6,4));"
   ]
  },
  {
   "cell_type": "markdown",
   "id": "fbc319e1",
   "metadata": {},
   "source": [
    "Plus l'ensoleillement est faible, plus il est probable qu'il pleuve le lendemain."
   ]
  },
  {
   "cell_type": "code",
   "execution_count": 23,
   "id": "d378b8dc",
   "metadata": {},
   "outputs": [
    {
     "name": "stdout",
     "output_type": "stream",
     "text": [
      "[100/100] grid cells ████████████████████ Time elapsed: 73 seconds"
     ]
    },
    {
     "data": {
      "image/png": "[encoded data removed]",
      "text/plain": [
       "<Figure size 600x400 with 1 Axes>"
      ]
     },
     "metadata": {},
     "output_type": "display_data"
    }
   ],
   "source": [
    "# affichage du graphique de dépendance partielle de la variable \"Pressure9am\"\n",
    "interpreter.partial_dependence.plot_partial_dependence(\n",
    "    ['Pressure9am'], model, grid_resolution=100, with_variance=True, figsize=(6,4));"
   ]
  },
  {
   "cell_type": "markdown",
   "id": "168d4cdb",
   "metadata": {},
   "source": [
    "Plus la pression est faible à 9h, plus il est probable qu'il pleuve le lendemain."
   ]
  },
  {
   "cell_type": "code",
   "execution_count": 25,
   "id": "1761b105",
   "metadata": {},
   "outputs": [
    {
     "name": "stdout",
     "output_type": "stream",
     "text": [
      "[100/100] grid cells ████████████████████ Time elapsed: 57 seconds"
     ]
    },
    {
     "data": {
      "image/png": "[encoded data removed]",
      "text/plain": [
       "<Figure size 600x400 with 1 Axes>"
      ]
     },
     "metadata": {},
     "output_type": "display_data"
    }
   ],
   "source": [
    "# affichage du graphique de dépendance partielle de la variable \"Temp_Delta_MinMax\"\n",
    "interpreter.partial_dependence.plot_partial_dependence(\n",
    "    ['Temp_Delta_MinMax'], model, grid_resolution=100, with_variance=True, figsize=(6,4));"
   ]
  },
  {
   "cell_type": "markdown",
   "id": "33733a60",
   "metadata": {},
   "source": [
    "Plus l'écart de température est faible, plus il est probable qu'il pleuve le lendemain."
   ]
  },
  {
   "cell_type": "code",
   "execution_count": null,
   "id": "7a9d4354",
   "metadata": {},
   "outputs": [],
   "source": []
  }
 ],
 "metadata": {
  "colab": {
   "collapsed_sections": [
    "uWfmqoPvIcAJ",
    "7cgssDKFKwJt",
    "KBG3Oj9wLm3n",
    "T0UkvrmRa8FF",
    "ThpQoKaXo-uE",
    "V2xWPtqopDmU",
    "YvGvgSWFqS-b",
    "9de277aa",
    "9mJr-YJRueyJ",
    "ci-XSrHBu6RL",
    "5gGeDEOOvAkp",
    "P-arQbY85ND-",
    "8jpipwx96O3Q",
    "Ru7wQG31lYmQ"
   ],
   "name": "common_pyAusRainfall_modelisation2.ipynb",
   "provenance": []
  },
  "kernelspec": {
   "display_name": "Python 3 (ipykernel)",
   "language": "python",
   "name": "python3"
  },
  "language_info": {
   "codemirror_mode": {
    "name": "ipython",
    "version": 3
   },
   "file_extension": ".py",
   "mimetype": "text/x-python",
   "name": "python",
   "nbconvert_exporter": "python",
   "pygments_lexer": "ipython3",
   "version": "3.9.13"
  }
 },
 "nbformat": 4,
 "nbformat_minor": 5
}
