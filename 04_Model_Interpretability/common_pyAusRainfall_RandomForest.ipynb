{
 "cells": [
  {
   "cell_type": "markdown",
   "id": "b3c79482",
   "metadata": {
    "id": "uWfmqoPvIcAJ"
   },
   "source": [
    "# Prévisions météorologiques en Australie"
   ]
  },
  {
   "cell_type": "markdown",
   "id": "1ea7ef4e",
   "metadata": {},
   "source": [
    "# Modélisation avec étape de ré-échantillonage"
   ]
  },
  {
   "cell_type": "markdown",
   "id": "900c394e",
   "metadata": {
    "id": "NJN5xGP7CUc_"
   },
   "source": [
    "# Récupération des librairies"
   ]
  },
  {
   "cell_type": "code",
   "execution_count": 1,
   "id": "3b21c1d7",
   "metadata": {},
   "outputs": [
    {
     "name": "stdout",
     "output_type": "stream",
     "text": [
      "Requirement already satisfied: imblearn in c:\\users\\jo.charles\\anaconda3\\lib\\site-packages (0.0)\n",
      "Requirement already satisfied: imbalanced-learn in c:\\users\\jo.charles\\anaconda3\\lib\\site-packages (from imblearn) (0.9.1)\n",
      "Requirement already satisfied: scipy>=1.3.2 in c:\\users\\jo.charles\\anaconda3\\lib\\site-packages (from imbalanced-learn->imblearn) (1.9.1)\n",
      "Requirement already satisfied: threadpoolctl>=2.0.0 in c:\\users\\jo.charles\\anaconda3\\lib\\site-packages (from imbalanced-learn->imblearn) (2.2.0)\n",
      "Requirement already satisfied: numpy>=1.17.3 in c:\\users\\jo.charles\\anaconda3\\lib\\site-packages (from imbalanced-learn->imblearn) (1.21.5)\n",
      "Requirement already satisfied: scikit-learn>=1.1.0 in c:\\users\\jo.charles\\anaconda3\\lib\\site-packages (from imbalanced-learn->imblearn) (1.1.3)\n",
      "Requirement already satisfied: joblib>=1.0.0 in c:\\users\\jo.charles\\anaconda3\\lib\\site-packages (from imbalanced-learn->imblearn) (1.1.0)\n"
     ]
    }
   ],
   "source": [
    "# récupération du package imblearn\n",
    "!pip install --upgrade imblearn"
   ]
  },
  {
   "cell_type": "code",
   "execution_count": 2,
   "id": "8b2e3931",
   "metadata": {
    "id": "db07acc9"
   },
   "outputs": [],
   "source": [
    "# récupération des librairies\n",
    "%matplotlib inline\n",
    "import matplotlib.pyplot as plt\n",
    "import numpy as np\n",
    "import pandas as pd\n",
    "import scikitplot as skplt\n",
    "import time, datetime\n",
    "import warnings\n",
    "warnings.filterwarnings(\"ignore\")\n",
    "\n",
    "from sklearn import neighbors\n",
    "from sklearn.inspection import permutation_importance\n",
    "from sklearn.ensemble import RandomForestClassifier\n",
    "from sklearn.metrics import classification_report\n",
    "from sklearn.model_selection import GridSearchCV, train_test_split\n",
    "from sklearn.preprocessing import StandardScaler\n",
    "\n",
    "from imblearn.under_sampling import RandomUnderSampler\n",
    "from imblearn.metrics import classification_report_imbalanced"
   ]
  },
  {
   "cell_type": "markdown",
   "id": "d4d93a1f",
   "metadata": {
    "id": "9de277aa"
   },
   "source": [
    "# Modèle de classification par apprentissage supervisé"
   ]
  },
  {
   "cell_type": "code",
   "execution_count": 3,
   "id": "c89e4dba",
   "metadata": {
    "colab": {
     "base_uri": "https://localhost:8080/",
     "height": 206
    },
    "id": "lD16-9ECM9nT",
    "outputId": "66f7f93c-00bd-4ca8-a9d2-0cb128201dae"
   },
   "outputs": [
    {
     "data": {
      "text/html": [
       "<div>\n",
       "<style scoped>\n",
       "    .dataframe tbody tr th:only-of-type {\n",
       "        vertical-align: middle;\n",
       "    }\n",
       "\n",
       "    .dataframe tbody tr th {\n",
       "        vertical-align: top;\n",
       "    }\n",
       "\n",
       "    .dataframe thead th {\n",
       "        text-align: right;\n",
       "    }\n",
       "</style>\n",
       "<table border=\"1\" class=\"dataframe\">\n",
       "  <thead>\n",
       "    <tr style=\"text-align: right;\">\n",
       "      <th></th>\n",
       "      <th>Rainfall</th>\n",
       "      <th>Sunshine</th>\n",
       "      <th>WindGustSpeed</th>\n",
       "      <th>Humidity3pm</th>\n",
       "      <th>Pressure9am</th>\n",
       "      <th>Cloud3pm</th>\n",
       "      <th>Temp3pm</th>\n",
       "      <th>Temp_Delta_MinMax</th>\n",
       "      <th>Humidity_Delta</th>\n",
       "      <th>clim_chaud_humide</th>\n",
       "      <th>clim_méditerranéen</th>\n",
       "      <th>clim_sec</th>\n",
       "      <th>clim_tempéré_froid</th>\n",
       "      <th>RainTomorrow</th>\n",
       "    </tr>\n",
       "  </thead>\n",
       "  <tbody>\n",
       "    <tr>\n",
       "      <th>0</th>\n",
       "      <td>0.6</td>\n",
       "      <td>4.94000</td>\n",
       "      <td>44.0</td>\n",
       "      <td>22.0</td>\n",
       "      <td>1007.7</td>\n",
       "      <td>7.40000</td>\n",
       "      <td>21.8</td>\n",
       "      <td>9.5</td>\n",
       "      <td>-49.0</td>\n",
       "      <td>1</td>\n",
       "      <td>0</td>\n",
       "      <td>0</td>\n",
       "      <td>0</td>\n",
       "      <td>0</td>\n",
       "    </tr>\n",
       "    <tr>\n",
       "      <th>1</th>\n",
       "      <td>0.0</td>\n",
       "      <td>7.63054</td>\n",
       "      <td>44.0</td>\n",
       "      <td>25.0</td>\n",
       "      <td>1010.6</td>\n",
       "      <td>4.49925</td>\n",
       "      <td>24.3</td>\n",
       "      <td>17.7</td>\n",
       "      <td>-19.0</td>\n",
       "      <td>1</td>\n",
       "      <td>0</td>\n",
       "      <td>0</td>\n",
       "      <td>0</td>\n",
       "      <td>0</td>\n",
       "    </tr>\n",
       "    <tr>\n",
       "      <th>2</th>\n",
       "      <td>0.0</td>\n",
       "      <td>7.96000</td>\n",
       "      <td>46.0</td>\n",
       "      <td>30.0</td>\n",
       "      <td>1007.6</td>\n",
       "      <td>2.00000</td>\n",
       "      <td>23.2</td>\n",
       "      <td>12.8</td>\n",
       "      <td>-8.0</td>\n",
       "      <td>1</td>\n",
       "      <td>0</td>\n",
       "      <td>0</td>\n",
       "      <td>0</td>\n",
       "      <td>0</td>\n",
       "    </tr>\n",
       "    <tr>\n",
       "      <th>3</th>\n",
       "      <td>0.0</td>\n",
       "      <td>7.63054</td>\n",
       "      <td>24.0</td>\n",
       "      <td>16.0</td>\n",
       "      <td>1017.6</td>\n",
       "      <td>4.49925</td>\n",
       "      <td>26.5</td>\n",
       "      <td>18.8</td>\n",
       "      <td>-29.0</td>\n",
       "      <td>1</td>\n",
       "      <td>0</td>\n",
       "      <td>0</td>\n",
       "      <td>0</td>\n",
       "      <td>0</td>\n",
       "    </tr>\n",
       "    <tr>\n",
       "      <th>4</th>\n",
       "      <td>1.0</td>\n",
       "      <td>0.90000</td>\n",
       "      <td>41.0</td>\n",
       "      <td>33.0</td>\n",
       "      <td>1010.8</td>\n",
       "      <td>8.00000</td>\n",
       "      <td>29.7</td>\n",
       "      <td>14.8</td>\n",
       "      <td>-49.0</td>\n",
       "      <td>1</td>\n",
       "      <td>0</td>\n",
       "      <td>0</td>\n",
       "      <td>0</td>\n",
       "      <td>0</td>\n",
       "    </tr>\n",
       "  </tbody>\n",
       "</table>\n",
       "</div>"
      ],
      "text/plain": [
       "   Rainfall  Sunshine  WindGustSpeed  Humidity3pm  Pressure9am  Cloud3pm  \\\n",
       "0       0.6   4.94000           44.0         22.0       1007.7   7.40000   \n",
       "1       0.0   7.63054           44.0         25.0       1010.6   4.49925   \n",
       "2       0.0   7.96000           46.0         30.0       1007.6   2.00000   \n",
       "3       0.0   7.63054           24.0         16.0       1017.6   4.49925   \n",
       "4       1.0   0.90000           41.0         33.0       1010.8   8.00000   \n",
       "\n",
       "   Temp3pm  Temp_Delta_MinMax  Humidity_Delta  clim_chaud_humide  \\\n",
       "0     21.8                9.5           -49.0                  1   \n",
       "1     24.3               17.7           -19.0                  1   \n",
       "2     23.2               12.8            -8.0                  1   \n",
       "3     26.5               18.8           -29.0                  1   \n",
       "4     29.7               14.8           -49.0                  1   \n",
       "\n",
       "   clim_méditerranéen  clim_sec  clim_tempéré_froid  RainTomorrow  \n",
       "0                   0         0                   0             0  \n",
       "1                   0         0                   0             0  \n",
       "2                   0         0                   0             0  \n",
       "3                   0         0                   0             0  \n",
       "4                   0         0                   0             0  "
      ]
     },
     "execution_count": 3,
     "metadata": {},
     "output_type": "execute_result"
    }
   ],
   "source": [
    "# récuperation et aperçu du jeu de données après prétraitement des données, après l'étape de classification des villes \n",
    "# en fonction du climat et après sélection des variables les plus pertinentes selon la méthode SelectKBest()\n",
    "df = pd.read_csv('../data/weatherAUS_preprocessed.csv', index_col=0)\n",
    "df.head()"
   ]
  },
  {
   "cell_type": "code",
   "execution_count": 4,
   "id": "533bf4a3",
   "metadata": {
    "id": "1a697ea1"
   },
   "outputs": [],
   "source": [
    "# séparation des données en une matrice de données et en un vecteur cible\n",
    "data = df.drop('RainTomorrow', axis=1)\n",
    "target = df['RainTomorrow']"
   ]
  },
  {
   "cell_type": "code",
   "execution_count": 5,
   "id": "581273d1",
   "metadata": {
    "id": "5b04edc6"
   },
   "outputs": [],
   "source": [
    "# division des données en un ensemble d'entraînement et un ensemble de test correspondant respectivement \n",
    "# à 80% et 20% de la quantité totale des données disponibles\n",
    "X_train, X_test, y_train, y_test = train_test_split(data, target, test_size=0.2, random_state=123)"
   ]
  },
  {
   "cell_type": "code",
   "execution_count": 6,
   "id": "397c1139",
   "metadata": {
    "colab": {
     "base_uri": "https://localhost:8080/"
    },
    "id": "13b41857",
    "outputId": "0f6a000e-7b8b-4199-ded6-218bc47a994b"
   },
   "outputs": [],
   "source": [
    "# undersampling des données\n",
    "rUs = RandomUnderSampler()\n",
    "X_train, y_train = rUs.fit_resample(X_train, y_train)"
   ]
  },
  {
   "cell_type": "code",
   "execution_count": 7,
   "id": "8445c360",
   "metadata": {
    "colab": {
     "base_uri": "https://localhost:8080/"
    },
    "id": "qnmjv-fVsQDY",
    "outputId": "56c46f40-388d-4e1e-aaa6-c662eb0c6d3b"
   },
   "outputs": [
    {
     "name": "stdout",
     "output_type": "stream",
     "text": [
      "Cardinalité des classes de la variable cible ré-échantillonnée: {0: 25005, 1: 25005}\n"
     ]
    }
   ],
   "source": [
    "# distribution de la variable cible ré-échantillonnée dans l'ensemble d'entraînement\n",
    "print(\"Cardinalité des classes de la variable cible ré-échantillonnée:\", dict(pd.Series(y_train).value_counts()))"
   ]
  },
  {
   "cell_type": "code",
   "execution_count": 8,
   "id": "9f9d5b2d",
   "metadata": {},
   "outputs": [
    {
     "data": {
      "text/plain": [
       "0    0.5\n",
       "1    0.5\n",
       "Name: RainTomorrow, dtype: float64"
      ]
     },
     "execution_count": 8,
     "metadata": {},
     "output_type": "execute_result"
    }
   ],
   "source": [
    "# distribution de la variable cible ré-échantillonnée dans l'ensemble d'entraînement\n",
    "y_train.value_counts(normalize=True)"
   ]
  },
  {
   "cell_type": "code",
   "execution_count": 9,
   "id": "86a21c0c",
   "metadata": {},
   "outputs": [
    {
     "name": "stdout",
     "output_type": "stream",
     "text": [
      "Cardinalité des classes de la variable cible dans l'ensemble de test: {0: 21962, 1: 6196}\n"
     ]
    }
   ],
   "source": [
    "# distribution de la variable cible dans l'ensemble de test\n",
    "print(\"Cardinalité des classes de la variable cible dans l'ensemble de test:\", \n",
    "      dict(pd.Series(y_test).value_counts()))"
   ]
  },
  {
   "cell_type": "code",
   "execution_count": 10,
   "id": "3453643e",
   "metadata": {},
   "outputs": [
    {
     "data": {
      "text/plain": [
       "0    0.779956\n",
       "1    0.220044\n",
       "Name: RainTomorrow, dtype: float64"
      ]
     },
     "execution_count": 10,
     "metadata": {},
     "output_type": "execute_result"
    }
   ],
   "source": [
    "# distribution de la variable cible dans l'ensemble de test\n",
    "y_test.value_counts(normalize=True)"
   ]
  },
  {
   "cell_type": "code",
   "execution_count": 11,
   "id": "951926eb",
   "metadata": {
    "id": "06b700ea"
   },
   "outputs": [],
   "source": [
    "# standardisation des données\n",
    "scaler = StandardScaler()\n",
    "\n",
    "X_train_scaled = scaler.fit_transform(X_train)\n",
    "X_test_scaled = scaler.transform(X_test)"
   ]
  },
  {
   "cell_type": "markdown",
   "id": "35a00efb",
   "metadata": {
    "id": "ci-XSrHBu6RL"
   },
   "source": [
    "### Forêts Aléatoires"
   ]
  },
  {
   "cell_type": "code",
   "execution_count": 12,
   "id": "552a71fe-54bf-4267-a389-c8685e67fbd0",
   "metadata": {},
   "outputs": [],
   "source": [
    "# définition du modèle\n",
    "clf_rf = RandomForestClassifier()"
   ]
  },
  {
   "cell_type": "code",
   "execution_count": 13,
   "id": "bcdf1ce9-362e-4536-8880-eb822ddad1d3",
   "metadata": {},
   "outputs": [],
   "source": [
    "# définition de l'intervalle pour le coefficient de pondération\n",
    "weights = np.linspace(0.0,0.9,50)"
   ]
  },
  {
   "cell_type": "code",
   "execution_count": 14,
   "id": "29a5bc29-2a35-402a-913a-79ef71beeca0",
   "metadata": {},
   "outputs": [],
   "source": [
    "# définition de la grille de paramètres pour GridSearchCV avec restriction des paramètres en fonction des résultats précédents\n",
    "param_grid_rf = [{'n_estimators':[200], 'min_samples_leaf':[2], 'max_features':['log2'], 'class_weight':[{0:x, 1:1.0-x} for x in weights]}]"
   ]
  },
  {
   "cell_type": "code",
   "execution_count": 15,
   "id": "632b92c7-644d-4618-a9e7-dc3ca27199c5",
   "metadata": {},
   "outputs": [
    {
     "data": {
      "text/html": [
       "<style>#sk-container-id-1 {color: black;background-color: white;}#sk-container-id-1 pre{padding: 0;}#sk-container-id-1 div.sk-toggleable {background-color: white;}#sk-container-id-1 label.sk-toggleable__label {cursor: pointer;display: block;width: 100%;margin-bottom: 0;padding: 0.3em;box-sizing: border-box;text-align: center;}#sk-container-id-1 label.sk-toggleable__label-arrow:before {content: \"▸\";float: left;margin-right: 0.25em;color: #696969;}#sk-container-id-1 label.sk-toggleable__label-arrow:hover:before {color: black;}#sk-container-id-1 div.sk-estimator:hover label.sk-toggleable__label-arrow:before {color: black;}#sk-container-id-1 div.sk-toggleable__content {max-height: 0;max-width: 0;overflow: hidden;text-align: left;background-color: #f0f8ff;}#sk-container-id-1 div.sk-toggleable__content pre {margin: 0.2em;color: black;border-radius: 0.25em;background-color: #f0f8ff;}#sk-container-id-1 input.sk-toggleable__control:checked~div.sk-toggleable__content {max-height: 200px;max-width: 100%;overflow: auto;}#sk-container-id-1 input.sk-toggleable__control:checked~label.sk-toggleable__label-arrow:before {content: \"▾\";}#sk-container-id-1 div.sk-estimator input.sk-toggleable__control:checked~label.sk-toggleable__label {background-color: #d4ebff;}#sk-container-id-1 div.sk-label input.sk-toggleable__control:checked~label.sk-toggleable__label {background-color: #d4ebff;}#sk-container-id-1 input.sk-hidden--visually {border: 0;clip: rect(1px 1px 1px 1px);clip: rect(1px, 1px, 1px, 1px);height: 1px;margin: -1px;overflow: hidden;padding: 0;position: absolute;width: 1px;}#sk-container-id-1 div.sk-estimator {font-family: monospace;background-color: #f0f8ff;border: 1px dotted black;border-radius: 0.25em;box-sizing: border-box;margin-bottom: 0.5em;}#sk-container-id-1 div.sk-estimator:hover {background-color: #d4ebff;}#sk-container-id-1 div.sk-parallel-item::after {content: \"\";width: 100%;border-bottom: 1px solid gray;flex-grow: 1;}#sk-container-id-1 div.sk-label:hover label.sk-toggleable__label {background-color: #d4ebff;}#sk-container-id-1 div.sk-serial::before {content: \"\";position: absolute;border-left: 1px solid gray;box-sizing: border-box;top: 0;bottom: 0;left: 50%;z-index: 0;}#sk-container-id-1 div.sk-serial {display: flex;flex-direction: column;align-items: center;background-color: white;padding-right: 0.2em;padding-left: 0.2em;position: relative;}#sk-container-id-1 div.sk-item {position: relative;z-index: 1;}#sk-container-id-1 div.sk-parallel {display: flex;align-items: stretch;justify-content: center;background-color: white;position: relative;}#sk-container-id-1 div.sk-item::before, #sk-container-id-1 div.sk-parallel-item::before {content: \"\";position: absolute;border-left: 1px solid gray;box-sizing: border-box;top: 0;bottom: 0;left: 50%;z-index: -1;}#sk-container-id-1 div.sk-parallel-item {display: flex;flex-direction: column;z-index: 1;position: relative;background-color: white;}#sk-container-id-1 div.sk-parallel-item:first-child::after {align-self: flex-end;width: 50%;}#sk-container-id-1 div.sk-parallel-item:last-child::after {align-self: flex-start;width: 50%;}#sk-container-id-1 div.sk-parallel-item:only-child::after {width: 0;}#sk-container-id-1 div.sk-dashed-wrapped {border: 1px dashed gray;margin: 0 0.4em 0.5em 0.4em;box-sizing: border-box;padding-bottom: 0.4em;background-color: white;}#sk-container-id-1 div.sk-label label {font-family: monospace;font-weight: bold;display: inline-block;line-height: 1.2em;}#sk-container-id-1 div.sk-label-container {text-align: center;}#sk-container-id-1 div.sk-container {/* jupyter's `normalize.less` sets `[hidden] { display: none; }` but bootstrap.min.css set `[hidden] { display: none !important; }` so we also need the `!important` here to be able to override the default hidden behavior on the sphinx rendered scikit-learn.org. See: https://github.com/scikit-learn/scikit-learn/issues/21755 */display: inline-block !important;position: relative;}#sk-container-id-1 div.sk-text-repr-fallback {display: none;}</style><div id=\"sk-container-id-1\" class=\"sk-top-container\"><div class=\"sk-text-repr-fallback\"><pre>GridSearchCV(cv=3, estimator=RandomForestClassifier(), n_jobs=-1,\n",
       "             param_grid=[{&#x27;class_weight&#x27;: [{0: 0.0, 1: 1.0},\n",
       "                                           {0: 0.018367346938775512,\n",
       "                                            1: 0.9816326530612245},\n",
       "                                           {0: 0.036734693877551024,\n",
       "                                            1: 0.963265306122449},\n",
       "                                           {0: 0.05510204081632654,\n",
       "                                            1: 0.9448979591836735},\n",
       "                                           {0: 0.07346938775510205,\n",
       "                                            1: 0.926530612244898},\n",
       "                                           {0: 0.09183673469387756,\n",
       "                                            1: 0.9081632653061225},\n",
       "                                           {0: 0.11020408163265...\n",
       "                                           {0: 0.4408163265306123,\n",
       "                                            1: 0.5591836734693877},\n",
       "                                           {0: 0.4591836734693878,\n",
       "                                            1: 0.5408163265306122},\n",
       "                                           {0: 0.47755102040816333,\n",
       "                                            1: 0.5224489795918367},\n",
       "                                           {0: 0.49591836734693884,\n",
       "                                            1: 0.5040816326530612},\n",
       "                                           {0: 0.5142857142857143,\n",
       "                                            1: 0.48571428571428565},\n",
       "                                           {0: 0.5326530612244899,\n",
       "                                            1: 0.46734693877551015}, ...],\n",
       "                          &#x27;max_features&#x27;: [&#x27;log2&#x27;], &#x27;min_samples_leaf&#x27;: [2],\n",
       "                          &#x27;n_estimators&#x27;: [200]}],\n",
       "             scoring=&#x27;f1_macro&#x27;)</pre><b>In a Jupyter environment, please rerun this cell to show the HTML representation or trust the notebook. <br />On GitHub, the HTML representation is unable to render, please try loading this page with nbviewer.org.</b></div><div class=\"sk-container\" hidden><div class=\"sk-item sk-dashed-wrapped\"><div class=\"sk-label-container\"><div class=\"sk-label sk-toggleable\"><input class=\"sk-toggleable__control sk-hidden--visually\" id=\"sk-estimator-id-1\" type=\"checkbox\" ><label for=\"sk-estimator-id-1\" class=\"sk-toggleable__label sk-toggleable__label-arrow\">GridSearchCV</label><div class=\"sk-toggleable__content\"><pre>GridSearchCV(cv=3, estimator=RandomForestClassifier(), n_jobs=-1,\n",
       "             param_grid=[{&#x27;class_weight&#x27;: [{0: 0.0, 1: 1.0},\n",
       "                                           {0: 0.018367346938775512,\n",
       "                                            1: 0.9816326530612245},\n",
       "                                           {0: 0.036734693877551024,\n",
       "                                            1: 0.963265306122449},\n",
       "                                           {0: 0.05510204081632654,\n",
       "                                            1: 0.9448979591836735},\n",
       "                                           {0: 0.07346938775510205,\n",
       "                                            1: 0.926530612244898},\n",
       "                                           {0: 0.09183673469387756,\n",
       "                                            1: 0.9081632653061225},\n",
       "                                           {0: 0.11020408163265...\n",
       "                                           {0: 0.4408163265306123,\n",
       "                                            1: 0.5591836734693877},\n",
       "                                           {0: 0.4591836734693878,\n",
       "                                            1: 0.5408163265306122},\n",
       "                                           {0: 0.47755102040816333,\n",
       "                                            1: 0.5224489795918367},\n",
       "                                           {0: 0.49591836734693884,\n",
       "                                            1: 0.5040816326530612},\n",
       "                                           {0: 0.5142857142857143,\n",
       "                                            1: 0.48571428571428565},\n",
       "                                           {0: 0.5326530612244899,\n",
       "                                            1: 0.46734693877551015}, ...],\n",
       "                          &#x27;max_features&#x27;: [&#x27;log2&#x27;], &#x27;min_samples_leaf&#x27;: [2],\n",
       "                          &#x27;n_estimators&#x27;: [200]}],\n",
       "             scoring=&#x27;f1_macro&#x27;)</pre></div></div></div><div class=\"sk-parallel\"><div class=\"sk-parallel-item\"><div class=\"sk-item\"><div class=\"sk-label-container\"><div class=\"sk-label sk-toggleable\"><input class=\"sk-toggleable__control sk-hidden--visually\" id=\"sk-estimator-id-2\" type=\"checkbox\" ><label for=\"sk-estimator-id-2\" class=\"sk-toggleable__label sk-toggleable__label-arrow\">estimator: RandomForestClassifier</label><div class=\"sk-toggleable__content\"><pre>RandomForestClassifier()</pre></div></div></div><div class=\"sk-serial\"><div class=\"sk-item\"><div class=\"sk-estimator sk-toggleable\"><input class=\"sk-toggleable__control sk-hidden--visually\" id=\"sk-estimator-id-3\" type=\"checkbox\" ><label for=\"sk-estimator-id-3\" class=\"sk-toggleable__label sk-toggleable__label-arrow\">RandomForestClassifier</label><div class=\"sk-toggleable__content\"><pre>RandomForestClassifier()</pre></div></div></div></div></div></div></div></div></div></div>"
      ],
      "text/plain": [
       "GridSearchCV(cv=3, estimator=RandomForestClassifier(), n_jobs=-1,\n",
       "             param_grid=[{'class_weight': [{0: 0.0, 1: 1.0},\n",
       "                                           {0: 0.018367346938775512,\n",
       "                                            1: 0.9816326530612245},\n",
       "                                           {0: 0.036734693877551024,\n",
       "                                            1: 0.963265306122449},\n",
       "                                           {0: 0.05510204081632654,\n",
       "                                            1: 0.9448979591836735},\n",
       "                                           {0: 0.07346938775510205,\n",
       "                                            1: 0.926530612244898},\n",
       "                                           {0: 0.09183673469387756,\n",
       "                                            1: 0.9081632653061225},\n",
       "                                           {0: 0.11020408163265...\n",
       "                                           {0: 0.4408163265306123,\n",
       "                                            1: 0.5591836734693877},\n",
       "                                           {0: 0.4591836734693878,\n",
       "                                            1: 0.5408163265306122},\n",
       "                                           {0: 0.47755102040816333,\n",
       "                                            1: 0.5224489795918367},\n",
       "                                           {0: 0.49591836734693884,\n",
       "                                            1: 0.5040816326530612},\n",
       "                                           {0: 0.5142857142857143,\n",
       "                                            1: 0.48571428571428565},\n",
       "                                           {0: 0.5326530612244899,\n",
       "                                            1: 0.46734693877551015}, ...],\n",
       "                          'max_features': ['log2'], 'min_samples_leaf': [2],\n",
       "                          'n_estimators': [200]}],\n",
       "             scoring='f1_macro')"
      ]
     },
     "execution_count": 15,
     "metadata": {},
     "output_type": "execute_result"
    }
   ],
   "source": [
    "# définition de la grille de recherche et d'une stratégie basée sur le F1-score pour rechercher le meilleur estimateur\n",
    "gcv_rf = GridSearchCV(clf_rf, param_grid=param_grid_rf, scoring='f1_macro', n_jobs=-1, cv=3)\n",
    "\n",
    "# entraînement du modèle\n",
    "gcv_rf.fit(X_train_scaled, y_train)"
   ]
  },
  {
   "cell_type": "code",
   "execution_count": 18,
   "id": "6d804c50-a5ea-431e-a8de-f237f66d4858",
   "metadata": {},
   "outputs": [
    {
     "name": "stdout",
     "output_type": "stream",
     "text": [
      "Meilleurs paramètres: {'class_weight': {0: 0.4408163265306123, 1: 0.5591836734693877}, 'max_features': 'log2', 'min_samples_leaf': 2, 'n_estimators': 200} \n",
      "\n",
      "Train Data Score: 0.978103275751699\n",
      "Test Data Score: 0.7384425523145806\n",
      "\n",
      "               precision    recall  f1-score   support\n",
      "\n",
      "           0       0.90      0.90      0.90     21962\n",
      "           1       0.65      0.64      0.64      6196\n",
      "\n",
      "    accuracy                           0.84     28158\n",
      "   macro avg       0.77      0.77      0.77     28158\n",
      "weighted avg       0.84      0.84      0.84     28158\n",
      "\n",
      "\n",
      "                    pre       rec       spe        f1       geo       iba       sup\n",
      "\n",
      "          0       0.90      0.90      0.64      0.90      0.76      0.59     21962\n",
      "          1       0.65      0.64      0.90      0.64      0.76      0.56      6196\n",
      "\n",
      "avg / total       0.84      0.84      0.70      0.84      0.76      0.58     28158\n",
      "\n"
     ]
    }
   ],
   "source": [
    "# prédictions du modèle à l'aide d'un seuil de probabilités adapté pour mieux distinguer les classes\n",
    "y_probas = gcv_rf.predict_proba(X_test_scaled)\n",
    "y_pred = (y_probas[:,1] >= 0.66).astype(bool)\n",
    "\n",
    "# affichage des meilleurs paramètres\n",
    "print('Meilleurs paramètres:', gcv_rf.best_params_, \"\\n\")\n",
    "\n",
    "# vérification de l'underfitting et overfitting\n",
    "print('Train Data Score: {}'.format(gcv_rf.score(X_train_scaled, y_train)))\n",
    "print('Test Data Score: {}'.format(gcv_rf.score(X_test_scaled, y_test)))\n",
    "\n",
    "# affichage du rapport de classification\n",
    "print('\\n', classification_report(y_test, y_pred))\n",
    "\n",
    "# affichage du rapport de classification spécifique aux jeux de données déséquilibrés\n",
    "print('\\n', classification_report_imbalanced(y_test, y_pred))"
   ]
  },
  {
   "cell_type": "markdown",
   "id": "ecc66380-eede-4fdb-98db-54e692d25147",
   "metadata": {
    "id": "9Y4v2WC_0-4Y"
   },
   "source": [
    "- la méthode de régression logistique **fait l'objet d'un fort sur-apprentissage** (score=F1_macro)\n",
    "\n",
    "La classe positive est caractérisée par:\n",
    "- une précision et un rappel parfaitement équilibrés\n",
    "- `un F1-score macro égal à 0.77`\n",
    "- `une moyenne géométrique égale à 0.76`"
   ]
  },
  {
   "cell_type": "markdown",
   "id": "53a862a2",
   "metadata": {},
   "source": [
    "### Interprétation du modèle"
   ]
  },
  {
   "cell_type": "markdown",
   "id": "2f306f07",
   "metadata": {},
   "source": [
    "L'interprétabilité du modèle Random Forest se situe quelque part entre un \"whitebox\" (comme pour un arbre de decision) et un vrai \"blackbox\" (comme pour un réseau neuronal).\n",
    "\n",
    "A partir du meilleur estimateur trouvé précédemment, nous analysons d'abord les résultats du modèle par l'importance des variables en considérant la diminution moyenne de l'impureté pour tous les arbres de notre forêt."
   ]
  },
  {
   "cell_type": "code",
   "execution_count": 21,
   "id": "e957d41e",
   "metadata": {},
   "outputs": [
    {
     "data": {
      "image/png": "[encoded data removed]",
      "text/plain": [
       "<Figure size 600x400 with 1 Axes>"
      ]
     },
     "metadata": {},
     "output_type": "display_data"
    }
   ],
   "source": [
    "# affichage de l'importance des variables dans le jeu de données\n",
    "fig = plt.figure(figsize=(6,4))\n",
    "feature_imp = pd.Series(gcv_rf.best_estimator_.feature_importances_, index=data.columns)\n",
    "feature_imp.nlargest(13).plot(kind='barh')\n",
    "plt.title(\"Importance des variables\")\n",
    "plt.xlabel(\"Diminution Moyenne de l'Impureté (MDI)\");"
   ]
  },
  {
   "cell_type": "markdown",
   "id": "628cc842",
   "metadata": {},
   "source": [
    "Comme nous l'avons vu pour les autres modèles, il apparaît clairement que la variable **\"Humidity3pm\"** est la plus importante dans ce modèle pour ce jeu de données.\n",
    "\n",
    "Toutefois, deux problèmes subsistent avec les méthodes MDI pour déterminer l'importance des variables pour un jeu de données:\n",
    "\n",
    "- la méthode est dépendante du modèle donc si le modèle est sujet au sur-apprentissage alors il peut y avoir un effet répercuté dans l'importance des variables également\n",
    "- un biais de calcul peut survenir pour les variables numériques ou pour les variables présentant une grande cardinalité\n",
    "\n",
    "Une autre technique d'inspection des modèles ne présente pas ces problèmes, il s'agit de la méthode de permutation importance qui se calcule sur le jeu de données de test. La fonction \"permutation_importance\" calcule l'importance des caractéristiques des estimateurs pour un jeu de données donné. Le paramètre *n_repeats* définit le nombre de fois qu'une entité est mélangée de manière aléatoire et renvoie un échantillon d'importance des caractéristiques. \n",
    "\n",
    "Cette méthode est légèrement plus coûteuse en temps de calcul que la méthode d'importance des variables."
   ]
  },
  {
   "cell_type": "code",
   "execution_count": 22,
   "id": "e3d975ce",
   "metadata": {},
   "outputs": [],
   "source": [
    "# calcul de la permutation importance des estimateurs pour le jeu de données de test\n",
    "result = permutation_importance(gcv_rf.best_estimator_, X_test_scaled, y_test, n_repeats=10, random_state=42)"
   ]
  },
  {
   "cell_type": "code",
   "execution_count": 23,
   "id": "8f2241c7",
   "metadata": {},
   "outputs": [],
   "source": [
    "# création de l'index relatif aux estimateurs triés par importance moyenne \n",
    "sorted_idx = np.flip(result.importances_mean.argsort())"
   ]
  },
  {
   "cell_type": "code",
   "execution_count": 24,
   "id": "a19f52e2",
   "metadata": {},
   "outputs": [
    {
     "data": {
      "image/png": "[encoded data removed]",
      "text/plain": [
       "<Figure size 600x400 with 1 Axes>"
      ]
     },
     "metadata": {},
     "output_type": "display_data"
    }
   ],
   "source": [
    "# affichage de la permutation importance des variables dans le jeu de données\n",
    "fig = plt.figure(figsize=(6,4))\n",
    "plt.barh(range(len(sorted_idx)), result.importances_mean[sorted_idx], align='center')\n",
    "plt.yticks(range(len(sorted_idx)), np.array(X_test.columns)[sorted_idx])\n",
    "plt.title('Permutation Importance');"
   ]
  },
  {
   "cell_type": "markdown",
   "id": "6ff91369",
   "metadata": {},
   "source": [
    "Avec cette méthode, on s'aperçoit que la variable \"Pressure9am\" est passée de la 4ème à la seconde position, devenant ainsi la variable la plus importante derrière \"Humidity3pm\". En revanche, la variable \"Temp_Delta_MinMax\" passe de la seconde à la 6ème position."
   ]
  },
  {
   "cell_type": "code",
   "execution_count": null,
   "id": "e16a0f3f",
   "metadata": {},
   "outputs": [],
   "source": []
  }
 ],
 "metadata": {
  "celltoolbar": "Raw Cell Format",
  "colab": {
   "collapsed_sections": [
    "uWfmqoPvIcAJ",
    "7cgssDKFKwJt",
    "KBG3Oj9wLm3n",
    "T0UkvrmRa8FF",
    "ThpQoKaXo-uE",
    "V2xWPtqopDmU",
    "YvGvgSWFqS-b",
    "9de277aa",
    "9mJr-YJRueyJ",
    "ci-XSrHBu6RL",
    "5gGeDEOOvAkp",
    "P-arQbY85ND-",
    "8jpipwx96O3Q",
    "Ru7wQG31lYmQ"
   ],
   "name": "common_pyAusRainfall_modelisation2.ipynb",
   "provenance": []
  },
  "kernelspec": {
   "display_name": "Python 3 (ipykernel)",
   "language": "python",
   "name": "python3"
  },
  "language_info": {
   "codemirror_mode": {
    "name": "ipython",
    "version": 3
   },
   "file_extension": ".py",
   "mimetype": "text/x-python",
   "name": "python",
   "nbconvert_exporter": "python",
   "pygments_lexer": "ipython3",
   "version": "3.9.13"
  }
 },
 "nbformat": 4,
 "nbformat_minor": 5
}
