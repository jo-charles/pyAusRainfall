{
 "cells": [
  {
   "attachments": {},
   "cell_type": "markdown",
   "id": "0c586eee",
   "metadata": {
    "id": "uWfmqoPvIcAJ"
   },
   "source": [
    "# Prévisions météo en Australie\n",
    "### Consignes de l'itération2 : \"Modélisation\"\n",
    "\n",
    "\t1. Ajouter les coordonnées géographiques (Australia Cities Database | Simplemaps.com)\n",
    "\t2. sélection des variables avec le test du chi2\n",
    "\t3. Extraction du jeu de données final\n",
    "\t4. Tableau des performances  des algo avec et sans rééquilibrage\n",
    "\t5. Choisir une seconde stratégie pour l’itération 2 parmi les suivantes\n",
    "\t• Classification des villes par clustering (faire le rapprochement avec le climat)\n",
    "\t• Deep Learning\n",
    "\t• Séries Temporelles\n",
    "\n",
    "**Synchro** lundi 5 septembre à 17h\n",
    "\n",
    "**Deadline** dimanche 11 septembre"
   ]
  },
  {
   "cell_type": "markdown",
   "id": "NJN5xGP7CUc_",
   "metadata": {
    "id": "NJN5xGP7CUc_"
   },
   "source": [
    "# Récupération des librairies"
   ]
  },
  {
   "cell_type": "code",
   "execution_count": 355,
   "id": "db07acc9",
   "metadata": {
    "id": "db07acc9"
   },
   "outputs": [],
   "source": [
    "# récupération des librairies\n",
    "%matplotlib inline\n",
    "import numpy as np\n",
    "import pandas as pd\n",
    "import matplotlib.pyplot as plt\n",
    "import seaborn as sns\n",
    "import time, datetime\n",
    "\n",
    "# import scikitplot as skplt # impossible d'importer scikitplot\n",
    "\n",
    "# from google.colab import files\n",
    "\n",
    "from sklearn import ensemble, linear_model, model_selection, neighbors, preprocessing, svm\n",
    "\n",
    "from sklearn.ensemble import RandomForestClassifier\n",
    "from sklearn.linear_model import LogisticRegression\n",
    "from sklearn.metrics import classification_report, accuracy_score, roc_curve, auc\n",
    "from sklearn.model_selection import GridSearchCV, train_test_split, cross_val_score, learning_curve\n",
    "from sklearn.preprocessing import StandardScaler, MinMaxScaler\n",
    "from sklearn.svm import SVC\n",
    "from sklearn.tree import DecisionTreeClassifier\n",
    "from sklearn.cluster import KMeans\n",
    "\n",
    "from imblearn.metrics import classification_report_imbalanced\n",
    "from imblearn.under_sampling import RandomUnderSampler"
   ]
  },
  {
   "cell_type": "markdown",
   "id": "b0ee11b9",
   "metadata": {
    "id": "b0ee11b9"
   },
   "source": [
    "# Préparation des données"
   ]
  },
  {
   "cell_type": "raw",
   "id": "dd678914",
   "metadata": {
    "colab": {
     "base_uri": "https://localhost:8080/",
     "height": 73,
     "resources": {
      "http://localhost:8080/nbextensions/google.colab/files.js": {
       "data": "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",
       "headers": [
        [
         "content-type",
         "application/javascript"
        ]
       ],
       "ok": true,
       "status": 200,
       "status_text": ""
      }
     }
    },
    "executionInfo": {
     "elapsed": 127013,
     "status": "ok",
     "timestamp": 1658765742462,
     "user": {
      "displayName": "Joseph Charles",
      "userId": "06269672887998330870"
     },
     "user_tz": -120
    },
    "id": "OEU8rLCSTdMC",
    "outputId": "9379d528-67a2-4998-8f91-7282068e37ea"
   },
   "source": [
    "# chargement des données en local\n",
    "uploaded = files.upload()\n",
    "\n",
    "# from google.colab import drive\n",
    "# drive.mount('/content/drive')"
   ]
  },
  {
   "cell_type": "code",
   "execution_count": 356,
   "id": "YwLMnzMaTdMH",
   "metadata": {
    "colab": {
     "base_uri": "https://localhost:8080/",
     "height": 235
    },
    "executionInfo": {
     "elapsed": 631,
     "status": "ok",
     "timestamp": 1658765854299,
     "user": {
      "displayName": "Joseph Charles",
      "userId": "06269672887998330870"
     },
     "user_tz": -120
    },
    "id": "YwLMnzMaTdMH",
    "outputId": "a23b0bb6-b7a4-404a-e5ce-daeaf4eb0ea8"
   },
   "outputs": [
    {
     "data": {
      "text/html": [
       "<div>\n",
       "<style scoped>\n",
       "    .dataframe tbody tr th:only-of-type {\n",
       "        vertical-align: middle;\n",
       "    }\n",
       "\n",
       "    .dataframe tbody tr th {\n",
       "        vertical-align: top;\n",
       "    }\n",
       "\n",
       "    .dataframe thead th {\n",
       "        text-align: right;\n",
       "    }\n",
       "</style>\n",
       "<table border=\"1\" class=\"dataframe\">\n",
       "  <thead>\n",
       "    <tr style=\"text-align: right;\">\n",
       "      <th></th>\n",
       "      <th>Date</th>\n",
       "      <th>Location</th>\n",
       "      <th>MinTemp</th>\n",
       "      <th>MaxTemp</th>\n",
       "      <th>Rainfall</th>\n",
       "      <th>Evaporation</th>\n",
       "      <th>Sunshine</th>\n",
       "      <th>WindGustDir</th>\n",
       "      <th>WindGustSpeed</th>\n",
       "      <th>WindDir9am</th>\n",
       "      <th>...</th>\n",
       "      <th>Humidity9am</th>\n",
       "      <th>Humidity3pm</th>\n",
       "      <th>Pressure9am</th>\n",
       "      <th>Pressure3pm</th>\n",
       "      <th>Cloud9am</th>\n",
       "      <th>Cloud3pm</th>\n",
       "      <th>Temp9am</th>\n",
       "      <th>Temp3pm</th>\n",
       "      <th>RainToday</th>\n",
       "      <th>RainTomorrow</th>\n",
       "    </tr>\n",
       "  </thead>\n",
       "  <tbody>\n",
       "    <tr>\n",
       "      <th>0</th>\n",
       "      <td>2008-12-01</td>\n",
       "      <td>Albury</td>\n",
       "      <td>13.4</td>\n",
       "      <td>22.9</td>\n",
       "      <td>0.6</td>\n",
       "      <td>NaN</td>\n",
       "      <td>NaN</td>\n",
       "      <td>W</td>\n",
       "      <td>44.0</td>\n",
       "      <td>W</td>\n",
       "      <td>...</td>\n",
       "      <td>71.0</td>\n",
       "      <td>22.0</td>\n",
       "      <td>1007.7</td>\n",
       "      <td>1007.1</td>\n",
       "      <td>8.0</td>\n",
       "      <td>NaN</td>\n",
       "      <td>16.9</td>\n",
       "      <td>21.8</td>\n",
       "      <td>No</td>\n",
       "      <td>No</td>\n",
       "    </tr>\n",
       "    <tr>\n",
       "      <th>1</th>\n",
       "      <td>2008-12-02</td>\n",
       "      <td>Albury</td>\n",
       "      <td>7.4</td>\n",
       "      <td>25.1</td>\n",
       "      <td>0.0</td>\n",
       "      <td>NaN</td>\n",
       "      <td>NaN</td>\n",
       "      <td>WNW</td>\n",
       "      <td>44.0</td>\n",
       "      <td>NNW</td>\n",
       "      <td>...</td>\n",
       "      <td>44.0</td>\n",
       "      <td>25.0</td>\n",
       "      <td>1010.6</td>\n",
       "      <td>1007.8</td>\n",
       "      <td>NaN</td>\n",
       "      <td>NaN</td>\n",
       "      <td>17.2</td>\n",
       "      <td>24.3</td>\n",
       "      <td>No</td>\n",
       "      <td>No</td>\n",
       "    </tr>\n",
       "    <tr>\n",
       "      <th>2</th>\n",
       "      <td>2008-12-03</td>\n",
       "      <td>Albury</td>\n",
       "      <td>12.9</td>\n",
       "      <td>25.7</td>\n",
       "      <td>0.0</td>\n",
       "      <td>NaN</td>\n",
       "      <td>NaN</td>\n",
       "      <td>WSW</td>\n",
       "      <td>46.0</td>\n",
       "      <td>W</td>\n",
       "      <td>...</td>\n",
       "      <td>38.0</td>\n",
       "      <td>30.0</td>\n",
       "      <td>1007.6</td>\n",
       "      <td>1008.7</td>\n",
       "      <td>NaN</td>\n",
       "      <td>2.0</td>\n",
       "      <td>21.0</td>\n",
       "      <td>23.2</td>\n",
       "      <td>No</td>\n",
       "      <td>No</td>\n",
       "    </tr>\n",
       "    <tr>\n",
       "      <th>3</th>\n",
       "      <td>2008-12-04</td>\n",
       "      <td>Albury</td>\n",
       "      <td>9.2</td>\n",
       "      <td>28.0</td>\n",
       "      <td>0.0</td>\n",
       "      <td>NaN</td>\n",
       "      <td>NaN</td>\n",
       "      <td>NE</td>\n",
       "      <td>24.0</td>\n",
       "      <td>SE</td>\n",
       "      <td>...</td>\n",
       "      <td>45.0</td>\n",
       "      <td>16.0</td>\n",
       "      <td>1017.6</td>\n",
       "      <td>1012.8</td>\n",
       "      <td>NaN</td>\n",
       "      <td>NaN</td>\n",
       "      <td>18.1</td>\n",
       "      <td>26.5</td>\n",
       "      <td>No</td>\n",
       "      <td>No</td>\n",
       "    </tr>\n",
       "    <tr>\n",
       "      <th>4</th>\n",
       "      <td>2008-12-05</td>\n",
       "      <td>Albury</td>\n",
       "      <td>17.5</td>\n",
       "      <td>32.3</td>\n",
       "      <td>1.0</td>\n",
       "      <td>NaN</td>\n",
       "      <td>NaN</td>\n",
       "      <td>W</td>\n",
       "      <td>41.0</td>\n",
       "      <td>ENE</td>\n",
       "      <td>...</td>\n",
       "      <td>82.0</td>\n",
       "      <td>33.0</td>\n",
       "      <td>1010.8</td>\n",
       "      <td>1006.0</td>\n",
       "      <td>7.0</td>\n",
       "      <td>8.0</td>\n",
       "      <td>17.8</td>\n",
       "      <td>29.7</td>\n",
       "      <td>No</td>\n",
       "      <td>No</td>\n",
       "    </tr>\n",
       "  </tbody>\n",
       "</table>\n",
       "<p>5 rows × 23 columns</p>\n",
       "</div>"
      ],
      "text/plain": [
       "         Date Location  MinTemp  MaxTemp  Rainfall  Evaporation  Sunshine  \\\n",
       "0  2008-12-01   Albury     13.4     22.9       0.6          NaN       NaN   \n",
       "1  2008-12-02   Albury      7.4     25.1       0.0          NaN       NaN   \n",
       "2  2008-12-03   Albury     12.9     25.7       0.0          NaN       NaN   \n",
       "3  2008-12-04   Albury      9.2     28.0       0.0          NaN       NaN   \n",
       "4  2008-12-05   Albury     17.5     32.3       1.0          NaN       NaN   \n",
       "\n",
       "  WindGustDir  WindGustSpeed WindDir9am  ... Humidity9am  Humidity3pm  \\\n",
       "0           W           44.0          W  ...        71.0         22.0   \n",
       "1         WNW           44.0        NNW  ...        44.0         25.0   \n",
       "2         WSW           46.0          W  ...        38.0         30.0   \n",
       "3          NE           24.0         SE  ...        45.0         16.0   \n",
       "4           W           41.0        ENE  ...        82.0         33.0   \n",
       "\n",
       "   Pressure9am  Pressure3pm  Cloud9am  Cloud3pm  Temp9am  Temp3pm  RainToday  \\\n",
       "0       1007.7       1007.1       8.0       NaN     16.9     21.8         No   \n",
       "1       1010.6       1007.8       NaN       NaN     17.2     24.3         No   \n",
       "2       1007.6       1008.7       NaN       2.0     21.0     23.2         No   \n",
       "3       1017.6       1012.8       NaN       NaN     18.1     26.5         No   \n",
       "4       1010.8       1006.0       7.0       8.0     17.8     29.7         No   \n",
       "\n",
       "   RainTomorrow  \n",
       "0            No  \n",
       "1            No  \n",
       "2            No  \n",
       "3            No  \n",
       "4            No  \n",
       "\n",
       "[5 rows x 23 columns]"
      ]
     },
     "execution_count": 356,
     "metadata": {},
     "output_type": "execute_result"
    }
   ],
   "source": [
    "# récupération du jeu de données\n",
    "df = pd.read_csv('weatherAUS.csv')\n",
    "# df = pd.read_csv('/content/drive/My Drive/Colab Notebooks/Datascientest/Meteo/weatherAUS.csv')\n",
    "\n",
    "df.head()"
   ]
  },
  {
   "cell_type": "code",
   "execution_count": 357,
   "id": "rlmB9I6zqS95",
   "metadata": {
    "colab": {
     "base_uri": "https://localhost:8080/"
    },
    "executionInfo": {
     "elapsed": 9,
     "status": "ok",
     "timestamp": 1658765854300,
     "user": {
      "displayName": "Joseph Charles",
      "userId": "06269672887998330870"
     },
     "user_tz": -120
    },
    "id": "rlmB9I6zqS95",
    "outputId": "770ce6ff-748d-4ff0-e5df-46805169027d"
   },
   "outputs": [
    {
     "name": "stdout",
     "output_type": "stream",
     "text": [
      "Nombre d'observations : 145460 \n",
      " Nombre de variables : 23\n"
     ]
    }
   ],
   "source": [
    "# taille du DataFrame\n",
    "print(\"Nombre d'observations : {} \\n Nombre de variables : {}\".format(df.shape[0], df.shape[1]))"
   ]
  },
  {
   "cell_type": "code",
   "execution_count": 358,
   "id": "0cdbd764",
   "metadata": {
    "id": "0cdbd764"
   },
   "outputs": [],
   "source": [
    "# suppression des doublons\n",
    "df.drop_duplicates(inplace=True)"
   ]
  },
  {
   "cell_type": "code",
   "execution_count": 359,
   "id": "_chAt5Utl9cZ",
   "metadata": {
    "colab": {
     "base_uri": "https://localhost:8080/"
    },
    "executionInfo": {
     "elapsed": 10,
     "status": "ok",
     "timestamp": 1658765854701,
     "user": {
      "displayName": "Joseph Charles",
      "userId": "06269672887998330870"
     },
     "user_tz": -120
    },
    "id": "_chAt5Utl9cZ",
    "outputId": "b8470751-29a1-4370-8c3d-570b6114e6de"
   },
   "outputs": [
    {
     "data": {
      "text/plain": [
       "Sunshine         69835\n",
       "Evaporation      62790\n",
       "Cloud3pm         59358\n",
       "Cloud9am         55888\n",
       "Pressure9am      15065\n",
       "Pressure3pm      15028\n",
       "WindDir9am       10566\n",
       "WindGustDir      10326\n",
       "WindGustSpeed    10263\n",
       "Humidity3pm       4507\n",
       "WindDir3pm        4228\n",
       "Temp3pm           3609\n",
       "RainTomorrow      3267\n",
       "Rainfall          3261\n",
       "RainToday         3261\n",
       "WindSpeed3pm      3062\n",
       "Humidity9am       2654\n",
       "Temp9am           1767\n",
       "WindSpeed9am      1767\n",
       "MinTemp           1485\n",
       "MaxTemp           1261\n",
       "Location             0\n",
       "Date                 0\n",
       "dtype: int64"
      ]
     },
     "execution_count": 359,
     "metadata": {},
     "output_type": "execute_result"
    }
   ],
   "source": [
    "# détection des valeurs manquantes sur tout le dataframe\n",
    "df.isna().sum().sort_values(ascending=False)"
   ]
  },
  {
   "cell_type": "code",
   "execution_count": 360,
   "id": "fa52e5c9",
   "metadata": {
    "id": "fa52e5c9"
   },
   "outputs": [],
   "source": [
    "# suppression des valeurs manquantes pour \"RainToday\" et \"RainTomorrow\"\n",
    "df.dropna(subset=['RainTomorrow', 'RainToday'], inplace=True)"
   ]
  },
  {
   "cell_type": "code",
   "execution_count": 361,
   "id": "S4PD45joGenR",
   "metadata": {
    "colab": {
     "base_uri": "https://localhost:8080/"
    },
    "executionInfo": {
     "elapsed": 9,
     "status": "ok",
     "timestamp": 1658765854702,
     "user": {
      "displayName": "Joseph Charles",
      "userId": "06269672887998330870"
     },
     "user_tz": -120
    },
    "id": "S4PD45joGenR",
    "outputId": "67c1aa57-b624-4a09-90ef-792c185a7db4"
   },
   "outputs": [
    {
     "name": "stdout",
     "output_type": "stream",
     "text": [
      "Nombre d'observations : 140787 \n",
      " Nombre de variables : 23\n"
     ]
    }
   ],
   "source": [
    "# taille du DataFrame\n",
    "print(\"Nombre d'observations : {} \\n Nombre de variables : {}\".format(df.shape[0], df.shape[1]))"
   ]
  },
  {
   "cell_type": "code",
   "execution_count": 362,
   "id": "wueJfzv1O_Zs",
   "metadata": {
    "id": "wueJfzv1O_Zs"
   },
   "outputs": [],
   "source": [
    "# définition de nouvelles variables\n",
    "df['Temp_Delta_MinMax'] = df['MaxTemp'] - df['MinTemp']\n",
    "df['Humidity_Delta'] = df['Humidity3pm'] - df['Humidity9am']"
   ]
  },
  {
   "cell_type": "code",
   "execution_count": 363,
   "id": "e4XubV9jSRFe",
   "metadata": {
    "id": "e4XubV9jSRFe"
   },
   "outputs": [],
   "source": [
    "# encodage des variables qualitatives binaires\n",
    "df['RainToday'].replace({'No':0, 'Yes': 1}, inplace = True)\n",
    "df['RainTomorrow'].replace({'No':0, 'Yes': 1}, inplace = True)\n",
    "\n",
    "df['RainToday'] = df['RainToday'].astype('int64')\n",
    "df['RainTomorrow'] = df['RainTomorrow'].astype('int64')"
   ]
  },
  {
   "cell_type": "code",
   "execution_count": 364,
   "id": "-ctXayikSGF0",
   "metadata": {
    "colab": {
     "base_uri": "https://localhost:8080/"
    },
    "executionInfo": {
     "elapsed": 318,
     "status": "ok",
     "timestamp": 1658765855294,
     "user": {
      "displayName": "Joseph Charles",
      "userId": "06269672887998330870"
     },
     "user_tz": -120
    },
    "id": "-ctXayikSGF0",
    "outputId": "0fec1a3e-3d21-4f88-e92a-56bb7ba997bb"
   },
   "outputs": [
    {
     "data": {
      "text/plain": [
       "RainTomorrow         1.000000\n",
       "Humidity3pm          0.447834\n",
       "Cloud3pm             0.382418\n",
       "Cloud9am             0.316592\n",
       "RainToday            0.313097\n",
       "Humidity_Delta       0.270296\n",
       "Humidity9am          0.257727\n",
       "Rainfall             0.239032\n",
       "WindGustSpeed        0.234285\n",
       "WindSpeed9am         0.089803\n",
       "WindSpeed3pm         0.086762\n",
       "MinTemp              0.084322\n",
       "Temp9am             -0.025447\n",
       "Evaporation         -0.119133\n",
       "MaxTemp             -0.159405\n",
       "Temp3pm             -0.192747\n",
       "Pressure3pm         -0.228192\n",
       "Pressure9am         -0.248253\n",
       "Temp_Delta_MinMax   -0.337845\n",
       "Sunshine            -0.451820\n",
       "Name: RainTomorrow, dtype: float64"
      ]
     },
     "execution_count": 364,
     "metadata": {},
     "output_type": "execute_result"
    }
   ],
   "source": [
    "# corrélations avec la variable cible\n",
    "df.corr()['RainTomorrow'].sort_values(ascending=False)"
   ]
  },
  {
   "cell_type": "code",
   "execution_count": 365,
   "id": "qBgk5EbqTb0c",
   "metadata": {
    "id": "qBgk5EbqTb0c"
   },
   "outputs": [],
   "source": [
    "# suppression des variables les moins corrélées à la variable cible (i.e. dans l'intervalle [-0.2, 0.2])\n",
    "df.drop(['WindSpeed9am', 'WindSpeed3pm', 'MinTemp', 'MaxTemp', 'Temp9am', 'Temp3pm', 'Evaporation'], axis = 1, inplace = True)"
   ]
  },
  {
   "cell_type": "code",
   "execution_count": 366,
   "id": "oSbMb69ZVxlV",
   "metadata": {
    "id": "oSbMb69ZVxlV"
   },
   "outputs": [],
   "source": [
    "# suppression de la date car ni l'année, le mois, la semaine ou la journée ne sont pas très corrélées avec la variable cible\n",
    "df.drop(columns=['Date'], inplace=True)"
   ]
  },
  {
   "cell_type": "code",
   "execution_count": 367,
   "id": "VgWynTeXWZ2f",
   "metadata": {
    "colab": {
     "base_uri": "https://localhost:8080/",
     "height": 697
    },
    "executionInfo": {
     "elapsed": 1721,
     "status": "ok",
     "timestamp": 1658765857670,
     "user": {
      "displayName": "Joseph Charles",
      "userId": "06269672887998330870"
     },
     "user_tz": -120
    },
    "id": "VgWynTeXWZ2f",
    "outputId": "d923fbe0-71fe-40bc-a272-0691b17c05ae"
   },
   "outputs": [
    {
     "data": {
      "image/png": "[encoded data removed]",
      "text/plain": [
       "<Figure size 720x720 with 2 Axes>"
      ]
     },
     "metadata": {
      "needs_background": "light"
     },
     "output_type": "display_data"
    }
   ],
   "source": [
    "# création de la matrice de corrélation\n",
    "fig, ax = plt.subplots(figsize=(10,10))\n",
    "annot_kws={'fontsize':10,  \n",
    "           'color':\"k\", \n",
    "           'verticalalignment':'center'}\n",
    "sns.heatmap(df.corr(), linewidths=0.5, annot=True, annot_kws=annot_kws, fmt=\".2f\", ax=ax, cmap='coolwarm', center=0)\n",
    "plt.title('Matrice de corrélation du jeu de données', fontsize=10);"
   ]
  },
  {
   "cell_type": "markdown",
   "id": "WY4oh3i5aQTE",
   "metadata": {
    "id": "WY4oh3i5aQTE"
   },
   "source": [
    "- Pressure9am and Pressure3pm sont très fortement corrélées (0.96)\n",
    "- Humidity9am and Humidity3pm sont très corrélées (0.66)\n",
    "- Cloud9am et Cloud3pm sont très corrélées (0.60)"
   ]
  },
  {
   "cell_type": "code",
   "execution_count": 368,
   "id": "yoYgUTyobb79",
   "metadata": {
    "id": "yoYgUTyobb79"
   },
   "outputs": [],
   "source": [
    "# suppression de la variable \"Pressure3pm\", moins corrélées à la variable cible que \"Pressure9am\"\n",
    "df.drop(columns=['Pressure3pm'], inplace=True)"
   ]
  },
  {
   "cell_type": "code",
   "execution_count": 369,
   "id": "us4TmGfrYTnF",
   "metadata": {
    "id": "us4TmGfrYTnF"
   },
   "outputs": [],
   "source": [
    "# suppression de la variable \"Humidity9am\", moins corrélées à la variable cible que \"Humidity3pm\"\n",
    "df.drop(columns=['Humidity9am'], inplace=True)"
   ]
  },
  {
   "cell_type": "code",
   "execution_count": 370,
   "id": "HjwE_bI8ZTTH",
   "metadata": {
    "id": "HjwE_bI8ZTTH"
   },
   "outputs": [],
   "source": [
    "# suppression de la variable \"Cloud9am\", moins corrélées à la variable cible que \"Cloud3pm\"\n",
    "df.drop(columns=['Cloud9am'], inplace=True)"
   ]
  },
  {
   "cell_type": "code",
   "execution_count": 371,
   "id": "341831dd",
   "metadata": {
    "colab": {
     "base_uri": "https://localhost:8080/"
    },
    "executionInfo": {
     "elapsed": 14,
     "status": "ok",
     "timestamp": 1658765857672,
     "user": {
      "displayName": "Joseph Charles",
      "userId": "06269672887998330870"
     },
     "user_tz": -120
    },
    "id": "341831dd",
    "outputId": "a6dde272-52b1-4c43-fd18-5f642ca7c489"
   },
   "outputs": [
    {
     "data": {
      "text/plain": [
       "Sunshine             66805\n",
       "Cloud3pm             56094\n",
       "Pressure9am          13743\n",
       "WindDir9am            9660\n",
       "WindGustDir           9163\n",
       "WindGustSpeed         9105\n",
       "Humidity_Delta        4019\n",
       "WindDir3pm            3670\n",
       "Humidity3pm           3501\n",
       "Temp_Delta_MinMax      701\n",
       "Location                 0\n",
       "Rainfall                 0\n",
       "RainToday                0\n",
       "RainTomorrow             0\n",
       "dtype: int64"
      ]
     },
     "execution_count": 371,
     "metadata": {},
     "output_type": "execute_result"
    }
   ],
   "source": [
    "# détection des valeurs manquantes sur tout le dataframe\n",
    "df.isna().sum().sort_values(ascending=False)"
   ]
  },
  {
   "cell_type": "code",
   "execution_count": 372,
   "id": "auE5W_VKdJIE",
   "metadata": {
    "id": "auE5W_VKdJIE"
   },
   "outputs": [],
   "source": [
    "# suppression des variables \"Sunshine\" et \"Cloud3pm\" qui contiennent trop de valeurs manquantes \n",
    "df.drop(columns=['Sunshine', 'Cloud3pm'], inplace=True)"
   ]
  },
  {
   "cell_type": "code",
   "execution_count": 373,
   "id": "de2db20c",
   "metadata": {
    "colab": {
     "base_uri": "https://localhost:8080/"
    },
    "executionInfo": {
     "elapsed": 12,
     "status": "ok",
     "timestamp": 1658765857673,
     "user": {
      "displayName": "Joseph Charles",
      "userId": "06269672887998330870"
     },
     "user_tz": -120
    },
    "id": "de2db20c",
    "outputId": "3c0cd429-11ed-499d-d219-145cbbe66fd9"
   },
   "outputs": [
    {
     "name": "stdout",
     "output_type": "stream",
     "text": [
      "Variables quantitatives: ['Rainfall', 'WindGustSpeed', 'Humidity3pm', 'Pressure9am', 'RainToday', 'RainTomorrow', 'Temp_Delta_MinMax', 'Humidity_Delta'] \n",
      "\n",
      "Nombre de variables quantitatives: 8\n"
     ]
    }
   ],
   "source": [
    "# récupération des variables quantitatives\n",
    "num_features = [col for col in df.columns if df[col].dtype != 'O']\n",
    "num_data = df.select_dtypes(include='number')\n",
    "\n",
    "print(\"Variables quantitatives: {}\".format(num_features),'\\n')\n",
    "print(\"Nombre de variables quantitatives: {}\".format(len(num_features)))"
   ]
  },
  {
   "cell_type": "code",
   "execution_count": 374,
   "id": "MtdYsVNPI96k",
   "metadata": {
    "colab": {
     "base_uri": "https://localhost:8080/"
    },
    "executionInfo": {
     "elapsed": 304,
     "status": "ok",
     "timestamp": 1658765857968,
     "user": {
      "displayName": "Joseph Charles",
      "userId": "06269672887998330870"
     },
     "user_tz": -120
    },
    "id": "MtdYsVNPI96k",
    "outputId": "8a26a9b6-0e95-4a63-cbfa-99493bb8bb34"
   },
   "outputs": [
    {
     "name": "stdout",
     "output_type": "stream",
     "text": [
      "Cardinalité de 'Rainfall': 679\n",
      "Cardinalité de 'WindGustSpeed': 68\n",
      "Cardinalité de 'Humidity3pm': 102\n",
      "Cardinalité de 'Pressure9am': 546\n",
      "Cardinalité de 'RainToday': 2\n",
      "Cardinalité de 'RainTomorrow': 2\n",
      "Cardinalité de 'Temp_Delta_MinMax': 1049\n",
      "Cardinalité de 'Humidity_Delta': 160\n"
     ]
    }
   ],
   "source": [
    "# cardinalité\n",
    "for feature in num_features:\n",
    "    print(\"Cardinalité de '{}': {}\".format(feature, len(df[feature].unique())))"
   ]
  },
  {
   "cell_type": "code",
   "execution_count": 375,
   "id": "GDbUW7-EJBWV",
   "metadata": {
    "id": "GDbUW7-EJBWV"
   },
   "outputs": [],
   "source": [
    "# suppression de la variable \"RainToday\" qui ne contient que deux modalités et donc qui se comporte plutôt comme une variable qualitative \n",
    "df.drop(columns=['RainToday'], inplace=True)"
   ]
  },
  {
   "cell_type": "code",
   "execution_count": 376,
   "id": "t7n-8rmkJEMP",
   "metadata": {
    "id": "t7n-8rmkJEMP"
   },
   "outputs": [],
   "source": [
    "# mise à jour de la liste des colonnes du DataFrame\n",
    "num_features = [col for col in df.columns if df[col].dtype != 'O']"
   ]
  },
  {
   "cell_type": "code",
   "execution_count": 377,
   "id": "i5_QGNnNcvML",
   "metadata": {
    "colab": {
     "base_uri": "https://localhost:8080/"
    },
    "executionInfo": {
     "elapsed": 3,
     "status": "ok",
     "timestamp": 1658765858800,
     "user": {
      "displayName": "Joseph Charles",
      "userId": "06269672887998330870"
     },
     "user_tz": -120
    },
    "id": "i5_QGNnNcvML",
    "outputId": "caa27696-8a2f-42bf-feb8-8844fa9365eb"
   },
   "outputs": [
    {
     "name": "stdout",
     "output_type": "stream",
     "text": [
      "Variables qualitatives:  ['Location', 'WindGustDir', 'WindDir9am', 'WindDir3pm'] \n",
      "\n",
      "Nombre de variables qualitatives:  4\n"
     ]
    }
   ],
   "source": [
    "# récupération des variables qualitatives\n",
    "cat_features = [col for col in df.columns if df[col].dtype == 'O']\n",
    "cat_data = df.select_dtypes(include = 'O')\n",
    "\n",
    "print(\"Variables qualitatives: \", cat_features,'\\n')\n",
    "print(\"Nombre de variables qualitatives: \", len(cat_features))"
   ]
  },
  {
   "cell_type": "code",
   "execution_count": 378,
   "id": "zk3car3teGFu",
   "metadata": {
    "colab": {
     "base_uri": "https://localhost:8080/"
    },
    "executionInfo": {
     "elapsed": 5,
     "status": "ok",
     "timestamp": 1658765859106,
     "user": {
      "displayName": "Joseph Charles",
      "userId": "06269672887998330870"
     },
     "user_tz": -120
    },
    "id": "zk3car3teGFu",
    "outputId": "088303c2-1071-4877-bd39-967ce035be2f"
   },
   "outputs": [
    {
     "name": "stdout",
     "output_type": "stream",
     "text": [
      "Cardinalité de 'Location': 49\n",
      "Cardinalité de 'WindGustDir': 17\n",
      "Cardinalité de 'WindDir9am': 17\n",
      "Cardinalité de 'WindDir3pm': 17\n"
     ]
    }
   ],
   "source": [
    "# cardinalité\n",
    "for feature in cat_features:\n",
    "    print(\"Cardinalité de '{}': {}\".format(feature, len(df[feature].unique())))"
   ]
  },
  {
   "cell_type": "code",
   "execution_count": 379,
   "id": "16fa0b58",
   "metadata": {
    "id": "u6i3xR6wfxW4"
   },
   "outputs": [],
   "source": [
    "# suppression des variables \"WindGustDir\", \"WindDir9am\" et \"WindDir3pm\" pour ne garder que les variables quantitatives\n",
    "df.drop(columns=['WindGustDir', 'WindDir9am', 'WindDir3pm'], inplace=True)"
   ]
  },
  {
   "cell_type": "code",
   "execution_count": 380,
   "id": "F7zSCvO0h2U9",
   "metadata": {
    "id": "F7zSCvO0h2U9"
   },
   "outputs": [],
   "source": [
    "# remplacement des valeurs manquantes en utilisant le mode\n",
    "# for feat in cat_features :\n",
    "#     df[feat].fillna(df[feat].mode()[0], inplace=True)"
   ]
  },
  {
   "cell_type": "code",
   "execution_count": 381,
   "id": "7872af94",
   "metadata": {
    "id": "7872af94"
   },
   "outputs": [],
   "source": [
    "# transformation des variables qualitatives en variables numériques (Olivier)\n",
    "# for column in cat_features:\n",
    "#    l = df[column].value_counts().index.tolist() \n",
    "#    mapping = {x:y for x,y in zip(l, range(len(l)))}\n",
    "#    df[column] = df[column].map(mapping) "
   ]
  },
  {
   "cell_type": "code",
   "execution_count": 382,
   "id": "5Hli7qNhwdaX",
   "metadata": {
    "id": "5Hli7qNhwdaX"
   },
   "outputs": [],
   "source": [
    "# dichotomisation (one hot encoding)\n",
    "# onehot_features = ['WindGustDir', 'WindDir9am', 'WindDir3pm']\n",
    "\n",
    "# def one_hot_encode(df, cat, prefix):\n",
    "#     for col, pref in zip(cat, prefix):\n",
    "#         dummy = pd.get_dummies(df[col], prefix=pref)\n",
    "#         df = pd.concat([df, dummy], axis=1)\n",
    "#         df = df.drop(col, axis=1)\n",
    "#     return df\n",
    "\n",
    "# df = one_hot_encode(df, onehot_features, ['wgd', 'wd9', 'wd3'])"
   ]
  },
  {
   "cell_type": "code",
   "execution_count": 383,
   "id": "de1f49ce",
   "metadata": {
    "id": "de1f49ce"
   },
   "outputs": [],
   "source": [
    "# calcul des valeurs délimitant les outliers et remplacement des outliers par la valeur des limites \n",
    "for feature in ['WindGustSpeed','Humidity3pm','Pressure9am','Rainfall','Temp_Delta_MinMax','Humidity_Delta']:\n",
    "    q1 = df[feature].quantile(0.25)\n",
    "    q3 = df[feature].quantile(0.75)\n",
    "    IQR = q3 - q1\n",
    "    lower_limit = q1 - (IQR*1.5)\n",
    "    upper_limit = q3 + (IQR*1.5)\n",
    "    df.loc[df[feature] < lower_limit, feature] = lower_limit\n",
    "    df.loc[df[feature] > upper_limit, feature] = upper_limit"
   ]
  },
  {
   "cell_type": "code",
   "execution_count": 384,
   "id": "3be94bb2",
   "metadata": {
    "id": "3be94bb2"
   },
   "outputs": [],
   "source": [
    "# remplacement des valeurs manquantes en utilisant la moyenne\n",
    "for feat in num_features :\n",
    "    df[feat].fillna(df[feat].mean(), inplace=True)"
   ]
  },
  {
   "cell_type": "code",
   "execution_count": 385,
   "id": "de770c1a",
   "metadata": {
    "colab": {
     "base_uri": "https://localhost:8080/"
    },
    "executionInfo": {
     "elapsed": 3,
     "status": "ok",
     "timestamp": 1658765870218,
     "user": {
      "displayName": "Joseph Charles",
      "userId": "06269672887998330870"
     },
     "user_tz": -120
    },
    "id": "de770c1a",
    "outputId": "c2932c61-a527-412e-d5df-769664310524"
   },
   "outputs": [
    {
     "data": {
      "text/plain": [
       "0"
      ]
     },
     "execution_count": 385,
     "metadata": {},
     "output_type": "execute_result"
    }
   ],
   "source": [
    "# Vérification des valeurs manquantes sur tout le DataFrame\n",
    "df.isnull().sum().sum()"
   ]
  },
  {
   "cell_type": "code",
   "execution_count": 386,
   "id": "b41875bc",
   "metadata": {
    "colab": {
     "base_uri": "https://localhost:8080/",
     "height": 697
    },
    "executionInfo": {
     "elapsed": 1118,
     "status": "ok",
     "timestamp": 1658765873848,
     "user": {
      "displayName": "Joseph Charles",
      "userId": "06269672887998330870"
     },
     "user_tz": -120
    },
    "id": "b41875bc",
    "outputId": "0bcbb17c-3e53-4b69-aa45-e9bfc6f094fd",
    "scrolled": false
   },
   "outputs": [
    {
     "data": {
      "image/png": "[encoded data removed]",
      "text/plain": [
       "<Figure size 720x720 with 2 Axes>"
      ]
     },
     "metadata": {
      "needs_background": "light"
     },
     "output_type": "display_data"
    }
   ],
   "source": [
    "# création de la matrice de corrélation\n",
    "fig, ax = plt.subplots(figsize=(10,10))\n",
    "annot_kws={'fontsize':10,  \n",
    "           'color':\"k\", \n",
    "           'verticalalignment':'center'}\n",
    "sns.heatmap(df.corr(), linewidths=0.5, annot=True, annot_kws=annot_kws, fmt=\".2f\", ax=ax, cmap='coolwarm', center=0)\n",
    "plt.title('Matrice de corrélation du jeu de données', fontsize=10);"
   ]
  },
  {
   "attachments": {},
   "cell_type": "markdown",
   "id": "77570bc4",
   "metadata": {},
   "source": [
    "# Ajouter les coordonnées géographiques"
   ]
  },
  {
   "cell_type": "raw",
   "id": "541e9f92",
   "metadata": {
    "id": "E669yH7eePsz"
   },
   "source": [
    "# suppression de la variable \"Location\" qui présente un nombre trop important de modalités \n",
    "df.drop(columns=['Location'], inplace=True)"
   ]
  },
  {
   "cell_type": "code",
   "execution_count": 387,
   "id": "24aa0011",
   "metadata": {},
   "outputs": [
    {
     "data": {
      "text/html": [
       "<div>\n",
       "<style scoped>\n",
       "    .dataframe tbody tr th:only-of-type {\n",
       "        vertical-align: middle;\n",
       "    }\n",
       "\n",
       "    .dataframe tbody tr th {\n",
       "        vertical-align: top;\n",
       "    }\n",
       "\n",
       "    .dataframe thead th {\n",
       "        text-align: right;\n",
       "    }\n",
       "</style>\n",
       "<table border=\"1\" class=\"dataframe\">\n",
       "  <thead>\n",
       "    <tr style=\"text-align: right;\">\n",
       "      <th></th>\n",
       "      <th>city</th>\n",
       "      <th>lat</th>\n",
       "      <th>lng</th>\n",
       "      <th>country</th>\n",
       "      <th>iso2</th>\n",
       "      <th>admin_name</th>\n",
       "      <th>capital</th>\n",
       "      <th>population</th>\n",
       "      <th>population_proper</th>\n",
       "    </tr>\n",
       "  </thead>\n",
       "  <tbody>\n",
       "    <tr>\n",
       "      <th>0</th>\n",
       "      <td>Sydney</td>\n",
       "      <td>-33.8650</td>\n",
       "      <td>151.2094</td>\n",
       "      <td>Australia</td>\n",
       "      <td>AU</td>\n",
       "      <td>New South Wales</td>\n",
       "      <td>admin</td>\n",
       "      <td>5312163</td>\n",
       "      <td>4840600</td>\n",
       "    </tr>\n",
       "    <tr>\n",
       "      <th>1</th>\n",
       "      <td>Melbourne</td>\n",
       "      <td>-37.8136</td>\n",
       "      <td>144.9631</td>\n",
       "      <td>Australia</td>\n",
       "      <td>AU</td>\n",
       "      <td>Victoria</td>\n",
       "      <td>admin</td>\n",
       "      <td>5078193</td>\n",
       "      <td>4529500</td>\n",
       "    </tr>\n",
       "    <tr>\n",
       "      <th>2</th>\n",
       "      <td>Brisbane</td>\n",
       "      <td>-27.4678</td>\n",
       "      <td>153.0281</td>\n",
       "      <td>Australia</td>\n",
       "      <td>AU</td>\n",
       "      <td>Queensland</td>\n",
       "      <td>admin</td>\n",
       "      <td>2514184</td>\n",
       "      <td>2360241</td>\n",
       "    </tr>\n",
       "    <tr>\n",
       "      <th>3</th>\n",
       "      <td>Perth</td>\n",
       "      <td>-31.9522</td>\n",
       "      <td>115.8589</td>\n",
       "      <td>Australia</td>\n",
       "      <td>AU</td>\n",
       "      <td>Western Australia</td>\n",
       "      <td>admin</td>\n",
       "      <td>2059484</td>\n",
       "      <td>2039200</td>\n",
       "    </tr>\n",
       "    <tr>\n",
       "      <th>4</th>\n",
       "      <td>Adelaide</td>\n",
       "      <td>-34.9289</td>\n",
       "      <td>138.6011</td>\n",
       "      <td>Australia</td>\n",
       "      <td>AU</td>\n",
       "      <td>South Australia</td>\n",
       "      <td>admin</td>\n",
       "      <td>1345777</td>\n",
       "      <td>1295714</td>\n",
       "    </tr>\n",
       "  </tbody>\n",
       "</table>\n",
       "</div>"
      ],
      "text/plain": [
       "        city      lat       lng    country iso2         admin_name capital  \\\n",
       "0     Sydney -33.8650  151.2094  Australia   AU    New South Wales   admin   \n",
       "1  Melbourne -37.8136  144.9631  Australia   AU           Victoria   admin   \n",
       "2   Brisbane -27.4678  153.0281  Australia   AU         Queensland   admin   \n",
       "3      Perth -31.9522  115.8589  Australia   AU  Western Australia   admin   \n",
       "4   Adelaide -34.9289  138.6011  Australia   AU    South Australia   admin   \n",
       "\n",
       "   population  population_proper  \n",
       "0     5312163            4840600  \n",
       "1     5078193            4529500  \n",
       "2     2514184            2360241  \n",
       "3     2059484            2039200  \n",
       "4     1345777            1295714  "
      ]
     },
     "execution_count": 387,
     "metadata": {},
     "output_type": "execute_result"
    }
   ],
   "source": [
    "# récupération des coordonnées géographiques\n",
    "au = pd.read_csv('au.csv')\n",
    "\n",
    "au.head()"
   ]
  },
  {
   "cell_type": "code",
   "execution_count": 388,
   "id": "823e9db8",
   "metadata": {},
   "outputs": [],
   "source": [
    "# On renomme la colonne 'city' en 'Location' pour faire la fusion\n",
    "au = au.rename(columns = {'city':'Location'})"
   ]
  },
  {
   "cell_type": "code",
   "execution_count": 389,
   "id": "0d940407",
   "metadata": {},
   "outputs": [
    {
     "data": {
      "text/plain": [
       "lat    65554\n",
       "lng    65554\n",
       "dtype: int64"
      ]
     },
     "execution_count": 389,
     "metadata": {},
     "output_type": "execute_result"
    }
   ],
   "source": [
    "# Jointure à gauche entre df et au sur la colonne 'Location'\n",
    "df = df.merge(right = au[['Location','lat', 'lng']], on = 'Location', how = 'left')\n",
    "df[['lat', 'lng']].isna().sum()"
   ]
  },
  {
   "cell_type": "code",
   "execution_count": 390,
   "id": "2fb3e0ad",
   "metadata": {
    "scrolled": false
   },
   "outputs": [
    {
     "data": {
      "text/plain": [
       "AliceSprings        3025\n",
       "MountGambier        3022\n",
       "MelbourneAirport    3009\n",
       "PerthAirport        3009\n",
       "SydneyAirport       3001\n",
       "Watsonia            2990\n",
       "Woomera             2984\n",
       "Tuggeranong         2959\n",
       "WaggaWagga          2958\n",
       "NorfolkIsland       2944\n",
       "SalmonGums          2941\n",
       "CoffsHarbour        2940\n",
       "Dartmoor            2939\n",
       "Witchcliffe         2924\n",
       "GoldCoast           2924\n",
       "NorahHead           2888\n",
       "BadgerysCreek       2877\n",
       "MountGinini         2816\n",
       "Walpole             2770\n",
       "PearceRAAF          2646\n",
       "Williamtown         2376\n",
       "Nhil                1565\n",
       "Katherine           1545\n",
       "Uluru               1502\n",
       "Name: Location, dtype: int64"
      ]
     },
     "execution_count": 390,
     "metadata": {},
     "output_type": "execute_result"
    }
   ],
   "source": [
    "df[df['lat'].isna()]['Location'].value_counts()"
   ]
  },
  {
   "cell_type": "code",
   "execution_count": 391,
   "id": "e4d2494f",
   "metadata": {
    "scrolled": false
   },
   "outputs": [
    {
     "data": {
      "text/plain": [
       "array(['Aberdare', 'Adelaide', 'Albany', 'Albury', 'Aldgate', 'Alexandra',\n",
       "       'Alice Springs', 'Alstonville', 'Andergrove', 'Angle Vale',\n",
       "       'Anglesea', 'Anna Bay', 'Appin', 'Ararat', 'Armidale', 'Atherton',\n",
       "       'Australind', 'Ayr', 'Bacchus Marsh', 'Bairnsdale', 'Ballan',\n",
       "       'Ballarat', 'Ballina', 'Bannockburn', 'Banora Point', 'Bargara',\n",
       "       'Bargo', 'Barwon Heads', 'Batemans Bay', 'Bathurst', 'Bay View',\n",
       "       'Beachmere', 'Beaconsfield Upper', 'Beaudesert', 'Beechworth',\n",
       "       'Beerwah', 'Bega', 'Bellbrae', 'Bellingen', 'Benalla', 'Bendigo',\n",
       "       'Bentley', 'Berri', 'Berry', 'Biloela', 'Blackheath', 'Blackwater',\n",
       "       'Blaxland', 'Blayney', 'Bli Bli', 'Bogangar', 'Bohle Plains',\n",
       "       'Bomaderry', 'Bongaree', 'Bonny Hills', 'Bonville', 'Boonah',\n",
       "       'Bordertown', 'Boulder', 'Bowen', 'Bowral', 'Boyne Island',\n",
       "       'Bridgetown', 'Bridgewater', 'Brisbane', 'Broadford',\n",
       "       'Broken Hill', 'Broome', 'Bucasia', 'Bullsbrook', 'Bunbury',\n",
       "       'Bundaberg', 'Bundanoon', 'Bungendore', 'Buninyong', 'Bunyip',\n",
       "       'Burnett Heads', 'Burnie', 'Burpengary', 'Burradoo', 'Busselton',\n",
       "       'Byron Bay', 'Caboolture', 'Cairns', 'Calliope', 'Caloundra',\n",
       "       'Camden', 'Campbelltown', 'Camperdown', 'Canberra', 'Cannington',\n",
       "       'Cannonvale', 'Capel', 'Carnarvon', 'Casino', 'Castlemaine',\n",
       "       'Central Coast', 'Cessnock', 'Charleville', 'Charters Towers',\n",
       "       'Chinchilla', 'Churchill', 'Clare', 'Clermont', 'Clifton Springs',\n",
       "       'Cloncurry', 'Cobar', 'Cobram', 'Cockatoo', 'Coffs Harbour',\n",
       "       'Cohuna', 'Colac', 'Collie', 'Condobolin', 'Cooktown',\n",
       "       'Cooloola Cove', 'Cooma', 'Coonabarabran', 'Coonamble',\n",
       "       'Cooranbong', 'Cooroy', 'Cootamundra', 'Corinda', 'Corowa',\n",
       "       'Cowes', 'Cowra', 'Cranbourne', 'Creswick', 'Crib Point',\n",
       "       'Crookwell', 'Culburra', 'Currie', 'Currumbin', 'Dalby',\n",
       "       'Dandenong', 'Darley', 'Darwin', 'Daylesford', 'Deloraine',\n",
       "       'Deniliquin', 'Denmark', 'Derby', 'Devonport', 'Dodges Ferry',\n",
       "       'Donnybrook', 'Dromana', 'Drouin', 'Drysdale', 'Dubbo',\n",
       "       'Dunsborough', 'Dysart', 'East Ballina', 'East Hills', 'Echuca',\n",
       "       'Eden', 'Emerald', 'Emu Plains', 'Encounter Bay', 'Esperance',\n",
       "       'Euroa', 'Evans Head', 'Exmouth', 'Faulconbridge', 'Fernvale',\n",
       "       'Finley', 'Forbes', 'Forster', 'Frankston', 'Fremantle', 'Gatton',\n",
       "       'Gawler', 'Geelong', 'George Town', 'Geraldton', 'Gerringong',\n",
       "       'Gilgandra', 'Gisborne', 'Gladstone', 'Glass House Mountains',\n",
       "       'Glen Innes', 'Glenbrook', 'Glenella', 'Gloucester', 'Gold Coast',\n",
       "       'Goondiwindi', 'Goonellabah', 'Gordonvale', 'Gosford', 'Goulburn',\n",
       "       'Gracemere', 'Grafton', 'Grenfell', 'Greta', 'Griffith', 'Gulgong',\n",
       "       'Gunnedah', 'Gympie', 'Hahndorf', 'Hamilton', 'Harvey',\n",
       "       'Hazelbrook', 'Healesville', 'Heathcote', 'Helensburgh',\n",
       "       'Hervey Bay', 'Highfields', 'Hill Top', 'Hobart', 'Home Hill',\n",
       "       'Horsham', 'Howard Springs', 'Howlong', 'Huonville', 'Hurstbridge',\n",
       "       'Ingham', 'Innisfail', 'Inverell', 'Inverloch', 'Ipswich',\n",
       "       'Irymple', 'Jimboomba', 'Jindabyne', 'Junee', 'Junortoun',\n",
       "       'Kadina', 'Kalgoorlie', 'Kambalda', 'Kangaroo Flat', 'Kapunda',\n",
       "       'Karana Downs', 'Karratha', 'Katanning', 'Katoomba', 'Kelso',\n",
       "       'Kempsey', 'Kerang', 'Kiama', 'Kiama Downs', 'Kilmore', 'Kingaroy',\n",
       "       'Kingscliff', 'Kingston', 'Koo-Wee-Rup', 'Korora', 'Korumburra',\n",
       "       'Kununurra', 'Kuranda', 'Kurri Kurri', 'Kwinana', 'Kyabram',\n",
       "       'Kyneton', 'Laidley', 'Lake Cathie', 'Lakes Entrance',\n",
       "       'Lancefield', 'Landsborough', 'Lara', 'Latrobe', 'Launceston',\n",
       "       'Lawson', 'Leeton', 'Legana', 'Lennox Head', 'Leongatha',\n",
       "       'Leopold', 'Leschenault', 'Lesmurdie', 'Leura', 'Lewiston',\n",
       "       'Lismore', 'Lithgow', 'Little Hampton', 'Lobethal',\n",
       "       'Logan Village', 'Longford', 'Longreach', 'Lowood', 'Loxton',\n",
       "       'Lysterfield', 'Mackay', 'Macksville', 'Maclean', 'Maddingley',\n",
       "       'Maffra', 'Maitland', 'Maleny', 'Mandurah', 'Manilla', 'Manjimup',\n",
       "       'Mannum', 'Mansfield', 'Marcoola', 'Mareeba', 'Margaret River',\n",
       "       'Margate', 'Marian', 'Maryborough', 'McCrae', 'McLaren Vale',\n",
       "       'McMinns Lagoon', 'Melbourne', 'Melton', 'Merbein', 'Merimbula',\n",
       "       'Merredin', 'Merrimac', 'Mildura', 'Millicent', 'Miners Rest',\n",
       "       'Mittagong', 'Moama', 'Moe', 'Molong', 'Mooloolah', 'Moore Park',\n",
       "       'Mooroopna', 'Moranbah', 'Moree', 'Morisset', 'Moruya', 'Morwell',\n",
       "       'Moss Vale', 'Mount Barker', 'Mount Cotton', 'Mount Eliza',\n",
       "       'Mount Evelyn', 'Mount Gambier', 'Mount Isa', 'Mount Low',\n",
       "       'Mudgee', 'Mullumbimby', 'Murray Bridge', 'Murrumbateman',\n",
       "       'Murwillumbah', 'Muswellbrook', 'Myrtleford', 'Nairne', 'Nambour',\n",
       "       'Nambucca Heads', 'Nanango', 'Naracoorte', 'Narangba', 'Narooma',\n",
       "       'Narrabri', 'Narrandera', 'Narre Warren North', 'Narrogin',\n",
       "       'Narromine', 'Nelson Bay', 'Nerang', 'New Norfolk', 'Newcastle',\n",
       "       'Newman', 'Nhulunbuy', 'Ningi', 'North Beach', 'North Mackay',\n",
       "       'North Tamborine', 'North Wonthaggi', 'Northam', 'Nowra',\n",
       "       'Numurkah', 'Nuriootpa', 'Oakey', 'Oberon', 'Ocean Shores',\n",
       "       'Old Bar', 'Orange', 'Pakenham', 'Palm Island', 'Palmwoods',\n",
       "       'Parkes', 'Paynesville', 'Pearcedale', 'Penguin', 'Penrith',\n",
       "       'Peregian Beach', 'Perth', 'Picton', 'Pinjarra', 'Pittsworth',\n",
       "       'Point Lonsdale', 'Point Vernon', 'Pomona', 'Port Augusta',\n",
       "       'Port Douglas', 'Port Fairy', 'Port Hedland', 'Port Lincoln',\n",
       "       'Port Macquarie', 'Port Pirie', 'Portarlington', 'Portland',\n",
       "       'Pottsville', 'Proserpine', 'Quakers Hill', 'Queanbeyan',\n",
       "       'Quirindi', 'Rasmussen', 'Raymond Terrace', 'Red Cliffs',\n",
       "       'Renmark', 'Richmond', 'Riddell', 'Riverview', 'Robinvale',\n",
       "       'Rochedale', 'Rochester', 'Rockhampton', 'Roma', 'Romsey',\n",
       "       'Rosewood', 'Roxby Downs', 'Rutherford', 'Rye', 'Saint George',\n",
       "       'Saint Georges Basin', 'Saint Leonards', 'Salamander Bay', 'Sale',\n",
       "       'Samford', 'Sanctuary Point', 'Sandstone Point', 'Sarina',\n",
       "       'Sawtell', 'Scarness', 'Scone', 'Seymour', 'Shepparton',\n",
       "       'Shoalhaven Heads', 'Silverdale', 'Singleton',\n",
       "       'Smithfield Heights', 'Smithton', 'Somerset', 'Somerville',\n",
       "       'Sorell', 'South Grafton', 'South West Rocks', 'Southport',\n",
       "       'Springwood', 'Stanthorpe', 'Stawell', 'Stirling',\n",
       "       'Stirling North', 'Stratford', 'Strathalbyn', 'Suffolk Park',\n",
       "       'Sunbury', 'Sussex Inlet', 'Swan Hill', 'Sydney', 'Tahmoor',\n",
       "       'Tallebudgera', 'Tambourine', 'Tamworth', 'Tannum Sands',\n",
       "       'Tanunda', 'Taree', 'Tatura', 'Tea Gardens', 'Temora',\n",
       "       'Tenterfield', 'Terranora', 'The Entrance', 'The Oaks',\n",
       "       'Thirlmere', 'Thursday Island', 'Tolga', 'Tom Price', 'Toowoomba',\n",
       "       'Torquay', 'Townsville', 'Trafalgar', 'Traralgon', 'Tumut',\n",
       "       'Tuncurry', 'Tura Beach', 'Tweed Heads', 'Two Rocks', 'Tyabb',\n",
       "       'Ulladulla', 'Ulverstone', 'Uralla', 'Urraween', 'Urunga', 'Vasse',\n",
       "       'Victor Harbor', 'Vincentia', 'Wagga Wagga', 'Waikerie', 'Walcha',\n",
       "       'Walkerston', 'Wallan', 'Wallaroo', 'Wangaratta', 'Waroona',\n",
       "       'Warragul', 'Warrnambool', 'Warwick', 'Waterford', 'Wauchope',\n",
       "       'Weipa', 'Wellington', 'Wentworth Falls', 'West Wyalong',\n",
       "       'Westbrook', 'Weston', 'Whittlesea', 'Whyalla', 'Wilberforce',\n",
       "       'Williamstown', 'Wilton', 'Wingham', 'Wodonga', 'Wollert',\n",
       "       'Wollongbar', 'Wollongong', 'Wonga Park', 'Wonthaggi', 'Woodend',\n",
       "       'Woodford', 'Woodside', 'Woolgoolga', 'Woombye', 'Woori Yallock',\n",
       "       'Wooroloo', 'Worragee', 'Wynyard', 'Wyong', 'Yamba', 'Yanchep',\n",
       "       'Yarra Glen', 'Yarra Junction', 'Yarrabah Aboriginal Community',\n",
       "       'Yarrawonga', 'Yass', 'Yeppoon', 'York', 'Young'], dtype=object)"
      ]
     },
     "execution_count": 391,
     "metadata": {},
     "output_type": "execute_result"
    }
   ],
   "source": [
    "np.sort(au.Location.unique())"
   ]
  },
  {
   "cell_type": "code",
   "execution_count": 392,
   "id": "c0757881",
   "metadata": {},
   "outputs": [],
   "source": [
    "df['Location'] = df['Location'].replace(to_replace = ['AliceSprings', 'MountGambier', 'GoldCoast', 'CoffsHarbour','Williamtown'],\n",
    "                                    value= ['Alice Springs', 'Mount Gambier', 'Gold Coast', 'Coffs Harbour', 'Williamstown'])"
   ]
  },
  {
   "cell_type": "code",
   "execution_count": 393,
   "id": "471ec2c1",
   "metadata": {},
   "outputs": [],
   "source": [
    "df.drop(columns=['lat', 'lng'], inplace=True)"
   ]
  },
  {
   "cell_type": "code",
   "execution_count": 394,
   "id": "ebfad131",
   "metadata": {},
   "outputs": [
    {
     "data": {
      "text/plain": [
       "lat    51267\n",
       "lng    51267\n",
       "dtype: int64"
      ]
     },
     "execution_count": 394,
     "metadata": {},
     "output_type": "execute_result"
    }
   ],
   "source": [
    "# Jointure à gauche entre df et au sur la colonne 'Location'\n",
    "df = df.merge(right = au[['Location','lat', 'lng']], on = 'Location', how = 'left')\n",
    "df[['lat', 'lng']].isna().sum()"
   ]
  },
  {
   "cell_type": "code",
   "execution_count": 399,
   "id": "361f3816",
   "metadata": {},
   "outputs": [],
   "source": [
    "df.dropna(inplace=True)"
   ]
  },
  {
   "cell_type": "markdown",
   "id": "98a415dd",
   "metadata": {},
   "source": [
    "# Classification des villes par clustering"
   ]
  },
  {
   "cell_type": "code",
   "execution_count": 408,
   "id": "336663f0",
   "metadata": {},
   "outputs": [
    {
     "data": {
      "text/plain": [
       "Index(['Location', 'Rainfall', 'WindGustSpeed', 'Humidity3pm', 'Pressure9am',\n",
       "       'RainTomorrow', 'Temp_Delta_MinMax', 'Humidity_Delta', 'lat', 'lng'],\n",
       "      dtype='object')"
      ]
     },
     "execution_count": 408,
     "metadata": {},
     "output_type": "execute_result"
    }
   ],
   "source": [
    "df.columns"
   ]
  },
  {
   "cell_type": "code",
   "execution_count": 409,
   "id": "1eaf2b6c",
   "metadata": {},
   "outputs": [
    {
     "data": {
      "text/plain": [
       "Index(['Rainfall', 'WindGustSpeed', 'Humidity3pm', 'Pressure9am',\n",
       "       'RainTomorrow', 'Temp_Delta_MinMax', 'Humidity_Delta'],\n",
       "      dtype='object')"
      ]
     },
     "execution_count": 409,
     "metadata": {},
     "output_type": "execute_result"
    }
   ],
   "source": [
    "# Variables climatiques\n",
    "var_climat = df.columns[1:-2]\n",
    "var_climat"
   ]
  },
  {
   "cell_type": "code",
   "execution_count": 410,
   "id": "651a5377",
   "metadata": {
    "scrolled": false
   },
   "outputs": [
    {
     "data": {
      "text/html": [
       "<div>\n",
       "<style scoped>\n",
       "    .dataframe tbody tr th:only-of-type {\n",
       "        vertical-align: middle;\n",
       "    }\n",
       "\n",
       "    .dataframe tbody tr th {\n",
       "        vertical-align: top;\n",
       "    }\n",
       "\n",
       "    .dataframe thead th {\n",
       "        text-align: right;\n",
       "    }\n",
       "</style>\n",
       "<table border=\"1\" class=\"dataframe\">\n",
       "  <thead>\n",
       "    <tr style=\"text-align: right;\">\n",
       "      <th></th>\n",
       "      <th>Rainfall</th>\n",
       "      <th>WindGustSpeed</th>\n",
       "      <th>Humidity3pm</th>\n",
       "      <th>Pressure9am</th>\n",
       "      <th>RainTomorrow</th>\n",
       "      <th>Temp_Delta_MinMax</th>\n",
       "      <th>Humidity_Delta</th>\n",
       "    </tr>\n",
       "    <tr>\n",
       "      <th>Location</th>\n",
       "      <th></th>\n",
       "      <th></th>\n",
       "      <th></th>\n",
       "      <th></th>\n",
       "      <th></th>\n",
       "      <th></th>\n",
       "      <th></th>\n",
       "    </tr>\n",
       "  </thead>\n",
       "  <tbody>\n",
       "    <tr>\n",
       "      <th>Adelaide</th>\n",
       "      <td>0.478212</td>\n",
       "      <td>36.503654</td>\n",
       "      <td>44.769949</td>\n",
       "      <td>1018.747834</td>\n",
       "      <td>0.216887</td>\n",
       "      <td>10.340346</td>\n",
       "      <td>-15.022966</td>\n",
       "    </tr>\n",
       "    <tr>\n",
       "      <th>Albany</th>\n",
       "      <td>0.642056</td>\n",
       "      <td>39.776750</td>\n",
       "      <td>63.754811</td>\n",
       "      <td>1018.297134</td>\n",
       "      <td>0.297397</td>\n",
       "      <td>7.179369</td>\n",
       "      <td>-8.870847</td>\n",
       "    </tr>\n",
       "    <tr>\n",
       "      <th>Albury</th>\n",
       "      <td>0.444199</td>\n",
       "      <td>32.891412</td>\n",
       "      <td>47.884586</td>\n",
       "      <td>1018.367268</td>\n",
       "      <td>0.205617</td>\n",
       "      <td>13.114725</td>\n",
       "      <td>-26.257224</td>\n",
       "    </tr>\n",
       "    <tr>\n",
       "      <th>Alice Springs</th>\n",
       "      <td>0.173157</td>\n",
       "      <td>40.463161</td>\n",
       "      <td>24.080925</td>\n",
       "      <td>1016.710901</td>\n",
       "      <td>0.080000</td>\n",
       "      <td>16.118163</td>\n",
       "      <td>-15.593090</td>\n",
       "    </tr>\n",
       "    <tr>\n",
       "      <th>Ballarat</th>\n",
       "      <td>0.568777</td>\n",
       "      <td>44.724848</td>\n",
       "      <td>59.050131</td>\n",
       "      <td>1017.897062</td>\n",
       "      <td>0.258204</td>\n",
       "      <td>10.913820</td>\n",
       "      <td>-22.875258</td>\n",
       "    </tr>\n",
       "    <tr>\n",
       "      <th>Bendigo</th>\n",
       "      <td>0.415710</td>\n",
       "      <td>38.807652</td>\n",
       "      <td>46.489257</td>\n",
       "      <td>1018.031806</td>\n",
       "      <td>0.185149</td>\n",
       "      <td>13.013859</td>\n",
       "      <td>-24.117003</td>\n",
       "    </tr>\n",
       "    <tr>\n",
       "      <th>Brisbane</th>\n",
       "      <td>0.482822</td>\n",
       "      <td>28.246750</td>\n",
       "      <td>53.875812</td>\n",
       "      <td>1018.257248</td>\n",
       "      <td>0.225096</td>\n",
       "      <td>10.030772</td>\n",
       "      <td>-10.162259</td>\n",
       "    </tr>\n",
       "    <tr>\n",
       "      <th>Cairns</th>\n",
       "      <td>0.679926</td>\n",
       "      <td>38.081209</td>\n",
       "      <td>61.658907</td>\n",
       "      <td>1014.167915</td>\n",
       "      <td>0.315452</td>\n",
       "      <td>8.350555</td>\n",
       "      <td>-8.247638</td>\n",
       "    </tr>\n",
       "    <tr>\n",
       "      <th>Canberra</th>\n",
       "      <td>0.396767</td>\n",
       "      <td>39.918448</td>\n",
       "      <td>45.864607</td>\n",
       "      <td>1018.905803</td>\n",
       "      <td>0.183715</td>\n",
       "      <td>14.117555</td>\n",
       "      <td>-27.036854</td>\n",
       "    </tr>\n",
       "    <tr>\n",
       "      <th>Cobar</th>\n",
       "      <td>0.277886</td>\n",
       "      <td>36.719879</td>\n",
       "      <td>34.517708</td>\n",
       "      <td>1018.004955</td>\n",
       "      <td>0.128523</td>\n",
       "      <td>12.719122</td>\n",
       "      <td>-21.200457</td>\n",
       "    </tr>\n",
       "    <tr>\n",
       "      <th>Coffs Harbour</th>\n",
       "      <td>0.621122</td>\n",
       "      <td>39.216068</td>\n",
       "      <td>62.163739</td>\n",
       "      <td>1018.180713</td>\n",
       "      <td>0.293197</td>\n",
       "      <td>9.563119</td>\n",
       "      <td>-5.758066</td>\n",
       "    </tr>\n",
       "    <tr>\n",
       "      <th>Darwin</th>\n",
       "      <td>0.553195</td>\n",
       "      <td>40.451236</td>\n",
       "      <td>51.829855</td>\n",
       "      <td>1011.890813</td>\n",
       "      <td>0.266917</td>\n",
       "      <td>9.331625</td>\n",
       "      <td>-16.629467</td>\n",
       "    </tr>\n",
       "    <tr>\n",
       "      <th>Gold Coast</th>\n",
       "      <td>0.551231</td>\n",
       "      <td>42.296453</td>\n",
       "      <td>62.894149</td>\n",
       "      <td>1017.946375</td>\n",
       "      <td>0.260602</td>\n",
       "      <td>8.409010</td>\n",
       "      <td>-3.403966</td>\n",
       "    </tr>\n",
       "    <tr>\n",
       "      <th>Hobart</th>\n",
       "      <td>0.541502</td>\n",
       "      <td>46.416669</td>\n",
       "      <td>52.947798</td>\n",
       "      <td>1014.883153</td>\n",
       "      <td>0.238454</td>\n",
       "      <td>8.784149</td>\n",
       "      <td>-12.780570</td>\n",
       "    </tr>\n",
       "    <tr>\n",
       "      <th>Launceston</th>\n",
       "      <td>0.503576</td>\n",
       "      <td>35.582790</td>\n",
       "      <td>57.213624</td>\n",
       "      <td>1016.541644</td>\n",
       "      <td>0.229139</td>\n",
       "      <td>11.128289</td>\n",
       "      <td>-22.192257</td>\n",
       "    </tr>\n",
       "    <tr>\n",
       "      <th>Melbourne</th>\n",
       "      <td>0.540992</td>\n",
       "      <td>44.710563</td>\n",
       "      <td>50.841469</td>\n",
       "      <td>1017.766536</td>\n",
       "      <td>0.231941</td>\n",
       "      <td>9.128285</td>\n",
       "      <td>-16.481261</td>\n",
       "    </tr>\n",
       "    <tr>\n",
       "      <th>Mildura</th>\n",
       "      <td>0.245857</td>\n",
       "      <td>37.089387</td>\n",
       "      <td>35.437536</td>\n",
       "      <td>1018.778571</td>\n",
       "      <td>0.108819</td>\n",
       "      <td>14.105807</td>\n",
       "      <td>-28.735806</td>\n",
       "    </tr>\n",
       "    <tr>\n",
       "      <th>Moree</th>\n",
       "      <td>0.295557</td>\n",
       "      <td>39.603860</td>\n",
       "      <td>35.387602</td>\n",
       "      <td>1018.342386</td>\n",
       "      <td>0.127553</td>\n",
       "      <td>14.139266</td>\n",
       "      <td>-25.657298</td>\n",
       "    </tr>\n",
       "    <tr>\n",
       "      <th>Mount Gambier</th>\n",
       "      <td>0.668564</td>\n",
       "      <td>42.590949</td>\n",
       "      <td>57.264227</td>\n",
       "      <td>1017.983877</td>\n",
       "      <td>0.302780</td>\n",
       "      <td>10.973824</td>\n",
       "      <td>-18.284955</td>\n",
       "    </tr>\n",
       "    <tr>\n",
       "      <th>Newcastle</th>\n",
       "      <td>0.535609</td>\n",
       "      <td>39.776750</td>\n",
       "      <td>55.632178</td>\n",
       "      <td>1017.676522</td>\n",
       "      <td>0.242745</td>\n",
       "      <td>10.497049</td>\n",
       "      <td>-16.950054</td>\n",
       "    </tr>\n",
       "    <tr>\n",
       "      <th>Nuriootpa</th>\n",
       "      <td>0.437951</td>\n",
       "      <td>40.540414</td>\n",
       "      <td>45.362764</td>\n",
       "      <td>1018.923209</td>\n",
       "      <td>0.196262</td>\n",
       "      <td>12.355603</td>\n",
       "      <td>-21.490452</td>\n",
       "    </tr>\n",
       "    <tr>\n",
       "      <th>Penrith</th>\n",
       "      <td>0.445895</td>\n",
       "      <td>31.628190</td>\n",
       "      <td>48.913676</td>\n",
       "      <td>1017.676522</td>\n",
       "      <td>0.198557</td>\n",
       "      <td>12.211696</td>\n",
       "      <td>-26.708588</td>\n",
       "    </tr>\n",
       "    <tr>\n",
       "      <th>Perth</th>\n",
       "      <td>0.427184</td>\n",
       "      <td>34.883772</td>\n",
       "      <td>46.917505</td>\n",
       "      <td>1017.786651</td>\n",
       "      <td>0.202004</td>\n",
       "      <td>12.110287</td>\n",
       "      <td>-15.856259</td>\n",
       "    </tr>\n",
       "    <tr>\n",
       "      <th>Portland</th>\n",
       "      <td>0.797520</td>\n",
       "      <td>41.697434</td>\n",
       "      <td>65.951354</td>\n",
       "      <td>1017.727561</td>\n",
       "      <td>0.366957</td>\n",
       "      <td>8.476680</td>\n",
       "      <td>-13.094478</td>\n",
       "    </tr>\n",
       "    <tr>\n",
       "      <th>Richmond</th>\n",
       "      <td>0.427667</td>\n",
       "      <td>34.820233</td>\n",
       "      <td>49.017730</td>\n",
       "      <td>1018.708182</td>\n",
       "      <td>0.189952</td>\n",
       "      <td>13.105239</td>\n",
       "      <td>-27.577786</td>\n",
       "    </tr>\n",
       "    <tr>\n",
       "      <th>Sale</th>\n",
       "      <td>0.492480</td>\n",
       "      <td>41.877759</td>\n",
       "      <td>56.361210</td>\n",
       "      <td>1017.868674</td>\n",
       "      <td>0.214906</td>\n",
       "      <td>11.693346</td>\n",
       "      <td>-22.427357</td>\n",
       "    </tr>\n",
       "    <tr>\n",
       "      <th>Sydney</th>\n",
       "      <td>0.559412</td>\n",
       "      <td>41.029018</td>\n",
       "      <td>54.704545</td>\n",
       "      <td>1018.353477</td>\n",
       "      <td>0.259081</td>\n",
       "      <td>8.138542</td>\n",
       "      <td>-13.566314</td>\n",
       "    </tr>\n",
       "    <tr>\n",
       "      <th>Townsville</th>\n",
       "      <td>0.370268</td>\n",
       "      <td>38.743339</td>\n",
       "      <td>57.377602</td>\n",
       "      <td>1015.185993</td>\n",
       "      <td>0.169805</td>\n",
       "      <td>8.957828</td>\n",
       "      <td>-6.568880</td>\n",
       "    </tr>\n",
       "    <tr>\n",
       "      <th>Williamstown</th>\n",
       "      <td>0.570118</td>\n",
       "      <td>41.499344</td>\n",
       "      <td>53.039434</td>\n",
       "      <td>1018.303058</td>\n",
       "      <td>0.237795</td>\n",
       "      <td>11.424741</td>\n",
       "      <td>-17.846463</td>\n",
       "    </tr>\n",
       "    <tr>\n",
       "      <th>Wollongong</th>\n",
       "      <td>0.516955</td>\n",
       "      <td>45.016647</td>\n",
       "      <td>65.114046</td>\n",
       "      <td>1018.105571</td>\n",
       "      <td>0.239551</td>\n",
       "      <td>6.526347</td>\n",
       "      <td>-2.703410</td>\n",
       "    </tr>\n",
       "  </tbody>\n",
       "</table>\n",
       "</div>"
      ],
      "text/plain": [
       "               Rainfall  WindGustSpeed  Humidity3pm  Pressure9am  \\\n",
       "Location                                                           \n",
       "Adelaide       0.478212      36.503654    44.769949  1018.747834   \n",
       "Albany         0.642056      39.776750    63.754811  1018.297134   \n",
       "Albury         0.444199      32.891412    47.884586  1018.367268   \n",
       "Alice Springs  0.173157      40.463161    24.080925  1016.710901   \n",
       "Ballarat       0.568777      44.724848    59.050131  1017.897062   \n",
       "Bendigo        0.415710      38.807652    46.489257  1018.031806   \n",
       "Brisbane       0.482822      28.246750    53.875812  1018.257248   \n",
       "Cairns         0.679926      38.081209    61.658907  1014.167915   \n",
       "Canberra       0.396767      39.918448    45.864607  1018.905803   \n",
       "Cobar          0.277886      36.719879    34.517708  1018.004955   \n",
       "Coffs Harbour  0.621122      39.216068    62.163739  1018.180713   \n",
       "Darwin         0.553195      40.451236    51.829855  1011.890813   \n",
       "Gold Coast     0.551231      42.296453    62.894149  1017.946375   \n",
       "Hobart         0.541502      46.416669    52.947798  1014.883153   \n",
       "Launceston     0.503576      35.582790    57.213624  1016.541644   \n",
       "Melbourne      0.540992      44.710563    50.841469  1017.766536   \n",
       "Mildura        0.245857      37.089387    35.437536  1018.778571   \n",
       "Moree          0.295557      39.603860    35.387602  1018.342386   \n",
       "Mount Gambier  0.668564      42.590949    57.264227  1017.983877   \n",
       "Newcastle      0.535609      39.776750    55.632178  1017.676522   \n",
       "Nuriootpa      0.437951      40.540414    45.362764  1018.923209   \n",
       "Penrith        0.445895      31.628190    48.913676  1017.676522   \n",
       "Perth          0.427184      34.883772    46.917505  1017.786651   \n",
       "Portland       0.797520      41.697434    65.951354  1017.727561   \n",
       "Richmond       0.427667      34.820233    49.017730  1018.708182   \n",
       "Sale           0.492480      41.877759    56.361210  1017.868674   \n",
       "Sydney         0.559412      41.029018    54.704545  1018.353477   \n",
       "Townsville     0.370268      38.743339    57.377602  1015.185993   \n",
       "Williamstown   0.570118      41.499344    53.039434  1018.303058   \n",
       "Wollongong     0.516955      45.016647    65.114046  1018.105571   \n",
       "\n",
       "               RainTomorrow  Temp_Delta_MinMax  Humidity_Delta  \n",
       "Location                                                        \n",
       "Adelaide           0.216887          10.340346      -15.022966  \n",
       "Albany             0.297397           7.179369       -8.870847  \n",
       "Albury             0.205617          13.114725      -26.257224  \n",
       "Alice Springs      0.080000          16.118163      -15.593090  \n",
       "Ballarat           0.258204          10.913820      -22.875258  \n",
       "Bendigo            0.185149          13.013859      -24.117003  \n",
       "Brisbane           0.225096          10.030772      -10.162259  \n",
       "Cairns             0.315452           8.350555       -8.247638  \n",
       "Canberra           0.183715          14.117555      -27.036854  \n",
       "Cobar              0.128523          12.719122      -21.200457  \n",
       "Coffs Harbour      0.293197           9.563119       -5.758066  \n",
       "Darwin             0.266917           9.331625      -16.629467  \n",
       "Gold Coast         0.260602           8.409010       -3.403966  \n",
       "Hobart             0.238454           8.784149      -12.780570  \n",
       "Launceston         0.229139          11.128289      -22.192257  \n",
       "Melbourne          0.231941           9.128285      -16.481261  \n",
       "Mildura            0.108819          14.105807      -28.735806  \n",
       "Moree              0.127553          14.139266      -25.657298  \n",
       "Mount Gambier      0.302780          10.973824      -18.284955  \n",
       "Newcastle          0.242745          10.497049      -16.950054  \n",
       "Nuriootpa          0.196262          12.355603      -21.490452  \n",
       "Penrith            0.198557          12.211696      -26.708588  \n",
       "Perth              0.202004          12.110287      -15.856259  \n",
       "Portland           0.366957           8.476680      -13.094478  \n",
       "Richmond           0.189952          13.105239      -27.577786  \n",
       "Sale               0.214906          11.693346      -22.427357  \n",
       "Sydney             0.259081           8.138542      -13.566314  \n",
       "Townsville         0.169805           8.957828       -6.568880  \n",
       "Williamstown       0.237795          11.424741      -17.846463  \n",
       "Wollongong         0.239551           6.526347       -2.703410  "
      ]
     },
     "execution_count": 410,
     "metadata": {},
     "output_type": "execute_result"
    }
   ],
   "source": [
    "clust = df.groupby(['Location']).mean()[var_climat]"
   ]
  },
  {
   "cell_type": "code",
   "execution_count": 411,
   "id": "06ea96ff",
   "metadata": {},
   "outputs": [
    {
     "data": {
      "text/html": [
       "<div>\n",
       "<style scoped>\n",
       "    .dataframe tbody tr th:only-of-type {\n",
       "        vertical-align: middle;\n",
       "    }\n",
       "\n",
       "    .dataframe tbody tr th {\n",
       "        vertical-align: top;\n",
       "    }\n",
       "\n",
       "    .dataframe thead th {\n",
       "        text-align: right;\n",
       "    }\n",
       "</style>\n",
       "<table border=\"1\" class=\"dataframe\">\n",
       "  <thead>\n",
       "    <tr style=\"text-align: right;\">\n",
       "      <th></th>\n",
       "      <th>Rainfall</th>\n",
       "      <th>WindGustSpeed</th>\n",
       "      <th>Humidity3pm</th>\n",
       "      <th>Pressure9am</th>\n",
       "      <th>RainTomorrow</th>\n",
       "      <th>Temp_Delta_MinMax</th>\n",
       "      <th>Humidity_Delta</th>\n",
       "    </tr>\n",
       "    <tr>\n",
       "      <th>Location</th>\n",
       "      <th></th>\n",
       "      <th></th>\n",
       "      <th></th>\n",
       "      <th></th>\n",
       "      <th></th>\n",
       "      <th></th>\n",
       "      <th></th>\n",
       "    </tr>\n",
       "  </thead>\n",
       "  <tbody>\n",
       "    <tr>\n",
       "      <th>Adelaide</th>\n",
       "      <td>0.488586</td>\n",
       "      <td>0.454427</td>\n",
       "      <td>0.494120</td>\n",
       "      <td>0.975062</td>\n",
       "      <td>0.477031</td>\n",
       "      <td>0.397631</td>\n",
       "      <td>0.526761</td>\n",
       "    </tr>\n",
       "    <tr>\n",
       "      <th>Albany</th>\n",
       "      <td>0.751004</td>\n",
       "      <td>0.634565</td>\n",
       "      <td>0.947540</td>\n",
       "      <td>0.910973</td>\n",
       "      <td>0.757592</td>\n",
       "      <td>0.068081</td>\n",
       "      <td>0.763086</td>\n",
       "    </tr>\n",
       "    <tr>\n",
       "      <th>Albury</th>\n",
       "      <td>0.434110</td>\n",
       "      <td>0.255624</td>\n",
       "      <td>0.568508</td>\n",
       "      <td>0.920946</td>\n",
       "      <td>0.437755</td>\n",
       "      <td>0.686875</td>\n",
       "      <td>0.095211</td>\n",
       "    </tr>\n",
       "    <tr>\n",
       "      <th>Alice Springs</th>\n",
       "      <td>0.000000</td>\n",
       "      <td>0.672343</td>\n",
       "      <td>0.000000</td>\n",
       "      <td>0.685412</td>\n",
       "      <td>0.000000</td>\n",
       "      <td>1.000000</td>\n",
       "      <td>0.504860</td>\n",
       "    </tr>\n",
       "    <tr>\n",
       "      <th>Ballarat</th>\n",
       "      <td>0.633638</td>\n",
       "      <td>0.906889</td>\n",
       "      <td>0.835177</td>\n",
       "      <td>0.854083</td>\n",
       "      <td>0.621011</td>\n",
       "      <td>0.457418</td>\n",
       "      <td>0.225125</td>\n",
       "    </tr>\n",
       "  </tbody>\n",
       "</table>\n",
       "</div>"
      ],
      "text/plain": [
       "               Rainfall  WindGustSpeed  Humidity3pm  Pressure9am  \\\n",
       "Location                                                           \n",
       "Adelaide       0.488586       0.454427     0.494120     0.975062   \n",
       "Albany         0.751004       0.634565     0.947540     0.910973   \n",
       "Albury         0.434110       0.255624     0.568508     0.920946   \n",
       "Alice Springs  0.000000       0.672343     0.000000     0.685412   \n",
       "Ballarat       0.633638       0.906889     0.835177     0.854083   \n",
       "\n",
       "               RainTomorrow  Temp_Delta_MinMax  Humidity_Delta  \n",
       "Location                                                        \n",
       "Adelaide           0.477031           0.397631        0.526761  \n",
       "Albany             0.757592           0.068081        0.763086  \n",
       "Albury             0.437755           0.686875        0.095211  \n",
       "Alice Springs      0.000000           1.000000        0.504860  \n",
       "Ballarat           0.621011           0.457418        0.225125  "
      ]
     },
     "execution_count": 411,
     "metadata": {},
     "output_type": "execute_result"
    }
   ],
   "source": [
    "from sklearn.preprocessing import MinMaxScaler\n",
    "\n",
    "scaler = MinMaxScaler()\n",
    "\n",
    "clust = pd.DataFrame(scaler.fit_transform(clust), columns=clust.columns, index = clust.index)"
   ]
  },
  {
   "cell_type": "code",
   "execution_count": 414,
   "id": "b7c5b2c0",
   "metadata": {},
   "outputs": [],
   "source": [
    "# Importation de la fonction cdist du package scipy.spatial.distance\n",
    "from scipy.spatial.distance import cdist\n",
    "\n",
    "# Liste des nombre de clusters\n",
    "range_n_clusters = range(2, 12) \n",
    "\n",
    "# Initialisation de la liste de distorsions\n",
    "distorsions = []\n",
    "\n",
    "# Calcul des distorsions pour les différents modèles\n",
    "for n_clusters in range_n_clusters:\n",
    "    \n",
    "    # Initialisation d'un cluster ayant un pour nombre de clusters n_clusters\n",
    "    cluster = KMeans(n_clusters = n_clusters)\n",
    "    \n",
    "    # Apprentissage des données suivant le cluster construit ci-dessus\n",
    "    cluster.fit(clust)\n",
    "    \n",
    "    # Ajout de la nouvelle distorsion à la liste des données\n",
    "    distorsions.append(sum(np.min(cdist(clust, cluster.cluster_centers_, 'euclidean'), axis=1)) / np.size(clust, axis = 0))"
   ]
  },
  {
   "cell_type": "raw",
   "id": "5c1b48d4",
   "metadata": {},
   "source": [
    "Après avoir calculé les distorsions, il est nécessaire de visualiser le graphique des distorsions en fonction du nombre de clusters pour pouvoir choisir le nombre k optimal."
   ]
  },
  {
   "cell_type": "code",
   "execution_count": 415,
   "id": "80422f34",
   "metadata": {},
   "outputs": [
    {
     "data": {
      "image/png": "[encoded data removed]",
      "text/plain": [
       "<Figure size 432x288 with 1 Axes>"
      ]
     },
     "metadata": {
      "needs_background": "light"
     },
     "output_type": "display_data"
    }
   ],
   "source": [
    "# Visualisation des distorsions en fonction du nombre de clusters\n",
    "plt.plot(range_n_clusters, distorsions, 'gx-')\n",
    "plt.xlabel('Nombre de Clusters K')\n",
    "plt.ylabel('Distorsion SSW/(SSW+SSB)')\n",
    "plt.title('Méthode du coude affichant le nombre de clusters optimal')\n",
    "plt.show()"
   ]
  },
  {
   "cell_type": "raw",
   "id": "b7daef53",
   "metadata": {},
   "source": [
    "La courbe obtenue décroit et change de trajectoire après k = 5. Ainsi, le nombre de clusters optimal est 5."
   ]
  },
  {
   "cell_type": "raw",
   "id": "0deaca4d",
   "metadata": {},
   "source": [
    "Réentraîner l'algorithme sur l'ensemble d'entraînement df en utilisant 5 classes de séparation."
   ]
  },
  {
   "cell_type": "code",
   "execution_count": 416,
   "id": "e1682bc8",
   "metadata": {},
   "outputs": [],
   "source": [
    "# Algorithme de K-means\n",
    "kmeans = KMeans(n_clusters = 5)\n",
    "kmeans.fit(clust)\n",
    "\n",
    "# Centroids and labels\n",
    "centroids = kmeans.cluster_centers_\n",
    "labels = kmeans.labels_"
   ]
  },
  {
   "cell_type": "code",
   "execution_count": 454,
   "id": "1fdaa512",
   "metadata": {},
   "outputs": [],
   "source": [
    "clust['city_cluster']=labels"
   ]
  },
  {
   "cell_type": "code",
   "execution_count": 458,
   "id": "44e7c4bf",
   "metadata": {},
   "outputs": [],
   "source": [
    "clust=clust.reset_index()"
   ]
  },
  {
   "cell_type": "code",
   "execution_count": 463,
   "id": "02aabe17",
   "metadata": {},
   "outputs": [],
   "source": [
    "# Jointure à gauche entre transactions et customer sur la colonne 'cust_id'\n",
    "df=df.merge(right = clust[['Location', 'city_cluster']], on = 'Location', how = 'left')"
   ]
  },
  {
   "cell_type": "code",
   "execution_count": 465,
   "id": "024b5554",
   "metadata": {},
   "outputs": [],
   "source": [
    "df.drop(columns=['Location'], inplace=True)"
   ]
  },
  {
   "cell_type": "code",
   "execution_count": 466,
   "id": "6076de76",
   "metadata": {},
   "outputs": [
    {
     "data": {
      "text/html": [
       "<div>\n",
       "<style scoped>\n",
       "    .dataframe tbody tr th:only-of-type {\n",
       "        vertical-align: middle;\n",
       "    }\n",
       "\n",
       "    .dataframe tbody tr th {\n",
       "        vertical-align: top;\n",
       "    }\n",
       "\n",
       "    .dataframe thead th {\n",
       "        text-align: right;\n",
       "    }\n",
       "</style>\n",
       "<table border=\"1\" class=\"dataframe\">\n",
       "  <thead>\n",
       "    <tr style=\"text-align: right;\">\n",
       "      <th></th>\n",
       "      <th>Rainfall</th>\n",
       "      <th>WindGustSpeed</th>\n",
       "      <th>Humidity3pm</th>\n",
       "      <th>Pressure9am</th>\n",
       "      <th>RainTomorrow</th>\n",
       "      <th>Temp_Delta_MinMax</th>\n",
       "      <th>Humidity_Delta</th>\n",
       "      <th>lat</th>\n",
       "      <th>lng</th>\n",
       "      <th>city_cluster</th>\n",
       "    </tr>\n",
       "  </thead>\n",
       "  <tbody>\n",
       "    <tr>\n",
       "      <th>0</th>\n",
       "      <td>0.6</td>\n",
       "      <td>44.0</td>\n",
       "      <td>22.0</td>\n",
       "      <td>1007.7</td>\n",
       "      <td>0</td>\n",
       "      <td>9.5</td>\n",
       "      <td>-49.0</td>\n",
       "      <td>-36.0806</td>\n",
       "      <td>146.9158</td>\n",
       "      <td>4</td>\n",
       "    </tr>\n",
       "    <tr>\n",
       "      <th>1</th>\n",
       "      <td>0.0</td>\n",
       "      <td>44.0</td>\n",
       "      <td>25.0</td>\n",
       "      <td>1010.6</td>\n",
       "      <td>0</td>\n",
       "      <td>17.7</td>\n",
       "      <td>-19.0</td>\n",
       "      <td>-36.0806</td>\n",
       "      <td>146.9158</td>\n",
       "      <td>4</td>\n",
       "    </tr>\n",
       "    <tr>\n",
       "      <th>2</th>\n",
       "      <td>0.0</td>\n",
       "      <td>46.0</td>\n",
       "      <td>30.0</td>\n",
       "      <td>1007.6</td>\n",
       "      <td>0</td>\n",
       "      <td>12.8</td>\n",
       "      <td>-8.0</td>\n",
       "      <td>-36.0806</td>\n",
       "      <td>146.9158</td>\n",
       "      <td>4</td>\n",
       "    </tr>\n",
       "    <tr>\n",
       "      <th>3</th>\n",
       "      <td>0.0</td>\n",
       "      <td>24.0</td>\n",
       "      <td>16.0</td>\n",
       "      <td>1017.6</td>\n",
       "      <td>0</td>\n",
       "      <td>18.8</td>\n",
       "      <td>-29.0</td>\n",
       "      <td>-36.0806</td>\n",
       "      <td>146.9158</td>\n",
       "      <td>4</td>\n",
       "    </tr>\n",
       "    <tr>\n",
       "      <th>4</th>\n",
       "      <td>1.0</td>\n",
       "      <td>41.0</td>\n",
       "      <td>33.0</td>\n",
       "      <td>1010.8</td>\n",
       "      <td>0</td>\n",
       "      <td>14.8</td>\n",
       "      <td>-49.0</td>\n",
       "      <td>-36.0806</td>\n",
       "      <td>146.9158</td>\n",
       "      <td>4</td>\n",
       "    </tr>\n",
       "  </tbody>\n",
       "</table>\n",
       "</div>"
      ],
      "text/plain": [
       "   Rainfall  WindGustSpeed  Humidity3pm  Pressure9am  RainTomorrow  \\\n",
       "0       0.6           44.0         22.0       1007.7             0   \n",
       "1       0.0           44.0         25.0       1010.6             0   \n",
       "2       0.0           46.0         30.0       1007.6             0   \n",
       "3       0.0           24.0         16.0       1017.6             0   \n",
       "4       1.0           41.0         33.0       1010.8             0   \n",
       "\n",
       "   Temp_Delta_MinMax  Humidity_Delta      lat       lng  city_cluster  \n",
       "0                9.5           -49.0 -36.0806  146.9158             4  \n",
       "1               17.7           -19.0 -36.0806  146.9158             4  \n",
       "2               12.8            -8.0 -36.0806  146.9158             4  \n",
       "3               18.8           -29.0 -36.0806  146.9158             4  \n",
       "4               14.8           -49.0 -36.0806  146.9158             4  "
      ]
     },
     "execution_count": 466,
     "metadata": {},
     "output_type": "execute_result"
    }
   ],
   "source": [
    "df.head()"
   ]
  },
  {
   "cell_type": "code",
   "execution_count": null,
   "id": "f1290497",
   "metadata": {},
   "outputs": [],
   "source": []
  },
  {
   "cell_type": "markdown",
   "id": "YvGvgSWFqS-b",
   "metadata": {
    "id": "YvGvgSWFqS-b"
   },
   "source": [
    "## Sauvegarde du jeu de données"
   ]
  },
  {
   "cell_type": "code",
   "execution_count": null,
   "id": "DVTH8RsBqS-c",
   "metadata": {
    "id": "DVTH8RsBqS-c"
   },
   "outputs": [],
   "source": [
    "df.to_csv('weatherAUS_preprocessed.csv')"
   ]
  },
  {
   "cell_type": "markdown",
   "id": "9de277aa",
   "metadata": {
    "id": "9de277aa"
   },
   "source": [
    "# Modèles de classification"
   ]
  },
  {
   "cell_type": "code",
   "execution_count": null,
   "id": "lD16-9ECM9nT",
   "metadata": {
    "colab": {
     "base_uri": "https://localhost:8080/",
     "height": 206
    },
    "executionInfo": {
     "elapsed": 859,
     "status": "ok",
     "timestamp": 1658765896716,
     "user": {
      "displayName": "Joseph Charles",
      "userId": "06269672887998330870"
     },
     "user_tz": -120
    },
    "id": "lD16-9ECM9nT",
    "outputId": "a4620f28-84ca-4646-abdf-3fd2f2f3dcad"
   },
   "outputs": [
    {
     "data": {
      "text/html": [
       "\n",
       "  <div id=\"df-52adb069-33a6-4670-8797-5b75c95d7ef0\">\n",
       "    <div class=\"colab-df-container\">\n",
       "      <div>\n",
       "<style scoped>\n",
       "    .dataframe tbody tr th:only-of-type {\n",
       "        vertical-align: middle;\n",
       "    }\n",
       "\n",
       "    .dataframe tbody tr th {\n",
       "        vertical-align: top;\n",
       "    }\n",
       "\n",
       "    .dataframe thead th {\n",
       "        text-align: right;\n",
       "    }\n",
       "</style>\n",
       "<table border=\"1\" class=\"dataframe\">\n",
       "  <thead>\n",
       "    <tr style=\"text-align: right;\">\n",
       "      <th></th>\n",
       "      <th>Rainfall</th>\n",
       "      <th>WindGustSpeed</th>\n",
       "      <th>Humidity3pm</th>\n",
       "      <th>Pressure9am</th>\n",
       "      <th>RainTomorrow</th>\n",
       "      <th>Temp_Delta_MinMax</th>\n",
       "      <th>Humidity_Delta</th>\n",
       "    </tr>\n",
       "  </thead>\n",
       "  <tbody>\n",
       "    <tr>\n",
       "      <th>0</th>\n",
       "      <td>0.6</td>\n",
       "      <td>44.0</td>\n",
       "      <td>22.0</td>\n",
       "      <td>1007.7</td>\n",
       "      <td>0</td>\n",
       "      <td>9.5</td>\n",
       "      <td>-49.0</td>\n",
       "    </tr>\n",
       "    <tr>\n",
       "      <th>1</th>\n",
       "      <td>0.0</td>\n",
       "      <td>44.0</td>\n",
       "      <td>25.0</td>\n",
       "      <td>1010.6</td>\n",
       "      <td>0</td>\n",
       "      <td>17.7</td>\n",
       "      <td>-19.0</td>\n",
       "    </tr>\n",
       "    <tr>\n",
       "      <th>2</th>\n",
       "      <td>0.0</td>\n",
       "      <td>46.0</td>\n",
       "      <td>30.0</td>\n",
       "      <td>1007.6</td>\n",
       "      <td>0</td>\n",
       "      <td>12.8</td>\n",
       "      <td>-8.0</td>\n",
       "    </tr>\n",
       "    <tr>\n",
       "      <th>3</th>\n",
       "      <td>0.0</td>\n",
       "      <td>24.0</td>\n",
       "      <td>16.0</td>\n",
       "      <td>1017.6</td>\n",
       "      <td>0</td>\n",
       "      <td>18.8</td>\n",
       "      <td>-29.0</td>\n",
       "    </tr>\n",
       "    <tr>\n",
       "      <th>4</th>\n",
       "      <td>1.0</td>\n",
       "      <td>41.0</td>\n",
       "      <td>33.0</td>\n",
       "      <td>1010.8</td>\n",
       "      <td>0</td>\n",
       "      <td>14.8</td>\n",
       "      <td>-49.0</td>\n",
       "    </tr>\n",
       "  </tbody>\n",
       "</table>\n",
       "</div>\n",
       "      <button class=\"colab-df-convert\" onclick=\"convertToInteractive('df-52adb069-33a6-4670-8797-5b75c95d7ef0')\"\n",
       "              title=\"Convert this dataframe to an interactive table.\"\n",
       "              style=\"display:none;\">\n",
       "        \n",
       "  <svg xmlns=\"http://www.w3.org/2000/svg\" height=\"24px\"viewBox=\"0 0 24 24\"\n",
       "       width=\"24px\">\n",
       "    <path d=\"M0 0h24v24H0V0z\" fill=\"none\"/>\n",
       "    <path d=\"M18.56 5.44l.94 2.06.94-2.06 2.06-.94-2.06-.94-.94-2.06-.94 2.06-2.06.94zm-11 1L8.5 8.5l.94-2.06 2.06-.94-2.06-.94L8.5 2.5l-.94 2.06-2.06.94zm10 10l.94 2.06.94-2.06 2.06-.94-2.06-.94-.94-2.06-.94 2.06-2.06.94z\"/><path d=\"M17.41 7.96l-1.37-1.37c-.4-.4-.92-.59-1.43-.59-.52 0-1.04.2-1.43.59L10.3 9.45l-7.72 7.72c-.78.78-.78 2.05 0 2.83L4 21.41c.39.39.9.59 1.41.59.51 0 1.02-.2 1.41-.59l7.78-7.78 2.81-2.81c.8-.78.8-2.07 0-2.86zM5.41 20L4 18.59l7.72-7.72 1.47 1.35L5.41 20z\"/>\n",
       "  </svg>\n",
       "      </button>\n",
       "      \n",
       "  <style>\n",
       "    .colab-df-container {\n",
       "      display:flex;\n",
       "      flex-wrap:wrap;\n",
       "      gap: 12px;\n",
       "    }\n",
       "\n",
       "    .colab-df-convert {\n",
       "      background-color: #E8F0FE;\n",
       "      border: none;\n",
       "      border-radius: 50%;\n",
       "      cursor: pointer;\n",
       "      display: none;\n",
       "      fill: #1967D2;\n",
       "      height: 32px;\n",
       "      padding: 0 0 0 0;\n",
       "      width: 32px;\n",
       "    }\n",
       "\n",
       "    .colab-df-convert:hover {\n",
       "      background-color: #E2EBFA;\n",
       "      box-shadow: 0px 1px 2px rgba(60, 64, 67, 0.3), 0px 1px 3px 1px rgba(60, 64, 67, 0.15);\n",
       "      fill: #174EA6;\n",
       "    }\n",
       "\n",
       "    [theme=dark] .colab-df-convert {\n",
       "      background-color: #3B4455;\n",
       "      fill: #D2E3FC;\n",
       "    }\n",
       "\n",
       "    [theme=dark] .colab-df-convert:hover {\n",
       "      background-color: #434B5C;\n",
       "      box-shadow: 0px 1px 3px 1px rgba(0, 0, 0, 0.15);\n",
       "      filter: drop-shadow(0px 1px 2px rgba(0, 0, 0, 0.3));\n",
       "      fill: #FFFFFF;\n",
       "    }\n",
       "  </style>\n",
       "\n",
       "      <script>\n",
       "        const buttonEl =\n",
       "          document.querySelector('#df-52adb069-33a6-4670-8797-5b75c95d7ef0 button.colab-df-convert');\n",
       "        buttonEl.style.display =\n",
       "          google.colab.kernel.accessAllowed ? 'block' : 'none';\n",
       "\n",
       "        async function convertToInteractive(key) {\n",
       "          const element = document.querySelector('#df-52adb069-33a6-4670-8797-5b75c95d7ef0');\n",
       "          const dataTable =\n",
       "            await google.colab.kernel.invokeFunction('convertToInteractive',\n",
       "                                                     [key], {});\n",
       "          if (!dataTable) return;\n",
       "\n",
       "          const docLinkHtml = 'Like what you see? Visit the ' +\n",
       "            '<a target=\"_blank\" href=https://colab.research.google.com/notebooks/data_table.ipynb>data table notebook</a>'\n",
       "            + ' to learn more about interactive tables.';\n",
       "          element.innerHTML = '';\n",
       "          dataTable['output_type'] = 'display_data';\n",
       "          await google.colab.output.renderOutput(dataTable, element);\n",
       "          const docLink = document.createElement('div');\n",
       "          docLink.innerHTML = docLinkHtml;\n",
       "          element.appendChild(docLink);\n",
       "        }\n",
       "      </script>\n",
       "    </div>\n",
       "  </div>\n",
       "  "
      ],
      "text/plain": [
       "   Rainfall  WindGustSpeed  Humidity3pm  Pressure9am  RainTomorrow  \\\n",
       "0       0.6           44.0         22.0       1007.7             0   \n",
       "1       0.0           44.0         25.0       1010.6             0   \n",
       "2       0.0           46.0         30.0       1007.6             0   \n",
       "3       0.0           24.0         16.0       1017.6             0   \n",
       "4       1.0           41.0         33.0       1010.8             0   \n",
       "\n",
       "   Temp_Delta_MinMax  Humidity_Delta  \n",
       "0                9.5           -49.0  \n",
       "1               17.7           -19.0  \n",
       "2               12.8            -8.0  \n",
       "3               18.8           -29.0  \n",
       "4               14.8           -49.0  "
      ]
     },
     "execution_count": 70,
     "metadata": {},
     "output_type": "execute_result"
    }
   ],
   "source": [
    "# récupération du jeu de données sauvegardé\n",
    "df = pd.read_csv('weatherAUS_preprocessed.csv', index_col=0)\n",
    "df.head()"
   ]
  },
  {
   "cell_type": "code",
   "execution_count": null,
   "id": "1a697ea1",
   "metadata": {
    "id": "1a697ea1"
   },
   "outputs": [],
   "source": [
    "# séparation des données en une matrice de données et en un vecteur cible\n",
    "data = df.drop(columns=['RainTomorrow'])\n",
    "target = df['RainTomorrow']"
   ]
  },
  {
   "cell_type": "code",
   "execution_count": null,
   "id": "5b04edc6",
   "metadata": {
    "id": "5b04edc6"
   },
   "outputs": [],
   "source": [
    "# division des données en un ensemble d'entraînement et un ensemble de test correspondant respectivement à 80% et 20% de la quantité totale des données disponibles\n",
    "X_train, X_test, y_train, y_test = train_test_split(data, target, test_size = 0.2, random_state=123)"
   ]
  },
  {
   "cell_type": "code",
   "execution_count": null,
   "id": "A24NlSDFJ9vQ",
   "metadata": {
    "colab": {
     "base_uri": "https://localhost:8080/"
    },
    "executionInfo": {
     "elapsed": 210,
     "status": "ok",
     "timestamp": 1658765963353,
     "user": {
      "displayName": "Joseph Charles",
      "userId": "06269672887998330870"
     },
     "user_tz": -120
    },
    "id": "A24NlSDFJ9vQ",
    "outputId": "f2faba70-a8b1-4f09-9bca-74c0217acd5a"
   },
   "outputs": [
    {
     "data": {
      "text/plain": [
       "0    87678\n",
       "1    24951\n",
       "Name: RainTomorrow, dtype: int64"
      ]
     },
     "execution_count": 74,
     "metadata": {},
     "output_type": "execute_result"
    }
   ],
   "source": [
    "# distribution de la variable cible dans l'ensemble d'entraînement\n",
    "y_train.value_counts()"
   ]
  },
  {
   "cell_type": "code",
   "execution_count": null,
   "id": "f5616a86",
   "metadata": {
    "colab": {
     "base_uri": "https://localhost:8080/"
    },
    "executionInfo": {
     "elapsed": 5,
     "status": "ok",
     "timestamp": 1658765965069,
     "user": {
      "displayName": "Joseph Charles",
      "userId": "06269672887998330870"
     },
     "user_tz": -120
    },
    "id": "f5616a86",
    "outputId": "240e4e50-4a08-4705-8819-dd4849a16771"
   },
   "outputs": [
    {
     "data": {
      "text/plain": [
       "0    21908\n",
       "1     6250\n",
       "Name: RainTomorrow, dtype: int64"
      ]
     },
     "execution_count": 75,
     "metadata": {},
     "output_type": "execute_result"
    }
   ],
   "source": [
    "# distribution de la variable cible dans l'ensemble de test\n",
    "y_test.value_counts()"
   ]
  },
  {
   "cell_type": "code",
   "execution_count": null,
   "id": "8XNB_GKApymz",
   "metadata": {
    "id": "8XNB_GKApymz"
   },
   "outputs": [],
   "source": [
    "# oversampling des données\n",
    "# rOs = RandomOverSampler()\n",
    "# X_ro, y_ro = rOs.fit_resample(X_train, y_train)\n",
    "# print(\"Classes échantillon oversampled :\", dict(pd.Series(y_ro).value_counts()))"
   ]
  },
  {
   "cell_type": "code",
   "execution_count": null,
   "id": "13b41857",
   "metadata": {
    "colab": {
     "base_uri": "https://localhost:8080/"
    },
    "executionInfo": {
     "elapsed": 3,
     "status": "ok",
     "timestamp": 1658765973762,
     "user": {
      "displayName": "Joseph Charles",
      "userId": "06269672887998330870"
     },
     "user_tz": -120
    },
    "id": "13b41857",
    "outputId": "4171e3fd-aecd-4a89-8e90-3d7163c3e1fd"
   },
   "outputs": [
    {
     "name": "stdout",
     "output_type": "stream",
     "text": [
      "Classes échantillon undersampled : {0: 24951, 1: 24951}\n"
     ]
    }
   ],
   "source": [
    "# undersampling des données\n",
    "rUs = RandomUnderSampler()\n",
    "X_train, y_train = rUs.fit_resample(X_train, y_train)\n",
    "print(\"Classes échantillon undersampled :\", dict(pd.Series(y_train).value_counts()))"
   ]
  },
  {
   "cell_type": "code",
   "execution_count": null,
   "id": "06b700ea",
   "metadata": {
    "id": "06b700ea"
   },
   "outputs": [],
   "source": [
    "# standardisation des données\n",
    "scaler = StandardScaler()\n",
    "# scaler = MinMaxScaler()\n",
    "\n",
    "X_train_scaled = scaler.fit_transform(X_train)\n",
    "X_test_scaled = scaler.transform(X_test)"
   ]
  },
  {
   "cell_type": "markdown",
   "id": "9mJr-YJRueyJ",
   "metadata": {
    "id": "9mJr-YJRueyJ"
   },
   "source": [
    "## Régression Logistique"
   ]
  },
  {
   "cell_type": "code",
   "execution_count": null,
   "id": "cdab3d79",
   "metadata": {
    "id": "cdab3d79"
   },
   "outputs": [],
   "source": [
    "# définition du modèle\n",
    "clf_lr  = LogisticRegression()\n",
    "\n",
    "param_grid_lr = {'solver' : ['liblinear', 'lbfgs', 'newton-cg', 'sag', 'saga'], \n",
    "                 'C' : np.linspace(0.1,1,10)}\n",
    "\n",
    "gcv_lr = GridSearchCV(clf_lr, param_grid_lr, cv=3)"
   ]
  },
  {
   "cell_type": "code",
   "execution_count": null,
   "id": "bXjdgVSzu3a0",
   "metadata": {
    "colab": {
     "base_uri": "https://localhost:8080/"
    },
    "executionInfo": {
     "elapsed": 25844,
     "status": "ok",
     "timestamp": 1658766204967,
     "user": {
      "displayName": "Joseph Charles",
      "userId": "06269672887998330870"
     },
     "user_tz": -120
    },
    "id": "bXjdgVSzu3a0",
    "outputId": "d74f4fb2-14f2-4d20-dcac-bce2d8002342"
   },
   "outputs": [
    {
     "name": "stdout",
     "output_type": "stream",
     "text": [
      "Meilleurs paramètres : {'C': 0.7000000000000001, 'solver': 'saga'} \n",
      "\n",
      "Accuracy Score: 0.7714681440443213 \n",
      "\n",
      "Train Data Score: 0.7616528395655485\n",
      "Test Data Score: 0.7714681440443213\n",
      "\n",
      " Matrice de confusion:\n",
      "\n",
      " Prédictions      0     1\n",
      "Réalités                \n",
      "0            17030  4878\n",
      "1             1557  4693\n",
      "\n",
      "               precision    recall  f1-score   support\n",
      "\n",
      "           0       0.92      0.78      0.84     21908\n",
      "           1       0.49      0.75      0.59      6250\n",
      "\n",
      "    accuracy                           0.77     28158\n",
      "   macro avg       0.70      0.76      0.72     28158\n",
      "weighted avg       0.82      0.77      0.79     28158\n",
      "\n",
      "Running Time: 0:00:25.611313\n"
     ]
    }
   ],
   "source": [
    "start_time = time.time()\n",
    "\n",
    "# entraînement (~ 25 sec.)\n",
    "gcv_lr.fit(X_train_scaled, y_train)\n",
    "\n",
    "# prédiction\n",
    "y_pred = gcv_lr.predict(X_test_scaled)\n",
    "\n",
    "# détermination des meilleurs paramètres\n",
    "print('Meilleurs paramètres :', gcv_lr.best_params_, \"\\n\")\n",
    "\n",
    "# évaluation de la performance\n",
    "print('Accuracy Score: {}'.format(accuracy_score(y_test,y_pred)),'\\n')\n",
    "\n",
    "# underfitting / overfitting\n",
    "print('Train Data Score: {}'.format(gcv_lr.score(X_train_scaled,y_train)))\n",
    "print('Test Data Score: {}'.format(gcv_lr.score(X_test_scaled,y_test)))\n",
    "\n",
    "# matrice de confusion\n",
    "print('\\n Matrice de confusion:')\n",
    "print('\\n', pd.crosstab(y_test, y_pred, rownames=['Réalités'], colnames=['Prédictions']))\n",
    "\n",
    "# rapport de classification\n",
    "print('\\n', classification_report(y_test, y_pred))\n",
    "\n",
    "# durée d'exécution\n",
    "gaussian_time = (time.time() - start_time)\n",
    "print(\"Running Time: %s\" % datetime.timedelta(seconds=gaussian_time))"
   ]
  },
  {
   "cell_type": "markdown",
   "id": "9Y4v2WC_0-4Y",
   "metadata": {
    "id": "9Y4v2WC_0-4Y"
   },
   "source": [
    "- la méthode de régression logistique ne fait pas l'objet de sur-apprentissage.\n",
    "- la sensibilité (taux de vrais positifs) vaut 0.75.\n",
    "- la spécificité (taux de vrais négatifs) vaut 0.78.\n",
    "- le F1-score concernant la classe '0' de la variable RainTomorrow est bon (0.84).\n",
    "- le F1-score concernant la classe '1' de la variable RainTomorrow est faible (0.59)."
   ]
  },
  {
   "cell_type": "code",
   "execution_count": null,
   "id": "nIVKNWch9HSs",
   "metadata": {
    "colab": {
     "base_uri": "https://localhost:8080/"
    },
    "executionInfo": {
     "elapsed": 49433,
     "status": "ok",
     "timestamp": 1658766272180,
     "user": {
      "displayName": "Joseph Charles",
      "userId": "06269672887998330870"
     },
     "user_tz": -120
    },
    "id": "nIVKNWch9HSs",
    "outputId": "dd2ab434-74df-4ec6-f693-e28d68956e4b"
   },
   "outputs": [
    {
     "name": "stdout",
     "output_type": "stream",
     "text": [
      "Cross-validation scores:[0.76343634 0.76343634 0.7565829 ]\n",
      "Average cross-validation score: 0.7611518576409763\n"
     ]
    }
   ],
   "source": [
    "cv_scores = cross_val_score(gcv_lr, X_train_scaled, y_train, cv=3, scoring='accuracy')\n",
    "\n",
    "print('Cross-validation scores:{}'.format(cv_scores))\n",
    "print('Average cross-validation score: {}'.format(cv_scores.mean()))"
   ]
  },
  {
   "cell_type": "markdown",
   "id": "BjGqJ2wg-bxt",
   "metadata": {
    "id": "BjGqJ2wg-bxt"
   },
   "source": [
    "- Le score de la méthode de régression logistique est en moyenne de : 0.76."
   ]
  },
  {
   "cell_type": "code",
   "execution_count": null,
   "id": "m27zgl33K6Mp",
   "metadata": {
    "id": "m27zgl33K6Mp"
   },
   "outputs": [],
   "source": [
    "# courbe ROC (Receiver Operaing Characteristic) pour le modèle de régression logistique\n",
    "y_pred_logreg_proba = gcv_lr.predict_proba(X_test_scaled)\n",
    "fpr, tpr, thresholds = roc_curve(y_test, y_pred_logreg_proba[:,1])"
   ]
  },
  {
   "cell_type": "code",
   "execution_count": null,
   "id": "nbrBqk8zK6-B",
   "metadata": {
    "colab": {
     "base_uri": "https://localhost:8080/"
    },
    "executionInfo": {
     "elapsed": 14,
     "status": "ok",
     "timestamp": 1658766272181,
     "user": {
      "displayName": "Joseph Charles",
      "userId": "06269672887998330870"
     },
     "user_tz": -120
    },
    "id": "nbrBqk8zK6-B",
    "outputId": "a9845994-c2be-4fe1-a811-5215de41aa55"
   },
   "outputs": [
    {
     "name": "stdout",
     "output_type": "stream",
     "text": [
      "Aire sous la courbe = 0.8476386744568194\n"
     ]
    }
   ],
   "source": [
    "# aire sous la courbe ROC\n",
    "roc_auc = auc(fpr, tpr)\n",
    "print(\"Aire sous la courbe =\", roc_auc)"
   ]
  },
  {
   "cell_type": "code",
   "execution_count": null,
   "id": "XgLFmi_28WOE",
   "metadata": {
    "colab": {
     "base_uri": "https://localhost:8080/",
     "height": 513
    },
    "executionInfo": {
     "elapsed": 11,
     "status": "ok",
     "timestamp": 1658766272182,
     "user": {
      "displayName": "Joseph Charles",
      "userId": "06269672887998330870"
     },
     "user_tz": -120
    },
    "id": "XgLFmi_28WOE",
    "outputId": "6aa471fc-215e-42b4-e36f-86d359a9d21c"
   },
   "outputs": [
    {
     "data": {
      "image/png": "[encoded data removed]",
      "text/plain": [
       "<Figure size 576x576 with 1 Axes>"
      ]
     },
     "metadata": {
      "needs_background": "light"
     },
     "output_type": "display_data"
    }
   ],
   "source": [
    "plt.figure(figsize=(8,8))\n",
    "plt.plot(fpr, tpr, '-g', linewidth=1, label='Modèle gcv_lr (auc=%0.2f)' %roc_auc)\n",
    "plt.plot([0,1], [0,1], 'k--', label='Aléatoire (auc=0.5)')\n",
    "plt.title('Courbe ROC pour le modèle de Régression Logistique')\n",
    "plt.xlabel('Taux de Faux Positifs')\n",
    "plt.ylabel('Taux de Vrai Positifs')\n",
    "plt.legend(loc=\"lower right\");"
   ]
  },
  {
   "cell_type": "markdown",
   "id": "SXu8GCTt8oGR",
   "metadata": {
    "id": "SXu8GCTt8oGR"
   },
   "source": [
    "\n",
    "- La courbe ROC est l'outil idéal pour résumer la performance d'un classifieur binaire en fonction de tous les seuils possibles. Elle évite un long travail de prédictions de classes pour différents seuils, et d'évaluation de la matrice de confusion pour chacun de ces seuils.\n",
    "- Graphiquement, la mesure ROC est représentée sous la forme d'une courbe qui donne le taux de vrais positifs (la sensibilité), en fonction du taux de faux positifs (l'antispécificité).\n",
    "- Plus la courbe se rapproche du point (0,1), meilleures sont les prédictions. Un modèle avec une sensibilité et une spécificité égales à 1 est considéré comme parfait.\n",
    "\n"
   ]
  },
  {
   "cell_type": "markdown",
   "id": "ci-XSrHBu6RL",
   "metadata": {
    "id": "ci-XSrHBu6RL"
   },
   "source": [
    "## Forêts Aléatoires"
   ]
  },
  {
   "cell_type": "code",
   "execution_count": null,
   "id": "lXc7F6NqmqeW",
   "metadata": {
    "id": "lXc7F6NqmqeW"
   },
   "outputs": [],
   "source": [
    "# définition du modèle\n",
    "clf_rf  = RandomForestClassifier() # les forêts aléatoires ne gèrent pas les variables qualitatives\n",
    "\n",
    "param_grid_rf  = [{'n_estimators' : [10, 50, 100],\n",
    "                   'min_samples_leaf' : np.arange(1,6,1),\n",
    "                   'max_features' : ['sqrt', 'log2']}]\n",
    "\n",
    "gcv_rf = GridSearchCV(clf_rf, param_grid_rf)"
   ]
  },
  {
   "cell_type": "code",
   "execution_count": null,
   "id": "LQndT6uEu9wC",
   "metadata": {
    "colab": {
     "base_uri": "https://localhost:8080/"
    },
    "executionInfo": {
     "elapsed": 446292,
     "status": "ok",
     "timestamp": 1658766971146,
     "user": {
      "displayName": "Joseph Charles",
      "userId": "06269672887998330870"
     },
     "user_tz": -120
    },
    "id": "LQndT6uEu9wC",
    "outputId": "de0dc79e-ed46-4422-f602-dfd09e8d1902"
   },
   "outputs": [
    {
     "name": "stdout",
     "output_type": "stream",
     "text": [
      "Meilleurs paramètres : {'max_features': 'log2', 'min_samples_leaf': 4, 'n_estimators': 50} \n",
      "\n",
      "Accuracy Score: 0.7771503657930251 \n",
      "\n",
      "Train Data Score: 0.8923089254939682\n",
      "Test Data Score: 0.7771503657930251\n",
      "\n",
      " Matrice de confusion:\n",
      "\n",
      " Prédictions      0     1\n",
      "Réalités                \n",
      "0            17209  4699\n",
      "1             1576  4674\n",
      "              precision    recall  f1-score   support\n",
      "\n",
      "           0       0.92      0.79      0.85     21908\n",
      "           1       0.50      0.75      0.60      6250\n",
      "\n",
      "    accuracy                           0.78     28158\n",
      "   macro avg       0.71      0.77      0.72     28158\n",
      "weighted avg       0.82      0.78      0.79     28158\n",
      "\n",
      "Running Time: 0:07:26.048797\n"
     ]
    }
   ],
   "source": [
    "start_time = time.time()\n",
    "\n",
    "# entraînement (~ 7 min.)\n",
    "gcv_rf.fit(X_train_scaled, y_train)\n",
    "\n",
    "# prédiction\n",
    "y_pred = gcv_rf.predict(X_test_scaled)\n",
    "\n",
    "# détermination des meilleurs paramètres\n",
    "print('Meilleurs paramètres :', gcv_rf.best_params_,\"\\n\")\n",
    "\n",
    "# évaluation de la performance\n",
    "print('Accuracy Score: {}'.format(accuracy_score(y_test,y_pred)),'\\n')\n",
    "\n",
    "# underfitting / overfitting\n",
    "print('Train Data Score: {}'.format(gcv_rf.score(X_train_scaled,y_train)))\n",
    "print('Test Data Score: {}'.format(gcv_rf.score(X_test_scaled,y_test)))\n",
    "\n",
    "# matrice de confusion\n",
    "print('\\n Matrice de confusion:')\n",
    "print('\\n', pd.crosstab(y_test, y_pred, rownames=['Réalités'], colnames=['Prédictions']))\n",
    "\n",
    "# rapport de classification\n",
    "print(classification_report(y_test, y_pred))\n",
    "\n",
    "# durée d'exécution\n",
    "gaussian_time = (time.time() - start_time)\n",
    "print(\"Running Time: %s\" % datetime.timedelta(seconds=gaussian_time))"
   ]
  },
  {
   "cell_type": "markdown",
   "id": "_4rzIWFF4_Dj",
   "metadata": {
    "id": "_4rzIWFF4_Dj"
   },
   "source": [
    "- la méthode de forêt aléatoire fait l'objet de sur-apprentissage.\n",
    "- la sensibilité (taux de vrais positifs) vaut 0.75.\n",
    "- la spécificité (taux de vrais négatifs) vaut 0.79.\n",
    "- le F1-score concernant la classe '0' de la variable 'RainTomorrow' est bon (0.85).\n",
    "- le F1-score concernant la classe '1' de la variable 'RainTomorrow' est faible (0.60)."
   ]
  },
  {
   "cell_type": "code",
   "execution_count": null,
   "id": "gfCx0Y9S9Tpt",
   "metadata": {
    "colab": {
     "base_uri": "https://localhost:8080/"
    },
    "executionInfo": {
     "elapsed": 818578,
     "status": "ok",
     "timestamp": 1658767790792,
     "user": {
      "displayName": "Joseph Charles",
      "userId": "06269672887998330870"
     },
     "user_tz": -120
    },
    "id": "gfCx0Y9S9Tpt",
    "outputId": "fc1d1b13-b566-4a30-ac61-0ff13204887e"
   },
   "outputs": [
    {
     "name": "stdout",
     "output_type": "stream",
     "text": [
      "Cross-validation scores:[0.76752435 0.76716364 0.76367681]\n",
      "Average cross-validation score: 0.7661215983327322\n"
     ]
    }
   ],
   "source": [
    "cv_scores = cross_val_score(gcv_rf, X_train_scaled, y_train, cv=3, scoring='accuracy')\n",
    "\n",
    "print('Cross-validation scores:{}'.format(cv_scores))\n",
    "print('Average cross-validation score: {}'.format(cv_scores.mean()))"
   ]
  },
  {
   "cell_type": "markdown",
   "id": "SZHwAOHh-0-r",
   "metadata": {
    "id": "SZHwAOHh-0-r"
   },
   "source": [
    "- Le score de la méthode des forêts aléatoires est en moyenne de : 0.77."
   ]
  },
  {
   "cell_type": "code",
   "execution_count": null,
   "id": "p5Bxs1ITMPxs",
   "metadata": {
    "id": "p5Bxs1ITMPxs"
   },
   "outputs": [],
   "source": [
    "# probabilités pour X_test_scaled d'appartenir à chacune des deux classes\n",
    "y_probas = gcv_rf.predict_proba(X_test_scaled)"
   ]
  },
  {
   "cell_type": "code",
   "execution_count": null,
   "id": "E-ixhajkMSHY",
   "metadata": {
    "id": "E-ixhajkMSHY"
   },
   "outputs": [],
   "source": [
    "# courbe de gain cumulée\n",
    "# skplt.metrics.plot_cumulative_gain(y_test, y_probas)"
   ]
  },
  {
   "cell_type": "markdown",
   "id": "9hNX83LIMjT0",
   "metadata": {
    "id": "9hNX83LIMjT0"
   },
   "source": [
    "- L'axe horizontal représente les individus de l'échantillon test.\n",
    "- L'axe vertical représente la variable cible 'RainTomorrow'."
   ]
  },
  {
   "cell_type": "markdown",
   "id": "5gGeDEOOvAkp",
   "metadata": {
    "id": "5gGeDEOOvAkp"
   },
   "source": [
    "## Support Vector Machine"
   ]
  },
  {
   "cell_type": "code",
   "execution_count": null,
   "id": "scHhtzgGmq40",
   "metadata": {
    "id": "scHhtzgGmq40"
   },
   "outputs": [],
   "source": [
    "# définition du modèle\n",
    "clf_svm = svm.SVC()\n",
    "\n",
    "# le temps de calcul est élevé lors d'une régularisation des paramètres de la fonction noyau\n",
    "param_grid_svm = {'kernel' : ['rbf','linear','poly'],\n",
    "                  'gamma' : [0.001, 0.1, 0.5]}\n",
    "\n",
    "gcv_svm = GridSearchCV(clf_svm, param_grid_svm)"
   ]
  },
  {
   "cell_type": "code",
   "execution_count": null,
   "id": "acb6f92a",
   "metadata": {
    "colab": {
     "base_uri": "https://localhost:8080/"
    },
    "executionInfo": {
     "elapsed": 4213939,
     "status": "ok",
     "timestamp": 1658772049160,
     "user": {
      "displayName": "Joseph Charles",
      "userId": "06269672887998330870"
     },
     "user_tz": -120
    },
    "id": "acb6f92a",
    "outputId": "8270b821-337f-49f5-e0a1-bb6e6cfbe93e"
   },
   "outputs": [
    {
     "name": "stdout",
     "output_type": "stream",
     "text": [
      "Meilleurs paramètres : {'gamma': 0.5, 'kernel': 'rbf'} \n",
      "\n",
      "Accuracy Score: 0.7854606151005042 \n",
      "\n",
      "Train Data Score: 0.7740771912949381\n",
      "Test Data Score: 0.7854606151005042\n",
      "\n",
      " Matrice de confusion:\n",
      "\n",
      " Prédictions      0     1\n",
      "Réalités                \n",
      "0            17436  4472\n",
      "1             1569  4681\n",
      "              precision    recall  f1-score   support\n",
      "\n",
      "           0       0.92      0.80      0.85     21908\n",
      "           1       0.51      0.75      0.61      6250\n",
      "\n",
      "    accuracy                           0.79     28158\n",
      "   macro avg       0.71      0.77      0.73     28158\n",
      "weighted avg       0.83      0.79      0.80     28158\n",
      "\n",
      "Running Time: 1:10:13.399274\n"
     ]
    }
   ],
   "source": [
    "start_time = time.time()\n",
    "\n",
    "# entraînement (~ 1h)\n",
    "grille = gcv_svm.fit(X_train_scaled, y_train)\n",
    "\n",
    "# prédiction\n",
    "y_pred = gcv_svm.predict(X_test_scaled)\n",
    "\n",
    "# détermination des meilleurs paramètres\n",
    "print('Meilleurs paramètres :', gcv_svm.best_params_,\"\\n\")\n",
    "\n",
    "# évaluation de la performance\n",
    "print('Accuracy Score: {}'.format(accuracy_score(y_test,y_pred)),'\\n')\n",
    "\n",
    "# underfitting / overfitting\n",
    "print('Train Data Score: {}'.format(gcv_svm.score(X_train_scaled,y_train)))\n",
    "print('Test Data Score: {}'.format(gcv_svm.score(X_test_scaled,y_test)))\n",
    "\n",
    "# matrice de confusion\n",
    "print('\\n Matrice de confusion:')\n",
    "print('\\n', pd.crosstab(y_test, y_pred, rownames=['Réalités'], colnames=['Prédictions']))\n",
    "\n",
    "# rapport de classification\n",
    "print(classification_report(y_test, y_pred))\n",
    "\n",
    "# durée d'exécution\n",
    "gaussian_time = (time.time() - start_time)\n",
    "print(\"Running Time: %s\" % datetime.timedelta(seconds=gaussian_time))"
   ]
  },
  {
   "cell_type": "markdown",
   "id": "aRTKvyHl5ANp",
   "metadata": {
    "id": "aRTKvyHl5ANp"
   },
   "source": [
    "- la méthode SVM ne fait pas l'objet de sur-apprentissage.\n",
    "- la sensibilité (taux de vrais positifs) vaut 0.76.\n",
    "- la spécificité (taux de vrais négatifs) vaut 0.79.\n",
    "- le F1-score concernant la classe '0' de la variable 'RainTomorrow' est bon (0.85).\n",
    "- le F1-score concernant la classe '1' de la variable 'RainTomorrow' est faible (0.61)."
   ]
  },
  {
   "cell_type": "code",
   "execution_count": null,
   "id": "yvyenICr9XQj",
   "metadata": {
    "colab": {
     "base_uri": "https://localhost:8080/"
    },
    "executionInfo": {
     "elapsed": 5039691,
     "status": "ok",
     "timestamp": 1658777088827,
     "user": {
      "displayName": "Joseph Charles",
      "userId": "06269672887998330870"
     },
     "user_tz": -120
    },
    "id": "yvyenICr9XQj",
    "outputId": "dc5c2b6f-9b9a-48f8-f1fb-702e5eb2afc9"
   },
   "outputs": [
    {
     "name": "stdout",
     "output_type": "stream",
     "text": [
      "Cross-validation scores:[0.76656246 0.76950824 0.76313575]\n",
      "Average cross-validation score: 0.7664021482104925\n"
     ]
    }
   ],
   "source": [
    "cv_scores = cross_val_score(gcv_svm, X_train_scaled, y_train, cv=3, scoring='accuracy')\n",
    "\n",
    "print('Cross-validation scores:{}'.format(cv_scores))\n",
    "print('Average cross-validation score: {}'.format(cv_scores.mean()))"
   ]
  },
  {
   "cell_type": "markdown",
   "id": "i06iwEWG-1qH",
   "metadata": {
    "id": "i06iwEWG-1qH"
   },
   "source": [
    "- Le score de la méthode SVM est en moyenne de : 0.77."
   ]
  },
  {
   "cell_type": "code",
   "execution_count": null,
   "id": "6YWNWhDcRUbJ",
   "metadata": {
    "colab": {
     "base_uri": "https://localhost:8080/"
    },
    "executionInfo": {
     "elapsed": 31,
     "status": "ok",
     "timestamp": 1658777088828,
     "user": {
      "displayName": "Joseph Charles",
      "userId": "06269672887998330870"
     },
     "user_tz": -120
    },
    "id": "6YWNWhDcRUbJ",
    "outputId": "78b0b082-1d4b-4047-fbfe-1054670876ad"
   },
   "outputs": [
    {
     "name": "stdout",
     "output_type": "stream",
     "text": [
      "                                 params  mean_test_score\n",
      "0     {'gamma': 0.001, 'kernel': 'rbf'}         0.762174\n",
      "1  {'gamma': 0.001, 'kernel': 'linear'}         0.761913\n",
      "2    {'gamma': 0.001, 'kernel': 'poly'}         0.575351\n",
      "3       {'gamma': 0.1, 'kernel': 'rbf'}         0.764859\n",
      "4    {'gamma': 0.1, 'kernel': 'linear'}         0.761913\n",
      "5      {'gamma': 0.1, 'kernel': 'poly'}         0.739269\n",
      "6       {'gamma': 0.5, 'kernel': 'rbf'}         0.766783\n",
      "7    {'gamma': 0.5, 'kernel': 'linear'}         0.761913\n",
      "8      {'gamma': 0.5, 'kernel': 'poly'}         0.740211\n"
     ]
    }
   ],
   "source": [
    "print(pd.DataFrame.from_dict(grille.cv_results_).loc[:,['params','mean_test_score']])"
   ]
  },
  {
   "cell_type": "code",
   "execution_count": null,
   "id": "eYRPEf8WRWDW",
   "metadata": {
    "id": "eYRPEf8WRWDW"
   },
   "outputs": [],
   "source": [
    "# courbe d'apprentissage du modèle (prend beaucoup trop de temps)\n",
    "# train_sizes, train_scores, valid_scores = learning_curve(svm.SVC(kernel='linear', C=1), data, target, train_sizes=[50, 80, 110, 140], cv=5)\n",
    "# plt.xlabel(\"Training examples\")\n",
    "# plt.ylabel(\"Score\")\n",
    "\n",
    "# train_sizes = [50, 70, 80, 100, 110, 118]\n",
    "# train_sizes, train_scores, test_scores = learning_curve(gcv_svm, data, target, n_jobs=4, train_sizes=train_sizes)\n",
    "\n",
    "# train_score_mean = np.mean(train_scores, axis=1)\n",
    "# train_score_std = np.std(train_scores, axis=1)\n",
    "# test_score_mean = np.mean(test_scores, axis=1)\n",
    "# test_score_std = np.std(test_scores, axis=1)\n",
    "\n",
    "# plt.grid()\n",
    "# plt.fill_between(train_sizes, train_scores_mean - train_scores_std, train_scores_mean + train_scores_std, alpha=0.1, color=\"r\")\n",
    "# plt.fill_between(train_sizes, test_scores_mean - test_scores_std, test_scores_mean + test_scores_std, alpha=0.1, color=\"g\")\n",
    "# plt.plot(train_sizes, train_scores_mean, 'o-', color=\"r\", label=\"Training score\")\n",
    "# plt.plot(train_sizes, test_scores_mean, 'o-', color=\"g\", label=\"Cross-validation score\")\n",
    "\n",
    "# plt.legend(loc=\"best\");"
   ]
  },
  {
   "cell_type": "markdown",
   "id": "P-arQbY85ND-",
   "metadata": {
    "id": "P-arQbY85ND-"
   },
   "source": [
    "## K-plus proches voisins"
   ]
  },
  {
   "cell_type": "code",
   "execution_count": null,
   "id": "DBnDWLC85Wv7",
   "metadata": {
    "id": "DBnDWLC85Wv7"
   },
   "outputs": [],
   "source": [
    "# définition du modèle\n",
    "clf_knn = neighbors.KNeighborsClassifier()\n",
    "\n",
    "param_grid_knn = {'n_neighbors' : np.arange(1,41,1),\n",
    "                  'metric' : ['minkowski','manhattan','chebyshev']}\n",
    "\n",
    "gcv_knn = GridSearchCV(clf_knn, param_grid_knn)"
   ]
  },
  {
   "cell_type": "code",
   "execution_count": null,
   "id": "Rzfrg5uy5OWB",
   "metadata": {
    "colab": {
     "base_uri": "https://localhost:8080/"
    },
    "executionInfo": {
     "elapsed": 537160,
     "status": "ok",
     "timestamp": 1658777626933,
     "user": {
      "displayName": "Joseph Charles",
      "userId": "06269672887998330870"
     },
     "user_tz": -120
    },
    "id": "Rzfrg5uy5OWB",
    "outputId": "019998b5-d615-4cac-b639-949d4f3f4b5a"
   },
   "outputs": [
    {
     "name": "stdout",
     "output_type": "stream",
     "text": [
      "Meilleurs paramètres : {'metric': 'manhattan', 'n_neighbors': 39} \n",
      "\n",
      "Accuracy Score: 0.7780382129412601 \n",
      "\n",
      "Train Data Score: 0.77443789828063\n",
      "Test Data Score: 0.7780382129412601\n",
      "\n",
      " Matrice de confusion:\n",
      "\n",
      " Prédictions      0     1\n",
      "Réalités                \n",
      "0            17232  4676\n",
      "1             1574  4676\n",
      "              precision    recall  f1-score   support\n",
      "\n",
      "           0       0.92      0.79      0.85     21908\n",
      "           1       0.50      0.75      0.60      6250\n",
      "\n",
      "    accuracy                           0.78     28158\n",
      "   macro avg       0.71      0.77      0.72     28158\n",
      "weighted avg       0.82      0.78      0.79     28158\n",
      "\n",
      "Running Time: 0:08:57.271090\n"
     ]
    }
   ],
   "source": [
    "start_time = time.time()\n",
    "\n",
    "# entraînement (~ 8 min.)\n",
    "gcv_knn.fit(X_train_scaled, y_train)\n",
    "\n",
    "# prédiction\n",
    "y_pred = gcv_knn.predict(X_test_scaled)\n",
    "\n",
    "# détermination des meilleurs paramètres\n",
    "print('Meilleurs paramètres :', gcv_knn.best_params_,\"\\n\")\n",
    "\n",
    "# évaluation de la performance\n",
    "print('Accuracy Score: {}'.format(accuracy_score(y_test,y_pred)),'\\n')\n",
    "\n",
    "# underfitting / overfitting\n",
    "print('Train Data Score: {}'.format(gcv_knn.score(X_train_scaled,y_train)))\n",
    "print('Test Data Score: {}'.format(gcv_knn.score(X_test_scaled,y_test)))\n",
    "\n",
    "# matrice de confusion\n",
    "print('\\n Matrice de confusion:')\n",
    "print('\\n', pd.crosstab(y_test, y_pred, rownames=['Réalités'], colnames=['Prédictions']))\n",
    "\n",
    "# rapport de classification\n",
    "print(classification_report(y_test, y_pred))\n",
    "\n",
    "# durée d'exécution\n",
    "gaussian_time = (time.time() - start_time)\n",
    "print(\"Running Time: %s\" % datetime.timedelta(seconds=gaussian_time))"
   ]
  },
  {
   "cell_type": "markdown",
   "id": "0WAfCK7T6MwP",
   "metadata": {
    "id": "0WAfCK7T6MwP"
   },
   "source": [
    "- la méthode des K-plus proches voisins ne fait pas l'objet de sur-apprentissage.\n",
    "- la sensibilité (taux de vrais positifs) vaut 0.74.\n",
    "- la spécificité (taux de vrais négatifs) vaut 0.80.\n",
    "- le F1-score concernant la classe '0' de la variable 'RainTomorrow' est bon (0.85).\n",
    "- le F1-score concernant la classe '1' de la variable 'RainTomorrow' est faible (0.60)."
   ]
  },
  {
   "cell_type": "code",
   "execution_count": null,
   "id": "zqhhq9p19Zi0",
   "metadata": {
    "colab": {
     "base_uri": "https://localhost:8080/"
    },
    "executionInfo": {
     "elapsed": 956106,
     "status": "ok",
     "timestamp": 1658778583011,
     "user": {
      "displayName": "Joseph Charles",
      "userId": "06269672887998330870"
     },
     "user_tz": -120
    },
    "id": "zqhhq9p19Zi0",
    "outputId": "ed8de4e1-e9eb-4a74-a780-99a6f1c25039"
   },
   "outputs": [
    {
     "name": "stdout",
     "output_type": "stream",
     "text": [
      "Cross-validation scores:[0.76505952 0.76115186 0.76091139]\n",
      "Average cross-validation score: 0.7623742535369323\n"
     ]
    }
   ],
   "source": [
    "cv_scores = cross_val_score(gcv_knn, X_train_scaled, y_train, cv=3, scoring='accuracy')\n",
    "\n",
    "print('Cross-validation scores:{}'.format(cv_scores))\n",
    "print('Average cross-validation score: {}'.format(cv_scores.mean()))"
   ]
  },
  {
   "cell_type": "markdown",
   "id": "JTxpXMPi-2XQ",
   "metadata": {
    "id": "JTxpXMPi-2XQ"
   },
   "source": [
    "- Le score de la méthode KNN est en moyenne de : 0.76."
   ]
  },
  {
   "cell_type": "code",
   "execution_count": null,
   "id": "dSMrlZzER_sQ",
   "metadata": {
    "id": "dSMrlZzER_sQ"
   },
   "outputs": [],
   "source": [
    "# scores de 3 modèles utilisant respectivement les matrices de Minkowski, Manhattan et Chebyshev pour des valeurs de k allant de 1 à 40\n",
    "score_minko = []\n",
    "score_man = []\n",
    "score_cheb = []\n",
    "\n",
    "for k in range(1,41):\n",
    "  knn = neighbors.KNeighborsClassifier(n_neighbors=k)\n",
    "  knn.fit(X_train_scaled, y_train)\n",
    "  score_minko.append(knn.score(X_test_scaled, y_test))\n",
    "\n",
    "for k in range(1,41):\n",
    "  knn = neighbors.KNeighborsClassifier(n_neighbors=k, metric='manhattan')\n",
    "  knn.fit(X_train_scaled, y_train)\n",
    "  score_man.append(knn.score(X_test_scaled, y_test))\n",
    "\n",
    "for k in range(1,41):\n",
    "  knn = neighbors.KNeighborsClassifier(n_neighbors=k, metric='chebyshev')\n",
    "  knn.fit(X_train_scaled, y_train)\n",
    "  score_cheb.append(knn.score(X_test_scaled, y_test))"
   ]
  },
  {
   "cell_type": "code",
   "execution_count": null,
   "id": "CHFcUJ5ySCUT",
   "metadata": {
    "colab": {
     "base_uri": "https://localhost:8080/",
     "height": 295
    },
    "executionInfo": {
     "elapsed": 14,
     "status": "ok",
     "timestamp": 1658778885206,
     "user": {
      "displayName": "Joseph Charles",
      "userId": "06269672887998330870"
     },
     "user_tz": -120
    },
    "id": "CHFcUJ5ySCUT",
    "outputId": "cce9d2d3-6de2-4ac2-b81b-13c16d2ff34b"
   },
   "outputs": [
    {
     "data": {
      "image/png": "[encoded data removed]",
      "text/plain": [
       "<Figure size 432x288 with 1 Axes>"
      ]
     },
     "metadata": {
      "needs_background": "light"
     },
     "output_type": "display_data"
    }
   ],
   "source": [
    "# affichage des listes crées en fonction de k\n",
    "plt.title(\"Score de 3 modèles knn\")\n",
    "plt.plot(range(1,41), score_minko, color='blue', linestyle='dashed', lw=2, label='Minkowski')\n",
    "plt.plot(range(1,41), score_man, color='orange', linestyle='dashed', lw=2, label='Manhattan')\n",
    "plt.plot(range(1,41), score_cheb, color='red', linestyle='dashed', lw=2, label='Chebyshev')\n",
    "plt.xlabel(\"Valeur de k\")\n",
    "plt.ylabel(\"Accuracy\")\n",
    "plt.legend;"
   ]
  },
  {
   "cell_type": "markdown",
   "id": "8jpipwx96O3Q",
   "metadata": {
    "id": "8jpipwx96O3Q"
   },
   "source": [
    "## Arbres de décision"
   ]
  },
  {
   "cell_type": "code",
   "execution_count": null,
   "id": "MjOc31sx6TDx",
   "metadata": {
    "id": "MjOc31sx6TDx"
   },
   "outputs": [],
   "source": [
    "# définition du modèle\n",
    "clf_dt = DecisionTreeClassifier()\n",
    "\n",
    "param_grid_dt = {'criterion' : ['entropy','gini'], \n",
    "                 'max_depth' : np.arange(2,6,1)}\n",
    "\n",
    "gcv_dt = GridSearchCV(clf_dt, param_grid_dt)"
   ]
  },
  {
   "cell_type": "code",
   "execution_count": null,
   "id": "bCbiJ2kk6WsH",
   "metadata": {
    "colab": {
     "base_uri": "https://localhost:8080/"
    },
    "executionInfo": {
     "elapsed": 2023,
     "status": "ok",
     "timestamp": 1658778887560,
     "user": {
      "displayName": "Joseph Charles",
      "userId": "06269672887998330870"
     },
     "user_tz": -120
    },
    "id": "bCbiJ2kk6WsH",
    "outputId": "840c412d-0e5e-4f0f-f6cb-7e0bb8788463"
   },
   "outputs": [
    {
     "name": "stdout",
     "output_type": "stream",
     "text": [
      "Meilleurs paramètres : {'criterion': 'gini', 'max_depth': 5} \n",
      "\n",
      "Accuracy Score: 0.764756019603665 \n",
      "\n",
      "Train Data Score: 0.7565428239349125\n",
      "Test Data Score: 0.764756019603665\n",
      "\n",
      " Matrice de confusion:\n",
      "\n",
      " Prédictions      0     1\n",
      "Réalités                \n",
      "0            16902  5006\n",
      "1             1618  4632\n",
      "              precision    recall  f1-score   support\n",
      "\n",
      "           0       0.91      0.77      0.84     21908\n",
      "           1       0.48      0.74      0.58      6250\n",
      "\n",
      "    accuracy                           0.76     28158\n",
      "   macro avg       0.70      0.76      0.71     28158\n",
      "weighted avg       0.82      0.76      0.78     28158\n",
      "\n",
      "Running Time: 0:00:02.169864\n"
     ]
    }
   ],
   "source": [
    "start_time = time.time()\n",
    "\n",
    "# entraînement (~ 8 min.)\n",
    "gcv_dt.fit(X_train_scaled, y_train)\n",
    "\n",
    "# prédiction\n",
    "y_pred = gcv_dt.predict(X_test_scaled)\n",
    "\n",
    "# détermination des meilleurs paramètres\n",
    "print('Meilleurs paramètres :', gcv_dt.best_params_,\"\\n\")\n",
    "\n",
    "# évaluation de la performance\n",
    "print('Accuracy Score: {}'.format(accuracy_score(y_test,y_pred)),'\\n')\n",
    "\n",
    "# underfitting / overfitting\n",
    "print('Train Data Score: {}'.format(gcv_dt.score(X_train_scaled,y_train)))\n",
    "print('Test Data Score: {}'.format(gcv_dt.score(X_test_scaled,y_test)))\n",
    "\n",
    "# matrice de confusion\n",
    "print('\\n Matrice de confusion:')\n",
    "print('\\n', pd.crosstab(y_test, y_pred, rownames=['Réalités'], colnames=['Prédictions']))\n",
    "\n",
    "# rapport de classification\n",
    "print(classification_report(y_test, y_pred))\n",
    "\n",
    "# durée d'exécution\n",
    "gaussian_time = (time.time() - start_time)\n",
    "print(\"Running Time: %s\" % datetime.timedelta(seconds=gaussian_time))"
   ]
  },
  {
   "cell_type": "markdown",
   "id": "VanYBqYU6bRi",
   "metadata": {
    "id": "VanYBqYU6bRi"
   },
   "source": [
    "- la méthode des arbres de décision ne fait pas l'objet de sur-apprentissage.\n",
    "- la sensibilité (taux de vrais positifs) vaut 0.74.\n",
    "- la spécificité (taux de vrais négatifs) vaut 0.77.\n",
    "- le F1-score concernant la classe '0' de la variable 'RainTomorrow' est bon (0.84).\n",
    "- le F1-score concernant la classe '1' de la variable 'RainTomorrow' est faible (0.58)."
   ]
  },
  {
   "cell_type": "code",
   "execution_count": null,
   "id": "ZUQ8697r8LVn",
   "metadata": {
    "colab": {
     "base_uri": "https://localhost:8080/",
     "height": 237
    },
    "executionInfo": {
     "elapsed": 8,
     "status": "ok",
     "timestamp": 1658778887561,
     "user": {
      "displayName": "Joseph Charles",
      "userId": "06269672887998330870"
     },
     "user_tz": -120
    },
    "id": "ZUQ8697r8LVn",
    "outputId": "f9c2a43f-e5ae-4594-a512-7678b304f253"
   },
   "outputs": [
    {
     "data": {
      "text/html": [
       "\n",
       "  <div id=\"df-03258433-48c7-49dd-9c6a-8b86b9b70649\">\n",
       "    <div class=\"colab-df-container\">\n",
       "      <div>\n",
       "<style scoped>\n",
       "    .dataframe tbody tr th:only-of-type {\n",
       "        vertical-align: middle;\n",
       "    }\n",
       "\n",
       "    .dataframe tbody tr th {\n",
       "        vertical-align: top;\n",
       "    }\n",
       "\n",
       "    .dataframe thead th {\n",
       "        text-align: right;\n",
       "    }\n",
       "</style>\n",
       "<table border=\"1\" class=\"dataframe\">\n",
       "  <thead>\n",
       "    <tr style=\"text-align: right;\">\n",
       "      <th></th>\n",
       "      <th>Importance</th>\n",
       "    </tr>\n",
       "  </thead>\n",
       "  <tbody>\n",
       "    <tr>\n",
       "      <th>Humidity3pm</th>\n",
       "      <td>0.771180</td>\n",
       "    </tr>\n",
       "    <tr>\n",
       "      <th>WindGustSpeed</th>\n",
       "      <td>0.128577</td>\n",
       "    </tr>\n",
       "    <tr>\n",
       "      <th>Pressure9am</th>\n",
       "      <td>0.056913</td>\n",
       "    </tr>\n",
       "    <tr>\n",
       "      <th>Rainfall</th>\n",
       "      <td>0.043147</td>\n",
       "    </tr>\n",
       "    <tr>\n",
       "      <th>Temp_Delta_MinMax</th>\n",
       "      <td>0.000183</td>\n",
       "    </tr>\n",
       "    <tr>\n",
       "      <th>RainTomorrow</th>\n",
       "      <td>0.000000</td>\n",
       "    </tr>\n",
       "  </tbody>\n",
       "</table>\n",
       "</div>\n",
       "      <button class=\"colab-df-convert\" onclick=\"convertToInteractive('df-03258433-48c7-49dd-9c6a-8b86b9b70649')\"\n",
       "              title=\"Convert this dataframe to an interactive table.\"\n",
       "              style=\"display:none;\">\n",
       "        \n",
       "  <svg xmlns=\"http://www.w3.org/2000/svg\" height=\"24px\"viewBox=\"0 0 24 24\"\n",
       "       width=\"24px\">\n",
       "    <path d=\"M0 0h24v24H0V0z\" fill=\"none\"/>\n",
       "    <path d=\"M18.56 5.44l.94 2.06.94-2.06 2.06-.94-2.06-.94-.94-2.06-.94 2.06-2.06.94zm-11 1L8.5 8.5l.94-2.06 2.06-.94-2.06-.94L8.5 2.5l-.94 2.06-2.06.94zm10 10l.94 2.06.94-2.06 2.06-.94-2.06-.94-.94-2.06-.94 2.06-2.06.94z\"/><path d=\"M17.41 7.96l-1.37-1.37c-.4-.4-.92-.59-1.43-.59-.52 0-1.04.2-1.43.59L10.3 9.45l-7.72 7.72c-.78.78-.78 2.05 0 2.83L4 21.41c.39.39.9.59 1.41.59.51 0 1.02-.2 1.41-.59l7.78-7.78 2.81-2.81c.8-.78.8-2.07 0-2.86zM5.41 20L4 18.59l7.72-7.72 1.47 1.35L5.41 20z\"/>\n",
       "  </svg>\n",
       "      </button>\n",
       "      \n",
       "  <style>\n",
       "    .colab-df-container {\n",
       "      display:flex;\n",
       "      flex-wrap:wrap;\n",
       "      gap: 12px;\n",
       "    }\n",
       "\n",
       "    .colab-df-convert {\n",
       "      background-color: #E8F0FE;\n",
       "      border: none;\n",
       "      border-radius: 50%;\n",
       "      cursor: pointer;\n",
       "      display: none;\n",
       "      fill: #1967D2;\n",
       "      height: 32px;\n",
       "      padding: 0 0 0 0;\n",
       "      width: 32px;\n",
       "    }\n",
       "\n",
       "    .colab-df-convert:hover {\n",
       "      background-color: #E2EBFA;\n",
       "      box-shadow: 0px 1px 2px rgba(60, 64, 67, 0.3), 0px 1px 3px 1px rgba(60, 64, 67, 0.15);\n",
       "      fill: #174EA6;\n",
       "    }\n",
       "\n",
       "    [theme=dark] .colab-df-convert {\n",
       "      background-color: #3B4455;\n",
       "      fill: #D2E3FC;\n",
       "    }\n",
       "\n",
       "    [theme=dark] .colab-df-convert:hover {\n",
       "      background-color: #434B5C;\n",
       "      box-shadow: 0px 1px 3px 1px rgba(0, 0, 0, 0.15);\n",
       "      filter: drop-shadow(0px 1px 2px rgba(0, 0, 0, 0.3));\n",
       "      fill: #FFFFFF;\n",
       "    }\n",
       "  </style>\n",
       "\n",
       "      <script>\n",
       "        const buttonEl =\n",
       "          document.querySelector('#df-03258433-48c7-49dd-9c6a-8b86b9b70649 button.colab-df-convert');\n",
       "        buttonEl.style.display =\n",
       "          google.colab.kernel.accessAllowed ? 'block' : 'none';\n",
       "\n",
       "        async function convertToInteractive(key) {\n",
       "          const element = document.querySelector('#df-03258433-48c7-49dd-9c6a-8b86b9b70649');\n",
       "          const dataTable =\n",
       "            await google.colab.kernel.invokeFunction('convertToInteractive',\n",
       "                                                     [key], {});\n",
       "          if (!dataTable) return;\n",
       "\n",
       "          const docLinkHtml = 'Like what you see? Visit the ' +\n",
       "            '<a target=\"_blank\" href=https://colab.research.google.com/notebooks/data_table.ipynb>data table notebook</a>'\n",
       "            + ' to learn more about interactive tables.';\n",
       "          element.innerHTML = '';\n",
       "          dataTable['output_type'] = 'display_data';\n",
       "          await google.colab.output.renderOutput(dataTable, element);\n",
       "          const docLink = document.createElement('div');\n",
       "          docLink.innerHTML = docLinkHtml;\n",
       "          element.appendChild(docLink);\n",
       "        }\n",
       "      </script>\n",
       "    </div>\n",
       "  </div>\n",
       "  "
      ],
      "text/plain": [
       "                   Importance\n",
       "Humidity3pm          0.771180\n",
       "WindGustSpeed        0.128577\n",
       "Pressure9am          0.056913\n",
       "Rainfall             0.043147\n",
       "Temp_Delta_MinMax    0.000183\n",
       "RainTomorrow         0.000000"
      ]
     },
     "execution_count": 106,
     "metadata": {},
     "output_type": "execute_result"
    }
   ],
   "source": [
    "# importance des variables\n",
    "clf_dt = gcv_dt.best_estimator_\n",
    "clf_dt.fit(X_train_scaled,y_train)\n",
    "\n",
    "feats = {}\n",
    "for feature, importance in zip(df.columns, clf_dt.feature_importances_):\n",
    "    feats[feature] = importance\n",
    "    \n",
    "importances = pd.DataFrame.from_dict(feats, orient='index').rename(columns={0:'Importance'})\n",
    "importances.sort_values(by='Importance', ascending=False).head(8)"
   ]
  },
  {
   "cell_type": "code",
   "execution_count": null,
   "id": "V4EMokWZ8NST",
   "metadata": {
    "colab": {
     "base_uri": "https://localhost:8080/",
     "height": 265
    },
    "executionInfo": {
     "elapsed": 440,
     "status": "ok",
     "timestamp": 1658778887995,
     "user": {
      "displayName": "Joseph Charles",
      "userId": "06269672887998330870"
     },
     "user_tz": -120
    },
    "id": "V4EMokWZ8NST",
    "outputId": "6f8ba749-3438-43e7-82b3-2ea671e77d8c"
   },
   "outputs": [
    {
     "data": {
      "image/png": "[encoded data removed]",
      "text/plain": [
       "<Figure size 432x288 with 1 Axes>"
      ]
     },
     "metadata": {
      "needs_background": "light"
     },
     "output_type": "display_data"
    }
   ],
   "source": [
    "# importance des variables\n",
    "feature_imp = pd.Series(clf_dt.feature_importances_,index=data.columns)\n",
    "feature_imp.nlargest(10).plot(kind='barh');"
   ]
  },
  {
   "cell_type": "code",
   "execution_count": null,
   "id": "epwSZJbF9btR",
   "metadata": {
    "colab": {
     "base_uri": "https://localhost:8080/"
    },
    "executionInfo": {
     "elapsed": 4206,
     "status": "ok",
     "timestamp": 1658778892195,
     "user": {
      "displayName": "Joseph Charles",
      "userId": "06269672887998330870"
     },
     "user_tz": -120
    },
    "id": "epwSZJbF9btR",
    "outputId": "9b1ffafb-aae1-444a-fd06-75a4c79a5dd5"
   },
   "outputs": [
    {
     "name": "stdout",
     "output_type": "stream",
     "text": [
      "Cross-validation scores:[0.7538776  0.7555609  0.74810629]\n",
      "Average cross-validation score: 0.7525149292613523\n"
     ]
    }
   ],
   "source": [
    "cv_scores = cross_val_score(gcv_dt, X_train_scaled, y_train, cv=3, scoring='accuracy')\n",
    "\n",
    "print('Cross-validation scores:{}'.format(cv_scores))\n",
    "print('Average cross-validation score: {}'.format(cv_scores.mean()))"
   ]
  },
  {
   "cell_type": "markdown",
   "id": "RCRvkS5I-3Dy",
   "metadata": {
    "id": "RCRvkS5I-3Dy"
   },
   "source": [
    "- Le score de la méthode DT est en moyenne de : 0.74."
   ]
  }
 ],
 "metadata": {
  "colab": {
   "collapsed_sections": [],
   "name": "common_pyAusRainfall_modelisation.ipynb",
   "provenance": []
  },
  "kernelspec": {
   "display_name": "Python 3 (ipykernel)",
   "language": "python",
   "name": "python3"
  },
  "language_info": {
   "codemirror_mode": {
    "name": "ipython",
    "version": 3
   },
   "file_extension": ".py",
   "mimetype": "text/x-python",
   "name": "python",
   "nbconvert_exporter": "python",
   "pygments_lexer": "ipython3",
   "version": "3.9.7"
  }
 },
 "nbformat": 4,
 "nbformat_minor": 5
}
